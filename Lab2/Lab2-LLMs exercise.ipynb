{
 "cells": [
  {
   "cell_type": "markdown",
   "id": "0f5d0b9d-7980-4d2c-8154-c07a5f8b5525",
   "metadata": {},
   "source": [
    "# Introduction\n",
    "In this laboratory we will get our hands dirty working with Large Language Models (e.g. GPT and BERT) to do various useful things. I you haven't already, it is highly recommended to:\n",
    "\n",
    "+ Read the [Attention is All you Need](https://arxiv.org/abs/1706.03762) paper, which is the basis for all transformer-based LLMs.\n",
    "+ Watch (and potentially *code along*) with this [Andrej Karpathy video](https://www.youtube.com/watch?v=kCc8FmEb1nY) which shows you how to build an autoregressive GPT model from the ground up.\n",
    "\n",
    "# Exercise 1: Warming Up\n",
    "In this first exercise you will train a *small* autoregressive GPT model for character generation (the one used by Karpathy in his video) to generate text in the style of Dante Aligheri. Use [this file](https://archive.org/stream/ladivinacommedia00997gut/1ddcd09.txt), which contains the entire text of Dante's Inferno (**note**: you will have to delete some introductory text at the top of the file before training). Train the model for a few epochs, monitor the loss, and generate some text at the end of training. Qualitatively evaluate the results "
   ]
  },
  {
   "cell_type": "code",
   "execution_count": null,
   "id": "809f8907",
   "metadata": {},
   "outputs": [],
   "source": [
    "import torch\n",
    "import torch.nn as nn"
   ]
  },
  {
   "cell_type": "code",
   "execution_count": 1,
   "id": "bd466d3b-cc41-4de3-9f82-3547569909f0",
   "metadata": {
    "tags": []
   },
   "outputs": [
    {
     "ename": "SyntaxError",
     "evalue": "incomplete input (1748612636.py, line 9)",
     "output_type": "error",
     "traceback": [
      "\u001b[1;36m  Cell \u001b[1;32mIn[1], line 9\u001b[1;36m\u001b[0m\n\u001b[1;33m    with open('commedia.txt', 'r', encoding='utf-8') as fd:\u001b[0m\n\u001b[1;37m                                                           ^\u001b[0m\n\u001b[1;31mSyntaxError\u001b[0m\u001b[1;31m:\u001b[0m incomplete input\n"
     ]
    }
   ],
   "source": [
    "# Your code here.\n",
    "class Dante:\n",
    "    \"\"\"A class that aggregates functionality related to the \"corpus\" used.\"\"\"\n",
    "    def __init__(self, train = True, train_size=0.9,):\n",
    "        self._block_size = 128\n",
    "        self._train = train\n",
    "\n",
    "        #Load entier text file\n",
    "        with open('commedia.txt', 'r', encoding='utf-8') as fd:\n",
    "            rawdata = fd.read()\n",
    "\n",
    "        # Extract tokend BEFORE splitting. Our tokens are characters.\n",
    "        self._tokens = sorted(set(rawdata))\n",
    "        self.num_tokens = len(self._tokens)\n",
    "\n",
    "        # Select train or val/test set.\n",
    "        rawdata = rawdata[:int(len(rawdata)*train_size)] if train else rawdata[int(len(rawdata)*train_size):]\n",
    "\n",
    "        # Build the encode/decode dictionaries mapping chars to token ids and back.\n",
    "        self._c2i = {c: i for (i, c) in enumerate(self._tokens)}\n",
    "        self._i2c = {i: c for (i, c) in enumerate(self._tokens)}\n",
    "\n",
    "        # Encode \n",
    "\n",
    "    def get_batch(self, batch_size):\n",
    "        \"\"\" Retrives a random batch of context and targets.\"\"\"\n",
    "        ix = torch.randint(0, self)\n",
    "\n",
    "    def __len__(self):\n",
    "        return len(self._data) - self._block_size - 1\n",
    "    \n",
    "    def __getitem__(self, i):\n",
    "        xs = self._data[i:i+self._block_size]\n",
    "        ys = self._data[i+1:i+self._block_size+1]\n",
    "        return (xs, ys)\n",
    "\n"
   ]
  },
  {
   "cell_type": "code",
   "execution_count": null,
   "id": "a5f6e10f",
   "metadata": {},
   "outputs": [],
   "source": [
    "ds = Dante(train=True, train_size=0.9, block_size=128)"
   ]
  },
  {
   "cell_type": "code",
   "execution_count": null,
   "id": "dd83c799",
   "metadata": {},
   "outputs": [],
   "source": [
    "# Encode a string\n",
    "ds.encode('nel mezzo del cammin')"
   ]
  },
  {
   "cell_type": "code",
   "execution_count": null,
   "id": "f95abb74",
   "metadata": {},
   "outputs": [],
   "source": [
    "# Decode an Encoded string -> return 'nel mezzo del cammin'\n",
    "ds.decode(ds.encode('nel mezzo del cammin'))"
   ]
  },
  {
   "cell_type": "code",
   "execution_count": null,
   "id": "8f637104",
   "metadata": {},
   "outputs": [],
   "source": [
    "(xs, ys) = ds.get_batch(32)"
   ]
  },
  {
   "cell_type": "code",
   "execution_count": null,
   "id": "ac55f640",
   "metadata": {},
   "outputs": [],
   "source": [
    "xs.shape, ys.shape"
   ]
  },
  {
   "cell_type": "code",
   "execution_count": null,
   "id": "aaa13d7b",
   "metadata": {},
   "outputs": [],
   "source": [
    "\"First input\"\n",
    "xs[0]"
   ]
  },
  {
   "cell_type": "code",
   "execution_count": null,
   "id": "9d62f333",
   "metadata": {},
   "outputs": [],
   "source": [
    "# ds.decode(xs[0]) Not working\n",
    "ds.decode(xs[0].numpy()) # Working"
   ]
  },
  {
   "cell_type": "code",
   "execution_count": null,
   "id": "bc21504b",
   "metadata": {},
   "outputs": [],
   "source": [
    "ds.decode(ys[0].numpy()) # Working"
   ]
  },
  {
   "cell_type": "code",
   "execution_count": null,
   "id": "986c204e",
   "metadata": {},
   "outputs": [],
   "source": [
    "# All configuration parameters for out Transformer\n",
    "block_size = 128\n",
    "train_size = 0.9\n",
    "batch_size = 32\n",
    "n_embed = 128"
   ]
  },
  {
   "cell_type": "code",
   "execution_count": null,
   "id": "af5d1abd",
   "metadata": {},
   "outputs": [],
   "source": [
    "# Instantiate datasets for training and test\n",
    "ds_train = Dante(train=True, train_size=train_size, block_size=block_size)\n",
    "ds_test = Dante(train=False, train_size=train_size, block_size=block_size)\n",
    "(xs, ys) = ds_test.get_batch(batch_size)"
   ]
  },
  {
   "cell_type": "code",
   "execution_count": null,
   "id": "0dedf75e",
   "metadata": {},
   "outputs": [],
   "source": [
    "# The top-level GPT nn.Module\n",
    "class GTPLanguageModel(nn.Module):\n",
    "    def __init__(self, vocab_size, n_embed):\n",
    "        super().__init__()\n",
    "        self._vocab_size = vocab_size\n",
    "        self._n_embd = n_embed\n",
    "        # each token directly reads off the logits for the next token from a lookup table\n",
    "        self.token_embedding = nn.Embedding(vocab_size, n_embed)\n",
    "\n",
    "    def forward(self, idx, targets=None):\n",
    "        (B, T) = idx.shape\n",
    "        tok_emb = self.token_embedding_table(idx) # (B, T, C)\n",
    "        return tok_emb"
   ]
  },
  {
   "cell_type": "code",
   "execution_count": null,
   "id": "ce065322",
   "metadata": {},
   "outputs": [],
   "source": [
    "model = GTPLanguageModel(vocab_size=ds_train.num_tokens, n_embed = n_embed)"
   ]
  },
  {
   "cell_type": "code",
   "execution_count": null,
   "id": "c798bf84",
   "metadata": {},
   "outputs": [],
   "source": [
    "model(xs)[0][0]"
   ]
  },
  {
   "cell_type": "markdown",
   "id": "68441a09-dfaf-424a-b640-4fc8cea289b5",
   "metadata": {},
   "source": [
    "# Exercise 2: Working with Real LLMs\n",
    "\n",
    "Our toy GPT can only take us so far. In this exercise we will see how to use the [Hugging Face](https://huggingface.co/) model and dataset ecosystem to access a *huge* variety of pre-trained transformer models.\n",
    "\n",
    "## Exercise 2.1: Installation and text tokenization\n",
    "\n",
    "First things first, we need to install the [Hugging Face transformer library](https://huggingface.co/docs/transformers/index):\n",
    "\n",
    "    conda install -c huggingface -c conda-forge transformers\n",
    "    \n",
    "The key classes that you will work with are `GPT2Tokenizer` to encode text into sub-word tokens, and the `GPT2LMHeadModel`. **Note** the `LMHead` part of the class name -- this is the version of the GPT2 architecture that has the text prediction heads attached to the final hidden layer representations (i.e. what we need to **generate** text). \n",
    "\n",
    "Instantiate the `GPT2Tokenizer` and experiment with encoding text into integer tokens. Compare the length of input with the encoded sequence length.\n",
    "\n",
    "**Tip**: Pass the `return_tensors='pt'` argument to the togenizer to get Pytorch tensors as output (instead of lists)."
   ]
  },
  {
   "cell_type": "code",
   "execution_count": 19,
   "id": "af199a6d-1f3a-4b2c-a23f-d697b93c5adb",
   "metadata": {
    "tags": []
   },
   "outputs": [],
   "source": [
    "# Your code here."
   ]
  },
  {
   "cell_type": "markdown",
   "id": "a458b725-63c1-49ae-8011-71a9196387b8",
   "metadata": {},
   "source": [
    "## Exercise 2.2: Generating Text\n",
    "\n",
    "There are a lot of ways we can, given a *prompt* in input, sample text from a GPT2 model. Instantiate a pre-trained `GPT2LMHeadModel` and use the [`generate()`](https://huggingface.co/docs/transformers/v4.27.2/en/main_classes/text_generation#transformers.GenerationMixin.generate) method to generate text from a prompt.\n",
    "\n",
    "**Note**: The default inference mode for GPT2 is *greedy* which might not results in satisfying generated text. Look at the `do_sample` and `temperature` parameters."
   ]
  },
  {
   "cell_type": "code",
   "execution_count": 20,
   "id": "bdad9208-cc9e-4750-baa5-f9367e71362a",
   "metadata": {
    "tags": []
   },
   "outputs": [],
   "source": [
    "# Your code here."
   ]
  },
  {
   "cell_type": "markdown",
   "id": "9b3d00e7-d4db-440f-8702-11118f07b0a4",
   "metadata": {},
   "source": [
    "# Exercise 3: Reusing Pre-trained LLMs (choose one)\n",
    "\n",
    "Choose **one** of the following exercises (well, *at least* one). In each of these you are asked to adapt a pre-trained LLM (`GPT2Model` or `DistillBERT` are two good choices) to a new Natural Language Understanding task. A few comments:\n",
    "\n",
    "+ Since GPT2 is a *autoregressive* model, there is no latent space aggregation at the last transformer layer (you get the same number of tokens out that you give in input). To use a pre-trained model for a classification or retrieval task, you should aggregate these tokens somehow (or opportunistically select *one* to use).\n",
    "\n",
    "+ BERT models (including DistillBERT) have a special [CLS] token prepended to each latent representation in output from a self-attention block. You can directly use this as a representation for classification (or retrieval).\n",
    "\n",
    "+ The first *two* exercises below can probably be done *without* any fine-tuning -- that is, just training a shallow MLP to classify or represent with the appropriate loss function.\n",
    "\n",
    "# Exercise 3.1: Training a Text Classifier (easy)\n",
    "\n",
    "Peruse the [text classification datasets on Hugging Face](https://huggingface.co/datasets?task_categories=task_categories:text-classification&sort=downloads). Choose a *moderately* sized dataset and use a LLM to train a classifier to solve the problem.\n",
    "\n",
    "**Note**: A good first baseline for this problem is certainly to use an LLM *exclusively* as a feature extractor and then train a shallow model.\n",
    "\n",
    "# Exercise 3.2: Training a Question Answering Model (harder)\n",
    "\n",
    "Peruse the [multiple choice question answering datasets on Hugging Face](https://huggingface.co/datasets?task_categories=task_categories:multiple-choice&sort=downloads). Chose a *moderately* sized one and train a model to answer contextualized multiple-choice questions. You *might* be able to avoid fine-tuning by training a simple model to *rank* the multiple choices (see margin ranking loss in Pytorch).\n",
    "\n",
    "# Exercise 3.3: Training a Retrieval Model (hardest)\n",
    "\n",
    "The Hugging Face dataset repository contains a large number of [\"text retrieval\" problems](https://huggingface.co/datasets?task_categories=task_categories:text-retrieval&p=1&sort=downloads). These tasks generally require that the model measure *similarity* between text in some metric space -- naively, just a cosine similarity between [CLS] tokens can get you pretty far. Find an interesting retrieval problem and train a model (starting from a pre-trained LLM of course) to solve it.\n",
    "\n",
    "**Tip**: Sometimes identifying the *retrieval* problems in these datasets can be half the challenge. [This dataset](https://huggingface.co/datasets/BeIR/scifact) might be a good starting point."
   ]
  }
 ],
 "metadata": {
  "kernelspec": {
   "display_name": "Python 3 (ipykernel)",
   "language": "python",
   "name": "python3"
  },
  "language_info": {
   "codemirror_mode": {
    "name": "ipython",
    "version": 3
   },
   "file_extension": ".py",
   "mimetype": "text/x-python",
   "name": "python",
   "nbconvert_exporter": "python",
   "pygments_lexer": "ipython3",
   "version": "3.11.8"
  }
 },
 "nbformat": 4,
 "nbformat_minor": 5
}
