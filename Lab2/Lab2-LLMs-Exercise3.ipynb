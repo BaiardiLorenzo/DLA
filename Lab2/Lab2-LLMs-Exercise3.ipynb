{
 "cells": [
  {
   "cell_type": "markdown",
   "id": "9b3d00e7-d4db-440f-8702-11118f07b0a4",
   "metadata": {},
   "source": [
    "# Exercise 3: Reusing Pre-trained LLMs (choose one)\n",
    "\n",
    "Choose **one** of the following exercises (well, *at least* one). In each of these you are asked to adapt a pre-trained LLM (`GPT2Model` or `DistillBERT` are two good choices) to a new Natural Language Understanding task. A few comments:\n",
    "\n",
    "+ Since GPT2 is a *autoregressive* model, there is no latent space aggregation at the last transformer layer (you get the same number of tokens out that you give in input). To use a pre-trained model for a classification or retrieval task, you should aggregate these tokens somehow (or opportunistically select *one* to use).\n",
    "\n",
    "+ BERT models (including DistillBERT) have a special [CLS] token prepended to each latent representation in output from a self-attention block. You can directly use this as a representation for classification (or retrieval).\n",
    "\n",
    "+ The first *two* exercises below can probably be done *without* any fine-tuning -- that is, just training a shallow MLP to classify or represent with the appropriate loss function.\n",
    "\n",
    "# Exercise 3.1: Training a Text Classifier (easy)\n",
    "\n",
    "Peruse the [text classification datasets on Hugging Face](https://huggingface.co/datasets?task_categories=task_categories:text-classification&sort=downloads). Choose a *moderately* sized dataset and use a LLM to train a classifier to solve the problem.\n",
    "\n",
    "**Note**: A good first baseline for this problem is certainly to use an LLM *exclusively* as a feature extractor and then train a shallow model.\n",
    "\n",
    "# Exercise 3.2: Training a Question Answering Model (harder)\n",
    "\n",
    "Peruse the [multiple choice question answering datasets on Hugging Face](https://huggingface.co/datasets?task_categories=task_categories:multiple-choice&sort=downloads). Chose a *moderately* sized one and train a model to answer contextualized multiple-choice questions. You *might* be able to avoid fine-tuning by training a simple model to *rank* the multiple choices (see margin ranking loss in Pytorch).\n",
    "\n",
    "# Exercise 3.3: Training a Retrieval Model (hardest)\n",
    "\n",
    "The Hugging Face dataset repository contains a large number of [\"text retrieval\" problems](https://huggingface.co/datasets?task_categories=task_categories:text-retrieval&p=1&sort=downloads). These tasks generally require that the model measure *similarity* between text in some metric space -- naively, just a cosine similarity between [CLS] tokens can get you pretty far. Find an interesting retrieval problem and train a model (starting from a pre-trained LLM of course) to solve it.\n",
    "\n",
    "**Tip**: Sometimes identifying the *retrieval* problems in these datasets can be half the challenge. [This dataset](https://huggingface.co/datasets/BeIR/scifact) might be a good starting point."
   ]
  },
  {
   "cell_type": "markdown",
   "id": "898bc094",
   "metadata": {},
   "source": [
    "# Exercise 3.1: Training a Text Classifier"
   ]
  },
  {
   "cell_type": "code",
   "execution_count": 1,
   "id": "90c03c4f",
   "metadata": {},
   "outputs": [
    {
     "data": {
      "text/plain": [
       "True"
      ]
     },
     "execution_count": 1,
     "metadata": {},
     "output_type": "execute_result"
    }
   ],
   "source": [
    "from transformers import DistilBertModel, AutoTokenizer, DataCollatorWithPadding\n",
    "\n",
    "import numpy as np\n",
    "import torch.nn.functional as F\n",
    "import torch.optim as optim\n",
    "import wandb\n",
    "import os\n",
    "from tqdm import tqdm\n",
    "from datasets import load_dataset, load_from_disk\n",
    "import matplotlib.pyplot as plt\n",
    "from functools import reduce\n",
    "import torch\n",
    "import torch.nn as nn\n",
    "import torchvision.transforms as transforms\n",
    "from torch.utils.data import DataLoader\n",
    "\n",
    "import wandb\n",
    "from sklearn.metrics import accuracy_score, classification_report\n",
    "from datetime import datetime\n",
    "import re\n",
    "\n",
    "torch.cuda.is_available()"
   ]
  },
  {
   "cell_type": "code",
   "execution_count": 2,
   "id": "43bbab72",
   "metadata": {},
   "outputs": [],
   "source": [
    "# REWRITE TRAINING AND EVALUATION FUNCTIONS \n",
    "# Function to train one epoch\n",
    "def train_epoch(\n",
    "        model: nn.Module, \n",
    "        data: DataLoader, \n",
    "        class_names: list, \n",
    "        epoch: int, \n",
    "        opt: optim.Optimizer, \n",
    "        device=\"cuda\"\n",
    "    ):\n",
    "\n",
    "    model.train()\n",
    "\n",
    "    losses = []\n",
    "    gts = []\n",
    "    preds = []\n",
    "\n",
    "    # Zero out the gradients\n",
    "    opt.zero_grad()\n",
    "    \n",
    "    for (i, (batch)) in enumerate(tqdm(data, desc=f\"Training epoch {epoch}\", leave=True)):\n",
    "        # Get the input and target data and move it to the device\n",
    "        xs = batch[\"input_ids\"].to(device)\n",
    "        ms = batch[\"attention_mask\"].to(device)\n",
    "        ys = batch[\"labels\"].to(device)\n",
    "\n",
    "        # Zero out the gradients\n",
    "        opt.zero_grad()\n",
    "\n",
    "        # Forward pass\n",
    "        logits = model(xs, ms)\n",
    "\n",
    "        # Get the predicted classes\n",
    "        pred = torch.argmax(logits, 1)\n",
    "        \n",
    "        # Compute the cross entropy loss\n",
    "        loss = F.cross_entropy(logits, ys)\n",
    "\n",
    "        # Backward pass\n",
    "        loss.backward()\n",
    "\n",
    "        # Update the model parameters\n",
    "        opt.step()\n",
    "\n",
    "        # Append the loss\n",
    "        losses.append(loss.item())\n",
    "        preds.extend(pred.detach().cpu().numpy())\n",
    "        gts.extend(ys.detach().cpu().numpy())\n",
    "\n",
    "    # Compute the accuracy and classification report\n",
    "    accuracy = accuracy_score(gts, preds)\n",
    "    class_report = classification_report(gts, preds, zero_division=0, digits=3, output_dict=True)\n",
    "    class_report_db = classification_report(gts, preds, zero_division=0, digits=3).splitlines()\n",
    "\n",
    "    report_table = []\n",
    "    for line in class_report_db[2:(len(class_names)+2)]:\n",
    "       report_table.append(line.split())\n",
    "\n",
    "    # Log the results\n",
    "    loss = np.mean(losses)\n",
    "    wandb.log({\n",
    "        \"train/epoch\": epoch, \n",
    "        \"train/loss\": loss, \n",
    "        \"train/accuracy\": accuracy, \n",
    "        \"train_class_rep/classification_report\": class_report,\n",
    "        \"train/confusion_matrix\": wandb.plot.confusion_matrix(y_true=gts, preds=preds, class_names=class_names),\n",
    "        \"train/classification_report\": wandb.Table(data=report_table, columns=[\"Class\", \"Precision\", \"Recall\", \"F1-score\", \"Support\"])\n",
    "        },\n",
    "        step=epoch)\n",
    "\n",
    "    # Return the average loss, accuracy and classification report\n",
    "    return loss, accuracy, class_report\n",
    "\n",
    "# Function to evaluate one epoch\n",
    "def evaluate_epoch(\n",
    "        model: nn.Module, \n",
    "        data: DataLoader, \n",
    "        class_names: list, \n",
    "        epoch: int, \n",
    "        device=\"cuda\"\n",
    "    ):\n",
    "\n",
    "    model.eval()\n",
    "\n",
    "    losses = []\n",
    "    preds = []\n",
    "    gts = []\n",
    "    # Disable gradient computation for evaluation\n",
    "    with torch.no_grad():\n",
    "        for (_, (batch)) in enumerate(tqdm(data, desc=f\"Evaluating\", leave=True)):\n",
    "            # Get the input and target data and move it to the device\n",
    "            xs = batch[\"input_ids\"].to(device)\n",
    "            ms = batch[\"attention_mask\"].to(device)\n",
    "            ys = batch[\"labels\"].to(device)\n",
    "\n",
    "            # Forward pass\n",
    "            logits = model(xs, ms)\n",
    "\n",
    "            # Compute the cross entropy loss\n",
    "            loss = F.cross_entropy(logits, ys)\n",
    "\n",
    "            # Get the predicted classes\n",
    "            pred = torch.argmax(logits, 1)\n",
    "\n",
    "            # Append the loss, predictions and ground truths\n",
    "            losses.append(loss.item())\n",
    "            preds.extend(pred.detach().cpu().numpy())\n",
    "            gts.extend(ys.detach().cpu().numpy())\n",
    "\n",
    "    # Compute the accuracy and classification report\n",
    "    accuracy = accuracy_score(gts, preds)\n",
    "    class_report = classification_report(gts, preds, zero_division=0, digits=3, output_dict=True)\n",
    "\n",
    "    class_report_db = classification_report(gts, preds, zero_division=0, digits=3).splitlines()\n",
    "    report_table = []\n",
    "    for line in class_report_db[2:(len(class_names)+2)]:\n",
    "        report_table.append(line.split())\n",
    "\n",
    "    # Log the results\n",
    "    loss = np.mean(losses)\n",
    "    wandb.log({\n",
    "        \"val/epoch\": epoch, \n",
    "        \"val/loss\": loss, \n",
    "        \"val/accuracy\": accuracy,\n",
    "        \"val_class_rep/classification_report\": class_report,\n",
    "        \"val/confusion_matrix\": wandb.plot.confusion_matrix(y_true=gts, preds=preds, class_names=class_names),\n",
    "        \"val/classification_report\": wandb.Table(data=report_table, columns=[\"Class\", \"Precision\", \"Recall\", \"F1-score\", \"Support\"])\n",
    "        }, \n",
    "        step=epoch)\n",
    "    \n",
    "    return loss, accuracy, class_report\n",
    "\n",
    "# Function to train and evaluate the model\n",
    "def train_evaluate_model(\n",
    "        model: nn.Module, \n",
    "        model_name: str,\n",
    "        dataset_name: str,\n",
    "        class_names: list,\n",
    "        dl_train: DataLoader, \n",
    "        dl_test: DataLoader, \n",
    "        batch_size: int, \n",
    "        lr: int, \n",
    "        epochs: int, \n",
    "        opt: optim.Optimizer, \n",
    "        device=\"cuda\",\n",
    "    ):\n",
    "\n",
    "    time = datetime.now().strftime(\"%Y-%m-%d_%H-%M-%S\")\n",
    "    test_name = model_name+\"-\"+time+\"_\"+dataset_name+\"_epochs-\"+str(epochs)+\"_bs-\"+str(batch_size)+\"_lr-\"+str(lr)\n",
    "\n",
    "    wandb_init(model_name, test_name, model, dataset_name, epochs, batch_size, lr, device)\n",
    "\n",
    "    # Train and evaluate the model\n",
    "    train_results = {\"loss\": [], \"acc\": [], \"class_rep\": []}\n",
    "    val_results = {\"loss\": [], \"acc\": [], \"class_rep\": []}\n",
    "    max_val_acc = 0\n",
    "    state_dict = None\n",
    "\n",
    "    for epoch in range(epochs):\n",
    "        # Train the model \n",
    "        train_loss, train_acc, train_class_rep = train_epoch(model, dl_train, class_names, epoch, opt, device=device)\n",
    "\n",
    "        # Evaluate the model\n",
    "        val_loss, val_acc, val_class_rep = evaluate_epoch(model, dl_test, class_names, epoch, device=device)\n",
    "\n",
    "        print(f\"Epoch {epoch}: Train Loss: {train_loss:.4f}, Train Acc: {train_acc:.4f}, Val Loss: {val_loss:.4f}, Val Acc: {val_acc:.4f}\")\n",
    "\n",
    "        # Save the best model\n",
    "        if val_acc > max_val_acc:\n",
    "            max_val_acc = val_acc\n",
    "            state_dict = model.state_dict()\n",
    "        \n",
    "        # Append the results\n",
    "        train_results[\"loss\"].append(train_loss)\n",
    "        train_results[\"acc\"].append(train_acc)\n",
    "        train_results[\"class_rep\"].append(train_class_rep)\n",
    "        val_results[\"loss\"].append(val_loss)\n",
    "        val_results[\"acc\"].append(val_acc)\n",
    "        val_results[\"class_rep\"].append(val_class_rep)\n",
    "\n",
    "    wandb.unwatch(model)\n",
    "    wandb.finish()\n",
    "\n",
    "    plot_validation_curves(train_results[\"loss\"], val_results[\"loss\"], train_results[\"acc\"], val_results[\"acc\"])\n",
    "\n",
    "    model_states_path = \"model_states/\"+test_name+\".pth\"\n",
    "\n",
    "    # Save the best model\n",
    "    if state_dict is not None:\n",
    "        torch.save(state_dict, model_states_path)\n",
    "        print(f\"Model saved to {model_states_path}\")\n",
    "\n",
    "# Function to initialize wandb\n",
    "def wandb_init(\n",
    "        model_name, \n",
    "        test_name, \n",
    "        model, \n",
    "        dataset, \n",
    "        epochs, \n",
    "        bs, \n",
    "        lr, \n",
    "        device, \n",
    "        project=\"DLA Assigment 2\"\n",
    "    ):\n",
    "    # Initialize wandb\n",
    "    wandb.init(\n",
    "        project=project,\n",
    "        name=test_name,\n",
    "        # Track hyperparameters and run metadata\n",
    "        config={\n",
    "            \"architecture\": model_name,\n",
    "            \"dataset\": dataset,\n",
    "            \"epochs\": epochs,\n",
    "            \"batch_size\": bs,\n",
    "            \"lr\": lr,\n",
    "            \"optimizer\": \"Adam\",\n",
    "            \"device\": device.type\n",
    "        }\n",
    "    )\n",
    "    wandb.watch(model, nn.CrossEntropyLoss(), log=\"all\")\n",
    "\n",
    "# Simple function to plot the loss curve and accuracy.\n",
    "def plot_validation_curves(train_loss, val_loss, train_acc, val_acc):\n",
    "    plt.figure(figsize=(16, 8))\n",
    "\n",
    "    plt.subplot(1, 2, 1)\n",
    "    plt.plot(train_loss, label='train_loss')\n",
    "    plt.plot(val_loss, label='val_loss')\n",
    "    plt.title('Average Loss per Epoch')\n",
    "    plt.xlabel('Epoch')\n",
    "    plt.ylabel('Loss')\n",
    "\n",
    "    plt.subplot(1, 2, 2)\n",
    "    plt.plot(train_acc, label='train_acc')\n",
    "    plt.plot(val_acc, label='val_acc')\n",
    "    plt.title(f'Best Validation Accuracy = {np.max(val_acc)} @ epoch {np.argmax(val_acc)}')\n",
    "    plt.xlabel('Epoch')\n",
    "    plt.ylabel('Accuracy')\n",
    "    plt.show()"
   ]
  },
  {
   "cell_type": "code",
   "execution_count": 3,
   "id": "cbe3d97b",
   "metadata": {},
   "outputs": [],
   "source": [
    "class BERTClassifier(nn.Module):\n",
    "    def __init__(self, model, n_classes):\n",
    "        super().__init__()\n",
    "        self.model = model\n",
    "        self.classifier = nn.Sequential(\n",
    "            nn.Linear(model.config.hidden_size, 128),\n",
    "            nn.ReLU(),\n",
    "            nn.Dropout(0.1),\n",
    "            nn.Linear(128, n_classes)\n",
    "        )\n",
    "\n",
    "    def forward(self, x, mask):\n",
    "        x = self.model(x, attention_mask=mask).last_hidden_state[:, 0]\n",
    "        return self.classifier(x)"
   ]
  },
  {
   "cell_type": "code",
   "execution_count": null,
   "id": "0e751648",
   "metadata": {},
   "outputs": [],
   "source": [
    "datasets = load_dataset(\"tweet_eval\", \"emoji\")\n",
    "datasets.save_to_disk(\"../data/tweet_emoji\")"
   ]
  },
  {
   "cell_type": "code",
   "execution_count": 6,
   "id": "9d21230e",
   "metadata": {},
   "outputs": [],
   "source": [
    "class TweetDataset(torch.utils.data.Dataset):\n",
    "    def __init__(self, data, tokenizer, max_length, val_data = None, dataset_limit = None, normalize = False):\n",
    "        self.texts = data[\"text\"]\n",
    "        self.labels = data[\"label\"]\n",
    "        self.tokenizer = tokenizer\n",
    "        self.max_length = max_length\n",
    "        self.normalize = normalize\n",
    "        if val_data is not None:\n",
    "            # Add validation data\n",
    "            self.texts.extend(val_data[\"text\"])\n",
    "            self.labels.extend(val_data[\"label\"])\n",
    "        if dataset_limit is not None:\n",
    "            # Choose a random subset of the data\n",
    "            print(f\"Limiting dataset to {dataset_limit} samples\")\n",
    "            print(f\"Original dataset size: {len(self.texts)}\")\n",
    "            idxs = np.random.choice(len(self.texts), dataset_limit, replace=False)\n",
    "            self.texts = [self.texts[i] for i in idxs]\n",
    "            self.labels = [self.labels[i] for i in idxs]\n",
    "        \n",
    "    def __len__(self):\n",
    "        return len(self.texts)\n",
    "    \n",
    "    def format_text(self, text):\n",
    "        # lowercase\n",
    "        text = text.lower()\n",
    "        # remove user tags\n",
    "        text = re.sub(r'@\\w', '', text)\n",
    "        # Remove double spaces\n",
    "        text = re.sub(r'\\s+', ' ', text)\n",
    "        # Remove URLs\n",
    "        text = re.sub(r'http\\S+', '', text)\n",
    "        # Remove punctuation\n",
    "        text = re.sub(r'[^\\w\\s]', '', text)\n",
    "        # Remove hashtags\n",
    "        text = re.sub(r'#', '', text)\n",
    "        return text\n",
    "\n",
    "    def __getitem__(self, idx):\n",
    "        if self.normalize:\n",
    "            text = self.format_text(self.texts[idx])\n",
    "        else:\n",
    "            text = self.texts[idx]\n",
    "        label = self.labels[idx]\n",
    "        encoding = self.tokenizer(\n",
    "            text,\n",
    "            max_length=self.max_length,\n",
    "            padding=\"max_length\",\n",
    "            truncation=True,\n",
    "            return_tensors=\"pt\"\n",
    "        )\n",
    "        return {\n",
    "            \"input_ids\": encoding[\"input_ids\"].flatten(),\n",
    "            \"attention_mask\": encoding[\"attention_mask\"].flatten(),\n",
    "            \"labels\": torch.tensor(label)\n",
    "        }"
   ]
  },
  {
   "cell_type": "code",
   "execution_count": null,
   "id": "fa324dd8",
   "metadata": {},
   "outputs": [],
   "source": [
    "\"\"\" \n",
    "TOO BIG AND SLOW \n",
    "\n",
    "The best results for the emoji dataset with Bert is about 33% accuracy, which is not good enough.\n",
    "\"\"\"\n",
    "# device\n",
    "device = torch.device('cuda' if torch.cuda.is_available() else 'cpu')\n",
    "\n",
    "batch_size = 32\n",
    "\n",
    "# Dataset\n",
    "dataset = load_from_disk(\"../data/Tweet_emoji\")\n",
    "classes_names = [\"❤️\",\"😍\",\"😂\",\"💕\",\"🔥\",\"😊\",\"😎\",\"✨\", \"💙\",\"😘\",\"📷\",\"🇺🇸\",\"☀\",\"💜\",\"😉\",\"💯\",\"😁\",\"🎄\",\"📸\",\"😜\"]\n",
    "n_classes = len(classes_names)\n",
    "\n",
    "max_length = 128\n",
    "tokenizer = AutoTokenizer.from_pretrained('distilbert-base-uncased')\n",
    "\n",
    "ds_train = TweetDataset(dataset['train'], tokenizer, max_length=max_length, val_data=dataset['validation'])\n",
    "ds_val = TweetDataset(dataset['test'], tokenizer, max_length=max_length)\n",
    "\n",
    "data_collator = DataCollatorWithPadding(tokenizer)\n",
    "dl_train = DataLoader(ds_train, batch_size=batch_size, shuffle=True)\n",
    "dl_val = DataLoader(ds_val, batch_size=batch_size, shuffle=False)\n",
    "\n",
    "# Instantiate the model\n",
    "model = BERTClassifier(DistilBertModel.from_pretrained('distilbert-base-uncased'), n_classes).to(device)\n",
    "\n",
    "# Train the model\n",
    "epochs = 5\n",
    "lr = 2e-5\n",
    "criterion = nn.CrossEntropyLoss()\n",
    "opt = torch.optim.AdamW(model.parameters(), lr=lr)\n",
    "\n",
    "# Train the model\n",
    "train_evaluate_model(\n",
    "    model=model, \n",
    "    model_name=\"DistilBERTClassifier\", \n",
    "    dataset_name=\"emoji\", \n",
    "    class_names=classes_names,\n",
    "    dl_train=dl_train,\n",
    "    dl_test=dl_val,\n",
    "    batch_size=batch_size, \n",
    "    lr=lr,\n",
    "    epochs=epochs, \n",
    "    opt=opt,\n",
    "    device=device\n",
    ")"
   ]
  },
  {
   "cell_type": "code",
   "execution_count": 10,
   "id": "82812976",
   "metadata": {},
   "outputs": [
    {
     "data": {
      "application/vnd.jupyter.widget-view+json": {
       "model_id": "eb9356e0ecfb400999e62d6dca5e3303",
       "version_major": 2,
       "version_minor": 0
      },
      "text/plain": [
       "Downloading data:   0%|          | 0.00/183k [00:00<?, ?B/s]"
      ]
     },
     "metadata": {},
     "output_type": "display_data"
    },
    {
     "data": {
      "application/vnd.jupyter.widget-view+json": {
       "model_id": "fff38063cc994bb896f896a547edcd7f",
       "version_major": 2,
       "version_minor": 0
      },
      "text/plain": [
       "Downloading data:   0%|          | 0.00/54.0k [00:00<?, ?B/s]"
      ]
     },
     "metadata": {},
     "output_type": "display_data"
    },
    {
     "data": {
      "application/vnd.jupyter.widget-view+json": {
       "model_id": "7a2d07b0467948d4a8ec0ed273469561",
       "version_major": 2,
       "version_minor": 0
      },
      "text/plain": [
       "Downloading data:   0%|          | 0.00/61.1k [00:00<?, ?B/s]"
      ]
     },
     "metadata": {},
     "output_type": "display_data"
    },
    {
     "data": {
      "application/vnd.jupyter.widget-view+json": {
       "model_id": "5f7940917ef04792ae2c4d318d57a09b",
       "version_major": 2,
       "version_minor": 0
      },
      "text/plain": [
       "Generating train split:   0%|          | 0/2862 [00:00<?, ? examples/s]"
      ]
     },
     "metadata": {},
     "output_type": "display_data"
    },
    {
     "data": {
      "application/vnd.jupyter.widget-view+json": {
       "model_id": "089f77864e284ef08f6d4003e6e4dd2a",
       "version_major": 2,
       "version_minor": 0
      },
      "text/plain": [
       "Generating test split:   0%|          | 0/784 [00:00<?, ? examples/s]"
      ]
     },
     "metadata": {},
     "output_type": "display_data"
    },
    {
     "data": {
      "application/vnd.jupyter.widget-view+json": {
       "model_id": "661be61867ab4a9a8371a1352dc154b9",
       "version_major": 2,
       "version_minor": 0
      },
      "text/plain": [
       "Generating validation split:   0%|          | 0/955 [00:00<?, ? examples/s]"
      ]
     },
     "metadata": {},
     "output_type": "display_data"
    },
    {
     "data": {
      "application/vnd.jupyter.widget-view+json": {
       "model_id": "bdeb051483a847c39ab9557fae25e0e1",
       "version_major": 2,
       "version_minor": 0
      },
      "text/plain": [
       "Saving the dataset (0/1 shards):   0%|          | 0/2862 [00:00<?, ? examples/s]"
      ]
     },
     "metadata": {},
     "output_type": "display_data"
    },
    {
     "data": {
      "application/vnd.jupyter.widget-view+json": {
       "model_id": "b4aa36439e3d4e5992dda584b6eab238",
       "version_major": 2,
       "version_minor": 0
      },
      "text/plain": [
       "Saving the dataset (0/1 shards):   0%|          | 0/784 [00:00<?, ? examples/s]"
      ]
     },
     "metadata": {},
     "output_type": "display_data"
    },
    {
     "data": {
      "application/vnd.jupyter.widget-view+json": {
       "model_id": "0058117f32e045f5a9c74405b396742e",
       "version_major": 2,
       "version_minor": 0
      },
      "text/plain": [
       "Saving the dataset (0/1 shards):   0%|          | 0/955 [00:00<?, ? examples/s]"
      ]
     },
     "metadata": {},
     "output_type": "display_data"
    }
   ],
   "source": [
    "datasets = load_dataset(\"tweet_eval\", \"irony\")\n",
    "datasets.save_to_disk(\"../data/tweet_irony\")"
   ]
  },
  {
   "cell_type": "code",
   "execution_count": 7,
   "id": "e4c2758f",
   "metadata": {},
   "outputs": [
    {
     "name": "stderr",
     "output_type": "stream",
     "text": [
      "c:\\Users\\loreb\\miniconda3\\envs\\DLA\\Lib\\site-packages\\huggingface_hub-0.23.0-py3.8.egg\\huggingface_hub\\file_download.py:1132: FutureWarning: `resume_download` is deprecated and will be removed in version 1.0.0. Downloads always resume when possible. If you want to force a new download, use `force_download=True`.\n"
     ]
    },
    {
     "data": {
      "text/html": [
       "wandb version 0.17.4 is available!  To upgrade, please run:\n",
       " $ pip install wandb --upgrade"
      ],
      "text/plain": [
       "<IPython.core.display.HTML object>"
      ]
     },
     "metadata": {},
     "output_type": "display_data"
    },
    {
     "data": {
      "text/html": [
       "Tracking run with wandb version 0.16.5"
      ],
      "text/plain": [
       "<IPython.core.display.HTML object>"
      ]
     },
     "metadata": {},
     "output_type": "display_data"
    },
    {
     "data": {
      "text/html": [
       "Run data is saved locally in <code>c:\\Users\\loreb\\Documents\\Projects\\DLA\\Lab2\\wandb\\run-20240708_180634-gpaalo2x</code>"
      ],
      "text/plain": [
       "<IPython.core.display.HTML object>"
      ]
     },
     "metadata": {},
     "output_type": "display_data"
    },
    {
     "data": {
      "text/html": [
       "Syncing run <strong><a href='https://wandb.ai/lorebaia/DLA%20Assigment%202/runs/gpaalo2x/workspace' target=\"_blank\">DistilBERTClassifier-2024-07-08_18-06-34_tweet_irony_epochs-5_bs-16_lr-2e-05</a></strong> to <a href='https://wandb.ai/lorebaia/DLA%20Assigment%202' target=\"_blank\">Weights & Biases</a> (<a href='https://wandb.me/run' target=\"_blank\">docs</a>)<br/>"
      ],
      "text/plain": [
       "<IPython.core.display.HTML object>"
      ]
     },
     "metadata": {},
     "output_type": "display_data"
    },
    {
     "data": {
      "text/html": [
       " View project at <a href='https://wandb.ai/lorebaia/DLA%20Assigment%202' target=\"_blank\">https://wandb.ai/lorebaia/DLA%20Assigment%202</a>"
      ],
      "text/plain": [
       "<IPython.core.display.HTML object>"
      ]
     },
     "metadata": {},
     "output_type": "display_data"
    },
    {
     "data": {
      "text/html": [
       " View run at <a href='https://wandb.ai/lorebaia/DLA%20Assigment%202/runs/gpaalo2x/workspace' target=\"_blank\">https://wandb.ai/lorebaia/DLA%20Assigment%202/runs/gpaalo2x/workspace</a>"
      ],
      "text/plain": [
       "<IPython.core.display.HTML object>"
      ]
     },
     "metadata": {},
     "output_type": "display_data"
    },
    {
     "name": "stderr",
     "output_type": "stream",
     "text": [
      "Training epoch 0: 100%|██████████| 239/239 [03:21<00:00,  1.19it/s]\n",
      "Evaluating: 100%|██████████| 49/49 [00:13<00:00,  3.62it/s]\n"
     ]
    },
    {
     "name": "stdout",
     "output_type": "stream",
     "text": [
      "Epoch 0: Train Loss: 0.6310, Train Acc: 0.6324, Val Loss: 0.6083, Val Acc: 0.6645\n"
     ]
    },
    {
     "name": "stderr",
     "output_type": "stream",
     "text": [
      "Training epoch 1: 100%|██████████| 239/239 [03:20<00:00,  1.19it/s]\n",
      "Evaluating: 100%|██████████| 49/49 [00:13<00:00,  3.65it/s]\n"
     ]
    },
    {
     "name": "stdout",
     "output_type": "stream",
     "text": [
      "Epoch 1: Train Loss: 0.5023, Train Acc: 0.7514, Val Loss: 0.6632, Val Acc: 0.6633\n"
     ]
    },
    {
     "name": "stderr",
     "output_type": "stream",
     "text": [
      "Training epoch 2: 100%|██████████| 239/239 [03:21<00:00,  1.19it/s]\n",
      "Evaluating: 100%|██████████| 49/49 [00:13<00:00,  3.62it/s]\n"
     ]
    },
    {
     "name": "stdout",
     "output_type": "stream",
     "text": [
      "Epoch 2: Train Loss: 0.3132, Train Acc: 0.8680, Val Loss: 0.6731, Val Acc: 0.7156\n"
     ]
    },
    {
     "name": "stderr",
     "output_type": "stream",
     "text": [
      "Training epoch 3: 100%|██████████| 239/239 [03:21<00:00,  1.19it/s]\n",
      "Evaluating: 100%|██████████| 49/49 [00:13<00:00,  3.62it/s]\n"
     ]
    },
    {
     "name": "stdout",
     "output_type": "stream",
     "text": [
      "Epoch 3: Train Loss: 0.1501, Train Acc: 0.9463, Val Loss: 0.9961, Val Acc: 0.6645\n"
     ]
    },
    {
     "name": "stderr",
     "output_type": "stream",
     "text": [
      "Training epoch 4: 100%|██████████| 239/239 [03:21<00:00,  1.19it/s]\n",
      "Evaluating: 100%|██████████| 49/49 [00:13<00:00,  3.63it/s]\n"
     ]
    },
    {
     "name": "stdout",
     "output_type": "stream",
     "text": [
      "Epoch 4: Train Loss: 0.0654, Train Acc: 0.9796, Val Loss: 1.1557, Val Acc: 0.6977\n"
     ]
    },
    {
     "data": {
      "application/vnd.jupyter.widget-view+json": {
       "model_id": "5a1ce76b2da3492f893f6fb9f55709f1",
       "version_major": 2,
       "version_minor": 0
      },
      "text/plain": [
       "VBox(children=(Label(value='0.018 MB of 0.018 MB uploaded\\r'), FloatProgress(value=1.0, max=1.0)))"
      ]
     },
     "metadata": {},
     "output_type": "display_data"
    },
    {
     "data": {
      "text/html": [
       "<style>\n",
       "    table.wandb td:nth-child(1) { padding: 0 10px; text-align: left ; width: auto;} td:nth-child(2) {text-align: left ; width: 100%}\n",
       "    .wandb-row { display: flex; flex-direction: row; flex-wrap: wrap; justify-content: flex-start; width: 100% }\n",
       "    .wandb-col { display: flex; flex-direction: column; flex-basis: 100%; flex: 1; padding: 10px; }\n",
       "    </style>\n",
       "<div class=\"wandb-row\"><div class=\"wandb-col\"><h3>Run history:</h3><br/><table class=\"wandb\"><tr><td>train/accuracy</td><td>▁▃▆▇█</td></tr><tr><td>train/epoch</td><td>▁▃▅▆█</td></tr><tr><td>train/loss</td><td>█▆▄▂▁</td></tr><tr><td>val/accuracy</td><td>▁▁█▁▆</td></tr><tr><td>val/epoch</td><td>▁▃▅▆█</td></tr><tr><td>val/loss</td><td>▁▂▂▆█</td></tr></table><br/></div><div class=\"wandb-col\"><h3>Run summary:</h3><br/><table class=\"wandb\"><tr><td>train/accuracy</td><td>0.97957</td></tr><tr><td>train/epoch</td><td>4</td></tr><tr><td>train/loss</td><td>0.06538</td></tr><tr><td>val/accuracy</td><td>0.6977</td></tr><tr><td>val/epoch</td><td>4</td></tr><tr><td>val/loss</td><td>1.15568</td></tr></table><br/></div></div>"
      ],
      "text/plain": [
       "<IPython.core.display.HTML object>"
      ]
     },
     "metadata": {},
     "output_type": "display_data"
    },
    {
     "data": {
      "text/html": [
       " View run <strong style=\"color:#cdcd00\">DistilBERTClassifier-2024-07-08_18-06-34_tweet_irony_epochs-5_bs-16_lr-2e-05</strong> at: <a href='https://wandb.ai/lorebaia/DLA%20Assigment%202/runs/gpaalo2x/workspace' target=\"_blank\">https://wandb.ai/lorebaia/DLA%20Assigment%202/runs/gpaalo2x/workspace</a><br/>Synced 6 W&B file(s), 20 media file(s), 20 artifact file(s) and 0 other file(s)"
      ],
      "text/plain": [
       "<IPython.core.display.HTML object>"
      ]
     },
     "metadata": {},
     "output_type": "display_data"
    },
    {
     "data": {
      "text/html": [
       "Find logs at: <code>.\\wandb\\run-20240708_180634-gpaalo2x\\logs</code>"
      ],
      "text/plain": [
       "<IPython.core.display.HTML object>"
      ]
     },
     "metadata": {},
     "output_type": "display_data"
    },
    {
     "data": {
      "image/png": "[encoded data removed]",
      "text/plain": [
       "<Figure size 1600x800 with 2 Axes>"
      ]
     },
     "metadata": {},
     "output_type": "display_data"
    },
    {
     "name": "stdout",
     "output_type": "stream",
     "text": [
      "Model saved to model_states/DistilBERTClassifier-2024-07-08_18-06-34_tweet_irony_epochs-5_bs-16_lr-2e-05.pth\n"
     ]
    }
   ],
   "source": [
    "\"\"\"\n",
    "We try to use a smaller dataset to see if we can get better results.\n",
    "\n",
    "The best results for the irony dataset with Bert is about 80% accuracy.\n",
    "\"\"\"\n",
    "\n",
    "# device\n",
    "device = torch.device('cuda' if torch.cuda.is_available() else 'cpu')\n",
    "\n",
    "batch_size = 16\n",
    "\n",
    "# Dataset\n",
    "dataset = load_from_disk(\"../data/tweet_irony\")\n",
    "classes_names = [\"non_irony\", \"irony\"]\n",
    "n_classes = len(classes_names)\n",
    "\n",
    "max_length = 280\n",
    "tokenizer = AutoTokenizer.from_pretrained('distilbert-base-uncased')\n",
    "\n",
    "ds_train = TweetDataset(dataset['train'], tokenizer, max_length=max_length, val_data=dataset['validation'])\n",
    "ds_val = TweetDataset(dataset['test'], tokenizer, max_length=max_length)\n",
    "\n",
    "data_collator = DataCollatorWithPadding(tokenizer)\n",
    "dl_train = DataLoader(ds_train, batch_size=batch_size, shuffle=True)\n",
    "dl_val = DataLoader(ds_val, batch_size=batch_size, shuffle=False)\n",
    "\n",
    "# Instantiate the model\n",
    "model = BERTClassifier(DistilBertModel.from_pretrained('distilbert-base-uncased'), n_classes).to(device)\n",
    "\n",
    "# Train the model\n",
    "epochs = 5\n",
    "lr = 2e-5\n",
    "criterion = nn.CrossEntropyLoss()\n",
    "opt = torch.optim.AdamW(model.parameters(), lr=lr)\n",
    "\n",
    "# Train the model\n",
    "train_evaluate_model(\n",
    "    model=model, \n",
    "    model_name=\"DistilBERTClassifier\", \n",
    "    dataset_name=\"tweet_irony\", \n",
    "    class_names=classes_names,\n",
    "    dl_train=dl_train,\n",
    "    dl_test=dl_val,\n",
    "    batch_size=batch_size, \n",
    "    lr=lr,\n",
    "    epochs=epochs, \n",
    "    opt=opt,\n",
    "    device=device\n",
    ")"
   ]
  },
  {
   "cell_type": "markdown",
   "id": "6616ccf7",
   "metadata": {},
   "source": [
    "# Exercise 3.2: Training a Question Answering Model"
   ]
  },
  {
   "cell_type": "code",
   "execution_count": null,
   "id": "5d2c39c8",
   "metadata": {},
   "outputs": [],
   "source": [
    "squad = load_dataset(\"squad\", split=\"train[:10000]\")\n",
    "squad.save_to_disk(\"../data/squad\")"
   ]
  },
  {
   "cell_type": "code",
   "execution_count": null,
   "id": "bfc97164",
   "metadata": {},
   "outputs": [],
   "source": [
    "# Load the dataset\n",
    "dataset = load_from_disk(\"../data/squad\")\n",
    "# Split the dataset into training and validation\n",
    "train_dataset = dataset[\"train\"].select(range(8000))\n",
    "val_dataset = dataset[\"train\"].select(range(8000, 10000))"
   ]
  },
  {
   "cell_type": "code",
   "execution_count": null,
   "id": "7f749fb8",
   "metadata": {},
   "outputs": [],
   "source": [
    "class SquadDataset(torch.utils.data.Dataset):\n",
    "    def __init__(self, data, tokenizer, max_length = 384):\n",
    "        self.tokenizer = tokenizer\n",
    "        self.max_length = max_length\n",
    "        self.data = data.map(self.preprocess_function, batched=True)\n",
    "\n",
    "    def preprocess_function(self, data):\n",
    "        questions = [q.strip() for q in data[\"question\"]]\n",
    "        inputs = tokenizer(\n",
    "            questions,\n",
    "            data[\"context\"],\n",
    "            max_length=self.max_length,\n",
    "            truncation=\"only_second\",\n",
    "            return_offsets_mapping=True,\n",
    "            padding=\"max_length\",\n",
    "        )\n",
    "\n",
    "        offset_mapping = inputs.pop(\"offset_mapping\")\n",
    "        answers = data[\"answers\"]\n",
    "        start_positions = []\n",
    "        end_positions = []\n",
    "\n",
    "        for i, offset in enumerate(offset_mapping):\n",
    "            answer = answers[i]\n",
    "            start_char = answer[\"answer_start\"][0]\n",
    "            end_char = answer[\"answer_start\"][0] + len(answer[\"text\"][0])\n",
    "            sequence_ids = inputs.sequence_ids(i)\n",
    "\n",
    "            # Find the start and end of the context\n",
    "            idx = 0\n",
    "            while sequence_ids[idx] != 1:\n",
    "                idx += 1\n",
    "            context_start = idx\n",
    "            while sequence_ids[idx] == 1:\n",
    "                idx += 1\n",
    "            context_end = idx - 1\n",
    "\n",
    "            # If the answer is not fully inside the context, label it (0, 0)\n",
    "            if offset[context_start][0] > end_char or offset[context_end][1] < start_char:\n",
    "                start_positions.append(0)\n",
    "                end_positions.append(0)\n",
    "            else:\n",
    "                # Otherwise it's the start and end token positions\n",
    "                idx = context_start\n",
    "                while idx <= context_end and offset[idx][0] <= start_char:\n",
    "                    idx += 1\n",
    "                start_positions.append(idx - 1)\n",
    "\n",
    "                idx = context_end\n",
    "                while idx >= context_start and offset[idx][1] >= end_char:\n",
    "                    idx -= 1\n",
    "                end_positions.append(idx + 1)\n",
    "\n",
    "        inputs[\"start_positions\"] = start_positions\n",
    "        inputs[\"end_positions\"] = end_positions\n",
    "        return inputs  \n",
    "\n",
    "    def __len__(self):\n",
    "        return len(self.data)\n",
    "\n",
    "    def __getitem__(self, idx):\n",
    "        self.data[idx]\n",
    "        "
   ]
  },
  {
   "cell_type": "code",
   "execution_count": null,
   "id": "e4fa5a3d",
   "metadata": {},
   "outputs": [],
   "source": [
    "class BERTQA(nn.Module):\n",
    "    def __init__(self, model):\n",
    "        super().__init__()\n",
    "        self.model = model\n",
    "        self.qa_outputs = nn.Linear(model.config.hidden_size, 1)\n",
    "\n",
    "    def forward(self, x, mask):\n",
    "        x = self.model(x, attention_mask=mask).last_hidden_state\n",
    "        bs = x.size(0)\n",
    "        \n",
    "        return self.qa_outputs(x)"
   ]
  }
 ],
 "metadata": {
  "kernelspec": {
   "display_name": "Python 3 (ipykernel)",
   "language": "python",
   "name": "python3"
  },
  "language_info": {
   "codemirror_mode": {
    "name": "ipython",
    "version": 3
   },
   "file_extension": ".py",
   "mimetype": "text/x-python",
   "name": "python",
   "nbconvert_exporter": "python",
   "pygments_lexer": "ipython3",
   "version": "3.11.9"
  }
 },
 "nbformat": 4,
 "nbformat_minor": 5
}
