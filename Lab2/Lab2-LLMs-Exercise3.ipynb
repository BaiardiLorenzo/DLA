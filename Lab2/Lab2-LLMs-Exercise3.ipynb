{
 "cells": [
  {
   "cell_type": "markdown",
   "id": "9b3d00e7-d4db-440f-8702-11118f07b0a4",
   "metadata": {},
   "source": [
    "# Exercise 3: Reusing Pre-trained LLMs (choose one)\n",
    "\n",
    "Choose **one** of the following exercises (well, *at least* one). In each of these you are asked to adapt a pre-trained LLM (`GPT2Model` or `DistillBERT` are two good choices) to a new Natural Language Understanding task. A few comments:\n",
    "\n",
    "+ Since GPT2 is a *autoregressive* model, there is no latent space aggregation at the last transformer layer (you get the same number of tokens out that you give in input). To use a pre-trained model for a classification or retrieval task, you should aggregate these tokens somehow (or opportunistically select *one* to use).\n",
    "\n",
    "+ BERT models (including DistillBERT) have a special [CLS] token prepended to each latent representation in output from a self-attention block. You can directly use this as a representation for classification (or retrieval).\n",
    "\n",
    "+ The first *two* exercises below can probably be done *without* any fine-tuning -- that is, just training a shallow MLP to classify or represent with the appropriate loss function."
   ]
  },
  {
   "cell_type": "code",
   "execution_count": 1,
   "id": "90c03c4f",
   "metadata": {},
   "outputs": [],
   "source": [
    "# Imports\n",
    "import torch\n",
    "import torch.nn as nn\n",
    "import numpy as np\n",
    "import torch.nn.functional as F\n",
    "import torch.optim as optim\n",
    "from torch.utils.data import DataLoader\n",
    "\n",
    "from tqdm import tqdm\n",
    "\n",
    "from typing import Optional, Union\n",
    "from functools import reduce\n",
    "from sklearn.metrics import accuracy_score, classification_report\n",
    "\n",
    "import os\n",
    "from datetime import datetime\n",
    "import re\n",
    "\n",
    "from datasets import load_dataset, load_from_disk\n",
    "from dataclasses import dataclass\n",
    "from transformers import DistilBertModel, AutoTokenizer, DataCollatorWithPadding, AutoModelForMultipleChoice, TrainingArguments, Trainer\n",
    "from transformers.tokenization_utils_base import PreTrainedTokenizerBase, PaddingStrategy\n",
    "\n",
    "import matplotlib.pyplot as plt\n",
    "import wandb\n",
    "\n",
    "# torch.cuda.is_available()"
   ]
  },
  {
   "cell_type": "markdown",
   "id": "898bc094",
   "metadata": {},
   "source": [
    "# Exercise 3.1: Training a Text Classifier (easy)\n",
    "\n",
    "Peruse the [text classification datasets on Hugging Face](https://huggingface.co/datasets?task_categories=task_categories:text-classification&sort=downloads). Choose a *moderately* sized dataset and use a LLM to train a classifier to solve the problem.\n",
    "\n",
    "**Note**: A good first baseline for this problem is certainly to use an LLM *exclusively* as a feature extractor and then train a shallow model."
   ]
  },
  {
   "cell_type": "code",
   "execution_count": 2,
   "id": "43bbab72",
   "metadata": {},
   "outputs": [],
   "source": [
    "# TRAINING AND EVALUATION FUNCTIONS \n",
    "# Function to train one epoch\n",
    "def train_epoch(\n",
    "        model: nn.Module, \n",
    "        data: DataLoader, \n",
    "        class_names: list, \n",
    "        epoch: int, \n",
    "        opt: optim.Optimizer, \n",
    "        device=\"cuda\"\n",
    "    ):\n",
    "\n",
    "    model.train()\n",
    "\n",
    "    losses = []\n",
    "    gts = []\n",
    "    preds = []\n",
    "\n",
    "    # Zero out the gradients\n",
    "    opt.zero_grad()\n",
    "    \n",
    "    for (i, (batch)) in enumerate(tqdm(data, desc=f\"Training epoch {epoch}\", leave=True)):\n",
    "        # Get the input and target data and move it to the device\n",
    "        xs = batch[\"input_ids\"].to(device)\n",
    "        ms = batch[\"attention_mask\"].to(device)\n",
    "        ys = batch[\"labels\"].to(device)\n",
    "\n",
    "        # Zero out the gradients\n",
    "        opt.zero_grad()\n",
    "\n",
    "        # Forward pass\n",
    "        logits = model(xs, ms)\n",
    "\n",
    "        # Get the predicted classes\n",
    "        pred = torch.argmax(logits, 1)\n",
    "        \n",
    "        # Compute the cross entropy loss\n",
    "        loss = F.cross_entropy(logits, ys)\n",
    "\n",
    "        # Backward pass\n",
    "        loss.backward()\n",
    "\n",
    "        # Update the model parameters\n",
    "        opt.step()\n",
    "\n",
    "        # Append the loss\n",
    "        losses.append(loss.item())\n",
    "        preds.extend(pred.detach().cpu().numpy())\n",
    "        gts.extend(ys.detach().cpu().numpy())\n",
    "\n",
    "    # Compute the accuracy and classification report\n",
    "    accuracy = accuracy_score(gts, preds)\n",
    "    class_report = classification_report(gts, preds, zero_division=0, digits=3, output_dict=True)\n",
    "    class_report_db = classification_report(gts, preds, zero_division=0, digits=3).splitlines()\n",
    "\n",
    "    report_table = []\n",
    "    for line in class_report_db[2:(len(class_names)+2)]:\n",
    "       report_table.append(line.split())\n",
    "\n",
    "    # Log the results\n",
    "    loss = np.mean(losses)\n",
    "    wandb.log({\n",
    "        \"train/epoch\": epoch, \n",
    "        \"train/loss\": loss, \n",
    "        \"train/accuracy\": accuracy, \n",
    "        \"train_class_rep/classification_report\": class_report,\n",
    "        \"train/confusion_matrix\": wandb.plot.confusion_matrix(y_true=gts, preds=preds, class_names=class_names),\n",
    "        \"train/classification_report\": wandb.Table(data=report_table, columns=[\"Class\", \"Precision\", \"Recall\", \"F1-score\", \"Support\"])\n",
    "        },\n",
    "        step=epoch)\n",
    "\n",
    "    # Return the average loss, accuracy and classification report\n",
    "    return loss, accuracy, class_report\n",
    "\n",
    "# Function to evaluate one epoch\n",
    "def evaluate_epoch(\n",
    "        model: nn.Module, \n",
    "        data: DataLoader, \n",
    "        class_names: list, \n",
    "        epoch: int, \n",
    "        device=\"cuda\"\n",
    "    ):\n",
    "\n",
    "    model.eval()\n",
    "\n",
    "    losses = []\n",
    "    preds = []\n",
    "    gts = []\n",
    "    # Disable gradient computation for evaluation\n",
    "    with torch.no_grad():\n",
    "        for (_, (batch)) in enumerate(tqdm(data, desc=f\"Evaluating\", leave=True)):\n",
    "            # Get the input and target data and move it to the device\n",
    "            xs = batch[\"input_ids\"].to(device)\n",
    "            ms = batch[\"attention_mask\"].to(device)\n",
    "            ys = batch[\"labels\"].to(device)\n",
    "\n",
    "            # Forward pass\n",
    "            logits = model(xs, ms)\n",
    "\n",
    "            # Compute the cross entropy loss\n",
    "            loss = F.cross_entropy(logits, ys)\n",
    "\n",
    "            # Get the predicted classes\n",
    "            pred = torch.argmax(logits, 1)\n",
    "\n",
    "            # Append the loss, predictions and ground truths\n",
    "            losses.append(loss.item())\n",
    "            preds.extend(pred.detach().cpu().numpy())\n",
    "            gts.extend(ys.detach().cpu().numpy())\n",
    "\n",
    "    # Compute the accuracy and classification report\n",
    "    accuracy = accuracy_score(gts, preds)\n",
    "    class_report = classification_report(gts, preds, zero_division=0, digits=3, output_dict=True)\n",
    "\n",
    "    class_report_db = classification_report(gts, preds, zero_division=0, digits=3).splitlines()\n",
    "    report_table = []\n",
    "    for line in class_report_db[2:(len(class_names)+2)]:\n",
    "        report_table.append(line.split())\n",
    "\n",
    "    # Log the results\n",
    "    loss = np.mean(losses)\n",
    "    wandb.log({\n",
    "        \"val/epoch\": epoch, \n",
    "        \"val/loss\": loss, \n",
    "        \"val/accuracy\": accuracy,\n",
    "        \"val_class_rep/classification_report\": class_report,\n",
    "        \"val/confusion_matrix\": wandb.plot.confusion_matrix(y_true=gts, preds=preds, class_names=class_names),\n",
    "        \"val/classification_report\": wandb.Table(data=report_table, columns=[\"Class\", \"Precision\", \"Recall\", \"F1-score\", \"Support\"])\n",
    "        }, \n",
    "        step=epoch)\n",
    "    \n",
    "    return loss, accuracy, class_report\n",
    "\n",
    "# Function to train and evaluate the model\n",
    "def train_evaluate_model(\n",
    "        model: nn.Module, \n",
    "        model_name: str,\n",
    "        dataset_name: str,\n",
    "        class_names: list,\n",
    "        dl_train: DataLoader, \n",
    "        dl_test: DataLoader, \n",
    "        batch_size: int, \n",
    "        lr: int, \n",
    "        epochs: int, \n",
    "        opt: optim.Optimizer, \n",
    "        device=\"cuda\",\n",
    "    ):\n",
    "\n",
    "    time = datetime.now().strftime(\"%Y-%m-%d_%H-%M-%S\")\n",
    "    test_name = model_name+\"-\"+time+\"_\"+dataset_name+\"_epochs-\"+str(epochs)+\"_bs-\"+str(batch_size)+\"_lr-\"+str(lr)\n",
    "\n",
    "    wandb_init(model_name, test_name, model, dataset_name, epochs, batch_size, lr, device)\n",
    "\n",
    "    # Train and evaluate the model\n",
    "    train_results = {\"loss\": [], \"acc\": [], \"class_rep\": []}\n",
    "    val_results = {\"loss\": [], \"acc\": [], \"class_rep\": []}\n",
    "    max_val_acc = 0\n",
    "    state_dict = None\n",
    "\n",
    "    for epoch in range(epochs):\n",
    "        # Train the model \n",
    "        train_loss, train_acc, train_class_rep = train_epoch(model, dl_train, class_names, epoch, opt, device=device)\n",
    "\n",
    "        # Evaluate the model\n",
    "        val_loss, val_acc, val_class_rep = evaluate_epoch(model, dl_test, class_names, epoch, device=device)\n",
    "\n",
    "        print(f\"Epoch {epoch}: Train Loss: {train_loss:.4f}, Train Acc: {train_acc:.4f}, Val Loss: {val_loss:.4f}, Val Acc: {val_acc:.4f}\")\n",
    "\n",
    "        # Save the best model\n",
    "        if val_acc > max_val_acc:\n",
    "            max_val_acc = val_acc\n",
    "            state_dict = model.state_dict()\n",
    "        \n",
    "        # Append the results\n",
    "        train_results[\"loss\"].append(train_loss)\n",
    "        train_results[\"acc\"].append(train_acc)\n",
    "        train_results[\"class_rep\"].append(train_class_rep)\n",
    "        val_results[\"loss\"].append(val_loss)\n",
    "        val_results[\"acc\"].append(val_acc)\n",
    "        val_results[\"class_rep\"].append(val_class_rep)\n",
    "\n",
    "    wandb.unwatch(model)\n",
    "    wandb.finish()\n",
    "\n",
    "    plot_validation_curves(train_results[\"loss\"], val_results[\"loss\"], train_results[\"acc\"], val_results[\"acc\"])\n",
    "\n",
    "    model_states_path = \"model_states/\"+test_name+\".pth\"\n",
    "\n",
    "    # Save the best model\n",
    "    if state_dict is not None:\n",
    "        torch.save(state_dict, model_states_path)\n",
    "        print(f\"Model saved to {model_states_path}\")\n",
    "\n",
    "# Function to initialize wandb\n",
    "def wandb_init(\n",
    "        model_name, \n",
    "        test_name, \n",
    "        model, \n",
    "        dataset, \n",
    "        epochs, \n",
    "        bs, \n",
    "        lr, \n",
    "        device, \n",
    "        project=\"DLA Assigment 2\"\n",
    "    ):\n",
    "    # Initialize wandb\n",
    "    wandb.init(\n",
    "        project=project,\n",
    "        name=test_name,\n",
    "        # Track hyperparameters and run metadata\n",
    "        config={\n",
    "            \"architecture\": model_name,\n",
    "            \"dataset\": dataset,\n",
    "            \"epochs\": epochs,\n",
    "            \"batch_size\": bs,\n",
    "            \"lr\": lr,\n",
    "            \"optimizer\": \"Adam\",\n",
    "            \"device\": device.type\n",
    "        }\n",
    "    )\n",
    "    wandb.watch(model, nn.CrossEntropyLoss(), log=\"all\")\n",
    "\n",
    "# Simple function to plot the loss curve and accuracy.\n",
    "def plot_validation_curves(train_loss, val_loss, train_acc, val_acc):\n",
    "    plt.figure(figsize=(16, 8))\n",
    "\n",
    "    plt.subplot(1, 2, 1)\n",
    "    plt.plot(train_loss, label='train_loss')\n",
    "    plt.plot(val_loss, label='val_loss')\n",
    "    plt.title('Average Loss per Epoch')\n",
    "    plt.xlabel('Epoch')\n",
    "    plt.ylabel('Loss')\n",
    "\n",
    "    plt.subplot(1, 2, 2)\n",
    "    plt.plot(train_acc, label='train_acc')\n",
    "    plt.plot(val_acc, label='val_acc')\n",
    "    plt.title(f'Best Validation Accuracy = {np.max(val_acc)} @ epoch {np.argmax(val_acc)}')\n",
    "    plt.xlabel('Epoch')\n",
    "    plt.ylabel('Accuracy')\n",
    "    plt.show()"
   ]
  },
  {
   "cell_type": "code",
   "execution_count": 3,
   "id": "cbe3d97b",
   "metadata": {},
   "outputs": [],
   "source": [
    "# BERT CLASSIFIER\n",
    "class BERTClassifier(nn.Module):\n",
    "    def __init__(self, model, n_classes):\n",
    "        super().__init__()\n",
    "        self.model = model\n",
    "        self.classifier = nn.Sequential(\n",
    "            nn.Linear(model.config.hidden_size, 128),\n",
    "            nn.ReLU(),\n",
    "            nn.Dropout(0.1),\n",
    "            nn.Linear(128, n_classes)\n",
    "        )\n",
    "\n",
    "    def forward(self, x, mask):\n",
    "        x = self.model(x, attention_mask=mask).last_hidden_state[:, 0]\n",
    "        return self.classifier(x)"
   ]
  },
  {
   "cell_type": "code",
   "execution_count": 4,
   "id": "9d21230e",
   "metadata": {},
   "outputs": [],
   "source": [
    "# TWEET DATASET\n",
    "class TweetDataset(torch.utils.data.Dataset):\n",
    "    def __init__(self, data, tokenizer, max_length, normalize=False):\n",
    "        self.texts = data[\"text\"]\n",
    "        self.labels = data[\"label\"]\n",
    "        self.tokenizer = tokenizer\n",
    "        self.max_length = max_length\n",
    "        self.normalize = normalize\n",
    "        self.data = data.map(self.preprocess_function, batched=False, remove_columns=[\"text\", \"label\"])\n",
    "        \n",
    "    def normalize_text(self, text):\n",
    "        # lowercase\n",
    "        text = text.lower()\n",
    "        # remove user tags\n",
    "        text = re.sub(r'@\\w', '', text)\n",
    "        # Remove double spaces\n",
    "        text = re.sub(r'\\s+', ' ', text)\n",
    "        # Remove URLs\n",
    "        text = re.sub(r'http\\S+', '', text)\n",
    "        # Remove punctuation\n",
    "        text = re.sub(r'[^\\w\\s]', '', text)\n",
    "        # Remove hashtags\n",
    "        text = re.sub(r'#', '', text)\n",
    "        return text\n",
    "    \n",
    "    def preprocess_function(self, data):\n",
    "        if self.normalize:\n",
    "            data[\"text\"] = self.normalize_text(data[\"text\"])\n",
    "        encoding = self.tokenizer(\n",
    "            data[\"text\"],\n",
    "            max_length=self.max_length,\n",
    "            padding=\"max_length\",\n",
    "            truncation=True,\n",
    "            return_tensors=\"pt\"\n",
    "        )\n",
    "        return {\n",
    "            \"input_ids\": encoding[\"input_ids\"].flatten(),\n",
    "            \"attention_mask\": encoding[\"attention_mask\"].flatten(),\n",
    "            \"labels\": torch.tensor(data[\"label\"])\n",
    "        }\n",
    "\n",
    "    def __len__(self):\n",
    "        return len(self.texts)\n",
    "\n",
    "    def __getitem__(self, idx):\n",
    "        return self.data[idx]"
   ]
  },
  {
   "cell_type": "markdown",
   "id": "7bf8d7ae",
   "metadata": {},
   "source": [
    "### Tweet Eval Irony"
   ]
  },
  {
   "cell_type": "code",
   "execution_count": 12,
   "id": "b3813246",
   "metadata": {},
   "outputs": [
    {
     "data": {
      "application/vnd.jupyter.widget-view+json": {
       "model_id": "868d5e693f584c938399de390415b8d4",
       "version_major": 2,
       "version_minor": 0
      },
      "text/plain": [
       "Saving the dataset (0/1 shards):   0%|          | 0/2862 [00:00<?, ? examples/s]"
      ]
     },
     "metadata": {},
     "output_type": "display_data"
    },
    {
     "data": {
      "application/vnd.jupyter.widget-view+json": {
       "model_id": "93b1a48cb4ea46a8b50395d61f580413",
       "version_major": 2,
       "version_minor": 0
      },
      "text/plain": [
       "Saving the dataset (0/1 shards):   0%|          | 0/784 [00:00<?, ? examples/s]"
      ]
     },
     "metadata": {},
     "output_type": "display_data"
    },
    {
     "data": {
      "application/vnd.jupyter.widget-view+json": {
       "model_id": "7a9b94e372434c4a8cf4a531390ae9a2",
       "version_major": 2,
       "version_minor": 0
      },
      "text/plain": [
       "Saving the dataset (0/1 shards):   0%|          | 0/955 [00:00<?, ? examples/s]"
      ]
     },
     "metadata": {},
     "output_type": "display_data"
    }
   ],
   "source": [
    "# Save the tweet eval irony dataset\n",
    "datasets = load_dataset(\"tweet_eval\", \"irony\")\n",
    "datasets.save_to_disk(\"../data/tweet_irony\")"
   ]
  },
  {
   "cell_type": "code",
   "execution_count": 6,
   "id": "65a6ac9a",
   "metadata": {},
   "outputs": [
    {
     "name": "stderr",
     "output_type": "stream",
     "text": [
      "c:\\Users\\loreb\\miniconda3\\envs\\DLA\\Lib\\site-packages\\huggingface_hub-0.23.0-py3.8.egg\\huggingface_hub\\file_download.py:1132: FutureWarning: `resume_download` is deprecated and will be removed in version 1.0.0. Downloads always resume when possible. If you want to force a new download, use `force_download=True`.\n"
     ]
    },
    {
     "data": {
      "application/vnd.jupyter.widget-view+json": {
       "model_id": "014f394db0ad4472925a6a6b85f1735d",
       "version_major": 2,
       "version_minor": 0
      },
      "text/plain": [
       "Map:   0%|          | 0/784 [00:00<?, ? examples/s]"
      ]
     },
     "metadata": {},
     "output_type": "display_data"
    },
    {
     "name": "stderr",
     "output_type": "stream",
     "text": [
      "Failed to detect the name of this notebook, you can set it manually with the WANDB_NOTEBOOK_NAME environment variable to enable code saving.\n",
      "wandb: Currently logged in as: lorebaia. Use `wandb login --relogin` to force relogin\n"
     ]
    },
    {
     "data": {
      "text/html": [
       "wandb version 0.17.4 is available!  To upgrade, please run:\n",
       " $ pip install wandb --upgrade"
      ],
      "text/plain": [
       "<IPython.core.display.HTML object>"
      ]
     },
     "metadata": {},
     "output_type": "display_data"
    },
    {
     "data": {
      "text/html": [
       "Tracking run with wandb version 0.16.5"
      ],
      "text/plain": [
       "<IPython.core.display.HTML object>"
      ]
     },
     "metadata": {},
     "output_type": "display_data"
    },
    {
     "data": {
      "text/html": [
       "Run data is saved locally in <code>c:\\Users\\loreb\\Documents\\Projects\\DLA\\Lab2\\wandb\\run-20240710_131737-l9byt1u5</code>"
      ],
      "text/plain": [
       "<IPython.core.display.HTML object>"
      ]
     },
     "metadata": {},
     "output_type": "display_data"
    },
    {
     "data": {
      "text/html": [
       "Syncing run <strong><a href='https://wandb.ai/lorebaia/DLA%20Assigment%202/runs/l9byt1u5/workspace' target=\"_blank\">DistilBERTClassifier-2024-07-10_13-17-33_tweet_irony_epochs-5_bs-8_lr-2e-05</a></strong> to <a href='https://wandb.ai/lorebaia/DLA%20Assigment%202' target=\"_blank\">Weights & Biases</a> (<a href='https://wandb.me/run' target=\"_blank\">docs</a>)<br/>"
      ],
      "text/plain": [
       "<IPython.core.display.HTML object>"
      ]
     },
     "metadata": {},
     "output_type": "display_data"
    },
    {
     "data": {
      "text/html": [
       " View project at <a href='https://wandb.ai/lorebaia/DLA%20Assigment%202' target=\"_blank\">https://wandb.ai/lorebaia/DLA%20Assigment%202</a>"
      ],
      "text/plain": [
       "<IPython.core.display.HTML object>"
      ]
     },
     "metadata": {},
     "output_type": "display_data"
    },
    {
     "data": {
      "text/html": [
       " View run at <a href='https://wandb.ai/lorebaia/DLA%20Assigment%202/runs/l9byt1u5/workspace' target=\"_blank\">https://wandb.ai/lorebaia/DLA%20Assigment%202/runs/l9byt1u5/workspace</a>"
      ],
      "text/plain": [
       "<IPython.core.display.HTML object>"
      ]
     },
     "metadata": {},
     "output_type": "display_data"
    },
    {
     "name": "stderr",
     "output_type": "stream",
     "text": [
      "Training epoch 0: 100%|██████████| 358/358 [05:17<00:00,  1.13it/s]\n",
      "Evaluating: 100%|██████████| 98/98 [00:27<00:00,  3.62it/s]\n"
     ]
    },
    {
     "name": "stdout",
     "output_type": "stream",
     "text": [
      "Epoch 0: Train Loss: 0.6468, Train Acc: 0.6118, Val Loss: 0.6231, Val Acc: 0.6467\n"
     ]
    },
    {
     "name": "stderr",
     "output_type": "stream",
     "text": [
      "Training epoch 1: 100%|██████████| 358/358 [05:20<00:00,  1.12it/s]\n",
      "Evaluating: 100%|██████████| 98/98 [00:27<00:00,  3.53it/s]\n"
     ]
    },
    {
     "name": "stdout",
     "output_type": "stream",
     "text": [
      "Epoch 1: Train Loss: 0.4901, Train Acc: 0.7638, Val Loss: 0.6031, Val Acc: 0.6875\n"
     ]
    },
    {
     "name": "stderr",
     "output_type": "stream",
     "text": [
      "Training epoch 2: 100%|██████████| 358/358 [05:29<00:00,  1.09it/s]\n",
      "Evaluating: 100%|██████████| 98/98 [00:27<00:00,  3.53it/s]\n"
     ]
    },
    {
     "name": "stdout",
     "output_type": "stream",
     "text": [
      "Epoch 2: Train Loss: 0.2720, Train Acc: 0.8941, Val Loss: 0.6519, Val Acc: 0.6990\n"
     ]
    },
    {
     "name": "stderr",
     "output_type": "stream",
     "text": [
      "Training epoch 3: 100%|██████████| 358/358 [05:27<00:00,  1.09it/s]\n",
      "Evaluating: 100%|██████████| 98/98 [00:27<00:00,  3.51it/s]\n"
     ]
    },
    {
     "name": "stdout",
     "output_type": "stream",
     "text": [
      "Epoch 3: Train Loss: 0.1113, Train Acc: 0.9644, Val Loss: 0.9286, Val Acc: 0.7117\n"
     ]
    },
    {
     "name": "stderr",
     "output_type": "stream",
     "text": [
      "Training epoch 4: 100%|██████████| 358/358 [05:28<00:00,  1.09it/s]\n",
      "Evaluating: 100%|██████████| 98/98 [00:27<00:00,  3.53it/s]\n"
     ]
    },
    {
     "name": "stdout",
     "output_type": "stream",
     "text": [
      "Epoch 4: Train Loss: 0.0484, Train Acc: 0.9871, Val Loss: 1.2575, Val Acc: 0.6862\n"
     ]
    },
    {
     "data": {
      "application/vnd.jupyter.widget-view+json": {
       "model_id": "a7f3f7369de548c9b04ceba606b80400",
       "version_major": 2,
       "version_minor": 0
      },
      "text/plain": [
       "VBox(children=(Label(value='0.018 MB of 0.018 MB uploaded\\r'), FloatProgress(value=1.0, max=1.0)))"
      ]
     },
     "metadata": {},
     "output_type": "display_data"
    },
    {
     "data": {
      "text/html": [
       "<style>\n",
       "    table.wandb td:nth-child(1) { padding: 0 10px; text-align: left ; width: auto;} td:nth-child(2) {text-align: left ; width: 100%}\n",
       "    .wandb-row { display: flex; flex-direction: row; flex-wrap: wrap; justify-content: flex-start; width: 100% }\n",
       "    .wandb-col { display: flex; flex-direction: column; flex-basis: 100%; flex: 1; padding: 10px; }\n",
       "    </style>\n",
       "<div class=\"wandb-row\"><div class=\"wandb-col\"><h3>Run history:</h3><br/><table class=\"wandb\"><tr><td>train/accuracy</td><td>▁▄▆██</td></tr><tr><td>train/epoch</td><td>▁▃▅▆█</td></tr><tr><td>train/loss</td><td>█▆▄▂▁</td></tr><tr><td>val/accuracy</td><td>▁▅▇█▅</td></tr><tr><td>val/epoch</td><td>▁▃▅▆█</td></tr><tr><td>val/loss</td><td>▁▁▂▄█</td></tr></table><br/></div><div class=\"wandb-col\"><h3>Run summary:</h3><br/><table class=\"wandb\"><tr><td>train/accuracy</td><td>0.98707</td></tr><tr><td>train/epoch</td><td>4</td></tr><tr><td>train/loss</td><td>0.04839</td></tr><tr><td>val/accuracy</td><td>0.68622</td></tr><tr><td>val/epoch</td><td>4</td></tr><tr><td>val/loss</td><td>1.25755</td></tr></table><br/></div></div>"
      ],
      "text/plain": [
       "<IPython.core.display.HTML object>"
      ]
     },
     "metadata": {},
     "output_type": "display_data"
    },
    {
     "data": {
      "text/html": [
       " View run <strong style=\"color:#cdcd00\">DistilBERTClassifier-2024-07-10_13-17-33_tweet_irony_epochs-5_bs-8_lr-2e-05</strong> at: <a href='https://wandb.ai/lorebaia/DLA%20Assigment%202/runs/l9byt1u5/workspace' target=\"_blank\">https://wandb.ai/lorebaia/DLA%20Assigment%202/runs/l9byt1u5/workspace</a><br/>Synced 6 W&B file(s), 20 media file(s), 20 artifact file(s) and 0 other file(s)"
      ],
      "text/plain": [
       "<IPython.core.display.HTML object>"
      ]
     },
     "metadata": {},
     "output_type": "display_data"
    },
    {
     "data": {
      "text/html": [
       "Find logs at: <code>.\\wandb\\run-20240710_131737-l9byt1u5\\logs</code>"
      ],
      "text/plain": [
       "<IPython.core.display.HTML object>"
      ]
     },
     "metadata": {},
     "output_type": "display_data"
    },
    {
     "data": {
      "image/png": "[encoded data removed]",
      "text/plain": [
       "<Figure size 1600x800 with 2 Axes>"
      ]
     },
     "metadata": {},
     "output_type": "display_data"
    },
    {
     "name": "stdout",
     "output_type": "stream",
     "text": [
      "Model saved to model_states/DistilBERTClassifier-2024-07-10_13-17-33_tweet_irony_epochs-5_bs-8_lr-2e-05.pth\n"
     ]
    }
   ],
   "source": [
    "# TWEET EVAL DATASET IRONY\n",
    "\"\"\"\n",
    "Evaluate the irony of a tweet. The task is to classify whether a tweet is ironic or not.\n",
    "\n",
    "The best results for the irony dataset with a pre-trained RoBERTa base is about 73% accuracy.\n",
    "\"\"\"\n",
    "# Dataset\n",
    "dataset = load_from_disk(\"../data/tweet_irony\")\n",
    "classes_names = [\"non_irony\", \"irony\"]\n",
    "n_classes = len(classes_names)\n",
    "\n",
    "# device\n",
    "device = torch.device('cuda' if torch.cuda.is_available() else 'cpu')\n",
    "\n",
    "batch_size = 8\n",
    "\n",
    "max_length = 512\n",
    "tokenizer = AutoTokenizer.from_pretrained('distilbert-base-uncased', use_fast=True)\n",
    "\n",
    "ds_train = TweetDataset(dataset['train'], tokenizer, max_length=max_length)\n",
    "ds_val = TweetDataset(dataset['test'], tokenizer, max_length=max_length)\n",
    "\n",
    "data_collator = DataCollatorWithPadding(tokenizer)\n",
    "dl_train = DataLoader(ds_train, batch_size=batch_size, shuffle=True, collate_fn=data_collator)\n",
    "dl_val = DataLoader(ds_val, batch_size=batch_size, shuffle=False, collate_fn=data_collator)\n",
    "\n",
    "# Instantiate the model\n",
    "model = BERTClassifier(DistilBertModel.from_pretrained('distilbert-base-uncased'), n_classes).to(device)\n",
    "\n",
    "# Train the model\n",
    "epochs = 5\n",
    "lr = 2e-5\n",
    "criterion = nn.CrossEntropyLoss()\n",
    "opt = torch.optim.AdamW(model.parameters(), lr=lr)\n",
    "\n",
    "# Train the model\n",
    "train_evaluate_model(\n",
    "    model=model, \n",
    "    model_name=\"DistilBERTClassifier\", \n",
    "    dataset_name=\"tweet_irony\", \n",
    "    class_names=classes_names,\n",
    "    dl_train=dl_train,\n",
    "    dl_test=dl_val,\n",
    "    batch_size=batch_size, \n",
    "    lr=lr,\n",
    "    epochs=epochs, \n",
    "    opt=opt,\n",
    "    device=device\n",
    ")"
   ]
  },
  {
   "cell_type": "markdown",
   "id": "08e51160",
   "metadata": {},
   "source": [
    "### Tweet Eval Emoji"
   ]
  },
  {
   "cell_type": "code",
   "execution_count": 12,
   "id": "c2e4b2a5",
   "metadata": {},
   "outputs": [
    {
     "data": {
      "application/vnd.jupyter.widget-view+json": {
       "model_id": "c90ecf25d48e48649fe7af6c4ccc1eb2",
       "version_major": 2,
       "version_minor": 0
      },
      "text/plain": [
       "Saving the dataset (0/1 shards):   0%|          | 0/45000 [00:00<?, ? examples/s]"
      ]
     },
     "metadata": {},
     "output_type": "display_data"
    },
    {
     "data": {
      "application/vnd.jupyter.widget-view+json": {
       "model_id": "b16a6c05fd3a41fb9566e9bb194f2ece",
       "version_major": 2,
       "version_minor": 0
      },
      "text/plain": [
       "Saving the dataset (0/1 shards):   0%|          | 0/50000 [00:00<?, ? examples/s]"
      ]
     },
     "metadata": {},
     "output_type": "display_data"
    },
    {
     "data": {
      "application/vnd.jupyter.widget-view+json": {
       "model_id": "67ceb70eade348acbeeadc6d1f1adca0",
       "version_major": 2,
       "version_minor": 0
      },
      "text/plain": [
       "Saving the dataset (0/1 shards):   0%|          | 0/5000 [00:00<?, ? examples/s]"
      ]
     },
     "metadata": {},
     "output_type": "display_data"
    }
   ],
   "source": [
    "# Save the tweet eval emoji dataset\n",
    "datasets = load_dataset(\"tweet_eval\", \"emoji\")\n",
    "datasets.save_to_disk(\"../data/tweet_emoji\")"
   ]
  },
  {
   "cell_type": "code",
   "execution_count": 5,
   "id": "fa324dd8",
   "metadata": {},
   "outputs": [
    {
     "name": "stderr",
     "output_type": "stream",
     "text": [
      "c:\\Users\\loreb\\miniconda3\\envs\\DLA\\Lib\\site-packages\\huggingface_hub-0.23.0-py3.8.egg\\huggingface_hub\\file_download.py:1132: FutureWarning: `resume_download` is deprecated and will be removed in version 1.0.0. Downloads always resume when possible. If you want to force a new download, use `force_download=True`.\n",
      "Failed to detect the name of this notebook, you can set it manually with the WANDB_NOTEBOOK_NAME environment variable to enable code saving.\n",
      "wandb: Currently logged in as: lorebaia. Use `wandb login --relogin` to force relogin\n"
     ]
    },
    {
     "data": {
      "text/html": [
       "wandb version 0.17.4 is available!  To upgrade, please run:\n",
       " $ pip install wandb --upgrade"
      ],
      "text/plain": [
       "<IPython.core.display.HTML object>"
      ]
     },
     "metadata": {},
     "output_type": "display_data"
    },
    {
     "data": {
      "text/html": [
       "Tracking run with wandb version 0.16.5"
      ],
      "text/plain": [
       "<IPython.core.display.HTML object>"
      ]
     },
     "metadata": {},
     "output_type": "display_data"
    },
    {
     "data": {
      "text/html": [
       "Run data is saved locally in <code>c:\\Users\\loreb\\Documents\\Projects\\DLA\\Lab2\\wandb\\run-20240710_141830-nnsu1ec3</code>"
      ],
      "text/plain": [
       "<IPython.core.display.HTML object>"
      ]
     },
     "metadata": {},
     "output_type": "display_data"
    },
    {
     "data": {
      "text/html": [
       "Syncing run <strong><a href='https://wandb.ai/lorebaia/DLA%20Assigment%202/runs/nnsu1ec3/workspace' target=\"_blank\">DistilBERTClassifier-2024-07-10_14-18-27_emoji_epochs-5_bs-16_lr-2e-05</a></strong> to <a href='https://wandb.ai/lorebaia/DLA%20Assigment%202' target=\"_blank\">Weights & Biases</a> (<a href='https://wandb.me/run' target=\"_blank\">docs</a>)<br/>"
      ],
      "text/plain": [
       "<IPython.core.display.HTML object>"
      ]
     },
     "metadata": {},
     "output_type": "display_data"
    },
    {
     "data": {
      "text/html": [
       " View project at <a href='https://wandb.ai/lorebaia/DLA%20Assigment%202' target=\"_blank\">https://wandb.ai/lorebaia/DLA%20Assigment%202</a>"
      ],
      "text/plain": [
       "<IPython.core.display.HTML object>"
      ]
     },
     "metadata": {},
     "output_type": "display_data"
    },
    {
     "data": {
      "text/html": [
       " View run at <a href='https://wandb.ai/lorebaia/DLA%20Assigment%202/runs/nnsu1ec3/workspace' target=\"_blank\">https://wandb.ai/lorebaia/DLA%20Assigment%202/runs/nnsu1ec3/workspace</a>"
      ],
      "text/plain": [
       "<IPython.core.display.HTML object>"
      ]
     },
     "metadata": {},
     "output_type": "display_data"
    },
    {
     "name": "stderr",
     "output_type": "stream",
     "text": [
      "Training epoch 0:   0%|          | 4/2813 [00:50<9:55:02, 12.71s/it]\n"
     ]
    },
    {
     "ename": "KeyboardInterrupt",
     "evalue": "",
     "output_type": "error",
     "traceback": [
      "\u001b[1;31m---------------------------------------------------------------------------\u001b[0m",
      "\u001b[1;31mKeyboardInterrupt\u001b[0m                         Traceback (most recent call last)",
      "Cell \u001b[1;32mIn[5], line 37\u001b[0m\n\u001b[0;32m     34\u001b[0m opt \u001b[38;5;241m=\u001b[39m torch\u001b[38;5;241m.\u001b[39moptim\u001b[38;5;241m.\u001b[39mAdamW(model\u001b[38;5;241m.\u001b[39mparameters(), lr\u001b[38;5;241m=\u001b[39mlr)\n\u001b[0;32m     36\u001b[0m \u001b[38;5;66;03m# Train the model\u001b[39;00m\n\u001b[1;32m---> 37\u001b[0m \u001b[43mtrain_evaluate_model\u001b[49m\u001b[43m(\u001b[49m\n\u001b[0;32m     38\u001b[0m \u001b[43m    \u001b[49m\u001b[43mmodel\u001b[49m\u001b[38;5;241;43m=\u001b[39;49m\u001b[43mmodel\u001b[49m\u001b[43m,\u001b[49m\u001b[43m \u001b[49m\n\u001b[0;32m     39\u001b[0m \u001b[43m    \u001b[49m\u001b[43mmodel_name\u001b[49m\u001b[38;5;241;43m=\u001b[39;49m\u001b[38;5;124;43m\"\u001b[39;49m\u001b[38;5;124;43mDistilBERTClassifier\u001b[39;49m\u001b[38;5;124;43m\"\u001b[39;49m\u001b[43m,\u001b[49m\u001b[43m \u001b[49m\n\u001b[0;32m     40\u001b[0m \u001b[43m    \u001b[49m\u001b[43mdataset_name\u001b[49m\u001b[38;5;241;43m=\u001b[39;49m\u001b[38;5;124;43m\"\u001b[39;49m\u001b[38;5;124;43memoji\u001b[39;49m\u001b[38;5;124;43m\"\u001b[39;49m\u001b[43m,\u001b[49m\u001b[43m \u001b[49m\n\u001b[0;32m     41\u001b[0m \u001b[43m    \u001b[49m\u001b[43mclass_names\u001b[49m\u001b[38;5;241;43m=\u001b[39;49m\u001b[43mclasses_names\u001b[49m\u001b[43m,\u001b[49m\n\u001b[0;32m     42\u001b[0m \u001b[43m    \u001b[49m\u001b[43mdl_train\u001b[49m\u001b[38;5;241;43m=\u001b[39;49m\u001b[43mdl_train\u001b[49m\u001b[43m,\u001b[49m\n\u001b[0;32m     43\u001b[0m \u001b[43m    \u001b[49m\u001b[43mdl_test\u001b[49m\u001b[38;5;241;43m=\u001b[39;49m\u001b[43mdl_val\u001b[49m\u001b[43m,\u001b[49m\n\u001b[0;32m     44\u001b[0m \u001b[43m    \u001b[49m\u001b[43mbatch_size\u001b[49m\u001b[38;5;241;43m=\u001b[39;49m\u001b[43mbatch_size\u001b[49m\u001b[43m,\u001b[49m\u001b[43m \u001b[49m\n\u001b[0;32m     45\u001b[0m \u001b[43m    \u001b[49m\u001b[43mlr\u001b[49m\u001b[38;5;241;43m=\u001b[39;49m\u001b[43mlr\u001b[49m\u001b[43m,\u001b[49m\n\u001b[0;32m     46\u001b[0m \u001b[43m    \u001b[49m\u001b[43mepochs\u001b[49m\u001b[38;5;241;43m=\u001b[39;49m\u001b[43mepochs\u001b[49m\u001b[43m,\u001b[49m\u001b[43m \u001b[49m\n\u001b[0;32m     47\u001b[0m \u001b[43m    \u001b[49m\u001b[43mopt\u001b[49m\u001b[38;5;241;43m=\u001b[39;49m\u001b[43mopt\u001b[49m\u001b[43m,\u001b[49m\n\u001b[0;32m     48\u001b[0m \u001b[43m    \u001b[49m\u001b[43mdevice\u001b[49m\u001b[38;5;241;43m=\u001b[39;49m\u001b[43mdevice\u001b[49m\n\u001b[0;32m     49\u001b[0m \u001b[43m)\u001b[49m\n",
      "Cell \u001b[1;32mIn[2], line 161\u001b[0m, in \u001b[0;36mtrain_evaluate_model\u001b[1;34m(model, model_name, dataset_name, class_names, dl_train, dl_test, batch_size, lr, epochs, opt, device)\u001b[0m\n\u001b[0;32m    157\u001b[0m state_dict \u001b[38;5;241m=\u001b[39m \u001b[38;5;28;01mNone\u001b[39;00m\n\u001b[0;32m    159\u001b[0m \u001b[38;5;28;01mfor\u001b[39;00m epoch \u001b[38;5;129;01min\u001b[39;00m \u001b[38;5;28mrange\u001b[39m(epochs):\n\u001b[0;32m    160\u001b[0m     \u001b[38;5;66;03m# Train the model \u001b[39;00m\n\u001b[1;32m--> 161\u001b[0m     train_loss, train_acc, train_class_rep \u001b[38;5;241m=\u001b[39m \u001b[43mtrain_epoch\u001b[49m\u001b[43m(\u001b[49m\u001b[43mmodel\u001b[49m\u001b[43m,\u001b[49m\u001b[43m \u001b[49m\u001b[43mdl_train\u001b[49m\u001b[43m,\u001b[49m\u001b[43m \u001b[49m\u001b[43mclass_names\u001b[49m\u001b[43m,\u001b[49m\u001b[43m \u001b[49m\u001b[43mepoch\u001b[49m\u001b[43m,\u001b[49m\u001b[43m \u001b[49m\u001b[43mopt\u001b[49m\u001b[43m,\u001b[49m\u001b[43m \u001b[49m\u001b[43mdevice\u001b[49m\u001b[38;5;241;43m=\u001b[39;49m\u001b[43mdevice\u001b[49m\u001b[43m)\u001b[49m\n\u001b[0;32m    163\u001b[0m     \u001b[38;5;66;03m# Evaluate the model\u001b[39;00m\n\u001b[0;32m    164\u001b[0m     val_loss, val_acc, val_class_rep \u001b[38;5;241m=\u001b[39m evaluate_epoch(model, dl_test, class_names, epoch, device\u001b[38;5;241m=\u001b[39mdevice)\n",
      "Cell \u001b[1;32mIn[2], line 40\u001b[0m, in \u001b[0;36mtrain_epoch\u001b[1;34m(model, data, class_names, epoch, opt, device)\u001b[0m\n\u001b[0;32m     37\u001b[0m loss \u001b[38;5;241m=\u001b[39m F\u001b[38;5;241m.\u001b[39mcross_entropy(logits, ys)\n\u001b[0;32m     39\u001b[0m \u001b[38;5;66;03m# Backward pass\u001b[39;00m\n\u001b[1;32m---> 40\u001b[0m \u001b[43mloss\u001b[49m\u001b[38;5;241;43m.\u001b[39;49m\u001b[43mbackward\u001b[49m\u001b[43m(\u001b[49m\u001b[43m)\u001b[49m\n\u001b[0;32m     42\u001b[0m \u001b[38;5;66;03m# Update the model parameters\u001b[39;00m\n\u001b[0;32m     43\u001b[0m opt\u001b[38;5;241m.\u001b[39mstep()\n",
      "File \u001b[1;32mc:\\Users\\loreb\\miniconda3\\envs\\DLA\\Lib\\site-packages\\torch\\_tensor.py:525\u001b[0m, in \u001b[0;36mTensor.backward\u001b[1;34m(self, gradient, retain_graph, create_graph, inputs)\u001b[0m\n\u001b[0;32m    515\u001b[0m \u001b[38;5;28;01mif\u001b[39;00m has_torch_function_unary(\u001b[38;5;28mself\u001b[39m):\n\u001b[0;32m    516\u001b[0m     \u001b[38;5;28;01mreturn\u001b[39;00m handle_torch_function(\n\u001b[0;32m    517\u001b[0m         Tensor\u001b[38;5;241m.\u001b[39mbackward,\n\u001b[0;32m    518\u001b[0m         (\u001b[38;5;28mself\u001b[39m,),\n\u001b[1;32m   (...)\u001b[0m\n\u001b[0;32m    523\u001b[0m         inputs\u001b[38;5;241m=\u001b[39minputs,\n\u001b[0;32m    524\u001b[0m     )\n\u001b[1;32m--> 525\u001b[0m \u001b[43mtorch\u001b[49m\u001b[38;5;241;43m.\u001b[39;49m\u001b[43mautograd\u001b[49m\u001b[38;5;241;43m.\u001b[39;49m\u001b[43mbackward\u001b[49m\u001b[43m(\u001b[49m\n\u001b[0;32m    526\u001b[0m \u001b[43m    \u001b[49m\u001b[38;5;28;43mself\u001b[39;49m\u001b[43m,\u001b[49m\u001b[43m \u001b[49m\u001b[43mgradient\u001b[49m\u001b[43m,\u001b[49m\u001b[43m \u001b[49m\u001b[43mretain_graph\u001b[49m\u001b[43m,\u001b[49m\u001b[43m \u001b[49m\u001b[43mcreate_graph\u001b[49m\u001b[43m,\u001b[49m\u001b[43m \u001b[49m\u001b[43minputs\u001b[49m\u001b[38;5;241;43m=\u001b[39;49m\u001b[43minputs\u001b[49m\n\u001b[0;32m    527\u001b[0m \u001b[43m\u001b[49m\u001b[43m)\u001b[49m\n",
      "File \u001b[1;32mc:\\Users\\loreb\\miniconda3\\envs\\DLA\\Lib\\site-packages\\torch\\autograd\\__init__.py:267\u001b[0m, in \u001b[0;36mbackward\u001b[1;34m(tensors, grad_tensors, retain_graph, create_graph, grad_variables, inputs)\u001b[0m\n\u001b[0;32m    262\u001b[0m     retain_graph \u001b[38;5;241m=\u001b[39m create_graph\n\u001b[0;32m    264\u001b[0m \u001b[38;5;66;03m# The reason we repeat the same comment below is that\u001b[39;00m\n\u001b[0;32m    265\u001b[0m \u001b[38;5;66;03m# some Python versions print out the first line of a multi-line function\u001b[39;00m\n\u001b[0;32m    266\u001b[0m \u001b[38;5;66;03m# calls in the traceback and some print out the last line\u001b[39;00m\n\u001b[1;32m--> 267\u001b[0m \u001b[43m_engine_run_backward\u001b[49m\u001b[43m(\u001b[49m\n\u001b[0;32m    268\u001b[0m \u001b[43m    \u001b[49m\u001b[43mtensors\u001b[49m\u001b[43m,\u001b[49m\n\u001b[0;32m    269\u001b[0m \u001b[43m    \u001b[49m\u001b[43mgrad_tensors_\u001b[49m\u001b[43m,\u001b[49m\n\u001b[0;32m    270\u001b[0m \u001b[43m    \u001b[49m\u001b[43mretain_graph\u001b[49m\u001b[43m,\u001b[49m\n\u001b[0;32m    271\u001b[0m \u001b[43m    \u001b[49m\u001b[43mcreate_graph\u001b[49m\u001b[43m,\u001b[49m\n\u001b[0;32m    272\u001b[0m \u001b[43m    \u001b[49m\u001b[43minputs\u001b[49m\u001b[43m,\u001b[49m\n\u001b[0;32m    273\u001b[0m \u001b[43m    \u001b[49m\u001b[43mallow_unreachable\u001b[49m\u001b[38;5;241;43m=\u001b[39;49m\u001b[38;5;28;43;01mTrue\u001b[39;49;00m\u001b[43m,\u001b[49m\n\u001b[0;32m    274\u001b[0m \u001b[43m    \u001b[49m\u001b[43maccumulate_grad\u001b[49m\u001b[38;5;241;43m=\u001b[39;49m\u001b[38;5;28;43;01mTrue\u001b[39;49;00m\u001b[43m,\u001b[49m\n\u001b[0;32m    275\u001b[0m \u001b[43m\u001b[49m\u001b[43m)\u001b[49m\n",
      "File \u001b[1;32mc:\\Users\\loreb\\miniconda3\\envs\\DLA\\Lib\\site-packages\\torch\\autograd\\graph.py:744\u001b[0m, in \u001b[0;36m_engine_run_backward\u001b[1;34m(t_outputs, *args, **kwargs)\u001b[0m\n\u001b[0;32m    742\u001b[0m     unregister_hooks \u001b[38;5;241m=\u001b[39m _register_logging_hooks_on_whole_graph(t_outputs)\n\u001b[0;32m    743\u001b[0m \u001b[38;5;28;01mtry\u001b[39;00m:\n\u001b[1;32m--> 744\u001b[0m     \u001b[38;5;28;01mreturn\u001b[39;00m \u001b[43mVariable\u001b[49m\u001b[38;5;241;43m.\u001b[39;49m\u001b[43m_execution_engine\u001b[49m\u001b[38;5;241;43m.\u001b[39;49m\u001b[43mrun_backward\u001b[49m\u001b[43m(\u001b[49m\u001b[43m  \u001b[49m\u001b[38;5;66;43;03m# Calls into the C++ engine to run the backward pass\u001b[39;49;00m\n\u001b[0;32m    745\u001b[0m \u001b[43m        \u001b[49m\u001b[43mt_outputs\u001b[49m\u001b[43m,\u001b[49m\u001b[43m \u001b[49m\u001b[38;5;241;43m*\u001b[39;49m\u001b[43margs\u001b[49m\u001b[43m,\u001b[49m\u001b[43m \u001b[49m\u001b[38;5;241;43m*\u001b[39;49m\u001b[38;5;241;43m*\u001b[39;49m\u001b[43mkwargs\u001b[49m\n\u001b[0;32m    746\u001b[0m \u001b[43m    \u001b[49m\u001b[43m)\u001b[49m  \u001b[38;5;66;03m# Calls into the C++ engine to run the backward pass\u001b[39;00m\n\u001b[0;32m    747\u001b[0m \u001b[38;5;28;01mfinally\u001b[39;00m:\n\u001b[0;32m    748\u001b[0m     \u001b[38;5;28;01mif\u001b[39;00m attach_logging_hooks:\n",
      "\u001b[1;31mKeyboardInterrupt\u001b[0m: "
     ]
    }
   ],
   "source": [
    "# TWEET EVAL DATASET EMOJI\n",
    "\"\"\" \n",
    "Evaluate the emoji of a tweet. The task is to classify which emoji is nearest to the sentiment of the tweet.\n",
    "\n",
    "The best results for the emoji dataset with a pre-trained RoBERTa-Base is about 31% accuracy.\n",
    "\"\"\"\n",
    "# device\n",
    "device = torch.device('cuda' if torch.cuda.is_available() else 'cpu')\n",
    "\n",
    "batch_size = 16\n",
    "\n",
    "# Dataset\n",
    "dataset = load_from_disk(\"../data/Tweet_emoji\")\n",
    "classes_names = [\"❤️\",\"😍\",\"😂\",\"💕\",\"🔥\",\"😊\",\"😎\",\"✨\", \"💙\",\"😘\",\"📷\",\"🇺🇸\",\"☀\",\"💜\",\"😉\",\"💯\",\"😁\",\"🎄\",\"📸\",\"😜\"]\n",
    "n_classes = len(classes_names)\n",
    "\n",
    "max_length = 512\n",
    "tokenizer = AutoTokenizer.from_pretrained('distilbert-base-uncased', use_fast=True)\n",
    "\n",
    "ds_train = TweetDataset(dataset['train'], tokenizer, max_length=max_length)\n",
    "ds_val = TweetDataset(dataset['test'], tokenizer, max_length=max_length)\n",
    "\n",
    "data_collator = DataCollatorWithPadding(tokenizer)\n",
    "dl_train = DataLoader(ds_train, batch_size=batch_size, shuffle=True, collate_fn=data_collator)\n",
    "dl_val = DataLoader(ds_val, batch_size=batch_size, shuffle=False, collate_fn=data_collator)\n",
    "\n",
    "# Instantiate the model\n",
    "model = BERTClassifier(DistilBertModel.from_pretrained('distilbert-base-uncased'), n_classes).to(device)\n",
    "\n",
    "# Train the model\n",
    "epochs = 5\n",
    "lr = 2e-5\n",
    "criterion = nn.CrossEntropyLoss()\n",
    "opt = torch.optim.AdamW(model.parameters(), lr=lr)\n",
    "\n",
    "# Train the model\n",
    "train_evaluate_model(\n",
    "    model=model, \n",
    "    model_name=\"DistilBERTClassifier\", \n",
    "    dataset_name=\"emoji\", \n",
    "    class_names=classes_names,\n",
    "    dl_train=dl_train,\n",
    "    dl_test=dl_val,\n",
    "    batch_size=batch_size, \n",
    "    lr=lr,\n",
    "    epochs=epochs, \n",
    "    opt=opt,\n",
    "    device=device\n",
    ")"
   ]
  },
  {
   "cell_type": "markdown",
   "id": "6616ccf7",
   "metadata": {},
   "source": [
    "# Exercise 3.2: Training a Question Answering Model (harder)\n",
    "\n",
    "Peruse the [multiple choice question answering datasets on Hugging Face](https://huggingface.co/datasets?task_categories=task_categories:multiple-choice&sort=downloads). Chose a *moderately* sized one and train a model to answer contextualized multiple-choice questions. You *might* be able to avoid fine-tuning by training a simple model to *rank* the multiple choices (see margin ranking loss in Pytorch)."
   ]
  },
  {
   "cell_type": "markdown",
   "id": "e8466dec",
   "metadata": {},
   "source": [
    "### ARC DATASET"
   ]
  },
  {
   "cell_type": "code",
   "execution_count": 5,
   "id": "5d2c39c8",
   "metadata": {},
   "outputs": [
    {
     "data": {
      "application/vnd.jupyter.widget-view+json": {
       "model_id": "4cd02abcc6074d7aba0dfcbbe445c622",
       "version_major": 2,
       "version_minor": 0
      },
      "text/plain": [
       "Saving the dataset (0/1 shards):   0%|          | 0/2251 [00:00<?, ? examples/s]"
      ]
     },
     "metadata": {},
     "output_type": "display_data"
    },
    {
     "data": {
      "application/vnd.jupyter.widget-view+json": {
       "model_id": "0c81318ec621414abae7e809ce782185",
       "version_major": 2,
       "version_minor": 0
      },
      "text/plain": [
       "Saving the dataset (0/1 shards):   0%|          | 0/2376 [00:00<?, ? examples/s]"
      ]
     },
     "metadata": {},
     "output_type": "display_data"
    },
    {
     "data": {
      "application/vnd.jupyter.widget-view+json": {
       "model_id": "b7001235728f4ac5822d5bbfe862c08f",
       "version_major": 2,
       "version_minor": 0
      },
      "text/plain": [
       "Saving the dataset (0/1 shards):   0%|          | 0/570 [00:00<?, ? examples/s]"
      ]
     },
     "metadata": {},
     "output_type": "display_data"
    }
   ],
   "source": [
    "# SAVE THE ARC DATASET ON DISK\n",
    "ds = load_dataset(\"ai2_arc\", \"ARC-Easy\")\n",
    "ds.save_to_disk(\"../data/arc_easy\")"
   ]
  },
  {
   "cell_type": "code",
   "execution_count": 4,
   "id": "40d28957",
   "metadata": {},
   "outputs": [],
   "source": [
    "# TRAINING AND EVALUATION FUNCTIONS \n",
    "# Function to train one epoch\n",
    "def train_epoch(\n",
    "        model: nn.Module, \n",
    "        data: DataLoader, \n",
    "        class_names: list, \n",
    "        epoch: int, \n",
    "        opt: optim.Optimizer, \n",
    "        device=\"cuda\"\n",
    "    ):\n",
    "\n",
    "    model.train()\n",
    "\n",
    "    losses = []\n",
    "    gts = []\n",
    "    preds = []\n",
    "\n",
    "    # Zero out the gradients\n",
    "    opt.zero_grad()\n",
    "    \n",
    "    for (i, (batch)) in enumerate(tqdm(data, desc=f\"Training epoch {epoch}\", leave=True)):\n",
    "        # Get the input and target data and move it to the device\n",
    "        xs = batch[\"input_ids\"].to(device)\n",
    "        ms = batch[\"attention_mask\"].to(device)\n",
    "        ys = batch[\"labels\"].to(device)\n",
    "\n",
    "        # Zero out the gradients\n",
    "        opt.zero_grad()\n",
    "\n",
    "        # Forward pass\n",
    "        logits = model(xs, ms)['logits']\n",
    "\n",
    "        # Get the predicted classes\n",
    "        pred = torch.argmax(logits, 1)\n",
    "\n",
    "        # Compute the cross entropy loss\n",
    "        loss = F.cross_entropy(logits, ys)\n",
    "\n",
    "        # Backward pass\n",
    "        loss.backward()\n",
    "\n",
    "        # Update the model parameters\n",
    "        opt.step()\n",
    "\n",
    "        # Append the loss\n",
    "        losses.append(loss.item())\n",
    "        preds.extend(pred.detach().cpu().numpy())\n",
    "        gts.extend(ys.detach().cpu().numpy())\n",
    "\n",
    "    # Compute the accuracy and classification report\n",
    "    accuracy = accuracy_score(gts, preds)\n",
    "    class_report = classification_report(gts, preds, zero_division=0, digits=3, output_dict=True)\n",
    "    class_report_db = classification_report(gts, preds, zero_division=0, digits=3).splitlines()\n",
    "\n",
    "    report_table = []\n",
    "    for line in class_report_db[2:(len(class_names)+2)]:\n",
    "       report_table.append(line.split())\n",
    "\n",
    "    # Log the results\n",
    "    loss = np.mean(losses)\n",
    "    wandb.log({\n",
    "        \"train/epoch\": epoch, \n",
    "        \"train/loss\": loss, \n",
    "        \"train/accuracy\": accuracy, \n",
    "        \"train_class_rep/classification_report\": class_report,\n",
    "        \"train/confusion_matrix\": wandb.plot.confusion_matrix(y_true=gts, preds=preds, class_names=class_names),\n",
    "        \"train/classification_report\": wandb.Table(data=report_table, columns=[\"Class\", \"Precision\", \"Recall\", \"F1-score\", \"Support\"])\n",
    "        },\n",
    "        step=epoch)\n",
    "\n",
    "    # Return the average loss, accuracy and classification report\n",
    "    return loss, accuracy, class_report\n",
    "\n",
    "# Function to evaluate one epoch\n",
    "def evaluate_epoch(\n",
    "        model: nn.Module, \n",
    "        data: DataLoader, \n",
    "        class_names: list, \n",
    "        epoch: int, \n",
    "        device=\"cuda\"\n",
    "    ):\n",
    "\n",
    "    model.eval()\n",
    "\n",
    "    losses = []\n",
    "    preds = []\n",
    "    gts = []\n",
    "    # Disable gradient computation for evaluation\n",
    "    with torch.no_grad():\n",
    "        for (_, (batch)) in enumerate(tqdm(data, desc=f\"Evaluating\", leave=True)):\n",
    "            # Get the input and target data and move it to the device\n",
    "            xs = batch[\"input_ids\"].to(device)\n",
    "            ms = batch[\"attention_mask\"].to(device)\n",
    "            ys = batch[\"labels\"].to(device)\n",
    "\n",
    "            # Forward pass\n",
    "            logits = model(xs, ms)['logits']\n",
    "\n",
    "            # Compute the cross entropy loss\n",
    "            loss = F.cross_entropy(logits, ys)\n",
    "\n",
    "            # Get the predicted classes\n",
    "            pred = torch.argmax(logits, 1)\n",
    "\n",
    "            # Append the loss, predictions and ground truths\n",
    "            losses.append(loss.item())\n",
    "            preds.extend(pred.detach().cpu().numpy())\n",
    "            gts.extend(ys.detach().cpu().numpy())\n",
    "\n",
    "    # Compute the accuracy and classification report\n",
    "    accuracy = accuracy_score(gts, preds)\n",
    "    class_report = classification_report(gts, preds, zero_division=0, digits=3, output_dict=True)\n",
    "\n",
    "    class_report_db = classification_report(gts, preds, zero_division=0, digits=3).splitlines()\n",
    "    report_table = []\n",
    "    for line in class_report_db[2:(len(class_names)+2)]:\n",
    "        report_table.append(line.split())\n",
    "\n",
    "    # Log the results\n",
    "    loss = np.mean(losses)\n",
    "    wandb.log({\n",
    "        \"val/epoch\": epoch, \n",
    "        \"val/loss\": loss, \n",
    "        \"val/accuracy\": accuracy,\n",
    "        \"val_class_rep/classification_report\": class_report,\n",
    "        \"val/confusion_matrix\": wandb.plot.confusion_matrix(y_true=gts, preds=preds, class_names=class_names),\n",
    "        \"val/classification_report\": wandb.Table(data=report_table, columns=[\"Class\", \"Precision\", \"Recall\", \"F1-score\", \"Support\"])\n",
    "        }, \n",
    "        step=epoch)\n",
    "    \n",
    "    return loss, accuracy, class_report\n",
    "\n",
    "# Function to train and evaluate the model\n",
    "def train_evaluate_model(\n",
    "        model: nn.Module, \n",
    "        model_name: str,\n",
    "        dataset_name: str,\n",
    "        class_names: list,\n",
    "        dl_train: DataLoader, \n",
    "        dl_test: DataLoader, \n",
    "        batch_size: int, \n",
    "        lr: int, \n",
    "        epochs: int, \n",
    "        opt: optim.Optimizer, \n",
    "        device=\"cuda\",\n",
    "    ):\n",
    "\n",
    "    time = datetime.now().strftime(\"%Y-%m-%d_%H-%M-%S\")\n",
    "    test_name = model_name+\"-\"+time+\"_\"+dataset_name+\"_epochs-\"+str(epochs)+\"_bs-\"+str(batch_size)+\"_lr-\"+str(lr)\n",
    "\n",
    "    wandb_init(model_name, test_name, model, dataset_name, epochs, batch_size, lr, device)\n",
    "\n",
    "    # Train and evaluate the model\n",
    "    train_results = {\"loss\": [], \"acc\": [], \"class_rep\": []}\n",
    "    val_results = {\"loss\": [], \"acc\": [], \"class_rep\": []}\n",
    "    max_val_acc = 0\n",
    "    state_dict = None\n",
    "\n",
    "    for epoch in range(epochs):\n",
    "        # Train the model \n",
    "        train_loss, train_acc, train_class_rep = train_epoch(model, dl_train, class_names, epoch, opt, device=device)\n",
    "\n",
    "        # Evaluate the model\n",
    "        val_loss, val_acc, val_class_rep = evaluate_epoch(model, dl_test, class_names, epoch, device=device)\n",
    "\n",
    "        print(f\"Epoch {epoch}: Train Loss: {train_loss:.4f}, Train Acc: {train_acc:.4f}, Val Loss: {val_loss:.4f}, Val Acc: {val_acc:.4f}\")\n",
    "\n",
    "        # Save the best model\n",
    "        if val_acc > max_val_acc:\n",
    "            max_val_acc = val_acc\n",
    "            state_dict = model.state_dict()\n",
    "        \n",
    "        # Append the results\n",
    "        train_results[\"loss\"].append(train_loss)\n",
    "        train_results[\"acc\"].append(train_acc)\n",
    "        train_results[\"class_rep\"].append(train_class_rep)\n",
    "        val_results[\"loss\"].append(val_loss)\n",
    "        val_results[\"acc\"].append(val_acc)\n",
    "        val_results[\"class_rep\"].append(val_class_rep)\n",
    "\n",
    "    wandb.unwatch(model)\n",
    "    wandb.finish()\n",
    "\n",
    "    plot_validation_curves(train_results[\"loss\"], val_results[\"loss\"], train_results[\"acc\"], val_results[\"acc\"])\n",
    "\n",
    "    model_states_path = \"model_states/\"+test_name+\".pth\"\n",
    "\n",
    "    # Save the best model\n",
    "    if state_dict is not None:\n",
    "        torch.save(state_dict, model_states_path)\n",
    "        print(f\"Model saved to {model_states_path}\")\n",
    "\n",
    "# Function to initialize wandb\n",
    "def wandb_init(\n",
    "        model_name, \n",
    "        test_name, \n",
    "        model, \n",
    "        dataset, \n",
    "        epochs, \n",
    "        bs, \n",
    "        lr, \n",
    "        device, \n",
    "        project=\"DLA Assigment 2\"\n",
    "    ):\n",
    "    # Initialize wandb\n",
    "    wandb.init(\n",
    "        project=project,\n",
    "        name=test_name,\n",
    "        # Track hyperparameters and run metadata\n",
    "        config={\n",
    "            \"architecture\": model_name,\n",
    "            \"dataset\": dataset,\n",
    "            \"epochs\": epochs,\n",
    "            \"batch_size\": bs,\n",
    "            \"lr\": lr,\n",
    "            \"optimizer\": \"AdamW\",\n",
    "            \"device\": device.type\n",
    "        }\n",
    "    )\n",
    "    wandb.watch(model, nn.CrossEntropyLoss(), log=\"all\")\n",
    "\n",
    "# Simple function to plot the loss curve and accuracy.\n",
    "def plot_validation_curves(train_loss, val_loss, train_acc, val_acc):\n",
    "    plt.figure(figsize=(16, 8))\n",
    "\n",
    "    plt.subplot(1, 2, 1)\n",
    "    plt.plot(train_loss, label='train_loss')\n",
    "    plt.plot(val_loss, label='val_loss')\n",
    "    plt.title('Average Loss per Epoch')\n",
    "    plt.xlabel('Epoch')\n",
    "    plt.ylabel('Loss')\n",
    "\n",
    "    plt.subplot(1, 2, 2)\n",
    "    plt.plot(train_acc, label='train_acc')\n",
    "    plt.plot(val_acc, label='val_acc')\n",
    "    plt.title(f'Best Validation Accuracy = {np.max(val_acc)} @ epoch {np.argmax(val_acc)}')\n",
    "    plt.xlabel('Epoch')\n",
    "    plt.ylabel('Accuracy')\n",
    "    plt.show()"
   ]
  },
  {
   "cell_type": "code",
   "execution_count": 2,
   "id": "7f749fb8",
   "metadata": {},
   "outputs": [],
   "source": [
    "# Dataset class and collator for Multiple Choice\n",
    "class ARC_Dataset(torch.utils.data.Dataset):\n",
    "    def __init__(self, data, tokenizer, max_length):\n",
    "        self.tokenizer = tokenizer\n",
    "        self.max_length = max_length\n",
    "        data = data.remove_columns([\"id\"])\n",
    "        self.data = data.map(self._preprocess_function, batched=False, remove_columns=[\"question\", \"choices\", \"answerKey\"])\n",
    "        # Remove row where the answers are not 4 and print the number of rows removed\n",
    "        self.data = self.data.filter(lambda x: len(x[\"input_ids\"]) == 4)\n",
    "        print(f\"Removed {len(data) - len(self.data)} rows\")\n",
    "\n",
    "    def _preprocess_function(self, data):\n",
    "        question = data[\"question\"]\n",
    "        candidates = data[\"choices\"][\"text\"]\n",
    "        labels_answers = data[\"choices\"][\"label\"]\n",
    "\n",
    "        # Convert the label to a number where is the index of the correct answer\n",
    "        data[\"label\"] = labels_answers.index(data[\"answerKey\"])\n",
    "\n",
    "        n_answers = len(candidates)\n",
    "        first_sentence = [question for i in range(n_answers)]\n",
    "        second_sentence = [data[\"choices\"][\"text\"][i] for i in range(n_answers)]\n",
    "        tokenized_examples = tokenizer(first_sentence, second_sentence, truncation=True)\n",
    "        return {\"input_ids\": tokenized_examples[\"input_ids\"], \"attention_mask\": tokenized_examples[\"attention_mask\"], \"label\": data[\"label\"]}\n",
    "\n",
    "    def __len__(self):\n",
    "        return len(self.data)\n",
    "    \n",
    "    def __getitem__(self, idx):\n",
    "        return self.data[idx]\n",
    "    \n",
    "@dataclass\n",
    "class DataCollatorForMultipleChoice:\n",
    "    \"\"\"\n",
    "    Data collator that will dynamically pad the inputs for multiple choice received.\n",
    "    \"\"\"\n",
    "\n",
    "    tokenizer: PreTrainedTokenizerBase\n",
    "    padding: Union[bool, str, PaddingStrategy] = True\n",
    "    max_length: Optional[int] = None\n",
    "    pad_to_multiple_of: Optional[int] = None\n",
    "\n",
    "    def __call__(self, features):\n",
    "        label_name = \"label\" if \"label\" in features[0].keys() else \"labels\"\n",
    "        labels = [feature.pop(label_name) for feature in features]\n",
    "        batch_size = len(features)\n",
    "        num_choices = len(features[0][\"input_ids\"])\n",
    "        flattened_features = [\n",
    "            [{k: v[i] for k, v in feature.items()} for i in range(num_choices)] for feature in features\n",
    "        ]\n",
    "        flattened_features = sum(flattened_features, [])\n",
    "\n",
    "        batch = self.tokenizer.pad(\n",
    "            flattened_features,\n",
    "            padding=self.padding,\n",
    "            max_length=self.max_length,\n",
    "            pad_to_multiple_of=self.pad_to_multiple_of,\n",
    "            return_tensors=\"pt\",\n",
    "        )\n",
    "\n",
    "        batch = {k: v.view(batch_size, num_choices, -1) for k, v in batch.items()}\n",
    "        batch[\"labels\"] = torch.tensor(labels, dtype=torch.int64)\n",
    "        return batch"
   ]
  },
  {
   "cell_type": "code",
   "execution_count": 5,
   "id": "4a9b2e51",
   "metadata": {},
   "outputs": [
    {
     "name": "stderr",
     "output_type": "stream",
     "text": [
      "c:\\Users\\loreb\\miniconda3\\envs\\DLA\\Lib\\site-packages\\huggingface_hub-0.23.0-py3.8.egg\\huggingface_hub\\file_download.py:1132: FutureWarning: `resume_download` is deprecated and will be removed in version 1.0.0. Downloads always resume when possible. If you want to force a new download, use `force_download=True`.\n"
     ]
    },
    {
     "name": "stdout",
     "output_type": "stream",
     "text": [
      "Removed 10 rows\n",
      "Removed 11 rows\n"
     ]
    },
    {
     "name": "stderr",
     "output_type": "stream",
     "text": [
      "Some weights of BertForMultipleChoice were not initialized from the model checkpoint at bert-base-uncased and are newly initialized: ['classifier.bias', 'classifier.weight']\n",
      "You should probably TRAIN this model on a down-stream task to be able to use it for predictions and inference.\n",
      "Failed to detect the name of this notebook, you can set it manually with the WANDB_NOTEBOOK_NAME environment variable to enable code saving.\n",
      "wandb: Currently logged in as: lorebaia. Use `wandb login --relogin` to force relogin\n"
     ]
    },
    {
     "data": {
      "text/html": [
       "wandb version 0.17.4 is available!  To upgrade, please run:\n",
       " $ pip install wandb --upgrade"
      ],
      "text/plain": [
       "<IPython.core.display.HTML object>"
      ]
     },
     "metadata": {},
     "output_type": "display_data"
    },
    {
     "data": {
      "text/html": [
       "Tracking run with wandb version 0.16.5"
      ],
      "text/plain": [
       "<IPython.core.display.HTML object>"
      ]
     },
     "metadata": {},
     "output_type": "display_data"
    },
    {
     "data": {
      "text/html": [
       "Run data is saved locally in <code>c:\\Users\\loreb\\Documents\\Projects\\DLA\\Lab2\\wandb\\run-20240710_120321-i5z6g6wl</code>"
      ],
      "text/plain": [
       "<IPython.core.display.HTML object>"
      ]
     },
     "metadata": {},
     "output_type": "display_data"
    },
    {
     "data": {
      "text/html": [
       "Syncing run <strong><a href='https://wandb.ai/lorebaia/DLA%20Assigment%202/runs/i5z6g6wl/workspace' target=\"_blank\">DistilBERT-MultipleChoice-2024-07-10_12-03-18_ARC-Easy_epochs-3_bs-8_lr-2e-05</a></strong> to <a href='https://wandb.ai/lorebaia/DLA%20Assigment%202' target=\"_blank\">Weights & Biases</a> (<a href='https://wandb.me/run' target=\"_blank\">docs</a>)<br/>"
      ],
      "text/plain": [
       "<IPython.core.display.HTML object>"
      ]
     },
     "metadata": {},
     "output_type": "display_data"
    },
    {
     "data": {
      "text/html": [
       " View project at <a href='https://wandb.ai/lorebaia/DLA%20Assigment%202' target=\"_blank\">https://wandb.ai/lorebaia/DLA%20Assigment%202</a>"
      ],
      "text/plain": [
       "<IPython.core.display.HTML object>"
      ]
     },
     "metadata": {},
     "output_type": "display_data"
    },
    {
     "data": {
      "text/html": [
       " View run at <a href='https://wandb.ai/lorebaia/DLA%20Assigment%202/runs/i5z6g6wl/workspace' target=\"_blank\">https://wandb.ai/lorebaia/DLA%20Assigment%202/runs/i5z6g6wl/workspace</a>"
      ],
      "text/plain": [
       "<IPython.core.display.HTML object>"
      ]
     },
     "metadata": {},
     "output_type": "display_data"
    },
    {
     "name": "stderr",
     "output_type": "stream",
     "text": [
      "Training epoch 0: 100%|██████████| 281/281 [06:42<00:00,  1.43s/it]\n",
      "Evaluating: 100%|██████████| 296/296 [02:01<00:00,  2.43it/s]\n"
     ]
    },
    {
     "name": "stdout",
     "output_type": "stream",
     "text": [
      "Epoch 0: Train Loss: 1.3852, Train Acc: 0.2606, Val Loss: 1.3616, Val Acc: 0.4715\n"
     ]
    },
    {
     "name": "stderr",
     "output_type": "stream",
     "text": [
      "Training epoch 1: 100%|██████████| 281/281 [06:51<00:00,  1.46s/it]\n",
      "Evaluating: 100%|██████████| 296/296 [02:01<00:00,  2.43it/s]\n"
     ]
    },
    {
     "name": "stdout",
     "output_type": "stream",
     "text": [
      "Epoch 1: Train Loss: 1.2426, Train Acc: 0.4485, Val Loss: 1.1634, Val Acc: 0.5070\n"
     ]
    },
    {
     "name": "stderr",
     "output_type": "stream",
     "text": [
      "Training epoch 2: 100%|██████████| 281/281 [06:44<00:00,  1.44s/it]\n",
      "Evaluating: 100%|██████████| 296/296 [01:44<00:00,  2.83it/s]\n"
     ]
    },
    {
     "name": "stdout",
     "output_type": "stream",
     "text": [
      "Epoch 2: Train Loss: 0.7937, Train Acc: 0.6867, Val Loss: 1.1943, Val Acc: 0.5264\n"
     ]
    },
    {
     "data": {
      "application/vnd.jupyter.widget-view+json": {
       "model_id": "40d7823b7d14445fac57ef5c13523067",
       "version_major": 2,
       "version_minor": 0
      },
      "text/plain": [
       "VBox(children=(Label(value='0.014 MB of 0.014 MB uploaded\\r'), FloatProgress(value=1.0, max=1.0)))"
      ]
     },
     "metadata": {},
     "output_type": "display_data"
    },
    {
     "data": {
      "text/html": [
       "<style>\n",
       "    table.wandb td:nth-child(1) { padding: 0 10px; text-align: left ; width: auto;} td:nth-child(2) {text-align: left ; width: 100%}\n",
       "    .wandb-row { display: flex; flex-direction: row; flex-wrap: wrap; justify-content: flex-start; width: 100% }\n",
       "    .wandb-col { display: flex; flex-direction: column; flex-basis: 100%; flex: 1; padding: 10px; }\n",
       "    </style>\n",
       "<div class=\"wandb-row\"><div class=\"wandb-col\"><h3>Run history:</h3><br/><table class=\"wandb\"><tr><td>train/accuracy</td><td>▁▄█</td></tr><tr><td>train/epoch</td><td>▁▅█</td></tr><tr><td>train/loss</td><td>█▆▁</td></tr><tr><td>val/accuracy</td><td>▁▆█</td></tr><tr><td>val/epoch</td><td>▁▅█</td></tr><tr><td>val/loss</td><td>█▁▂</td></tr></table><br/></div><div class=\"wandb-col\"><h3>Run summary:</h3><br/><table class=\"wandb\"><tr><td>train/accuracy</td><td>0.68675</td></tr><tr><td>train/epoch</td><td>2</td></tr><tr><td>train/loss</td><td>0.79372</td></tr><tr><td>val/accuracy</td><td>0.52643</td></tr><tr><td>val/epoch</td><td>2</td></tr><tr><td>val/loss</td><td>1.19431</td></tr></table><br/></div></div>"
      ],
      "text/plain": [
       "<IPython.core.display.HTML object>"
      ]
     },
     "metadata": {},
     "output_type": "display_data"
    },
    {
     "data": {
      "text/html": [
       " View run <strong style=\"color:#cdcd00\">DistilBERT-MultipleChoice-2024-07-10_12-03-18_ARC-Easy_epochs-3_bs-8_lr-2e-05</strong> at: <a href='https://wandb.ai/lorebaia/DLA%20Assigment%202/runs/i5z6g6wl/workspace' target=\"_blank\">https://wandb.ai/lorebaia/DLA%20Assigment%202/runs/i5z6g6wl/workspace</a><br/>Synced 6 W&B file(s), 12 media file(s), 12 artifact file(s) and 0 other file(s)"
      ],
      "text/plain": [
       "<IPython.core.display.HTML object>"
      ]
     },
     "metadata": {},
     "output_type": "display_data"
    },
    {
     "data": {
      "text/html": [
       "Find logs at: <code>.\\wandb\\run-20240710_120321-i5z6g6wl\\logs</code>"
      ],
      "text/plain": [
       "<IPython.core.display.HTML object>"
      ]
     },
     "metadata": {},
     "output_type": "display_data"
    },
    {
     "data": {
      "image/png": "[encoded data removed]",
      "text/plain": [
       "<Figure size 1600x800 with 2 Axes>"
      ]
     },
     "metadata": {},
     "output_type": "display_data"
    },
    {
     "name": "stdout",
     "output_type": "stream",
     "text": [
      "Model saved to model_states/DistilBERT-MultipleChoice-2024-07-10_12-03-18_ARC-Easy_epochs-3_bs-8_lr-2e-05.pth\n"
     ]
    }
   ],
   "source": [
    "# Load the dataset\n",
    "dataset = load_from_disk(\"../data/arc_easy\")\n",
    "\n",
    "# device\n",
    "device = torch.device('cuda' if torch.cuda.is_available() else 'cpu')\n",
    "\n",
    "# Dataset\n",
    "max_length = 512\n",
    "\n",
    "tokenizer = AutoTokenizer.from_pretrained('distilbert-base-uncased', use_fast=True)\n",
    "tokenizer.deprecation_warnings[\"Asking-to-pad-a-fast-tokenizer\"] = True\n",
    "\n",
    "train_ds = ARC_Dataset(dataset['train'], tokenizer, max_length=max_length)\n",
    "test_ds = ARC_Dataset(dataset['test'], tokenizer, max_length=max_length)\n",
    "\n",
    "# DataLoader\n",
    "batch_size = 8\n",
    "\n",
    "data_collator = DataCollatorForMultipleChoice(tokenizer=tokenizer)\n",
    "\n",
    "dl_train = DataLoader(train_ds, batch_size=batch_size, shuffle=True, collate_fn=data_collator)\n",
    "dl_test = DataLoader(test_ds, batch_size=batch_size, shuffle=False, collate_fn=data_collator)\n",
    "\n",
    "model = AutoModelForMultipleChoice.from_pretrained(\"bert-base-uncased\").to(device)\n",
    "\n",
    "# Train the model\n",
    "epochs = 3\n",
    "lr = 2e-5\n",
    "\n",
    "opt = torch.optim.AdamW(model.parameters(), lr=lr)\n",
    "\n",
    "# Train the model\n",
    "train_evaluate_model(\n",
    "    model=model, \n",
    "    model_name=\"DistilBERT-MultipleChoice\", \n",
    "    dataset_name=\"ARC-Easy\", \n",
    "    class_names=[\"A\", \"B\", \"C\", \"D\"],\n",
    "    dl_train=dl_train,\n",
    "    dl_test=dl_test,\n",
    "    batch_size=batch_size, \n",
    "    lr=lr,\n",
    "    epochs=epochs, \n",
    "    opt=opt,\n",
    "    device=device\n",
    ")"
   ]
  },
  {
   "cell_type": "markdown",
   "id": "940292b1",
   "metadata": {},
   "source": [
    "### SWAG DATASET"
   ]
  },
  {
   "cell_type": "code",
   "execution_count": 6,
   "id": "5e148819",
   "metadata": {},
   "outputs": [],
   "source": [
    "# Prepare the dataset for the multiple choice task and the data collator\n",
    "ending_names=[\"ending0\",\"ending1\",\"ending2\",\"ending3\"]\n",
    "\n",
    "def preprocess_function(examples):\n",
    "    first_sentences=[[context]*4 for context in examples[\"sent1\"]]\n",
    "    question_headers=examples[\"sent2\"]\n",
    "    second_sentences=[\n",
    "        [f\"{header} {examples[end][i]}\" for end in ending_names] for i, header in enumerate(question_headers)\n",
    "    ]\n",
    "    \n",
    "    first_sentences=sum(first_sentences, [])\n",
    "    second_sentences=sum(second_sentences, [])\n",
    "    \n",
    "    tokenized_examples=tokenizer(first_sentences, second_sentences, truncation=True)\n",
    "    return {k:[v[i:i+4] for i in range(0, len(v),4)] for k,v in tokenized_examples.items()}\n",
    "\n",
    "@dataclass\n",
    "class DataCollatorForMultipleChoice:\n",
    "    tokenizer: PreTrainedTokenizerBase\n",
    "    padding: Union[bool, str, PaddingStrategy] = True\n",
    "    max_length: Optional[int]=None\n",
    "    pad_to_multiple_of: Optional[int]=None\n",
    "    \n",
    "    def __call__(self, features):\n",
    "        label_name =\"label\" if \"label\" in features[0].keys() else \"labels\"\n",
    "        labels=[feature.pop(label_name) for feature in features]\n",
    "        batch_size=len(features)\n",
    "        num_choices=len(features[0][\"input_ids\"])\n",
    "        flattened_features=[\n",
    "            [{k:v[i] for k,v in feature.items()} for i in range(num_choices)] for feature in features\n",
    "        ]\n",
    "        flattened_features=sum(flattened_features, [])\n",
    "        \n",
    "        batch=self.tokenizer.pad(\n",
    "            flattened_features,\n",
    "            padding=self.padding,\n",
    "            max_length=self.max_length,\n",
    "            pad_to_multiple_of=self.pad_to_multiple_of,\n",
    "            return_tensors=\"pt\",\n",
    "        )\n",
    "        \n",
    "        batch={k:v.view(batch_size, num_choices, -1) for k,v in batch.items()}\n",
    "        batch[\"labels\"]=torch.tensor(labels, dtype=torch.int64)\n",
    "        return batch"
   ]
  },
  {
   "cell_type": "code",
   "execution_count": 7,
   "id": "17476893",
   "metadata": {},
   "outputs": [
    {
     "name": "stderr",
     "output_type": "stream",
     "text": [
      "c:\\Users\\loreb\\miniconda3\\envs\\DLA\\Lib\\site-packages\\huggingface_hub-0.23.0-py3.8.egg\\huggingface_hub\\file_download.py:1132: FutureWarning: `resume_download` is deprecated and will be removed in version 1.0.0. Downloads always resume when possible. If you want to force a new download, use `force_download=True`.\n"
     ]
    },
    {
     "data": {
      "application/vnd.jupyter.widget-view+json": {
       "model_id": "b71a9c3e88044d90a63c7fd2d6555b6e",
       "version_major": 2,
       "version_minor": 0
      },
      "text/plain": [
       "Map:   0%|          | 0/800 [00:00<?, ? examples/s]"
      ]
     },
     "metadata": {},
     "output_type": "display_data"
    },
    {
     "data": {
      "application/vnd.jupyter.widget-view+json": {
       "model_id": "5ee3fc2521b54fdb8b928ac027ed1c69",
       "version_major": 2,
       "version_minor": 0
      },
      "text/plain": [
       "Map:   0%|          | 0/200 [00:00<?, ? examples/s]"
      ]
     },
     "metadata": {},
     "output_type": "display_data"
    },
    {
     "name": "stderr",
     "output_type": "stream",
     "text": [
      "Some weights of BertForMultipleChoice were not initialized from the model checkpoint at bert-base-uncased and are newly initialized: ['classifier.bias', 'classifier.weight']\n",
      "You should probably TRAIN this model on a down-stream task to be able to use it for predictions and inference.\n"
     ]
    },
    {
     "data": {
      "text/html": [
       "wandb version 0.17.4 is available!  To upgrade, please run:\n",
       " $ pip install wandb --upgrade"
      ],
      "text/plain": [
       "<IPython.core.display.HTML object>"
      ]
     },
     "metadata": {},
     "output_type": "display_data"
    },
    {
     "data": {
      "text/html": [
       "Tracking run with wandb version 0.16.5"
      ],
      "text/plain": [
       "<IPython.core.display.HTML object>"
      ]
     },
     "metadata": {},
     "output_type": "display_data"
    },
    {
     "data": {
      "text/html": [
       "Run data is saved locally in <code>c:\\Users\\loreb\\Documents\\Projects\\DLA\\Lab2\\wandb\\run-20240710_123739-nkllav90</code>"
      ],
      "text/plain": [
       "<IPython.core.display.HTML object>"
      ]
     },
     "metadata": {},
     "output_type": "display_data"
    },
    {
     "data": {
      "text/html": [
       "Syncing run <strong><a href='https://wandb.ai/lorebaia/huggingface/runs/nkllav90/workspace' target=\"_blank\">desert-music-2</a></strong> to <a href='https://wandb.ai/lorebaia/huggingface' target=\"_blank\">Weights & Biases</a> (<a href='https://wandb.me/run' target=\"_blank\">docs</a>)<br/>"
      ],
      "text/plain": [
       "<IPython.core.display.HTML object>"
      ]
     },
     "metadata": {},
     "output_type": "display_data"
    },
    {
     "data": {
      "text/html": [
       " View project at <a href='https://wandb.ai/lorebaia/huggingface' target=\"_blank\">https://wandb.ai/lorebaia/huggingface</a>"
      ],
      "text/plain": [
       "<IPython.core.display.HTML object>"
      ]
     },
     "metadata": {},
     "output_type": "display_data"
    },
    {
     "data": {
      "text/html": [
       " View run at <a href='https://wandb.ai/lorebaia/huggingface/runs/nkllav90/workspace' target=\"_blank\">https://wandb.ai/lorebaia/huggingface/runs/nkllav90/workspace</a>"
      ],
      "text/plain": [
       "<IPython.core.display.HTML object>"
      ]
     },
     "metadata": {},
     "output_type": "display_data"
    },
    {
     "data": {
      "application/vnd.jupyter.widget-view+json": {
       "model_id": "f902455205444f91b0e69a191f9ee0cf",
       "version_major": 2,
       "version_minor": 0
      },
      "text/plain": [
       "  0%|          | 0/300 [00:00<?, ?it/s]"
      ]
     },
     "metadata": {},
     "output_type": "display_data"
    },
    {
     "data": {
      "application/vnd.jupyter.widget-view+json": {
       "model_id": "0e7e82b07e04475a88d228f5d8bf8edd",
       "version_major": 2,
       "version_minor": 0
      },
      "text/plain": [
       "  0%|          | 0/25 [00:00<?, ?it/s]"
      ]
     },
     "metadata": {},
     "output_type": "display_data"
    },
    {
     "name": "stdout",
     "output_type": "stream",
     "text": [
      "{'eval_loss': 0.9996693134307861, 'eval_accuracy': 0.6200000047683716, 'eval_runtime': 39.8151, 'eval_samples_per_second': 5.023, 'eval_steps_per_second': 0.628, 'epoch': 1.0}\n"
     ]
    },
    {
     "data": {
      "application/vnd.jupyter.widget-view+json": {
       "model_id": "2da6936e98b74ecc9cbf8ca6da7a1b91",
       "version_major": 2,
       "version_minor": 0
      },
      "text/plain": [
       "  0%|          | 0/25 [00:00<?, ?it/s]"
      ]
     },
     "metadata": {},
     "output_type": "display_data"
    },
    {
     "name": "stdout",
     "output_type": "stream",
     "text": [
      "{'eval_loss': 0.9269726276397705, 'eval_accuracy': 0.6600000262260437, 'eval_runtime': 42.0799, 'eval_samples_per_second': 4.753, 'eval_steps_per_second': 0.594, 'epoch': 2.0}\n"
     ]
    },
    {
     "data": {
      "application/vnd.jupyter.widget-view+json": {
       "model_id": "29d313ce2b764bcc9ddbcc03a04ab8d5",
       "version_major": 2,
       "version_minor": 0
      },
      "text/plain": [
       "  0%|          | 0/25 [00:00<?, ?it/s]"
      ]
     },
     "metadata": {},
     "output_type": "display_data"
    },
    {
     "name": "stdout",
     "output_type": "stream",
     "text": [
      "{'eval_loss': 1.0263009071350098, 'eval_accuracy': 0.7049999833106995, 'eval_runtime': 42.4264, 'eval_samples_per_second': 4.714, 'eval_steps_per_second': 0.589, 'epoch': 3.0}\n",
      "{'train_runtime': 1767.5741, 'train_samples_per_second': 1.358, 'train_steps_per_second': 0.17, 'train_loss': 0.6179675801595053, 'epoch': 3.0}\n"
     ]
    },
    {
     "data": {
      "text/plain": [
       "TrainOutput(global_step=300, training_loss=0.6179675801595053, metrics={'train_runtime': 1767.5741, 'train_samples_per_second': 1.358, 'train_steps_per_second': 0.17, 'total_flos': 242536882058688.0, 'train_loss': 0.6179675801595053, 'epoch': 3.0})"
      ]
     },
     "execution_count": 7,
     "metadata": {},
     "output_type": "execute_result"
    }
   ],
   "source": [
    "# device\n",
    "device = torch.device('cuda' if torch.cuda.is_available() else 'cpu')\n",
    "\n",
    "# Dataset\n",
    "max_length = 512\n",
    "\n",
    "tokenizer = AutoTokenizer.from_pretrained('distilbert-base-uncased', use_fast=True)\n",
    "tokenizer.deprecation_warnings[\"Asking-to-pad-a-fast-tokenizer\"] = True\n",
    "\n",
    "# # Load a small subset of the dataset for computational reasons\n",
    "ds = load_dataset(\"swag\", \"regular\", split=\"train[:1000]\") \n",
    "ds = ds.train_test_split(test_size=0.2)\n",
    "ds = ds.map(preprocess_function, batched=True)\n",
    "\n",
    "# DataLoader\n",
    "batch_size = 8\n",
    "\n",
    "data_collator = DataCollatorForMultipleChoice(tokenizer=tokenizer)\n",
    "\n",
    "model = AutoModelForMultipleChoice.from_pretrained(\"bert-base-uncased\").to(device)\n",
    "\n",
    "def compute_metrics(eval_predictions):\n",
    "    predictions, label_ids = eval_predictions\n",
    "    preds = np.argmax(predictions, axis=1)\n",
    "    return {\"accuracy\": (preds == label_ids).astype(np.float32).mean().item()}\n",
    "\n",
    "args = TrainingArguments(\n",
    "    \"bert-finetuned-swag\",\n",
    "    evaluation_strategy = \"epoch\",\n",
    "    learning_rate=5e-5,\n",
    "    per_device_train_batch_size=batch_size,\n",
    "    per_device_eval_batch_size=batch_size,\n",
    "    num_train_epochs=3,\n",
    "    weight_decay=0.01,\n",
    ")\n",
    "\n",
    "trainer = Trainer(\n",
    "    model,\n",
    "    args,\n",
    "    train_dataset=ds[\"train\"],\n",
    "    eval_dataset=ds[\"test\"],\n",
    "    tokenizer=tokenizer,\n",
    "    data_collator=data_collator,\n",
    "    compute_metrics=compute_metrics\n",
    ")\n",
    "\n",
    "trainer.train()\n"
   ]
  },
  {
   "cell_type": "markdown",
   "id": "9d5ac8e2",
   "metadata": {},
   "source": [
    "# Exercise 3.3: Training a Retrieval Model (hardest)\n",
    "\n",
    "The Hugging Face dataset repository contains a large number of [\"text retrieval\" problems](https://huggingface.co/datasets?task_categories=task_categories:text-retrieval&p=1&sort=downloads). These tasks generally require that the model measure *similarity* between text in some metric space -- naively, just a cosine similarity between [CLS] tokens can get you pretty far. Find an interesting retrieval problem and train a model (starting from a pre-trained LLM of course) to solve it.\n",
    "\n",
    "**Tip**: Sometimes identifying the *retrieval* problems in these datasets can be half the challenge. [This dataset](https://huggingface.co/datasets/BeIR/scifact) might be a good starting point."
   ]
  },
  {
   "cell_type": "code",
   "execution_count": null,
   "id": "adc0969e",
   "metadata": {},
   "outputs": [],
   "source": [
    "# TRAINING AND EVALUATION FUNCTIONS \n",
    "# Function to train one epoch\n",
    "def train_epoch(\n",
    "        model: nn.Module, \n",
    "        data: DataLoader, \n",
    "        class_names: list, \n",
    "        epoch: int, \n",
    "        opt: optim.Optimizer, \n",
    "        device=\"cuda\"\n",
    "    ):\n",
    "\n",
    "    model.train()\n",
    "\n",
    "    losses = []\n",
    "    gts = []\n",
    "    preds = []\n",
    "\n",
    "    # Zero out the gradients\n",
    "    opt.zero_grad()\n",
    "    \n",
    "    for (i, (batch)) in enumerate(tqdm(data, desc=f\"Training epoch {epoch}\", leave=True)):\n",
    "        # Get the input and target data and move it to the device\n",
    "        xs = batch[\"input_ids\"].to(device)\n",
    "        ms = batch[\"attention_mask\"].to(device)\n",
    "        ys = batch[\"labels\"].to(device)\n",
    "\n",
    "        # Zero out the gradients\n",
    "        opt.zero_grad()\n",
    "\n",
    "        # Forward pass\n",
    "        logits = model(xs, ms)['logits']\n",
    "\n",
    "        # Get the predicted classes\n",
    "        pred = torch.argmax(logits, 1)\n",
    "        \n",
    "        # Compute the cross entropy loss\n",
    "        loss = F.cross_entropy(logits, ys)\n",
    "\n",
    "        # Backward pass\n",
    "        loss.backward()\n",
    "\n",
    "        # Update the model parameters\n",
    "        opt.step()\n",
    "\n",
    "        # Append the loss\n",
    "        losses.append(loss.item())\n",
    "        preds.extend(pred.detach().cpu().numpy())\n",
    "        gts.extend(ys.detach().cpu().numpy())\n",
    "\n",
    "    # Compute the accuracy and classification report\n",
    "    accuracy = accuracy_score(gts, preds)\n",
    "    class_report = classification_report(gts, preds, zero_division=0, digits=3, output_dict=True)\n",
    "    class_report_db = classification_report(gts, preds, zero_division=0, digits=3).splitlines()\n",
    "\n",
    "    report_table = []\n",
    "    for line in class_report_db[2:(len(class_names)+2)]:\n",
    "       report_table.append(line.split())\n",
    "\n",
    "    # Log the results\n",
    "    loss = np.mean(losses)\n",
    "    wandb.log({\n",
    "        \"train/epoch\": epoch, \n",
    "        \"train/loss\": loss, \n",
    "        \"train/accuracy\": accuracy, \n",
    "        \"train_class_rep/classification_report\": class_report,\n",
    "        \"train/confusion_matrix\": wandb.plot.confusion_matrix(y_true=gts, preds=preds, class_names=class_names),\n",
    "        \"train/classification_report\": wandb.Table(data=report_table, columns=[\"Class\", \"Precision\", \"Recall\", \"F1-score\", \"Support\"])\n",
    "        },\n",
    "        step=epoch)\n",
    "\n",
    "    # Return the average loss, accuracy and classification report\n",
    "    return loss, accuracy, class_report\n",
    "\n",
    "# Function to evaluate one epoch\n",
    "def evaluate_epoch(\n",
    "        model: nn.Module, \n",
    "        data: DataLoader, \n",
    "        class_names: list, \n",
    "        epoch: int, \n",
    "        device=\"cuda\"\n",
    "    ):\n",
    "\n",
    "    model.eval()\n",
    "\n",
    "    losses = []\n",
    "    preds = []\n",
    "    gts = []\n",
    "    # Disable gradient computation for evaluation\n",
    "    with torch.no_grad():\n",
    "        for (_, (batch)) in enumerate(tqdm(data, desc=f\"Evaluating\", leave=True)):\n",
    "            # Get the input and target data and move it to the device\n",
    "            xs = batch[\"input_ids\"].to(device)\n",
    "            ms = batch[\"attention_mask\"].to(device)\n",
    "            ys = batch[\"labels\"].to(device)\n",
    "\n",
    "            # Forward pass\n",
    "            logits = model(xs, ms)['logits']\n",
    "\n",
    "            # Compute the cross entropy loss\n",
    "            loss = F.cross_entropy(logits, ys)\n",
    "\n",
    "            # Get the predicted classes\n",
    "            pred = torch.argmax(logits, 1)\n",
    "\n",
    "            # Append the loss, predictions and ground truths\n",
    "            losses.append(loss.item())\n",
    "            preds.extend(pred.detach().cpu().numpy())\n",
    "            gts.extend(ys.detach().cpu().numpy())\n",
    "\n",
    "    # Compute the accuracy and classification report\n",
    "    accuracy = accuracy_score(gts, preds)\n",
    "    class_report = classification_report(gts, preds, zero_division=0, digits=3, output_dict=True)\n",
    "\n",
    "    class_report_db = classification_report(gts, preds, zero_division=0, digits=3).splitlines()\n",
    "    report_table = []\n",
    "    for line in class_report_db[2:(len(class_names)+2)]:\n",
    "        report_table.append(line.split())\n",
    "\n",
    "    # Log the results\n",
    "    loss = np.mean(losses)\n",
    "    wandb.log({\n",
    "        \"val/epoch\": epoch, \n",
    "        \"val/loss\": loss, \n",
    "        \"val/accuracy\": accuracy,\n",
    "        \"val_class_rep/classification_report\": class_report,\n",
    "        \"val/confusion_matrix\": wandb.plot.confusion_matrix(y_true=gts, preds=preds, class_names=class_names),\n",
    "        \"val/classification_report\": wandb.Table(data=report_table, columns=[\"Class\", \"Precision\", \"Recall\", \"F1-score\", \"Support\"])\n",
    "        }, \n",
    "        step=epoch)\n",
    "    \n",
    "    return loss, accuracy, class_report\n",
    "\n",
    "# Function to train and evaluate the model\n",
    "def train_evaluate_model(\n",
    "        model: nn.Module, \n",
    "        model_name: str,\n",
    "        dataset_name: str,\n",
    "        class_names: list,\n",
    "        dl_train: DataLoader, \n",
    "        dl_test: DataLoader, \n",
    "        batch_size: int, \n",
    "        lr: int, \n",
    "        epochs: int, \n",
    "        opt: optim.Optimizer, \n",
    "        device=\"cuda\",\n",
    "    ):\n",
    "\n",
    "    time = datetime.now().strftime(\"%Y-%m-%d_%H-%M-%S\")\n",
    "    test_name = model_name+\"-\"+time+\"_\"+dataset_name+\"_epochs-\"+str(epochs)+\"_bs-\"+str(batch_size)+\"_lr-\"+str(lr)\n",
    "\n",
    "    wandb_init(model_name, test_name, model, dataset_name, epochs, batch_size, lr, device)\n",
    "\n",
    "    # Train and evaluate the model\n",
    "    train_results = {\"loss\": [], \"acc\": [], \"class_rep\": []}\n",
    "    val_results = {\"loss\": [], \"acc\": [], \"class_rep\": []}\n",
    "    max_val_acc = 0\n",
    "    state_dict = None\n",
    "\n",
    "    for epoch in range(epochs):\n",
    "        # Train the model \n",
    "        train_loss, train_acc, train_class_rep = train_epoch(model, dl_train, class_names, epoch, opt, device=device)\n",
    "\n",
    "        # Evaluate the model\n",
    "        val_loss, val_acc, val_class_rep = evaluate_epoch(model, dl_test, class_names, epoch, device=device)\n",
    "\n",
    "        print(f\"Epoch {epoch}: Train Loss: {train_loss:.4f}, Train Acc: {train_acc:.4f}, Val Loss: {val_loss:.4f}, Val Acc: {val_acc:.4f}\")\n",
    "\n",
    "        # Save the best model\n",
    "        if val_acc > max_val_acc:\n",
    "            max_val_acc = val_acc\n",
    "            state_dict = model.state_dict()\n",
    "        \n",
    "        # Append the results\n",
    "        train_results[\"loss\"].append(train_loss)\n",
    "        train_results[\"acc\"].append(train_acc)\n",
    "        train_results[\"class_rep\"].append(train_class_rep)\n",
    "        val_results[\"loss\"].append(val_loss)\n",
    "        val_results[\"acc\"].append(val_acc)\n",
    "        val_results[\"class_rep\"].append(val_class_rep)\n",
    "\n",
    "    wandb.unwatch(model)\n",
    "    wandb.finish()\n",
    "\n",
    "    plot_validation_curves(train_results[\"loss\"], val_results[\"loss\"], train_results[\"acc\"], val_results[\"acc\"])\n",
    "\n",
    "    model_states_path = \"model_states/\"+test_name+\".pth\"\n",
    "\n",
    "    # Save the best model\n",
    "    if state_dict is not None:\n",
    "        torch.save(state_dict, model_states_path)\n",
    "        print(f\"Model saved to {model_states_path}\")\n",
    "\n",
    "# Function to initialize wandb\n",
    "def wandb_init(\n",
    "        model_name, \n",
    "        test_name, \n",
    "        model, \n",
    "        dataset, \n",
    "        epochs, \n",
    "        bs, \n",
    "        lr, \n",
    "        device, \n",
    "        project=\"DLA Assigment 2\"\n",
    "    ):\n",
    "    # Initialize wandb\n",
    "    wandb.init(\n",
    "        project=project,\n",
    "        name=test_name,\n",
    "        # Track hyperparameters and run metadata\n",
    "        config={\n",
    "            \"architecture\": model_name,\n",
    "            \"dataset\": dataset,\n",
    "            \"epochs\": epochs,\n",
    "            \"batch_size\": bs,\n",
    "            \"lr\": lr,\n",
    "            \"optimizer\": \"AdamW\",\n",
    "            \"device\": device.type\n",
    "        }\n",
    "    )\n",
    "    wandb.watch(model, nn.CrossEntropyLoss(), log=\"all\")\n",
    "\n",
    "# Simple function to plot the loss curve and accuracy.\n",
    "def plot_validation_curves(train_loss, val_loss, train_acc, val_acc):\n",
    "    plt.figure(figsize=(16, 8))\n",
    "\n",
    "    plt.subplot(1, 2, 1)\n",
    "    plt.plot(train_loss, label='train_loss')\n",
    "    plt.plot(val_loss, label='val_loss')\n",
    "    plt.title('Average Loss per Epoch')\n",
    "    plt.xlabel('Epoch')\n",
    "    plt.ylabel('Loss')\n",
    "\n",
    "    plt.subplot(1, 2, 2)\n",
    "    plt.plot(train_acc, label='train_acc')\n",
    "    plt.plot(val_acc, label='val_acc')\n",
    "    plt.title(f'Best Validation Accuracy = {np.max(val_acc)} @ epoch {np.argmax(val_acc)}')\n",
    "    plt.xlabel('Epoch')\n",
    "    plt.ylabel('Accuracy')\n",
    "    plt.show()"
   ]
  },
  {
   "cell_type": "code",
   "execution_count": null,
   "id": "84e7c8c5",
   "metadata": {},
   "outputs": [],
   "source": []
  }
 ],
 "metadata": {
  "kernelspec": {
   "display_name": "Python 3 (ipykernel)",
   "language": "python",
   "name": "python3"
  },
  "language_info": {
   "codemirror_mode": {
    "name": "ipython",
    "version": 3
   },
   "file_extension": ".py",
   "mimetype": "text/x-python",
   "name": "python",
   "nbconvert_exporter": "python",
   "pygments_lexer": "ipython3",
   "version": "3.11.9"
  }
 },
 "nbformat": 4,
 "nbformat_minor": 5
}
