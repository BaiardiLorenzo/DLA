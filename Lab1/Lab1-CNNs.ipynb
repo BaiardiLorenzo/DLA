{
 "cells": [
  {
   "cell_type": "markdown",
   "id": "d97f7c5d-46f3-4cbd-80ad-f1e50cd65096",
   "metadata": {},
   "source": [
    "# Deep Learning Applications: Laboratory #1\n",
    "\n",
    "In this first laboratory we will work relatively simple architectures to get a feel for working with Deep Models. This notebook is designed to work with PyTorch, but as I said in the introductory lecture: please feel free to use and experiment with whatever tools you like.\n",
    "\n"
   ]
  },
  {
   "cell_type": "markdown",
   "id": "17ed8906-bd19-4b4f-8b79-4feae355ffd6",
   "metadata": {},
   "source": [
    "## Exercise 1: Warming Up\n",
    "In this series of exercises I want you to try to duplicate (on a small scale) the results of the ResNet paper:\n",
    "\n",
    "> [Deep Residual Learning for Image Recognition](https://arxiv.org/abs/1512.03385), Kaiming He, Xiangyu Zhang, Shaoqing Ren, Jian Sun, CVPR 2016.\n",
    "\n",
    "We will do this in steps using a Multilayer Perceptron on MNIST.\n",
    "\n",
    "Recall that the main message of the ResNet paper is that **deeper** networks do not **guarantee** more reduction in training loss (or in validation accuracy). Below you will incrementally build a sequence of experiments to verify this for an MLP. A few guidelines:\n",
    "\n",
    "+ I have provided some **starter** code at the beginning. **NONE** of this code should survive in your solutions. Not only is it **very** badly written, it is also written in my functional style that also obfuscates what it's doing (in part to **discourage** your reuse!). It's just to get you *started*.\n",
    "+ These exercises ask you to compare **multiple** training runs, so it is **really** important that you factor this into your **pipeline**. Using [Tensorboard](https://pytorch.org/tutorials/recipes/recipes/tensorboard_with_pytorch.html) is a **very** good idea -- or, even better [Weights and Biases](https://wandb.ai/site).\n",
    "+ You may work and submit your solutions in **groups of at most two**. Share your ideas with everyone, but the solutions you submit *must be your own*.\n",
    "\n",
    "First some boilerplate to get you started, then on to the actual exercises!"
   ]
  },
  {
   "cell_type": "markdown",
   "id": "edb2b6d1-3df0-464c-9a5f-8c611257a971",
   "metadata": {},
   "source": [
    "### Preface: Some code to get you started\n",
    "\n",
    "What follows is some **very simple** code for training an MLP on MNIST. The point of this code is to get you up and running (and to verify that your Python environment has all needed dependencies).\n",
    "\n",
    "**Note**: As you read through my code and execute it, this would be a good time to think about *abstracting* **your** model definition, and training and evaluation pipelines in order to make it easier to compare performance of different models."
   ]
  },
  {
   "cell_type": "code",
   "execution_count": 2,
   "id": "ab3a8282-2322-4dca-b76e-2f3863bc75fb",
   "metadata": {
    "ExecuteTime": {
     "end_time": "2024-03-09T16:12:53.285950Z",
     "start_time": "2024-03-09T16:12:53.268508Z"
    },
    "tags": []
   },
   "outputs": [],
   "source": [
    "# Start with some standard imports.\n",
    "import numpy as np\n",
    "import matplotlib.pyplot as plt\n",
    "from functools import reduce\n",
    "import torch\n",
    "import torchvision\n",
    "from torchvision.datasets import MNIST\n",
    "from torch.utils.data import Subset\n",
    "import torch.nn as nn\n",
    "import torch.nn.functional as F\n",
    "import torchvision.transforms as transforms\n",
    "\n",
    "import wandb\n",
    "import random"
   ]
  },
  {
   "cell_type": "markdown",
   "id": "33cc12cc-8422-47bf-8d8e-0950ac05ae96",
   "metadata": {},
   "source": [
    "#### Data preparation\n",
    "\n",
    "Here is some basic dataset loading, validation splitting code to get you started working with MNIST."
   ]
  },
  {
   "cell_type": "code",
   "execution_count": 3,
   "id": "272a69db-0416-444a-9be4-5f055ff48bbb",
   "metadata": {
    "tags": []
   },
   "outputs": [],
   "source": [
    "# Standard MNIST transform.\n",
    "transform = transforms.Compose([\n",
    "    transforms.ToTensor(),\n",
    "    transforms.Normalize((0.1307,), (0.3081,))\n",
    "])\n",
    "\n",
    "# Load MNIST train and test.\n",
    "ds_train = MNIST(root='./data', train=True, download=True, transform=transform)\n",
    "ds_test = MNIST(root='./data', train=False, download=True, transform=transform)\n",
    "\n",
    "# Split train into train and validation.\n",
    "val_size = 5000\n",
    "I = np.random.permutation(len(ds_train))\n",
    "ds_val = Subset(ds_train, I[:val_size])\n",
    "ds_train = Subset(ds_train, I[val_size:])"
   ]
  },
  {
   "cell_type": "markdown",
   "id": "24e05e96-7707-4490-98b8-50cb5e330af1",
   "metadata": {},
   "source": [
    "#### Boilerplate training and evaluation code\n",
    "\n",
    "This is some **very** rough training, evaluation, and plotting code. Again, just to get you started. I will be *very* disappointed if any of this code makes it into your final submission."
   ]
  },
  {
   "cell_type": "code",
   "execution_count": 4,
   "id": "dbcce348-f603-4d57-b9a8-5b1c6eba28ae",
   "metadata": {
    "tags": []
   },
   "outputs": [],
   "source": [
    "from tqdm import tqdm\n",
    "from sklearn.metrics import accuracy_score, classification_report\n",
    "\n",
    "# Function to train a model for a single epoch over the data loader.\n",
    "def train_epoch(model, dl, opt, epoch='Unknown', device='cpu'):\n",
    "    model.train()\n",
    "    losses = []\n",
    "    for (xs, ys) in tqdm(dl, desc=f'Training epoch {epoch}', leave=True):\n",
    "        xs = xs.to(device)\n",
    "        ys = ys.to(device)\n",
    "        opt.zero_grad()\n",
    "        logits = model(xs)\n",
    "        loss = F.cross_entropy(logits, ys)\n",
    "        loss.backward()\n",
    "        opt.step()\n",
    "        losses.append(loss.item())\n",
    "    return np.mean(losses)\n",
    "\n",
    "# Function to evaluate model over all samples in the data loader.\n",
    "def evaluate_model(model, dl, device='cpu'):\n",
    "    model.eval()\n",
    "    predictions = []\n",
    "    gts = []\n",
    "    for (xs, ys) in tqdm(dl, desc='Evaluating', leave=False):\n",
    "        xs = xs.to(device)\n",
    "        preds = torch.argmax(model(xs), dim=1)\n",
    "        gts.append(ys)\n",
    "        predictions.append(preds.detach().cpu().numpy())\n",
    "        \n",
    "    # Return accuracy score and classification report.\n",
    "    return (accuracy_score(np.hstack(gts), np.hstack(predictions)),\n",
    "            classification_report(np.hstack(gts), np.hstack(predictions), zero_division=0, digits=3))\n",
    "\n",
    "# Simple function to plot the loss curve and validation accuracy.\n",
    "def plot_validation_curves(losses_and_accs):\n",
    "    losses = [x for (x, _) in losses_and_accs]\n",
    "    accs = [x for (_, x) in losses_and_accs]\n",
    "    plt.figure(figsize=(16, 8))\n",
    "    plt.subplot(1, 2, 1)\n",
    "    plt.plot(losses)\n",
    "    plt.xlabel('Epoch')\n",
    "    plt.ylabel('Loss')\n",
    "    plt.title('Average Training Loss per Epoch')\n",
    "    plt.subplot(1, 2, 2)\n",
    "    plt.plot(accs)\n",
    "    plt.xlabel('Epoch')\n",
    "    plt.ylabel('Validation Accuracy')\n",
    "    plt.title(f'Best Accuracy = {np.max(accs)} @ epoch {np.argmax(accs)}')"
   ]
  },
  {
   "cell_type": "code",
   "execution_count": 4,
   "id": "7005d3f0",
   "metadata": {},
   "outputs": [],
   "source": [
    "# REWRITE TRAINING AND EVALUATION FUNCTIONS \n",
    "from tqdm import tqdm\n",
    "from sklearn.metrics import accuracy_score, classification_report\n",
    "\n",
    "# Function to train a model for a single epoch over the data loader.\n",
    "def train_epoch(model, data_loader, optimizer, epoch='Unknown', device='cpu'):\n",
    "    model.train()\n",
    "    losses = []\n",
    "    for inputs, targets in tqdm(data_loader, desc=f'Training epoch {epoch}', leave=True):\n",
    "        inputs, targets = inputs.to(device), targets.to(device)\n",
    "        optimizer.zero_grad()\n",
    "        outputs = model(inputs) # logits\n",
    "        loss = F.cross_entropy(outputs, targets)\n",
    "        loss.backward()\n",
    "        optimizer.step()\n",
    "        losses.append(loss.item())\n",
    "    return np.mean(losses)\n",
    "\n",
    "# Function to evaluate model over all samples in the data loader.\n",
    "def evaluate_model(model, data_loader, device='cpu'):\n",
    "    model.eval()\n",
    "    all_predictions = []\n",
    "    all_targets = []\n",
    "    with torch.no_grad():\n",
    "        for inputs, targets in tqdm(data_loader, desc='Evaluating', leave=False):\n",
    "            inputs = inputs.to(device)\n",
    "            outputs = model(inputs)\n",
    "            predictions = torch.argmax(outputs, 1)\n",
    "            \n",
    "            all_predictions.extend(predictions.cpu().numpy())\n",
    "            all_targets.extend(targets.cpu().numpy())\n",
    "    # Return accuracy score and classification report.\n",
    "    return accuracy_score(all_targets, all_predictions), classification_report(all_targets, all_predictions, zero_division=0, digits=3)\n",
    "\n",
    "# Simple function to plot the loss curve and validation accuracy.\n",
    "def plot_validation_curves(training_history):\n",
    "    losses, accuracies = zip(*training_history)\n",
    "    plt.figure(figsize=(16, 8))\n",
    "\n",
    "    plt.subplot(1, 2, 1)\n",
    "    plt.plot(losses)\n",
    "    plt.title('Average Training Loss per Epoch')\n",
    "    plt.xlabel('Epoch')\n",
    "    plt.ylabel('Loss')\n",
    "\n",
    "    plt.subplot(1, 2, 2)\n",
    "    plt.plot(accuracies)\n",
    "    plt.title(f'Best Accuracy = {np.max(accuracies)} @ epoch {np.argmax(accuracies)}')\n",
    "    plt.xlabel('Epoch')\n",
    "    plt.ylabel('Validation Accuracy')\n",
    "    plt.show()"
   ]
  },
  {
   "cell_type": "markdown",
   "id": "875008c3-306c-4e39-a845-d7bda7862621",
   "metadata": {},
   "source": [
    "#### A basic, parameterized MLP\n",
    "\n",
    "This is a very basic implementation of a Multilayer Perceptron. Don't waste too much time trying to figure out how it works -- the important detail is that it allows you to pass in a list of input, hidden layer, and output *widths*. **Your** implementation should also support this for the exercises to come."
   ]
  },
  {
   "cell_type": "code",
   "execution_count": 5,
   "id": "8c1e503a-37df-4fb9-94e7-85d0adb494bd",
   "metadata": {
    "tags": []
   },
   "outputs": [],
   "source": [
    "class MLP(nn.Module):\n",
    "    def __init__(self, layer_sizes):\n",
    "        super().__init__()\n",
    "        self.layers = nn.ModuleList([nn.Linear(nin, nout) for (nin, nout) in zip(layer_sizes[:-1], layer_sizes[1:])])\n",
    "    \n",
    "    def forward(self, x):\n",
    "        return reduce(lambda f, g: lambda x: g(F.relu(f(x))), self.layers, lambda x: x.flatten(1))(x)"
   ]
  },
  {
   "cell_type": "markdown",
   "id": "4ae06e26-8fa3-414e-a502-8d1c18ba9eb7",
   "metadata": {},
   "source": [
    "#### A *very* minimal training pipeline.\n",
    "\n",
    "Here is some basic training and evaluation code to get you started.\n",
    "\n",
    "**Important**: I cannot stress enough that this is a **terrible** example of how to implement a training pipeline. You can do better!"
   ]
  },
  {
   "cell_type": "code",
   "execution_count": null,
   "id": "fc89e48f-d8f3-4122-842d-1ff389499854",
   "metadata": {
    "tags": []
   },
   "outputs": [],
   "source": [
    "# Training hyperparameters.\n",
    "device = 'cuda'\n",
    "epochs = 100\n",
    "lr = 0.0001\n",
    "batch_size = 128\n",
    "\n",
    "# Architecture hyperparameters.\n",
    "input_size = 28*28\n",
    "width = 16\n",
    "depth = 2\n",
    "\n",
    "# Dataloaders.\n",
    "dl_train = torch.utils.data.DataLoader(ds_train, batch_size, shuffle=True, num_workers=4)\n",
    "dl_val   = torch.utils.data.DataLoader(ds_val, batch_size, num_workers=4)\n",
    "dl_test  = torch.utils.data.DataLoader(ds_test, batch_size, shuffle=True, num_workers=4)\n",
    "\n",
    "# Instantiate model and optimizer.\n",
    "model_mlp = MLP([input_size] + [width]*depth + [10]).to(device)\n",
    "opt = torch.optim.Adam(params=model_mlp.parameters(), lr=lr)\n",
    "\n",
    "# Training loop.\n",
    "losses_and_accs = []\n",
    "for epoch in range(epochs):\n",
    "    loss = train_epoch(model_mlp, dl_train, opt, epoch, device=device)\n",
    "    (val_acc, _) = evaluate_model(model_mlp, dl_val, device=device)\n",
    "    losses_and_accs.append((loss, val_acc))\n",
    "\n",
    "# And finally plot the curves.\n",
    "plot_validation_curves(losses_and_accs)\n",
    "print(f'Accuracy report on TEST:\\n {evaluate_model(model_mlp, dl_test, device=device)[1]}')"
   ]
  },
  {
   "cell_type": "code",
   "execution_count": 6,
   "id": "91afcace",
   "metadata": {},
   "outputs": [
    {
     "name": "stderr",
     "output_type": "stream",
     "text": [
      "Failed to detect the name of this notebook, you can set it manually with the WANDB_NOTEBOOK_NAME environment variable to enable code saving.\n",
      "wandb: Currently logged in as: lorebaia. Use `wandb login --relogin` to force relogin\n"
     ]
    },
    {
     "data": {
      "text/html": [
       "wandb version 0.16.4 is available!  To upgrade, please run:\n",
       " $ pip install wandb --upgrade"
      ],
      "text/plain": [
       "<IPython.core.display.HTML object>"
      ]
     },
     "metadata": {},
     "output_type": "display_data"
    },
    {
     "data": {
      "text/html": [
       "Tracking run with wandb version 0.16.3"
      ],
      "text/plain": [
       "<IPython.core.display.HTML object>"
      ]
     },
     "metadata": {},
     "output_type": "display_data"
    },
    {
     "data": {
      "text/html": [
       "Run data is saved locally in <code>c:\\Users\\loreb\\Documents\\IntellijProjects\\PycharmProjects\\DLA\\wandb\\run-20240315_203659-wh19z1ap</code>"
      ],
      "text/plain": [
       "<IPython.core.display.HTML object>"
      ]
     },
     "metadata": {},
     "output_type": "display_data"
    },
    {
     "data": {
      "text/html": [
       "Syncing run <strong><a href='https://wandb.ai/lorebaia/DLA%20Assigment%201/runs/wh19z1ap' target=\"_blank\">MLP</a></strong> to <a href='https://wandb.ai/lorebaia/DLA%20Assigment%201' target=\"_blank\">Weights & Biases</a> (<a href='https://wandb.me/run' target=\"_blank\">docs</a>)<br/>"
      ],
      "text/plain": [
       "<IPython.core.display.HTML object>"
      ]
     },
     "metadata": {},
     "output_type": "display_data"
    },
    {
     "data": {
      "text/html": [
       " View project at <a href='https://wandb.ai/lorebaia/DLA%20Assigment%201' target=\"_blank\">https://wandb.ai/lorebaia/DLA%20Assigment%201</a>"
      ],
      "text/plain": [
       "<IPython.core.display.HTML object>"
      ]
     },
     "metadata": {},
     "output_type": "display_data"
    },
    {
     "data": {
      "text/html": [
       " View run at <a href='https://wandb.ai/lorebaia/DLA%20Assigment%201/runs/wh19z1ap' target=\"_blank\">https://wandb.ai/lorebaia/DLA%20Assigment%201/runs/wh19z1ap</a>"
      ],
      "text/plain": [
       "<IPython.core.display.HTML object>"
      ]
     },
     "metadata": {},
     "output_type": "display_data"
    },
    {
     "name": "stdout",
     "output_type": "stream",
     "text": [
      "Using device: cuda\n",
      "ModuleList(\n",
      "  (0): Linear(in_features=784, out_features=16, bias=True)\n",
      "  (1): Linear(in_features=16, out_features=16, bias=True)\n",
      "  (2): Linear(in_features=16, out_features=10, bias=True)\n",
      ")\n"
     ]
    },
    {
     "name": "stderr",
     "output_type": "stream",
     "text": [
      "Training epoch 0: 100%|██████████| 430/430 [00:16<00:00, 25.88it/s] \n",
      "Training epoch 1: 100%|██████████| 430/430 [00:15<00:00, 26.90it/s] \n",
      "Training epoch 2: 100%|██████████| 430/430 [00:16<00:00, 26.82it/s] \n",
      "Training epoch 3: 100%|██████████| 430/430 [00:14<00:00, 29.18it/s] \n",
      "Training epoch 4: 100%|██████████| 430/430 [00:15<00:00, 28.07it/s] \n",
      "Training epoch 5: 100%|██████████| 430/430 [00:15<00:00, 28.35it/s] \n",
      "Training epoch 6: 100%|██████████| 430/430 [00:15<00:00, 28.44it/s] \n",
      "Training epoch 7: 100%|██████████| 430/430 [00:14<00:00, 28.80it/s] \n",
      "Training epoch 8: 100%|██████████| 430/430 [00:14<00:00, 29.22it/s] \n",
      "Training epoch 9: 100%|██████████| 430/430 [00:14<00:00, 28.83it/s] \n",
      "Training epoch 10: 100%|██████████| 430/430 [00:14<00:00, 29.15it/s] \n",
      "Training epoch 11: 100%|██████████| 430/430 [00:15<00:00, 28.51it/s] \n",
      "Training epoch 12: 100%|██████████| 430/430 [00:15<00:00, 28.54it/s] \n",
      "Training epoch 13: 100%|██████████| 430/430 [00:14<00:00, 29.25it/s] \n",
      "Training epoch 14: 100%|██████████| 430/430 [00:14<00:00, 29.35it/s] \n",
      "Training epoch 15: 100%|██████████| 430/430 [00:15<00:00, 27.98it/s] \n",
      "Training epoch 16: 100%|██████████| 430/430 [00:14<00:00, 29.22it/s] \n",
      "Training epoch 17: 100%|██████████| 430/430 [00:15<00:00, 28.07it/s] \n",
      "Training epoch 18: 100%|██████████| 430/430 [00:14<00:00, 28.86it/s] \n",
      "Training epoch 19: 100%|██████████| 430/430 [00:14<00:00, 28.95it/s] \n",
      "Training epoch 20: 100%|██████████| 430/430 [00:15<00:00, 28.67it/s] \n",
      "Training epoch 21: 100%|██████████| 430/430 [00:14<00:00, 29.02it/s] \n",
      "Training epoch 22: 100%|██████████| 430/430 [00:14<00:00, 28.78it/s] \n",
      "Training epoch 23: 100%|██████████| 430/430 [00:14<00:00, 29.05it/s] \n",
      "Training epoch 24: 100%|██████████| 430/430 [00:14<00:00, 29.25it/s] \n",
      "Training epoch 25: 100%|██████████| 430/430 [00:14<00:00, 28.76it/s] \n",
      "Training epoch 26: 100%|██████████| 430/430 [00:15<00:00, 28.38it/s] \n",
      "Training epoch 27: 100%|██████████| 430/430 [00:14<00:00, 28.76it/s] \n",
      "Training epoch 28: 100%|██████████| 430/430 [00:15<00:00, 28.66it/s] \n",
      "Training epoch 29: 100%|██████████| 430/430 [00:15<00:00, 28.51it/s] \n",
      "Training epoch 30: 100%|██████████| 430/430 [00:15<00:00, 28.60it/s] \n",
      "Training epoch 31: 100%|██████████| 430/430 [00:14<00:00, 29.26it/s] \n",
      "Training epoch 32: 100%|██████████| 430/430 [00:14<00:00, 28.98it/s] \n",
      "Training epoch 33: 100%|██████████| 430/430 [00:15<00:00, 28.38it/s] \n",
      "Training epoch 34: 100%|██████████| 430/430 [00:15<00:00, 28.63it/s] \n",
      "Training epoch 35: 100%|██████████| 430/430 [00:15<00:00, 28.63it/s] \n",
      "Training epoch 36: 100%|██████████| 430/430 [00:14<00:00, 28.73it/s] \n",
      "Training epoch 37: 100%|██████████| 430/430 [00:14<00:00, 29.32it/s] \n",
      "Training epoch 38: 100%|██████████| 430/430 [00:15<00:00, 28.35it/s] \n",
      "Training epoch 39: 100%|██████████| 430/430 [00:14<00:00, 29.02it/s] \n",
      "Training epoch 40: 100%|██████████| 430/430 [00:15<00:00, 28.38it/s] \n",
      "Training epoch 41: 100%|██████████| 430/430 [00:15<00:00, 28.48it/s] \n",
      "Training epoch 42: 100%|██████████| 430/430 [00:15<00:00, 28.25it/s] \n",
      "Training epoch 43: 100%|██████████| 430/430 [00:14<00:00, 29.32it/s] \n",
      "Training epoch 44: 100%|██████████| 430/430 [00:14<00:00, 29.02it/s] \n",
      "Training epoch 45: 100%|██████████| 430/430 [00:14<00:00, 29.35it/s] \n",
      "Training epoch 46: 100%|██████████| 430/430 [00:14<00:00, 28.90it/s] \n",
      "Training epoch 47: 100%|██████████| 430/430 [00:15<00:00, 28.54it/s] \n",
      "Training epoch 48: 100%|██████████| 430/430 [00:15<00:00, 28.51it/s] \n",
      "Training epoch 49: 100%|██████████| 430/430 [00:15<00:00, 28.47it/s] \n",
      "Training epoch 50: 100%|██████████| 430/430 [00:15<00:00, 28.26it/s] \n",
      "Training epoch 51: 100%|██████████| 430/430 [00:15<00:00, 27.98it/s] \n",
      "Training epoch 52: 100%|██████████| 430/430 [00:15<00:00, 27.65it/s] \n",
      "Training epoch 53: 100%|██████████| 430/430 [00:14<00:00, 28.89it/s] \n",
      "Training epoch 54: 100%|██████████| 430/430 [00:14<00:00, 29.46it/s] \n",
      "Training epoch 55: 100%|██████████| 430/430 [00:14<00:00, 29.54it/s] \n",
      "Training epoch 56: 100%|██████████| 430/430 [00:14<00:00, 29.22it/s] \n",
      "Training epoch 57: 100%|██████████| 430/430 [00:14<00:00, 28.83it/s] \n",
      "Training epoch 58: 100%|██████████| 430/430 [00:14<00:00, 28.99it/s] \n",
      "Training epoch 59: 100%|██████████| 430/430 [00:15<00:00, 28.25it/s] \n",
      "Training epoch 60: 100%|██████████| 430/430 [00:14<00:00, 29.01it/s] \n",
      "Training epoch 61: 100%|██████████| 430/430 [00:14<00:00, 28.96it/s] \n",
      "Training epoch 62: 100%|██████████| 430/430 [00:14<00:00, 28.92it/s] \n",
      "Training epoch 63: 100%|██████████| 430/430 [00:14<00:00, 28.70it/s] \n",
      "Training epoch 64: 100%|██████████| 430/430 [00:14<00:00, 29.45it/s] \n",
      "Training epoch 65: 100%|██████████| 430/430 [00:14<00:00, 29.09it/s] \n",
      "Training epoch 66: 100%|██████████| 430/430 [00:14<00:00, 29.11it/s] \n",
      "Training epoch 67: 100%|██████████| 430/430 [00:14<00:00, 28.92it/s] \n",
      "Training epoch 68: 100%|██████████| 430/430 [00:15<00:00, 28.04it/s] \n",
      "Training epoch 69: 100%|██████████| 430/430 [00:14<00:00, 29.22it/s] \n",
      "Training epoch 70: 100%|██████████| 430/430 [00:14<00:00, 29.01it/s] \n",
      "Training epoch 71: 100%|██████████| 430/430 [00:15<00:00, 28.44it/s] \n",
      "Training epoch 72: 100%|██████████| 430/430 [00:14<00:00, 29.22it/s] \n",
      "Training epoch 73: 100%|██████████| 430/430 [00:14<00:00, 29.09it/s] \n",
      "Training epoch 74: 100%|██████████| 430/430 [00:14<00:00, 29.49it/s] \n",
      "Training epoch 75: 100%|██████████| 430/430 [00:14<00:00, 29.18it/s] \n",
      "Training epoch 76: 100%|██████████| 430/430 [00:14<00:00, 28.90it/s] \n",
      "Training epoch 77: 100%|██████████| 430/430 [00:14<00:00, 29.45it/s] \n",
      "Training epoch 78: 100%|██████████| 430/430 [00:14<00:00, 29.12it/s] \n",
      "Training epoch 79: 100%|██████████| 430/430 [00:14<00:00, 29.22it/s] \n",
      "Training epoch 80: 100%|██████████| 430/430 [00:14<00:00, 29.32it/s] \n",
      "Training epoch 81: 100%|██████████| 430/430 [00:14<00:00, 29.21it/s] \n",
      "Training epoch 82: 100%|██████████| 430/430 [00:14<00:00, 29.18it/s] \n",
      "Training epoch 83: 100%|██████████| 430/430 [00:14<00:00, 29.02it/s] \n",
      "Training epoch 84: 100%|██████████| 430/430 [00:14<00:00, 28.99it/s] \n",
      "Training epoch 85: 100%|██████████| 430/430 [00:14<00:00, 29.48it/s] \n",
      "Training epoch 86: 100%|██████████| 430/430 [00:15<00:00, 28.59it/s] \n",
      "Training epoch 87: 100%|██████████| 430/430 [00:14<00:00, 28.99it/s] \n",
      "Training epoch 88: 100%|██████████| 430/430 [00:14<00:00, 29.01it/s] \n",
      "Training epoch 89: 100%|██████████| 430/430 [00:14<00:00, 28.98it/s] \n",
      "Training epoch 90: 100%|██████████| 430/430 [00:14<00:00, 29.12it/s] \n",
      "Training epoch 91: 100%|██████████| 430/430 [00:14<00:00, 29.20it/s] \n",
      "Training epoch 92: 100%|██████████| 430/430 [00:14<00:00, 28.77it/s] \n",
      "Training epoch 93: 100%|██████████| 430/430 [00:14<00:00, 28.90it/s] \n",
      "Training epoch 94: 100%|██████████| 430/430 [00:14<00:00, 28.79it/s] \n",
      "Training epoch 95: 100%|██████████| 430/430 [00:14<00:00, 28.99it/s] \n",
      "Training epoch 96: 100%|██████████| 430/430 [00:14<00:00, 28.82it/s] \n",
      "Training epoch 97: 100%|██████████| 430/430 [00:14<00:00, 28.92it/s] \n",
      "Training epoch 98: 100%|██████████| 430/430 [00:14<00:00, 29.32it/s] \n",
      "Training epoch 99: 100%|██████████| 430/430 [00:14<00:00, 29.26it/s] \n",
      "                                                           \r"
     ]
    },
    {
     "data": {
      "text/html": [
       "<style>\n",
       "    table.wandb td:nth-child(1) { padding: 0 10px; text-align: left ; width: auto;} td:nth-child(2) {text-align: left ; width: 100%}\n",
       "    .wandb-row { display: flex; flex-direction: row; flex-wrap: wrap; justify-content: flex-start; width: 100% }\n",
       "    .wandb-col { display: flex; flex-direction: column; flex-basis: 100%; flex: 1; padding: 10px; }\n",
       "    </style>\n",
       "<div class=\"wandb-row\"><div class=\"wandb-col\"><h3>Run history:</h3><br/><table class=\"wandb\"><tr><td>acc</td><td>▁▅▇▇▇▇▇▇████████████████████████████████</td></tr><tr><td>loss</td><td>█▃▂▂▂▂▂▁▁▁▁▁▁▁▁▁▁▁▁▁▁▁▁▁▁▁▁▁▁▁▁▁▁▁▁▁▁▁▁▁</td></tr></table><br/></div><div class=\"wandb-col\"><h3>Run summary:</h3><br/><table class=\"wandb\"><tr><td>acc</td><td>0.9498</td></tr><tr><td>loss</td><td>0.13715</td></tr></table><br/></div></div>"
      ],
      "text/plain": [
       "<IPython.core.display.HTML object>"
      ]
     },
     "metadata": {},
     "output_type": "display_data"
    },
    {
     "data": {
      "text/html": [
       " View run <strong style=\"color:#cdcd00\">MLP</strong> at: <a href='https://wandb.ai/lorebaia/DLA%20Assigment%201/runs/wh19z1ap' target=\"_blank\">https://wandb.ai/lorebaia/DLA%20Assigment%201/runs/wh19z1ap</a><br/>Synced 6 W&B file(s), 0 media file(s), 0 artifact file(s) and 0 other file(s)"
      ],
      "text/plain": [
       "<IPython.core.display.HTML object>"
      ]
     },
     "metadata": {},
     "output_type": "display_data"
    },
    {
     "data": {
      "text/html": [
       "Find logs at: <code>.\\wandb\\run-20240315_203659-wh19z1ap\\logs</code>"
      ],
      "text/plain": [
       "<IPython.core.display.HTML object>"
      ]
     },
     "metadata": {},
     "output_type": "display_data"
    },
    {
     "data": {
      "image/png": "[encoded data removed]",
      "text/plain": [
       "<Figure size 1600x800 with 2 Axes>"
      ]
     },
     "metadata": {},
     "output_type": "display_data"
    },
    {
     "name": "stderr",
     "output_type": "stream",
     "text": [
      "                                                           \r"
     ]
    },
    {
     "name": "stdout",
     "output_type": "stream",
     "text": [
      "Accuracy report on TEST:\n",
      "               precision    recall  f1-score   support\n",
      "\n",
      "           0      0.964     0.984     0.974       980\n",
      "           1      0.973     0.989     0.981      1135\n",
      "           2      0.958     0.940     0.949      1032\n",
      "           3      0.927     0.936     0.931      1010\n",
      "           4      0.937     0.955     0.946       982\n",
      "           5      0.923     0.909     0.916       892\n",
      "           6      0.957     0.953     0.955       958\n",
      "           7      0.957     0.935     0.946      1028\n",
      "           8      0.930     0.934     0.932       974\n",
      "           9      0.934     0.925     0.929      1009\n",
      "\n",
      "    accuracy                          0.947     10000\n",
      "   macro avg      0.946     0.946     0.946     10000\n",
      "weighted avg      0.947     0.947     0.947     10000\n",
      "\n"
     ]
    }
   ],
   "source": [
    "# start a new wandb run to track this script\n",
    "wandb.init(\n",
    "    # set the wandb project where this run will be logged\n",
    "    project=\"DLA Assigment 1\",\n",
    "    name=\"MLP\",\n",
    "    # track hyperparameters and run metadata\n",
    "    config={\n",
    "    \"learning_rate\": 0.0001,\n",
    "    \"architecture\": \"MLP\",\n",
    "    \"dataset\": \"MNIST\",\n",
    "    \"epochs\": 100,\n",
    "    }\n",
    ")\n",
    "\n",
    "# Training hyperparameters.\n",
    "device = 'cuda' if torch.cuda.is_available() else 'cpu'\n",
    "print(f'Using device: {device}')\n",
    "epochs = 100\n",
    "lr = 0.0001\n",
    "batch_size = 128\n",
    "\n",
    "# Architecture hyperparameters.\n",
    "input_size = 28*28\n",
    "width = 16\n",
    "depth = 2\n",
    "\n",
    "# Dataloaders.\n",
    "dl_train = torch.utils.data.DataLoader(ds_train, batch_size, shuffle=True, num_workers=4)\n",
    "dl_val   = torch.utils.data.DataLoader(ds_val, batch_size, num_workers=4)\n",
    "dl_test  = torch.utils.data.DataLoader(ds_test, batch_size, shuffle=True, num_workers=4)\n",
    "\n",
    "# Instantiate model and optimizer.\n",
    "model_mlp = MLP([input_size] + [width]*depth + [10]).to(device)\n",
    "print(model_mlp.layers)\n",
    "opt = torch.optim.Adam(params=model_mlp.parameters(), lr=lr)\n",
    "\n",
    "# Training loop.\n",
    "losses_and_accs = []\n",
    "for epoch in range(epochs):\n",
    "    loss = train_epoch(model_mlp, dl_train, opt, epoch, device=device)\n",
    "    (val_acc, eval) = evaluate_model(model_mlp, dl_val, device=device)\n",
    "    losses_and_accs.append((loss, val_acc))\n",
    "    \n",
    "    # wandb\n",
    "    wandb.log({\"acc\": val_acc, \"loss\": loss})\n",
    "\n",
    "# [optional] finish the wandb run, necessary in notebooks\n",
    "wandb.finish()\n",
    "\n",
    "# And finally plot the curves.\n",
    "plot_validation_curves(losses_and_accs)\n",
    "print(f'Accuracy report on TEST:\\n {evaluate_model(model_mlp, dl_test, device=device)[1]}')"
   ]
  },
  {
   "cell_type": "markdown",
   "id": "de2cad13-ee2c-4e43-b5c7-31760da8c2df",
   "metadata": {},
   "source": [
    "### Exercise 1.1: A baseline MLP\n",
    "\n",
    "Implement a *simple* Multilayer Perceptron to classify the 10 digits of MNIST (e.g. two *narrow* layers). Use my code above as inspiration, but implement your own training pipeline -- you will need it later. Train this model to convergence, monitoring (at least) the loss and accuracy on the training and validation sets for every epoch. Below I include a basic implementation to get you started -- remember that you should write your *own* pipeline!\n",
    "\n",
    "**Note**: This would be a good time to think about *abstracting* your model definition, and training and evaluation pipelines in order to make it easier to compare performance of different models.\n",
    "\n",
    "**Important**: Given the *many* runs you will need to do, and the need to *compare* performance between them, this would **also** be a great point to study how **Tensorboard** or **Weights and Biases** can be used for performance monitoring."
   ]
  },
  {
   "cell_type": "code",
   "execution_count": 7,
   "id": "19d96405-36e7-4074-803c-fb02576cd528",
   "metadata": {
    "tags": []
   },
   "outputs": [],
   "source": [
    "class SimpleMLP(nn.Module):\n",
    "    def __init__(self):\n",
    "        super().__init__()\n",
    "        self.layers = nn.ModuleList([\n",
    "            nn.Linear(28*28, 128),  # First narrow layer\n",
    "            nn.Linear(128, 128),  # Second narrow layer\n",
    "            nn.Linear(128, 64),  # Third narrow layer\n",
    "            nn.Linear(64, 64), # Fourth narrow layer\n",
    "            nn.Linear(64, 10)  # Output layer\n",
    "        ])\n",
    "    \n",
    "    def forward(self, x):\n",
    "        x = x.flatten(1)\n",
    "        for layer in self.layers[:-1]:\n",
    "            x = F.relu(layer(x))\n",
    "        return x"
   ]
  },
  {
   "cell_type": "code",
   "execution_count": 8,
   "id": "4d2869de",
   "metadata": {},
   "outputs": [
    {
     "data": {
      "text/html": [
       "wandb version 0.16.4 is available!  To upgrade, please run:\n",
       " $ pip install wandb --upgrade"
      ],
      "text/plain": [
       "<IPython.core.display.HTML object>"
      ]
     },
     "metadata": {},
     "output_type": "display_data"
    },
    {
     "data": {
      "text/html": [
       "Tracking run with wandb version 0.16.3"
      ],
      "text/plain": [
       "<IPython.core.display.HTML object>"
      ]
     },
     "metadata": {},
     "output_type": "display_data"
    },
    {
     "data": {
      "text/html": [
       "Run data is saved locally in <code>c:\\Users\\loreb\\Documents\\IntellijProjects\\PycharmProjects\\DLA\\wandb\\run-20240315_210833-ovj3vwg7</code>"
      ],
      "text/plain": [
       "<IPython.core.display.HTML object>"
      ]
     },
     "metadata": {},
     "output_type": "display_data"
    },
    {
     "data": {
      "text/html": [
       "Syncing run <strong><a href='https://wandb.ai/lorebaia/DLA%20Assigment%201/runs/ovj3vwg7' target=\"_blank\">SimpleMLP</a></strong> to <a href='https://wandb.ai/lorebaia/DLA%20Assigment%201' target=\"_blank\">Weights & Biases</a> (<a href='https://wandb.me/run' target=\"_blank\">docs</a>)<br/>"
      ],
      "text/plain": [
       "<IPython.core.display.HTML object>"
      ]
     },
     "metadata": {},
     "output_type": "display_data"
    },
    {
     "data": {
      "text/html": [
       " View project at <a href='https://wandb.ai/lorebaia/DLA%20Assigment%201' target=\"_blank\">https://wandb.ai/lorebaia/DLA%20Assigment%201</a>"
      ],
      "text/plain": [
       "<IPython.core.display.HTML object>"
      ]
     },
     "metadata": {},
     "output_type": "display_data"
    },
    {
     "data": {
      "text/html": [
       " View run at <a href='https://wandb.ai/lorebaia/DLA%20Assigment%201/runs/ovj3vwg7' target=\"_blank\">https://wandb.ai/lorebaia/DLA%20Assigment%201/runs/ovj3vwg7</a>"
      ],
      "text/plain": [
       "<IPython.core.display.HTML object>"
      ]
     },
     "metadata": {},
     "output_type": "display_data"
    },
    {
     "name": "stdout",
     "output_type": "stream",
     "text": [
      "Using device cuda\n",
      "ModuleList(\n",
      "  (0): Linear(in_features=784, out_features=128, bias=True)\n",
      "  (1): Linear(in_features=128, out_features=128, bias=True)\n",
      "  (2): Linear(in_features=128, out_features=64, bias=True)\n",
      "  (3): Linear(in_features=64, out_features=64, bias=True)\n",
      "  (4): Linear(in_features=64, out_features=10, bias=True)\n",
      ")\n"
     ]
    },
    {
     "name": "stderr",
     "output_type": "stream",
     "text": [
      "Training epoch 0: 100%|██████████| 430/430 [00:15<00:00, 28.29it/s] \n",
      "Training epoch 1: 100%|██████████| 430/430 [00:14<00:00, 29.02it/s] \n",
      "Training epoch 2: 100%|██████████| 430/430 [00:14<00:00, 29.35it/s] \n",
      "Training epoch 3: 100%|██████████| 430/430 [00:14<00:00, 29.38it/s] \n",
      "Training epoch 4: 100%|██████████| 430/430 [00:14<00:00, 29.43it/s] \n",
      "Training epoch 5: 100%|██████████| 430/430 [00:14<00:00, 29.54it/s] \n",
      "Training epoch 6: 100%|██████████| 430/430 [00:14<00:00, 29.02it/s] \n",
      "Training epoch 7: 100%|██████████| 430/430 [00:14<00:00, 29.43it/s] \n",
      "Training epoch 8: 100%|██████████| 430/430 [00:14<00:00, 29.09it/s] \n",
      "Training epoch 9: 100%|██████████| 430/430 [00:14<00:00, 29.15it/s] \n",
      "Training epoch 10: 100%|██████████| 430/430 [00:14<00:00, 28.89it/s] \n",
      "Training epoch 11: 100%|██████████| 430/430 [00:14<00:00, 28.92it/s] \n",
      "Training epoch 12: 100%|██████████| 430/430 [00:15<00:00, 28.16it/s] \n",
      "Training epoch 13: 100%|██████████| 430/430 [00:15<00:00, 28.48it/s] \n",
      "Training epoch 14: 100%|██████████| 430/430 [00:14<00:00, 28.92it/s] \n",
      "Training epoch 15: 100%|██████████| 430/430 [00:14<00:00, 28.86it/s] \n",
      "Training epoch 16: 100%|██████████| 430/430 [00:14<00:00, 29.32it/s] \n",
      "Training epoch 17: 100%|██████████| 430/430 [00:14<00:00, 29.28it/s] \n",
      "Training epoch 18: 100%|██████████| 430/430 [00:14<00:00, 29.51it/s] \n",
      "Training epoch 19: 100%|██████████| 430/430 [00:14<00:00, 29.54it/s] \n",
      "Training epoch 20: 100%|██████████| 430/430 [00:14<00:00, 29.25it/s] \n",
      "Training epoch 21: 100%|██████████| 430/430 [00:14<00:00, 29.25it/s] \n",
      "Training epoch 22: 100%|██████████| 430/430 [00:14<00:00, 29.22it/s] \n",
      "Training epoch 23: 100%|██████████| 430/430 [00:14<00:00, 28.72it/s] \n",
      "Training epoch 24: 100%|██████████| 430/430 [00:14<00:00, 29.35it/s] \n",
      "Training epoch 25: 100%|██████████| 430/430 [00:14<00:00, 29.22it/s] \n",
      "Training epoch 26: 100%|██████████| 430/430 [00:14<00:00, 28.70it/s] \n",
      "Training epoch 27: 100%|██████████| 430/430 [00:14<00:00, 29.24it/s] \n",
      "Training epoch 28: 100%|██████████| 430/430 [00:14<00:00, 28.99it/s] \n",
      "Training epoch 29: 100%|██████████| 430/430 [00:14<00:00, 29.27it/s] \n",
      "Training epoch 30: 100%|██████████| 430/430 [00:14<00:00, 29.13it/s] \n",
      "Training epoch 31: 100%|██████████| 430/430 [00:14<00:00, 29.28it/s] \n",
      "Training epoch 32: 100%|██████████| 430/430 [00:15<00:00, 28.44it/s] \n",
      "Training epoch 33: 100%|██████████| 430/430 [00:14<00:00, 29.18it/s] \n",
      "Training epoch 34: 100%|██████████| 430/430 [00:14<00:00, 28.95it/s] \n",
      "Training epoch 35: 100%|██████████| 430/430 [00:14<00:00, 28.99it/s] \n",
      "Training epoch 36: 100%|██████████| 430/430 [00:14<00:00, 29.11it/s] \n",
      "Training epoch 37: 100%|██████████| 430/430 [00:14<00:00, 29.36it/s] \n",
      "Training epoch 38: 100%|██████████| 430/430 [00:14<00:00, 29.36it/s] \n",
      "Training epoch 39: 100%|██████████| 430/430 [00:14<00:00, 29.12it/s] \n",
      "Training epoch 40: 100%|██████████| 430/430 [00:14<00:00, 29.53it/s] \n",
      "Training epoch 41: 100%|██████████| 430/430 [00:14<00:00, 29.59it/s] \n",
      "Training epoch 42: 100%|██████████| 430/430 [00:14<00:00, 29.14it/s] \n",
      "Training epoch 43: 100%|██████████| 430/430 [00:14<00:00, 29.09it/s] \n",
      "Training epoch 44: 100%|██████████| 430/430 [00:14<00:00, 29.22it/s] \n",
      "Training epoch 45: 100%|██████████| 430/430 [00:14<00:00, 29.16it/s] \n",
      "Training epoch 46: 100%|██████████| 430/430 [00:15<00:00, 28.36it/s] \n",
      "Training epoch 47: 100%|██████████| 430/430 [00:14<00:00, 29.51it/s] \n",
      "Training epoch 48: 100%|██████████| 430/430 [00:14<00:00, 28.99it/s] \n",
      "Training epoch 49: 100%|██████████| 430/430 [00:14<00:00, 29.45it/s] \n",
      "Training epoch 50: 100%|██████████| 430/430 [00:14<00:00, 29.12it/s] \n",
      "Training epoch 51: 100%|██████████| 430/430 [00:14<00:00, 28.89it/s] \n",
      "Training epoch 52: 100%|██████████| 430/430 [00:15<00:00, 28.57it/s] \n",
      "Training epoch 53: 100%|██████████| 430/430 [00:15<00:00, 28.50it/s] \n",
      "Training epoch 54: 100%|██████████| 430/430 [00:14<00:00, 29.28it/s] \n",
      "Training epoch 55: 100%|██████████| 430/430 [00:14<00:00, 28.99it/s] \n",
      "Training epoch 56: 100%|██████████| 430/430 [00:14<00:00, 28.73it/s] \n",
      "Training epoch 57: 100%|██████████| 430/430 [00:14<00:00, 29.35it/s] \n",
      "Training epoch 58: 100%|██████████| 430/430 [00:14<00:00, 29.48it/s] \n",
      "Training epoch 59: 100%|██████████| 430/430 [00:14<00:00, 29.67it/s] \n",
      "Training epoch 60: 100%|██████████| 430/430 [00:14<00:00, 29.25it/s] \n",
      "Training epoch 61: 100%|██████████| 430/430 [00:14<00:00, 29.38it/s] \n",
      "Training epoch 62: 100%|██████████| 430/430 [00:14<00:00, 29.50it/s] \n",
      "Training epoch 63: 100%|██████████| 430/430 [00:14<00:00, 29.28it/s] \n",
      "Training epoch 64: 100%|██████████| 430/430 [00:14<00:00, 29.27it/s] \n",
      "Training epoch 65: 100%|██████████| 430/430 [00:14<00:00, 29.12it/s] \n",
      "Training epoch 66: 100%|██████████| 430/430 [00:14<00:00, 29.32it/s] \n",
      "Training epoch 67: 100%|██████████| 430/430 [00:14<00:00, 29.48it/s] \n",
      "Training epoch 68: 100%|██████████| 430/430 [00:14<00:00, 29.28it/s] \n",
      "Training epoch 69: 100%|██████████| 430/430 [00:14<00:00, 29.18it/s] \n",
      "Training epoch 70: 100%|██████████| 430/430 [00:14<00:00, 29.96it/s] \n",
      "Training epoch 71: 100%|██████████| 430/430 [00:14<00:00, 29.33it/s] \n",
      "Training epoch 72: 100%|██████████| 430/430 [00:14<00:00, 29.45it/s] \n",
      "Training epoch 73: 100%|██████████| 430/430 [00:15<00:00, 28.63it/s] \n",
      "Training epoch 74: 100%|██████████| 430/430 [00:14<00:00, 29.28it/s] \n",
      "Training epoch 75: 100%|██████████| 430/430 [00:14<00:00, 29.22it/s] \n",
      "Training epoch 76: 100%|██████████| 430/430 [00:15<00:00, 28.42it/s] \n",
      "Training epoch 77: 100%|██████████| 430/430 [00:14<00:00, 29.02it/s] \n",
      "Training epoch 78: 100%|██████████| 430/430 [00:14<00:00, 29.12it/s] \n",
      "Training epoch 79: 100%|██████████| 430/430 [00:14<00:00, 29.12it/s] \n",
      "Training epoch 80: 100%|██████████| 430/430 [00:14<00:00, 29.44it/s] \n",
      "Training epoch 81: 100%|██████████| 430/430 [00:14<00:00, 29.55it/s] \n",
      "Training epoch 82: 100%|██████████| 430/430 [00:14<00:00, 29.35it/s] \n",
      "Training epoch 83: 100%|██████████| 430/430 [00:14<00:00, 29.32it/s] \n",
      "Training epoch 84: 100%|██████████| 430/430 [00:14<00:00, 28.99it/s] \n",
      "Training epoch 85: 100%|██████████| 430/430 [00:14<00:00, 29.08it/s] \n",
      "Training epoch 86: 100%|██████████| 430/430 [00:14<00:00, 28.76it/s] \n",
      "Training epoch 87: 100%|██████████| 430/430 [00:14<00:00, 29.55it/s] \n",
      "Training epoch 88: 100%|██████████| 430/430 [00:14<00:00, 29.31it/s] \n",
      "Training epoch 89: 100%|██████████| 430/430 [00:14<00:00, 29.55it/s] \n",
      "Training epoch 90: 100%|██████████| 430/430 [00:14<00:00, 29.34it/s] \n",
      "Training epoch 91: 100%|██████████| 430/430 [00:14<00:00, 28.89it/s] \n",
      "Training epoch 92: 100%|██████████| 430/430 [00:14<00:00, 29.22it/s] \n",
      "Training epoch 93: 100%|██████████| 430/430 [00:14<00:00, 28.95it/s] \n",
      "Training epoch 94: 100%|██████████| 430/430 [00:14<00:00, 28.73it/s] \n",
      "Training epoch 95: 100%|██████████| 430/430 [00:15<00:00, 28.63it/s] \n",
      "Training epoch 96: 100%|██████████| 430/430 [00:14<00:00, 29.15it/s] \n",
      "Training epoch 97: 100%|██████████| 430/430 [00:14<00:00, 28.92it/s] \n",
      "Training epoch 98: 100%|██████████| 430/430 [00:15<00:00, 28.61it/s] \n",
      "Training epoch 99: 100%|██████████| 430/430 [00:14<00:00, 29.12it/s] \n",
      "                                                           \r"
     ]
    },
    {
     "data": {
      "text/html": [
       "<style>\n",
       "    table.wandb td:nth-child(1) { padding: 0 10px; text-align: left ; width: auto;} td:nth-child(2) {text-align: left ; width: 100%}\n",
       "    .wandb-row { display: flex; flex-direction: row; flex-wrap: wrap; justify-content: flex-start; width: 100% }\n",
       "    .wandb-col { display: flex; flex-direction: column; flex-basis: 100%; flex: 1; padding: 10px; }\n",
       "    </style>\n",
       "<div class=\"wandb-row\"><div class=\"wandb-col\"><h3>Run history:</h3><br/><table class=\"wandb\"><tr><td>acc</td><td>▁▄▆▆▇▇▇▇█▇██████████████████████████████</td></tr><tr><td>loss</td><td>█▂▂▂▂▂▁▁▁▁▁▁▁▁▁▁▁▁▁▁▁▁▁▁▁▁▁▁▁▁▁▁▁▁▁▁▁▁▁▁</td></tr></table><br/></div><div class=\"wandb-col\"><h3>Run summary:</h3><br/><table class=\"wandb\"><tr><td>acc</td><td>0.9782</td></tr><tr><td>loss</td><td>0.00038</td></tr></table><br/></div></div>"
      ],
      "text/plain": [
       "<IPython.core.display.HTML object>"
      ]
     },
     "metadata": {},
     "output_type": "display_data"
    },
    {
     "data": {
      "text/html": [
       " View run <strong style=\"color:#cdcd00\">SimpleMLP</strong> at: <a href='https://wandb.ai/lorebaia/DLA%20Assigment%201/runs/ovj3vwg7' target=\"_blank\">https://wandb.ai/lorebaia/DLA%20Assigment%201/runs/ovj3vwg7</a><br/>Synced 6 W&B file(s), 0 media file(s), 0 artifact file(s) and 0 other file(s)"
      ],
      "text/plain": [
       "<IPython.core.display.HTML object>"
      ]
     },
     "metadata": {},
     "output_type": "display_data"
    },
    {
     "data": {
      "text/html": [
       "Find logs at: <code>.\\wandb\\run-20240315_210833-ovj3vwg7\\logs</code>"
      ],
      "text/plain": [
       "<IPython.core.display.HTML object>"
      ]
     },
     "metadata": {},
     "output_type": "display_data"
    },
    {
     "data": {
      "image/png": "[encoded data removed]",
      "text/plain": [
       "<Figure size 1600x800 with 2 Axes>"
      ]
     },
     "metadata": {},
     "output_type": "display_data"
    },
    {
     "name": "stderr",
     "output_type": "stream",
     "text": [
      "                                                           \r"
     ]
    },
    {
     "name": "stdout",
     "output_type": "stream",
     "text": [
      "Accuracy report on TEST:\n",
      "               precision    recall  f1-score   support\n",
      "\n",
      "           0      0.987     0.989     0.988       980\n",
      "           1      0.987     0.993     0.990      1135\n",
      "           2      0.979     0.976     0.977      1032\n",
      "           3      0.973     0.973     0.973      1010\n",
      "           4      0.978     0.971     0.975       982\n",
      "           5      0.972     0.978     0.975       892\n",
      "           6      0.982     0.981     0.982       958\n",
      "           7      0.978     0.975     0.976      1028\n",
      "           8      0.971     0.969     0.970       974\n",
      "           9      0.970     0.972     0.971      1009\n",
      "\n",
      "    accuracy                          0.978     10000\n",
      "   macro avg      0.978     0.978     0.978     10000\n",
      "weighted avg      0.978     0.978     0.978     10000\n",
      "\n"
     ]
    }
   ],
   "source": [
    "# start a new wandb run to track this script\n",
    "wandb.init(\n",
    "    # set the wandb project where this run will be logged\n",
    "    project=\"DLA Assigment 1\",\n",
    "    name=\"SimpleMLP\",\n",
    "    # track hyperparameters and run metadata\n",
    "    config={\n",
    "    \"learning_rate\": 0.0001,\n",
    "    \"architecture\": \"MLP\",\n",
    "    \"dataset\": \"MNIST\",\n",
    "    \"epochs\": 100,\n",
    "    }\n",
    ")\n",
    "\n",
    "# Training hyperparameters.\n",
    "device = 'cuda' if torch.cuda.is_available() else 'cpu'\n",
    "print(f'Using device {device}')\n",
    "epochs = 100\n",
    "lr = 0.0001\n",
    "batch_size = 128\n",
    "\n",
    "# Dataloaders.\n",
    "dl_train = torch.utils.data.DataLoader(ds_train, batch_size, shuffle=True, num_workers=4)\n",
    "dl_val   = torch.utils.data.DataLoader(ds_val, batch_size, num_workers=4)\n",
    "dl_test  = torch.utils.data.DataLoader(ds_test, batch_size, shuffle=True, num_workers=4)\n",
    "\n",
    "# Instantiate model and optimizer.\n",
    "model_mlp = SimpleMLP().to(device)\n",
    "print(model_mlp.layers)\n",
    "opt = torch.optim.Adam(params=model_mlp.parameters(), lr=lr)\n",
    "\n",
    "# Training loop.\n",
    "losses_and_accs = []\n",
    "for epoch in range(epochs):\n",
    "    loss = train_epoch(model_mlp, dl_train, opt, epoch, device=device)\n",
    "    (val_acc, _) = evaluate_model(model_mlp, dl_val, device=device)\n",
    "    losses_and_accs.append((loss, val_acc))\n",
    "    \n",
    "    # wandb\n",
    "    wandb.log({\"acc\": val_acc, \"loss\": loss})\n",
    "\n",
    "# [optional] finish the wandb run, necessary in notebooks\n",
    "wandb.finish()\n",
    "\n",
    "# And finally plot the curves.\n",
    "plot_validation_curves(losses_and_accs)\n",
    "print(f'Accuracy report on TEST:\\n {evaluate_model(model_mlp, dl_test, device=device)[1]}')"
   ]
  },
  {
   "cell_type": "markdown",
   "id": "0fb8ad9b-e3ae-4c49-9bec-35aaea149b08",
   "metadata": {},
   "source": [
    "### Exercise 1.2: Rinse and Repeat\n",
    "\n",
    "Repeat the verification you did above, but with **Convolutional** Neural Networks. If you were careful about abstracting your model and training code, this should be a simple exercise. Show that **deeper** CNNs *without* residual connections do not always work better and **even deeper** ones *with* residual connections.\n",
    "\n",
    "**Hint**: You probably should do this exercise using CIFAR10, since MNIST is *very* easy (at least up to about 99% accuracy).\n",
    "\n",
    "**Spoiler**: If you plan to do optional exercise 2.3, you should think *very* carefully about the architectures of your CNNs here (so you can reuse them!)."
   ]
  },
  {
   "cell_type": "code",
   "execution_count": 13,
   "id": "3c8baa0e-b17f-4a77-8a88-dadfdc6763ea",
   "metadata": {},
   "outputs": [],
   "source": [
    "# Define the CNN model\n",
    "class CNN(nn.Module):\n",
    "    def __init__(self):\n",
    "        super(CNN, self).__init__()\n",
    "        self.conv1 = nn.Conv2d(3, 16, kernel_size=3, stride=1, padding=1)\n",
    "        self.conv2 = nn.Conv2d(16, 32, kernel_size=3, stride=1, padding=1)\n",
    "        self.fc1 = nn.Linear(32 * 32 * 32, 128)\n",
    "        self.fc2 = nn.Linear(128, 10)\n",
    "\n",
    "    def forward(self, x):\n",
    "        x = F.relu(self.conv1(x))\n",
    "        x = F.relu(self.conv2(x))\n",
    "        x = torch.flatten(x, 1)\n",
    "        x = F.relu(self.fc1(x))\n",
    "        x = self.fc2(x)\n",
    "        return x"
   ]
  },
  {
   "cell_type": "code",
   "execution_count": 14,
   "id": "4646fd27",
   "metadata": {},
   "outputs": [
    {
     "data": {
      "text/html": [
       "Finishing last run (ID:buky7nzx) before initializing another..."
      ],
      "text/plain": [
       "<IPython.core.display.HTML object>"
      ]
     },
     "metadata": {},
     "output_type": "display_data"
    },
    {
     "data": {
      "text/html": [
       " View run <strong style=\"color:#cdcd00\">SimpleCNN</strong> at: <a href='https://wandb.ai/lorebaia/DLA%20Assigment%201/runs/buky7nzx' target=\"_blank\">https://wandb.ai/lorebaia/DLA%20Assigment%201/runs/buky7nzx</a><br/>Synced 6 W&B file(s), 0 media file(s), 0 artifact file(s) and 0 other file(s)"
      ],
      "text/plain": [
       "<IPython.core.display.HTML object>"
      ]
     },
     "metadata": {},
     "output_type": "display_data"
    },
    {
     "data": {
      "text/html": [
       "Find logs at: <code>.\\wandb\\run-20240316_002924-buky7nzx\\logs</code>"
      ],
      "text/plain": [
       "<IPython.core.display.HTML object>"
      ]
     },
     "metadata": {},
     "output_type": "display_data"
    },
    {
     "data": {
      "text/html": [
       "Successfully finished last run (ID:buky7nzx). Initializing new run:<br/>"
      ],
      "text/plain": [
       "<IPython.core.display.HTML object>"
      ]
     },
     "metadata": {},
     "output_type": "display_data"
    },
    {
     "data": {
      "text/html": [
       "wandb version 0.16.4 is available!  To upgrade, please run:\n",
       " $ pip install wandb --upgrade"
      ],
      "text/plain": [
       "<IPython.core.display.HTML object>"
      ]
     },
     "metadata": {},
     "output_type": "display_data"
    },
    {
     "data": {
      "text/html": [
       "Tracking run with wandb version 0.16.3"
      ],
      "text/plain": [
       "<IPython.core.display.HTML object>"
      ]
     },
     "metadata": {},
     "output_type": "display_data"
    },
    {
     "data": {
      "text/html": [
       "Run data is saved locally in <code>c:\\Users\\loreb\\Documents\\IntellijProjects\\PycharmProjects\\DLA\\wandb\\run-20240316_003140-myktptfd</code>"
      ],
      "text/plain": [
       "<IPython.core.display.HTML object>"
      ]
     },
     "metadata": {},
     "output_type": "display_data"
    },
    {
     "data": {
      "text/html": [
       "Syncing run <strong><a href='https://wandb.ai/lorebaia/DLA%20Assigment%201/runs/myktptfd' target=\"_blank\">SimpleCNN</a></strong> to <a href='https://wandb.ai/lorebaia/DLA%20Assigment%201' target=\"_blank\">Weights & Biases</a> (<a href='https://wandb.me/run' target=\"_blank\">docs</a>)<br/>"
      ],
      "text/plain": [
       "<IPython.core.display.HTML object>"
      ]
     },
     "metadata": {},
     "output_type": "display_data"
    },
    {
     "data": {
      "text/html": [
       " View project at <a href='https://wandb.ai/lorebaia/DLA%20Assigment%201' target=\"_blank\">https://wandb.ai/lorebaia/DLA%20Assigment%201</a>"
      ],
      "text/plain": [
       "<IPython.core.display.HTML object>"
      ]
     },
     "metadata": {},
     "output_type": "display_data"
    },
    {
     "data": {
      "text/html": [
       " View run at <a href='https://wandb.ai/lorebaia/DLA%20Assigment%201/runs/myktptfd' target=\"_blank\">https://wandb.ai/lorebaia/DLA%20Assigment%201/runs/myktptfd</a>"
      ],
      "text/plain": [
       "<IPython.core.display.HTML object>"
      ]
     },
     "metadata": {},
     "output_type": "display_data"
    },
    {
     "name": "stdout",
     "output_type": "stream",
     "text": [
      "Files already downloaded and verified\n",
      "Files already downloaded and verified\n"
     ]
    },
    {
     "name": "stderr",
     "output_type": "stream",
     "text": [
      "Training epoch 0:   0%|          | 0/391 [00:07<?, ?it/s]\n"
     ]
    },
    {
     "ename": "RuntimeError",
     "evalue": "mat1 and mat2 shapes cannot be multiplied (128x3072 and 784x128)",
     "output_type": "error",
     "traceback": [
      "\u001b[1;31m---------------------------------------------------------------------------\u001b[0m",
      "\u001b[1;31mRuntimeError\u001b[0m                              Traceback (most recent call last)",
      "Cell \u001b[1;32mIn[14], line 44\u001b[0m\n\u001b[0;32m     42\u001b[0m losses_and_accs \u001b[38;5;241m=\u001b[39m []\n\u001b[0;32m     43\u001b[0m \u001b[38;5;28;01mfor\u001b[39;00m epoch \u001b[38;5;129;01min\u001b[39;00m \u001b[38;5;28mrange\u001b[39m(epochs):\n\u001b[1;32m---> 44\u001b[0m     loss \u001b[38;5;241m=\u001b[39m \u001b[43mtrain_epoch\u001b[49m\u001b[43m(\u001b[49m\u001b[43mmodel_mlp\u001b[49m\u001b[43m,\u001b[49m\u001b[43m \u001b[49m\u001b[43mdl_train\u001b[49m\u001b[43m,\u001b[49m\u001b[43m \u001b[49m\u001b[43mopt\u001b[49m\u001b[43m,\u001b[49m\u001b[43m \u001b[49m\u001b[43mepoch\u001b[49m\u001b[43m,\u001b[49m\u001b[43m \u001b[49m\u001b[43mdevice\u001b[49m\u001b[38;5;241;43m=\u001b[39;49m\u001b[43mdevice\u001b[49m\u001b[43m)\u001b[49m\n\u001b[0;32m     45\u001b[0m     (val_acc, _) \u001b[38;5;241m=\u001b[39m evaluate_model(model_mlp, dl_val, device\u001b[38;5;241m=\u001b[39mdevice)\n\u001b[0;32m     46\u001b[0m     losses_and_accs\u001b[38;5;241m.\u001b[39mappend((loss, val_acc))\n",
      "Cell \u001b[1;32mIn[4], line 12\u001b[0m, in \u001b[0;36mtrain_epoch\u001b[1;34m(model, data_loader, optimizer, epoch, device)\u001b[0m\n\u001b[0;32m     10\u001b[0m inputs, targets \u001b[38;5;241m=\u001b[39m inputs\u001b[38;5;241m.\u001b[39mto(device), targets\u001b[38;5;241m.\u001b[39mto(device)\n\u001b[0;32m     11\u001b[0m optimizer\u001b[38;5;241m.\u001b[39mzero_grad()\n\u001b[1;32m---> 12\u001b[0m outputs \u001b[38;5;241m=\u001b[39m \u001b[43mmodel\u001b[49m\u001b[43m(\u001b[49m\u001b[43minputs\u001b[49m\u001b[43m)\u001b[49m \u001b[38;5;66;03m# logits\u001b[39;00m\n\u001b[0;32m     13\u001b[0m loss \u001b[38;5;241m=\u001b[39m F\u001b[38;5;241m.\u001b[39mcross_entropy(outputs, targets)\n\u001b[0;32m     14\u001b[0m loss\u001b[38;5;241m.\u001b[39mbackward()\n",
      "File \u001b[1;32mc:\\src\\anaconda3\\envs\\DLA\\Lib\\site-packages\\torch\\nn\\modules\\module.py:1511\u001b[0m, in \u001b[0;36mModule._wrapped_call_impl\u001b[1;34m(self, *args, **kwargs)\u001b[0m\n\u001b[0;32m   1509\u001b[0m     \u001b[38;5;28;01mreturn\u001b[39;00m \u001b[38;5;28mself\u001b[39m\u001b[38;5;241m.\u001b[39m_compiled_call_impl(\u001b[38;5;241m*\u001b[39margs, \u001b[38;5;241m*\u001b[39m\u001b[38;5;241m*\u001b[39mkwargs)  \u001b[38;5;66;03m# type: ignore[misc]\u001b[39;00m\n\u001b[0;32m   1510\u001b[0m \u001b[38;5;28;01melse\u001b[39;00m:\n\u001b[1;32m-> 1511\u001b[0m     \u001b[38;5;28;01mreturn\u001b[39;00m \u001b[38;5;28;43mself\u001b[39;49m\u001b[38;5;241;43m.\u001b[39;49m\u001b[43m_call_impl\u001b[49m\u001b[43m(\u001b[49m\u001b[38;5;241;43m*\u001b[39;49m\u001b[43margs\u001b[49m\u001b[43m,\u001b[49m\u001b[43m \u001b[49m\u001b[38;5;241;43m*\u001b[39;49m\u001b[38;5;241;43m*\u001b[39;49m\u001b[43mkwargs\u001b[49m\u001b[43m)\u001b[49m\n",
      "File \u001b[1;32mc:\\src\\anaconda3\\envs\\DLA\\Lib\\site-packages\\torch\\nn\\modules\\module.py:1520\u001b[0m, in \u001b[0;36mModule._call_impl\u001b[1;34m(self, *args, **kwargs)\u001b[0m\n\u001b[0;32m   1515\u001b[0m \u001b[38;5;66;03m# If we don't have any hooks, we want to skip the rest of the logic in\u001b[39;00m\n\u001b[0;32m   1516\u001b[0m \u001b[38;5;66;03m# this function, and just call forward.\u001b[39;00m\n\u001b[0;32m   1517\u001b[0m \u001b[38;5;28;01mif\u001b[39;00m \u001b[38;5;129;01mnot\u001b[39;00m (\u001b[38;5;28mself\u001b[39m\u001b[38;5;241m.\u001b[39m_backward_hooks \u001b[38;5;129;01mor\u001b[39;00m \u001b[38;5;28mself\u001b[39m\u001b[38;5;241m.\u001b[39m_backward_pre_hooks \u001b[38;5;129;01mor\u001b[39;00m \u001b[38;5;28mself\u001b[39m\u001b[38;5;241m.\u001b[39m_forward_hooks \u001b[38;5;129;01mor\u001b[39;00m \u001b[38;5;28mself\u001b[39m\u001b[38;5;241m.\u001b[39m_forward_pre_hooks\n\u001b[0;32m   1518\u001b[0m         \u001b[38;5;129;01mor\u001b[39;00m _global_backward_pre_hooks \u001b[38;5;129;01mor\u001b[39;00m _global_backward_hooks\n\u001b[0;32m   1519\u001b[0m         \u001b[38;5;129;01mor\u001b[39;00m _global_forward_hooks \u001b[38;5;129;01mor\u001b[39;00m _global_forward_pre_hooks):\n\u001b[1;32m-> 1520\u001b[0m     \u001b[38;5;28;01mreturn\u001b[39;00m \u001b[43mforward_call\u001b[49m\u001b[43m(\u001b[49m\u001b[38;5;241;43m*\u001b[39;49m\u001b[43margs\u001b[49m\u001b[43m,\u001b[49m\u001b[43m \u001b[49m\u001b[38;5;241;43m*\u001b[39;49m\u001b[38;5;241;43m*\u001b[39;49m\u001b[43mkwargs\u001b[49m\u001b[43m)\u001b[49m\n\u001b[0;32m   1522\u001b[0m \u001b[38;5;28;01mtry\u001b[39;00m:\n\u001b[0;32m   1523\u001b[0m     result \u001b[38;5;241m=\u001b[39m \u001b[38;5;28;01mNone\u001b[39;00m\n",
      "Cell \u001b[1;32mIn[7], line 15\u001b[0m, in \u001b[0;36mSimpleMLP.forward\u001b[1;34m(self, x)\u001b[0m\n\u001b[0;32m     13\u001b[0m x \u001b[38;5;241m=\u001b[39m x\u001b[38;5;241m.\u001b[39mflatten(\u001b[38;5;241m1\u001b[39m)\n\u001b[0;32m     14\u001b[0m \u001b[38;5;28;01mfor\u001b[39;00m layer \u001b[38;5;129;01min\u001b[39;00m \u001b[38;5;28mself\u001b[39m\u001b[38;5;241m.\u001b[39mlayers[:\u001b[38;5;241m-\u001b[39m\u001b[38;5;241m1\u001b[39m]:\n\u001b[1;32m---> 15\u001b[0m     x \u001b[38;5;241m=\u001b[39m F\u001b[38;5;241m.\u001b[39mrelu(\u001b[43mlayer\u001b[49m\u001b[43m(\u001b[49m\u001b[43mx\u001b[49m\u001b[43m)\u001b[49m)\n\u001b[0;32m     16\u001b[0m \u001b[38;5;28;01mreturn\u001b[39;00m x\n",
      "File \u001b[1;32mc:\\src\\anaconda3\\envs\\DLA\\Lib\\site-packages\\torch\\nn\\modules\\module.py:1511\u001b[0m, in \u001b[0;36mModule._wrapped_call_impl\u001b[1;34m(self, *args, **kwargs)\u001b[0m\n\u001b[0;32m   1509\u001b[0m     \u001b[38;5;28;01mreturn\u001b[39;00m \u001b[38;5;28mself\u001b[39m\u001b[38;5;241m.\u001b[39m_compiled_call_impl(\u001b[38;5;241m*\u001b[39margs, \u001b[38;5;241m*\u001b[39m\u001b[38;5;241m*\u001b[39mkwargs)  \u001b[38;5;66;03m# type: ignore[misc]\u001b[39;00m\n\u001b[0;32m   1510\u001b[0m \u001b[38;5;28;01melse\u001b[39;00m:\n\u001b[1;32m-> 1511\u001b[0m     \u001b[38;5;28;01mreturn\u001b[39;00m \u001b[38;5;28;43mself\u001b[39;49m\u001b[38;5;241;43m.\u001b[39;49m\u001b[43m_call_impl\u001b[49m\u001b[43m(\u001b[49m\u001b[38;5;241;43m*\u001b[39;49m\u001b[43margs\u001b[49m\u001b[43m,\u001b[49m\u001b[43m \u001b[49m\u001b[38;5;241;43m*\u001b[39;49m\u001b[38;5;241;43m*\u001b[39;49m\u001b[43mkwargs\u001b[49m\u001b[43m)\u001b[49m\n",
      "File \u001b[1;32mc:\\src\\anaconda3\\envs\\DLA\\Lib\\site-packages\\torch\\nn\\modules\\module.py:1520\u001b[0m, in \u001b[0;36mModule._call_impl\u001b[1;34m(self, *args, **kwargs)\u001b[0m\n\u001b[0;32m   1515\u001b[0m \u001b[38;5;66;03m# If we don't have any hooks, we want to skip the rest of the logic in\u001b[39;00m\n\u001b[0;32m   1516\u001b[0m \u001b[38;5;66;03m# this function, and just call forward.\u001b[39;00m\n\u001b[0;32m   1517\u001b[0m \u001b[38;5;28;01mif\u001b[39;00m \u001b[38;5;129;01mnot\u001b[39;00m (\u001b[38;5;28mself\u001b[39m\u001b[38;5;241m.\u001b[39m_backward_hooks \u001b[38;5;129;01mor\u001b[39;00m \u001b[38;5;28mself\u001b[39m\u001b[38;5;241m.\u001b[39m_backward_pre_hooks \u001b[38;5;129;01mor\u001b[39;00m \u001b[38;5;28mself\u001b[39m\u001b[38;5;241m.\u001b[39m_forward_hooks \u001b[38;5;129;01mor\u001b[39;00m \u001b[38;5;28mself\u001b[39m\u001b[38;5;241m.\u001b[39m_forward_pre_hooks\n\u001b[0;32m   1518\u001b[0m         \u001b[38;5;129;01mor\u001b[39;00m _global_backward_pre_hooks \u001b[38;5;129;01mor\u001b[39;00m _global_backward_hooks\n\u001b[0;32m   1519\u001b[0m         \u001b[38;5;129;01mor\u001b[39;00m _global_forward_hooks \u001b[38;5;129;01mor\u001b[39;00m _global_forward_pre_hooks):\n\u001b[1;32m-> 1520\u001b[0m     \u001b[38;5;28;01mreturn\u001b[39;00m \u001b[43mforward_call\u001b[49m\u001b[43m(\u001b[49m\u001b[38;5;241;43m*\u001b[39;49m\u001b[43margs\u001b[49m\u001b[43m,\u001b[49m\u001b[43m \u001b[49m\u001b[38;5;241;43m*\u001b[39;49m\u001b[38;5;241;43m*\u001b[39;49m\u001b[43mkwargs\u001b[49m\u001b[43m)\u001b[49m\n\u001b[0;32m   1522\u001b[0m \u001b[38;5;28;01mtry\u001b[39;00m:\n\u001b[0;32m   1523\u001b[0m     result \u001b[38;5;241m=\u001b[39m \u001b[38;5;28;01mNone\u001b[39;00m\n",
      "File \u001b[1;32mc:\\src\\anaconda3\\envs\\DLA\\Lib\\site-packages\\torch\\nn\\modules\\linear.py:116\u001b[0m, in \u001b[0;36mLinear.forward\u001b[1;34m(self, input)\u001b[0m\n\u001b[0;32m    115\u001b[0m \u001b[38;5;28;01mdef\u001b[39;00m \u001b[38;5;21mforward\u001b[39m(\u001b[38;5;28mself\u001b[39m, \u001b[38;5;28minput\u001b[39m: Tensor) \u001b[38;5;241m-\u001b[39m\u001b[38;5;241m>\u001b[39m Tensor:\n\u001b[1;32m--> 116\u001b[0m     \u001b[38;5;28;01mreturn\u001b[39;00m \u001b[43mF\u001b[49m\u001b[38;5;241;43m.\u001b[39;49m\u001b[43mlinear\u001b[49m\u001b[43m(\u001b[49m\u001b[38;5;28;43minput\u001b[39;49m\u001b[43m,\u001b[49m\u001b[43m \u001b[49m\u001b[38;5;28;43mself\u001b[39;49m\u001b[38;5;241;43m.\u001b[39;49m\u001b[43mweight\u001b[49m\u001b[43m,\u001b[49m\u001b[43m \u001b[49m\u001b[38;5;28;43mself\u001b[39;49m\u001b[38;5;241;43m.\u001b[39;49m\u001b[43mbias\u001b[49m\u001b[43m)\u001b[49m\n",
      "\u001b[1;31mRuntimeError\u001b[0m: mat1 and mat2 shapes cannot be multiplied (128x3072 and 784x128)"
     ]
    }
   ],
   "source": [
    "# start a new wandb run to track this script\n",
    "wandb.init(\n",
    "    # set the wandb project where this run will be logged\n",
    "    project=\"DLA Assigment 1\",\n",
    "    name=\"SimpleCNN\",\n",
    "    # track hyperparameters and run metadata\n",
    "    config={\n",
    "    \"learning_rate\": 0.0001,\n",
    "    \"architecture\": \"MLP\",\n",
    "    \"dataset\": \"CIFAR\",\n",
    "    \"epochs\": 100,\n",
    "    }\n",
    ")\n",
    "\n",
    "# Set device\n",
    "device = torch.device(\"cuda\" if torch.cuda.is_available() else \"cpu\")\n",
    "\n",
    "# Define hyperparameters\n",
    "batch_size = 128\n",
    "epochs = 10\n",
    "learning_rate = 0.001\n",
    "\n",
    "# Load CIFAR10 dataset\n",
    "transform = transforms.Compose([\n",
    "    transforms.ToTensor(),\n",
    "    transforms.Normalize((0.5, 0.5, 0.5), (0.5, 0.5, 0.5))\n",
    "])\n",
    "trainset = torchvision.datasets.CIFAR10(root='./data', train=True, download=True, transform=transform)\n",
    "dl_train = torch.utils.data.DataLoader(trainset, batch_size=batch_size, shuffle=True, num_workers=2)\n",
    "testset = torchvision.datasets.CIFAR10(root='./data', train=False, download=True, transform=transform)\n",
    "dl_val = torch.utils.data.DataLoader(testset, batch_size=batch_size, shuffle=False, num_workers=2)\n",
    "\n",
    "# Initialize the CNN model\n",
    "model = CNN().to(device)\n",
    "\n",
    "# Define loss function and optimizer\n",
    "optimizer = torch.optim.Adam(model.parameters(), lr=learning_rate)\n",
    "\n",
    "# Training loop.\n",
    "losses_and_accs = []\n",
    "for epoch in range(epochs):\n",
    "    loss = train_epoch(model_mlp, dl_train, opt, epoch, device=device)\n",
    "    (val_acc, _) = evaluate_model(model_mlp, dl_val, device=device)\n",
    "    losses_and_accs.append((loss, val_acc))\n",
    "    \n",
    "    # wandb\n",
    "    wandb.log({\"acc\": val_acc, \"loss\": loss})\n",
    "\n",
    "# [optional] finish the wandb run, necessary in notebooks\n",
    "wandb.finish()\n",
    "\n",
    "# And finally plot the curves.\n",
    "plot_validation_curves(losses_and_accs)\n",
    "print(f'Accuracy report on TEST:\\n {evaluate_model(model_mlp, dl_test, device=device)[1]}')"
   ]
  },
  {
   "cell_type": "markdown",
   "id": "ef4de2f2-abc5-4f98-9eaf-3497f734a022",
   "metadata": {},
   "source": [
    "-----\n",
    "## Exercise 2: Choose at Least One\n",
    "\n",
    "Below are **three** exercises that ask you to deepen your understanding of Deep Networks for visual recognition. You must choose **at least one** of the below for your final submission -- feel free to do **more**, but at least **ONE** you must submit."
   ]
  },
  {
   "cell_type": "markdown",
   "id": "07978e8e-9f2e-4949-9699-495af6cb6349",
   "metadata": {},
   "source": [
    "### Exercise 2.1: Explain why Residual Connections are so effective\n",
    "Use your two models (with and without residual connections) you developed above to study and **quantify** why the residual versions of the networks learn more effectively.\n",
    "\n",
    "**Hint**: A good starting point might be looking at the gradient magnitudes passing through the networks during backpropagation."
   ]
  },
  {
   "cell_type": "code",
   "execution_count": null,
   "id": "469e81a3-08ca-4549-a2f8-f47cf5a0308b",
   "metadata": {
    "tags": []
   },
   "outputs": [],
   "source": [
    "# Your code here."
   ]
  },
  {
   "cell_type": "markdown",
   "id": "440a3a7b-2ed6-4f58-a1b7-5ab1fc432893",
   "metadata": {},
   "source": [
    "### Exercise 2.2: Fully-convolutionalize a network.\n",
    "Take one of your trained classifiers and **fully-convolutionalize** it. That is, turn it into a network that can predict classification outputs at *all* pixels in an input image. Can you turn this into a **detector** of handwritten digits? Give it a try.\n",
    "\n",
    "**Hint 1**: Sometimes the process of fully-convolutionalization is called \"network surgery\".\n",
    "\n",
    "**Hint 2**: To test your fully-convolutionalized networks you might want to write some functions to take random MNIST samples and embed them into a larger image (i.e. in a regular grid or at random positions)."
   ]
  },
  {
   "cell_type": "code",
   "execution_count": null,
   "id": "9e33c912-0716-44ef-a91b-47ca19a2b2cd",
   "metadata": {
    "tags": []
   },
   "outputs": [],
   "source": [
    "# Your code here."
   ]
  },
  {
   "cell_type": "markdown",
   "id": "8243f811-8227-4c6f-b07f-56e8cd91643a",
   "metadata": {},
   "source": [
    "### Exercise 2.3: *Explain* the predictions of a CNN\n",
    "\n",
    "Use the CNN model you trained in Exercise 1.2 and implement [*Class Activation Maps*](http://cnnlocalization.csail.mit.edu/#:~:text=A%20class%20activation%20map%20for,decision%20made%20by%20the%20CNN.):\n",
    "\n",
    "> B. Zhou, A. Khosla, A. Lapedriza, A. Oliva, and A. Torralba. Learning Deep Features for Discriminative Localization. CVPR'16 (arXiv:1512.04150, 2015).\n",
    "\n",
    "Use your implementation to demonstrate how your trained CNN *attends* to specific image features to recognize *specific* classes.\n",
    "\n",
    "**Note**: Feel free to implement [Grad-CAM](https://arxiv.org/abs/1610.02391) instead of CAM."
   ]
  },
  {
   "cell_type": "code",
   "execution_count": null,
   "id": "d634a700-56c2-48fd-96e0-4c94d1bd0cfe",
   "metadata": {
    "tags": []
   },
   "outputs": [],
   "source": [
    "# Your code here."
   ]
  }
 ],
 "metadata": {
  "kernelspec": {
   "display_name": "Python 3 (ipykernel)",
   "language": "python",
   "name": "python3"
  },
  "language_info": {
   "codemirror_mode": {
    "name": "ipython",
    "version": 3
   },
   "file_extension": ".py",
   "mimetype": "text/x-python",
   "name": "python",
   "nbconvert_exporter": "python",
   "pygments_lexer": "ipython3",
   "version": "3.11.8"
  }
 },
 "nbformat": 4,
 "nbformat_minor": 5
}
