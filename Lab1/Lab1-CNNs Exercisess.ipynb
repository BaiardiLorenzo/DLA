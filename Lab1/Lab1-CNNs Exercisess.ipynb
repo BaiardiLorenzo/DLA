{
 "cells": [
  {
   "cell_type": "markdown",
   "metadata": {},
   "source": [
    "## Exercise 2: Choose at Least One\n",
    "\n",
    "Below are **three** exercises that ask you to deepen your understanding of Deep Networks for visual recognition. You must choose **at least one** of the below for your final submission -- feel free to do **more**, but at least **ONE** you must submit."
   ]
  },
  {
   "cell_type": "code",
   "execution_count": 21,
   "metadata": {},
   "outputs": [
    {
     "data": {
      "text/plain": [
       "True"
      ]
     },
     "execution_count": 21,
     "metadata": {},
     "output_type": "execute_result"
    }
   ],
   "source": [
    "import numpy as np\n",
    "import matplotlib.pyplot as plt\n",
    "from functools import reduce\n",
    "import torch\n",
    "import torchvision\n",
    "from torchvision.datasets import MNIST\n",
    "from torch.utils.data import Subset\n",
    "import torch.nn as nn\n",
    "import torch.nn.functional as F\n",
    "import torchvision.transforms as transforms\n",
    "from scipy.ndimage import zoom\n",
    "\n",
    "import wandb\n",
    "from datetime import datetime\n",
    "torch.cuda.is_available()"
   ]
  },
  {
   "cell_type": "code",
   "execution_count": 22,
   "metadata": {},
   "outputs": [],
   "source": [
    "from tqdm import tqdm\n",
    "from sklearn.metrics import accuracy_score, classification_report\n",
    "\n",
    "# Function to train a model for a single epoch over the data loader.\n",
    "def train_epoch(model, dl, opt, epoch='Unknown', device='cpu'):\n",
    "    model.train()\n",
    "    losses = []\n",
    "    for (xs, ys) in tqdm(dl, desc=f'Training epoch {epoch}', leave=True):\n",
    "        xs, ys = xs.to(device), ys.to(device)\n",
    "        # Zero out the gradients.\n",
    "        opt.zero_grad()\n",
    "        # Forward through the model.\n",
    "        logits = model(xs) \n",
    "        # Compute the cross-entropy loss.\n",
    "        loss = F.cross_entropy(logits, ys)\n",
    "        # Backward through the model.\n",
    "        loss.backward()\n",
    "        # Update the model parameters.\n",
    "        opt.step()\n",
    "        # Save the loss value.\n",
    "        losses.append(loss.item())\n",
    "    # Return the average loss for this epoch.\n",
    "    return np.mean(losses)\n",
    "\n",
    "# Function to evaluate model over all samples in the data loader.\n",
    "def evaluate_model(model, dl, device='cpu'):\n",
    "    model.eval()\n",
    "    predictions = []\n",
    "    ground_truths = []\n",
    "    with torch.no_grad():\n",
    "        for (xs, ys) in tqdm(dl, desc='Evaluating', leave=False):\n",
    "            xs = xs.to(device)\n",
    "            logits = model(xs)\n",
    "            preds = torch.argmax(logits, 1)\n",
    "            \n",
    "            # Save the ground truth and predictions.\n",
    "            ground_truths.append(ys)\n",
    "            predictions.append(preds.detach().cpu().numpy())\n",
    "            \n",
    "    predictions = np.hstack(predictions)\n",
    "    ground_truths = np.hstack(ground_truths)\n",
    "    \n",
    "    # Return accuracy score and classification report.\n",
    "    return accuracy_score(ground_truths, predictions), classification_report(ground_truths, predictions, zero_division=0, digits=3, output_dict=True)\n",
    "\n",
    "\n",
    "def train_model(model, dl_train, dl_val, opt, epochs, model_name, dataset_type, lr, batch_size, device='cpu'):\n",
    "    wandb.init(\n",
    "        # set the wandb project where this run will be logged\n",
    "        project=\"DLA Assigment 1\",\n",
    "        name=model_name + \"-\" + datetime.now().strftime(\"%Y%m%d-%H%M%S\"),\n",
    "        # track hyperparameters and run metadata\n",
    "        config={\n",
    "            \"architecture\": model_name,\n",
    "            \"dataset\": dataset_type,\n",
    "            \"epochs\": epochs,\n",
    "            \"learning_rate\": lr,\n",
    "            \"batch_size\": batch_size,\n",
    "            \"device\": device,\n",
    "            \"optimizer\": \"Adam\"\n",
    "        }\n",
    "    )\n",
    "    wandb.watch(model, nn.CrossEntropyLoss, log=\"all\", log_freq=10)\n",
    "    losses_and_accs = []\n",
    "    classification_report = []\n",
    "    for epoch in range(epochs):\n",
    "        loss = train_epoch(model, dl_train, opt, epoch, device=device)\n",
    "        (val_acc, class_rep) = evaluate_model(model, dl_val, device=device)\n",
    "        losses_and_accs.append((loss, val_acc))\n",
    "        classification_report.append(class_rep)\n",
    "        \n",
    "        print(f'Epoch {epoch}: Loss - {loss:.4f}, Validation Acc - {val_acc:.4f}')\n",
    "        # wandb\n",
    "        wandb.log({\"epoch\": epoch, \"loss\": loss, \"acc\": val_acc, \"classification_report\": class_rep})\n",
    "                \n",
    "    # [optional] finish the wandb run, necessary in notebooks\n",
    "    wandb.unwatch(model)\n",
    "    wandb.finish()    \n",
    "\n",
    "    torch.save(model.state_dict(), f\"model_states/model_state_{model_name}_{dataset_type}.pt\")\n",
    "    torch.save(model, f\"model_states/model_{model_name}_{dataset_type}.pt\")\n",
    "\n",
    "    return losses_and_accs\n",
    "\n",
    "\n",
    "# Simple function to plot the loss curve and validation accuracy.\n",
    "def plot_validation_curves(training_history):\n",
    "    losses, accuracies = zip(*training_history)\n",
    "    plt.figure(figsize=(16, 8))\n",
    "\n",
    "    plt.subplot(1, 2, 1)\n",
    "    plt.plot(losses)\n",
    "    plt.title('Average Training Loss per Epoch')\n",
    "    plt.xlabel('Epoch')\n",
    "    plt.ylabel('Loss')\n",
    "\n",
    "    plt.subplot(1, 2, 2)\n",
    "    plt.plot(accuracies)\n",
    "    plt.title(f'Best Accuracy = {np.max(accuracies)} @ epoch {np.argmax(accuracies)}')\n",
    "    plt.xlabel('Epoch')\n",
    "    plt.ylabel('Validation Accuracy')\n",
    "    plt.show()"
   ]
  },
  {
   "cell_type": "code",
   "execution_count": 3,
   "metadata": {},
   "outputs": [],
   "source": [
    "class NOTRESNET(nn.Module):\n",
    "    def __init__(self, num_classes=10):\n",
    "        super(NOTRESNET, self).__init__()\n",
    "        self.conv1 = nn.Conv2d(3, 64, kernel_size=3, stride=1, padding=1, bias=False)\n",
    "        self.bn1 = nn.BatchNorm2d(64)\n",
    "        self.relu = nn.ReLU(inplace=True)\n",
    "        self.layer1 = self.make_layer(64, 64, 2, stride=1)\n",
    "        self.layer2 = self.make_layer(64, 128, 2, stride=2)\n",
    "        self.layer3 = self.make_layer(128, 256, 2, stride=2)\n",
    "        self.layer4 = self.make_layer(256, 512, 2, stride=2)\n",
    "        self.avgpool = nn.AdaptiveAvgPool2d((1, 1))\n",
    "        self.fc = nn.Linear(512, num_classes)\n",
    "\n",
    "    def make_layer(self, in_channels, out_channels, num_blocks, stride):\n",
    "        layers = []\n",
    "        layers.append(nn.Conv2d(in_channels, out_channels, kernel_size=3, stride=stride, padding=1, bias=False))\n",
    "        layers.append(nn.BatchNorm2d(out_channels))\n",
    "        layers.append(nn.ReLU(inplace=True))\n",
    "        for _ in range(1, num_blocks):\n",
    "            layers.append(nn.Conv2d(out_channels, out_channels, kernel_size=3, stride=1, padding=1, bias=False))\n",
    "            layers.append(nn.BatchNorm2d(out_channels))\n",
    "            layers.append(nn.ReLU(inplace=True))\n",
    "        return nn.Sequential(*layers)\n",
    "\n",
    "    def forward(self, x):\n",
    "        x = self.conv1(x)\n",
    "        x = self.bn1(x)\n",
    "        x = self.relu(x)\n",
    "        x = self.layer1(x)\n",
    "        x = self.layer2(x)\n",
    "        x = self.layer3(x)\n",
    "        x = self.layer4(x)\n",
    "        x = self.avgpool(x)\n",
    "        x = x.view(x.size(0), -1)\n",
    "        x = self.fc(x)\n",
    "        return x"
   ]
  },
  {
   "cell_type": "code",
   "execution_count": 3,
   "metadata": {},
   "outputs": [],
   "source": [
    "# Define the basic building blocks of ResNet: Residual Block\n",
    "class ResidualBlock(nn.Module):\n",
    "    def __init__(self, in_channels, out_channels, stride=1):\n",
    "        super(ResidualBlock, self).__init__()\n",
    "        self.conv1 = nn.Conv2d(in_channels, out_channels, kernel_size=3, stride=stride, padding=1, bias=False)\n",
    "        self.bn1 = nn.BatchNorm2d(out_channels)\n",
    "        self.conv2 = nn.Conv2d(out_channels, out_channels, kernel_size=3, stride=1, padding=1, bias=False)\n",
    "        self.bn2 = nn.BatchNorm2d(out_channels)\n",
    "        \n",
    "        self.shortcut = nn.Sequential()\n",
    "        if stride != 1 or in_channels != out_channels:\n",
    "            self.shortcut = nn.Sequential(\n",
    "                nn.Conv2d(in_channels, out_channels, kernel_size=1, stride=stride, bias=False),\n",
    "                nn.BatchNorm2d(out_channels),\n",
    "            )\n",
    "\n",
    "    def forward(self, x):\n",
    "        out = F.relu(self.bn1(self.conv1(x)))\n",
    "        out = self.bn2(self.conv2(out))\n",
    "        out += self.shortcut(x)\n",
    "        out = F.relu(out)\n",
    "        return out\n",
    "    \n",
    "# The ResNet model\n",
    "class ResNet18(nn.Module):\n",
    "    def __init__(self, num_blocks, num_classes):\n",
    "        super(ResNet18, self).__init__()\n",
    "        self.in_channels = 64    \n",
    "\n",
    "        self.conv1 = nn.Conv2d(3, self.in_channels, kernel_size=3, stride=1, padding=1, bias=False)\n",
    "        self.bn = nn.BatchNorm2d(self.in_channels)\n",
    "\n",
    "        self.layer1 = self._make_layer(ResidualBlock, 64, num_blocks[0], stride=1)\n",
    "        self.layer2 = self._make_layer(ResidualBlock, 128, num_blocks[1], stride=2)\n",
    "        self.layer3 = self._make_layer(ResidualBlock, 256, num_blocks[2], stride=2)\n",
    "        self.layer4 = self._make_layer(ResidualBlock, 512, num_blocks[3], stride=2)\n",
    "\n",
    "        self.fc = nn.Linear(512, num_classes)\n",
    "\n",
    "    def _make_layer(self, block, out_channels, num_blocks, stride):\n",
    "        strides = [stride] + [1]*(num_blocks-1)    # [stride, 1, 1, ...] (num_blocks times) ensures that the first block has stride=stride\n",
    "        layers = []\n",
    "        for stride in strides:\n",
    "            layers.append(block(self.in_channels, out_channels, stride))\n",
    "            self.in_channels = out_channels\n",
    "        return nn.Sequential(*layers)\n",
    "    \n",
    "    def forward(self, x):\n",
    "        out = F.relu(self.bn(self.conv1(x)))       # [batch_size, 3, 32, 32] -> [batch_size, 64, 32, 32]\n",
    "        out = self.layer1(out)                     # [batch_size, 64, 32, 32] -> [batch_size, 64, 32, 32] (stride=1)\n",
    "        out = self.layer2(out)                     # [batch_size, 64, 32, 32] -> [batch_size, 128, 16, 16] (stride=2)\n",
    "        out = self.layer3(out)                     # [batch_size, 128, 16, 16] -> [batch_size, 256, 8, 8] (stride=2)\n",
    "        out = self.layer4(out)                     # [batch_size, 256, 8, 8] -> [batch_size, 512, 4, 4] (stride=2)\n",
    "        out = F.avg_pool2d(out, 4)                 # [batch_size, 512, 4, 4] -> [batch_size, 512, 1, 1] (avg_pool2d)\n",
    "        out = out.view(out.size(0), -1)            # [batch_size, 512, 1, 1] -> [batch_size, 512]\n",
    "        out = self.fc(out)                         # [batch_size, 512] -> [batch_size, num_classes]\n",
    "        return out\n"
   ]
  },
  {
   "cell_type": "markdown",
   "metadata": {},
   "source": [
    "### Exercise 2.1: Explain why Residual Connections are so effective\n",
    "Use your two models (with and without residual connections) you developed above to study and **quantify** why the residual versions of the networks learn more effectively.\n",
    "\n",
    "**Hint**: A good starting point might be looking at the gradient magnitudes passing through the networks during backpropagation."
   ]
  },
  {
   "cell_type": "code",
   "execution_count": 5,
   "metadata": {},
   "outputs": [
    {
     "name": "stdout",
     "output_type": "stream",
     "text": [
      "Files already downloaded and verified\n"
     ]
    },
    {
     "name": "stderr",
     "output_type": "stream",
     "text": [
      "Training epoch 0: 100%|██████████| 8/8 [00:14<00:00,  1.81s/it]\n",
      "Training epoch 0: 100%|██████████| 8/8 [00:11<00:00,  1.49s/it]\n",
      "Training epoch 1: 100%|██████████| 8/8 [00:13<00:00,  1.64s/it]\n",
      "Training epoch 1: 100%|██████████| 8/8 [00:12<00:00,  1.55s/it]\n",
      "Training epoch 2: 100%|██████████| 8/8 [00:13<00:00,  1.64s/it]\n",
      "Training epoch 2: 100%|██████████| 8/8 [00:11<00:00,  1.46s/it]\n",
      "Training epoch 3: 100%|██████████| 8/8 [00:12<00:00,  1.58s/it]\n",
      "Training epoch 3: 100%|██████████| 8/8 [00:11<00:00,  1.45s/it]\n",
      "Training epoch 4: 100%|██████████| 8/8 [00:12<00:00,  1.60s/it]\n",
      "Training epoch 4: 100%|██████████| 8/8 [00:11<00:00,  1.48s/it]\n"
     ]
    }
   ],
   "source": [
    "device = torch.device(\"cuda:0\" if torch.cuda.is_available() else \"cpu\")\n",
    "\n",
    "# Retrain the ResNet18 model and the CNN model for quantify the gradient vanishing problem\n",
    "cnn = NOTRESNET().to(device)\n",
    "resnet18 = ResNet18([2, 2, 2, 2], 10).to(device)\n",
    "\n",
    "# Dataset\n",
    "transform = transforms.Compose([\n",
    "    transforms.ToTensor(),\n",
    "    transforms.Normalize((0.5, 0.5, 0.5), (0.5, 0.5, 0.5)),\n",
    "])\n",
    "\n",
    "trainset = torchvision.datasets.CIFAR10(root='./data', train=True, download=True, transform=transform)\n",
    "trainset = Subset(trainset, np.random.choice(len(trainset), 1000, replace=False))\n",
    "trainloader = torch.utils.data.DataLoader(trainset, batch_size=128, shuffle=True, num_workers=2)\n",
    "\n",
    "# Loss and optimizer\n",
    "lr = 0.001\n",
    "criterion = nn.CrossEntropyLoss()\n",
    "optimizer_resnet = torch.optim.Adam(resnet18.parameters(), lr=lr)\n",
    "optimizer_cnn = torch.optim.Adam(cnn.parameters(), lr=lr)\n",
    "\n",
    "# Track gradient magnitudes\n",
    "gradient_magnitudes_resnet = []\n",
    "gradient_magnitudes_cnn = []\n",
    "\n",
    "def train_gradient(model, optimizer, gradient_magnitudes):\n",
    "    model.train()\n",
    "    for inputs, labels in tqdm(trainloader, desc=f'Training epoch {epoch}', leave=True):\n",
    "        inputs, labels = inputs.to(device), labels.to(device)\n",
    "\n",
    "        optimizer.zero_grad()\n",
    "        outputs = model(inputs)\n",
    "        loss = criterion(outputs, labels)\n",
    "        loss.backward()\n",
    "        \n",
    "        total_gradient = 0.0\n",
    "        for p in model.parameters():\n",
    "            if p.grad is not None:\n",
    "                total_gradient += p.grad.abs().sum().item()\n",
    "        gradient_magnitudes.append(total_gradient)\n",
    "        \n",
    "        optimizer.step()\n",
    "\n",
    "epochs = 5\n",
    "# Train for 5 epochs\n",
    "for epoch in range(epochs):  \n",
    "    train_gradient(resnet18, optimizer_resnet, gradient_magnitudes_resnet)\n",
    "    train_gradient(cnn, optimizer_cnn, gradient_magnitudes_cnn)"
   ]
  },
  {
   "cell_type": "code",
   "execution_count": 6,
   "metadata": {},
   "outputs": [
    {
     "data": {
      "image/png": "[encoded data removed]",
      "text/plain": [
       "<Figure size 640x480 with 1 Axes>"
      ]
     },
     "metadata": {},
     "output_type": "display_data"
    }
   ],
   "source": [
    "import matplotlib.pyplot as plt\n",
    "\n",
    "plt.plot(gradient_magnitudes_resnet, label='ResNet18')\n",
    "plt.plot(gradient_magnitudes_cnn, label='CNN')\n",
    "plt.xlabel('Iteration')\n",
    "plt.ylabel('Gradient Magnitude')\n",
    "plt.legend()\n",
    "plt.show()"
   ]
  },
  {
   "cell_type": "markdown",
   "metadata": {},
   "source": [
    "### Exercise 2.2: Fully-convolutionalize a network.\n",
    "Take one of your trained classifiers and **fully-convolutionalize** it. That is, turn it into a network that can predict classification outputs at *all* pixels in an input image. Can you turn this into a **detector** of handwritten digits? Give it a try.\n",
    "\n",
    "**Hint 1**: Sometimes the process of fully-convolutionalization is called \"network surgery\".\n",
    "\n",
    "**Hint 2**: To test your fully-convolutionalized networks you might want to write some functions to take random MNIST samples and embed them into a larger image (i.e. in a regular grid or at random positions)."
   ]
  },
  {
   "cell_type": "code",
   "execution_count": 27,
   "metadata": {},
   "outputs": [],
   "source": [
    "class ResNet18FCN(nn.Module):\n",
    "    def __init__(self, model, num_classes):\n",
    "        super(ResNet18FCN, self).__init__()\n",
    "\n",
    "        # Remove the fully connected layer\n",
    "        self.model = nn.Sequential(*list(model.children())[:-1])\n",
    "\n",
    "        # Fully convolutional classification layer\n",
    "        self.classifier = nn.Conv2d(512, num_classes, kernel_size=1)\n",
    "\n",
    "        # Upsample the output to the input size\n",
    "        self.resizer = nn.ConvTranspose2d(num_classes, num_classes, kernel_size=64, padding=16, stride=32)\n",
    "        self.resizer.weight.data.copy_(self.bilinear(num_classes, num_classes, 64))\n",
    "\n",
    "    def bilinear(self, in_channels, out_channels, kernel_size):\n",
    "        factor = (kernel_size + 1) // 2\n",
    "        if kernel_size % 2 == 1:\n",
    "            center = factor - 1\n",
    "        else:\n",
    "            center = factor - 0.5\n",
    "        og = (torch.arange(kernel_size).reshape(-1, 1), torch.arange(kernel_size).reshape(1, -1))\n",
    "        filt = (1 - torch.abs(og[0] - center) / factor) * (1 - torch.abs(og[1] - center) / factor)\n",
    "        weight = torch.zeros((in_channels, out_channels, kernel_size, kernel_size))\n",
    "        weight[range(in_channels), range(out_channels), :, :] = filt\n",
    "        return weight\n",
    "\n",
    "    def forward(self, x):\n",
    "        out = F.relu(self.model[1](self.model[0](x)))\n",
    "        out = self.model[2](out)\n",
    "        out = self.classifier(out)                       # [batch_size, 512, 4, 4] -> [batch_size, num_classes, 4, 4]\n",
    "        out = self.resizer(out)                          # [batch_size, num_classes, 4, 4] -> [batch_size, num_classes, 32, 32]\n",
    "        return out"
   ]
  },
  {
   "cell_type": "code",
   "execution_count": 11,
   "metadata": {},
   "outputs": [
    {
     "data": {
      "text/html": [
       "wandb version 0.17.0 is available!  To upgrade, please run:\n",
       " $ pip install wandb --upgrade"
      ],
      "text/plain": [
       "<IPython.core.display.HTML object>"
      ]
     },
     "metadata": {},
     "output_type": "display_data"
    },
    {
     "data": {
      "text/html": [
       "Tracking run with wandb version 0.16.5"
      ],
      "text/plain": [
       "<IPython.core.display.HTML object>"
      ]
     },
     "metadata": {},
     "output_type": "display_data"
    },
    {
     "data": {
      "text/html": [
       "Run data is saved locally in <code>c:\\Users\\loreb\\Documents\\IntellijProjects\\PycharmProjects\\DLA\\Lab1\\wandb\\run-20240521_173419-b5mczxac</code>"
      ],
      "text/plain": [
       "<IPython.core.display.HTML object>"
      ]
     },
     "metadata": {},
     "output_type": "display_data"
    },
    {
     "data": {
      "text/html": [
       "Syncing run <strong><a href='https://wandb.ai/lorebaia/DLA%20Assigment%201/runs/b5mczxac/workspace' target=\"_blank\">ResNet18-20240521-173419</a></strong> to <a href='https://wandb.ai/lorebaia/DLA%20Assigment%201' target=\"_blank\">Weights & Biases</a> (<a href='https://wandb.me/run' target=\"_blank\">docs</a>)<br/>"
      ],
      "text/plain": [
       "<IPython.core.display.HTML object>"
      ]
     },
     "metadata": {},
     "output_type": "display_data"
    },
    {
     "data": {
      "text/html": [
       " View project at <a href='https://wandb.ai/lorebaia/DLA%20Assigment%201' target=\"_blank\">https://wandb.ai/lorebaia/DLA%20Assigment%201</a>"
      ],
      "text/plain": [
       "<IPython.core.display.HTML object>"
      ]
     },
     "metadata": {},
     "output_type": "display_data"
    },
    {
     "data": {
      "text/html": [
       " View run at <a href='https://wandb.ai/lorebaia/DLA%20Assigment%201/runs/b5mczxac/workspace' target=\"_blank\">https://wandb.ai/lorebaia/DLA%20Assigment%201/runs/b5mczxac/workspace</a>"
      ],
      "text/plain": [
       "<IPython.core.display.HTML object>"
      ]
     },
     "metadata": {},
     "output_type": "display_data"
    },
    {
     "name": "stderr",
     "output_type": "stream",
     "text": [
      "Training epoch 0: 100%|██████████| 469/469 [02:28<00:00,  3.16it/s]\n",
      "                                                           \r"
     ]
    },
    {
     "name": "stdout",
     "output_type": "stream",
     "text": [
      "Epoch 0: Loss - 0.1182, Validation Acc - 0.9921\n"
     ]
    },
    {
     "name": "stderr",
     "output_type": "stream",
     "text": [
      "Training epoch 1: 100%|██████████| 469/469 [02:27<00:00,  3.18it/s]\n",
      "                                                           \r"
     ]
    },
    {
     "name": "stdout",
     "output_type": "stream",
     "text": [
      "Epoch 1: Loss - 0.0391, Validation Acc - 0.9850\n"
     ]
    },
    {
     "name": "stderr",
     "output_type": "stream",
     "text": [
      "Training epoch 2: 100%|██████████| 469/469 [02:28<00:00,  3.16it/s]\n",
      "                                                           \r"
     ]
    },
    {
     "name": "stdout",
     "output_type": "stream",
     "text": [
      "Epoch 2: Loss - 0.0298, Validation Acc - 0.9883\n"
     ]
    },
    {
     "name": "stderr",
     "output_type": "stream",
     "text": [
      "Training epoch 3: 100%|██████████| 469/469 [02:28<00:00,  3.17it/s]\n",
      "                                                           \r"
     ]
    },
    {
     "name": "stdout",
     "output_type": "stream",
     "text": [
      "Epoch 3: Loss - 0.0271, Validation Acc - 0.9925\n"
     ]
    },
    {
     "name": "stderr",
     "output_type": "stream",
     "text": [
      "Training epoch 4: 100%|██████████| 469/469 [02:28<00:00,  3.17it/s]\n",
      "                                                           \r"
     ]
    },
    {
     "name": "stdout",
     "output_type": "stream",
     "text": [
      "Epoch 4: Loss - 0.0204, Validation Acc - 0.9912\n"
     ]
    },
    {
     "data": {
      "text/html": [
       "<style>\n",
       "    table.wandb td:nth-child(1) { padding: 0 10px; text-align: left ; width: auto;} td:nth-child(2) {text-align: left ; width: 100%}\n",
       "    .wandb-row { display: flex; flex-direction: row; flex-wrap: wrap; justify-content: flex-start; width: 100% }\n",
       "    .wandb-col { display: flex; flex-direction: column; flex-basis: 100%; flex: 1; padding: 10px; }\n",
       "    </style>\n",
       "<div class=\"wandb-row\"><div class=\"wandb-col\"><h3>Run history:</h3><br/><table class=\"wandb\"><tr><td>acc</td><td>█▁▄█▇</td></tr><tr><td>epoch</td><td>▁▃▅▆█</td></tr><tr><td>loss</td><td>█▂▂▁▁</td></tr></table><br/></div><div class=\"wandb-col\"><h3>Run summary:</h3><br/><table class=\"wandb\"><tr><td>acc</td><td>0.9912</td></tr><tr><td>epoch</td><td>4</td></tr><tr><td>loss</td><td>0.02038</td></tr></table><br/></div></div>"
      ],
      "text/plain": [
       "<IPython.core.display.HTML object>"
      ]
     },
     "metadata": {},
     "output_type": "display_data"
    },
    {
     "data": {
      "text/html": [
       " View run <strong style=\"color:#cdcd00\">ResNet18-20240521-173419</strong> at: <a href='https://wandb.ai/lorebaia/DLA%20Assigment%201/runs/b5mczxac/workspace' target=\"_blank\">https://wandb.ai/lorebaia/DLA%20Assigment%201/runs/b5mczxac/workspace</a><br/>Synced 6 W&B file(s), 0 media file(s), 0 artifact file(s) and 0 other file(s)"
      ],
      "text/plain": [
       "<IPython.core.display.HTML object>"
      ]
     },
     "metadata": {},
     "output_type": "display_data"
    },
    {
     "data": {
      "text/html": [
       "Find logs at: <code>.\\wandb\\run-20240521_173419-b5mczxac\\logs</code>"
      ],
      "text/plain": [
       "<IPython.core.display.HTML object>"
      ]
     },
     "metadata": {},
     "output_type": "display_data"
    }
   ],
   "source": [
    "device = torch.device(\"cuda\" if torch.cuda.is_available() else \"cpu\")\n",
    "\n",
    "# Standard MNIST transform.\n",
    "transform = transforms.Compose([\n",
    "    transforms.Resize((32, 32)),\n",
    "    transforms.Grayscale(num_output_channels=3),\n",
    "    transforms.ToTensor(),\n",
    "    transforms.Normalize((0.1307,), (0.3081,))\n",
    "])\n",
    "\n",
    "# Load MNIST train and test.\n",
    "ds_train = MNIST(root='./data', train=True, download=True, transform=transform)\n",
    "ds_test = MNIST(root='./data', train=False, download=True, transform=transform)\n",
    "\n",
    "# Create data loaders.\n",
    "batch_size = 128\n",
    "\n",
    "trainloader = torch.utils.data.DataLoader(ds_train, batch_size=batch_size, shuffle=True)\n",
    "testloader = torch.utils.data.DataLoader(ds_test, batch_size=batch_size, shuffle=False)\n",
    "\n",
    "resnet18 = ResNet18([2, 2, 2, 2], 10).to(device)\n",
    "\n",
    "lr = 0.001\n",
    "# Define loss function and optimizer\n",
    "optimizer = torch.optim.Adam(resnet18.parameters(), lr=lr)\n",
    "\n",
    "# Train the model\n",
    "epochs = 5\n",
    "los_acc = train_model(resnet18, trainloader, testloader, optimizer, epochs, 'ResNet18', 'MNIST-32x32', lr, batch_size, device=device)\n"
   ]
  },
  {
   "cell_type": "code",
   "execution_count": 28,
   "metadata": {},
   "outputs": [
    {
     "ename": "RuntimeError",
     "evalue": "Given groups=1, weight of size [10, 512, 1, 1], expected input[128, 64, 32, 32] to have 512 channels, but got 64 channels instead",
     "output_type": "error",
     "traceback": [
      "\u001b[1;31m---------------------------------------------------------------------------\u001b[0m",
      "\u001b[1;31mRuntimeError\u001b[0m                              Traceback (most recent call last)",
      "Cell \u001b[1;32mIn[28], line 24\u001b[0m\n\u001b[0;32m     22\u001b[0m \u001b[38;5;28;01mfor\u001b[39;00m image, label \u001b[38;5;129;01min\u001b[39;00m samples:\n\u001b[0;32m     23\u001b[0m     image \u001b[38;5;241m=\u001b[39m image\u001b[38;5;241m.\u001b[39mto(device)\n\u001b[1;32m---> 24\u001b[0m     output \u001b[38;5;241m=\u001b[39m \u001b[43mresnet18_fcn\u001b[49m\u001b[43m(\u001b[49m\u001b[43mimage\u001b[49m\u001b[43m)\u001b[49m\n\u001b[0;32m     25\u001b[0m     outputs\u001b[38;5;241m.\u001b[39mappend(output)\n\u001b[0;32m     26\u001b[0m     ground_truths\u001b[38;5;241m.\u001b[39mappend(label)\n",
      "File \u001b[1;32mc:\\Users\\loreb\\miniconda3\\envs\\DLA\\Lib\\site-packages\\torch\\nn\\modules\\module.py:1532\u001b[0m, in \u001b[0;36mModule._wrapped_call_impl\u001b[1;34m(self, *args, **kwargs)\u001b[0m\n\u001b[0;32m   1530\u001b[0m     \u001b[38;5;28;01mreturn\u001b[39;00m \u001b[38;5;28mself\u001b[39m\u001b[38;5;241m.\u001b[39m_compiled_call_impl(\u001b[38;5;241m*\u001b[39margs, \u001b[38;5;241m*\u001b[39m\u001b[38;5;241m*\u001b[39mkwargs)  \u001b[38;5;66;03m# type: ignore[misc]\u001b[39;00m\n\u001b[0;32m   1531\u001b[0m \u001b[38;5;28;01melse\u001b[39;00m:\n\u001b[1;32m-> 1532\u001b[0m     \u001b[38;5;28;01mreturn\u001b[39;00m \u001b[38;5;28;43mself\u001b[39;49m\u001b[38;5;241;43m.\u001b[39;49m\u001b[43m_call_impl\u001b[49m\u001b[43m(\u001b[49m\u001b[38;5;241;43m*\u001b[39;49m\u001b[43margs\u001b[49m\u001b[43m,\u001b[49m\u001b[43m \u001b[49m\u001b[38;5;241;43m*\u001b[39;49m\u001b[38;5;241;43m*\u001b[39;49m\u001b[43mkwargs\u001b[49m\u001b[43m)\u001b[49m\n",
      "File \u001b[1;32mc:\\Users\\loreb\\miniconda3\\envs\\DLA\\Lib\\site-packages\\torch\\nn\\modules\\module.py:1541\u001b[0m, in \u001b[0;36mModule._call_impl\u001b[1;34m(self, *args, **kwargs)\u001b[0m\n\u001b[0;32m   1536\u001b[0m \u001b[38;5;66;03m# If we don't have any hooks, we want to skip the rest of the logic in\u001b[39;00m\n\u001b[0;32m   1537\u001b[0m \u001b[38;5;66;03m# this function, and just call forward.\u001b[39;00m\n\u001b[0;32m   1538\u001b[0m \u001b[38;5;28;01mif\u001b[39;00m \u001b[38;5;129;01mnot\u001b[39;00m (\u001b[38;5;28mself\u001b[39m\u001b[38;5;241m.\u001b[39m_backward_hooks \u001b[38;5;129;01mor\u001b[39;00m \u001b[38;5;28mself\u001b[39m\u001b[38;5;241m.\u001b[39m_backward_pre_hooks \u001b[38;5;129;01mor\u001b[39;00m \u001b[38;5;28mself\u001b[39m\u001b[38;5;241m.\u001b[39m_forward_hooks \u001b[38;5;129;01mor\u001b[39;00m \u001b[38;5;28mself\u001b[39m\u001b[38;5;241m.\u001b[39m_forward_pre_hooks\n\u001b[0;32m   1539\u001b[0m         \u001b[38;5;129;01mor\u001b[39;00m _global_backward_pre_hooks \u001b[38;5;129;01mor\u001b[39;00m _global_backward_hooks\n\u001b[0;32m   1540\u001b[0m         \u001b[38;5;129;01mor\u001b[39;00m _global_forward_hooks \u001b[38;5;129;01mor\u001b[39;00m _global_forward_pre_hooks):\n\u001b[1;32m-> 1541\u001b[0m     \u001b[38;5;28;01mreturn\u001b[39;00m \u001b[43mforward_call\u001b[49m\u001b[43m(\u001b[49m\u001b[38;5;241;43m*\u001b[39;49m\u001b[43margs\u001b[49m\u001b[43m,\u001b[49m\u001b[43m \u001b[49m\u001b[38;5;241;43m*\u001b[39;49m\u001b[38;5;241;43m*\u001b[39;49m\u001b[43mkwargs\u001b[49m\u001b[43m)\u001b[49m\n\u001b[0;32m   1543\u001b[0m \u001b[38;5;28;01mtry\u001b[39;00m:\n\u001b[0;32m   1544\u001b[0m     result \u001b[38;5;241m=\u001b[39m \u001b[38;5;28;01mNone\u001b[39;00m\n",
      "Cell \u001b[1;32mIn[27], line 31\u001b[0m, in \u001b[0;36mResNet18FCN.forward\u001b[1;34m(self, x)\u001b[0m\n\u001b[0;32m     29\u001b[0m out \u001b[38;5;241m=\u001b[39m F\u001b[38;5;241m.\u001b[39mrelu(\u001b[38;5;28mself\u001b[39m\u001b[38;5;241m.\u001b[39mmodel[\u001b[38;5;241m1\u001b[39m](\u001b[38;5;28mself\u001b[39m\u001b[38;5;241m.\u001b[39mmodel[\u001b[38;5;241m0\u001b[39m](x)))\n\u001b[0;32m     30\u001b[0m out \u001b[38;5;241m=\u001b[39m \u001b[38;5;28mself\u001b[39m\u001b[38;5;241m.\u001b[39mmodel[\u001b[38;5;241m2\u001b[39m](out)\n\u001b[1;32m---> 31\u001b[0m out \u001b[38;5;241m=\u001b[39m \u001b[38;5;28;43mself\u001b[39;49m\u001b[38;5;241;43m.\u001b[39;49m\u001b[43mclassifier\u001b[49m\u001b[43m(\u001b[49m\u001b[43mout\u001b[49m\u001b[43m)\u001b[49m                       \u001b[38;5;66;03m# [batch_size, 512, 4, 4] -> [batch_size, num_classes, 4, 4]\u001b[39;00m\n\u001b[0;32m     32\u001b[0m out \u001b[38;5;241m=\u001b[39m \u001b[38;5;28mself\u001b[39m\u001b[38;5;241m.\u001b[39mresizer(out)                          \u001b[38;5;66;03m# [batch_size, num_classes, 4, 4] -> [batch_size, num_classes, 32, 32]\u001b[39;00m\n\u001b[0;32m     33\u001b[0m \u001b[38;5;28;01mreturn\u001b[39;00m out\n",
      "File \u001b[1;32mc:\\Users\\loreb\\miniconda3\\envs\\DLA\\Lib\\site-packages\\torch\\nn\\modules\\module.py:1532\u001b[0m, in \u001b[0;36mModule._wrapped_call_impl\u001b[1;34m(self, *args, **kwargs)\u001b[0m\n\u001b[0;32m   1530\u001b[0m     \u001b[38;5;28;01mreturn\u001b[39;00m \u001b[38;5;28mself\u001b[39m\u001b[38;5;241m.\u001b[39m_compiled_call_impl(\u001b[38;5;241m*\u001b[39margs, \u001b[38;5;241m*\u001b[39m\u001b[38;5;241m*\u001b[39mkwargs)  \u001b[38;5;66;03m# type: ignore[misc]\u001b[39;00m\n\u001b[0;32m   1531\u001b[0m \u001b[38;5;28;01melse\u001b[39;00m:\n\u001b[1;32m-> 1532\u001b[0m     \u001b[38;5;28;01mreturn\u001b[39;00m \u001b[38;5;28;43mself\u001b[39;49m\u001b[38;5;241;43m.\u001b[39;49m\u001b[43m_call_impl\u001b[49m\u001b[43m(\u001b[49m\u001b[38;5;241;43m*\u001b[39;49m\u001b[43margs\u001b[49m\u001b[43m,\u001b[49m\u001b[43m \u001b[49m\u001b[38;5;241;43m*\u001b[39;49m\u001b[38;5;241;43m*\u001b[39;49m\u001b[43mkwargs\u001b[49m\u001b[43m)\u001b[49m\n",
      "File \u001b[1;32mc:\\Users\\loreb\\miniconda3\\envs\\DLA\\Lib\\site-packages\\torch\\nn\\modules\\module.py:1541\u001b[0m, in \u001b[0;36mModule._call_impl\u001b[1;34m(self, *args, **kwargs)\u001b[0m\n\u001b[0;32m   1536\u001b[0m \u001b[38;5;66;03m# If we don't have any hooks, we want to skip the rest of the logic in\u001b[39;00m\n\u001b[0;32m   1537\u001b[0m \u001b[38;5;66;03m# this function, and just call forward.\u001b[39;00m\n\u001b[0;32m   1538\u001b[0m \u001b[38;5;28;01mif\u001b[39;00m \u001b[38;5;129;01mnot\u001b[39;00m (\u001b[38;5;28mself\u001b[39m\u001b[38;5;241m.\u001b[39m_backward_hooks \u001b[38;5;129;01mor\u001b[39;00m \u001b[38;5;28mself\u001b[39m\u001b[38;5;241m.\u001b[39m_backward_pre_hooks \u001b[38;5;129;01mor\u001b[39;00m \u001b[38;5;28mself\u001b[39m\u001b[38;5;241m.\u001b[39m_forward_hooks \u001b[38;5;129;01mor\u001b[39;00m \u001b[38;5;28mself\u001b[39m\u001b[38;5;241m.\u001b[39m_forward_pre_hooks\n\u001b[0;32m   1539\u001b[0m         \u001b[38;5;129;01mor\u001b[39;00m _global_backward_pre_hooks \u001b[38;5;129;01mor\u001b[39;00m _global_backward_hooks\n\u001b[0;32m   1540\u001b[0m         \u001b[38;5;129;01mor\u001b[39;00m _global_forward_hooks \u001b[38;5;129;01mor\u001b[39;00m _global_forward_pre_hooks):\n\u001b[1;32m-> 1541\u001b[0m     \u001b[38;5;28;01mreturn\u001b[39;00m \u001b[43mforward_call\u001b[49m\u001b[43m(\u001b[49m\u001b[38;5;241;43m*\u001b[39;49m\u001b[43margs\u001b[49m\u001b[43m,\u001b[49m\u001b[43m \u001b[49m\u001b[38;5;241;43m*\u001b[39;49m\u001b[38;5;241;43m*\u001b[39;49m\u001b[43mkwargs\u001b[49m\u001b[43m)\u001b[49m\n\u001b[0;32m   1543\u001b[0m \u001b[38;5;28;01mtry\u001b[39;00m:\n\u001b[0;32m   1544\u001b[0m     result \u001b[38;5;241m=\u001b[39m \u001b[38;5;28;01mNone\u001b[39;00m\n",
      "File \u001b[1;32mc:\\Users\\loreb\\miniconda3\\envs\\DLA\\Lib\\site-packages\\torch\\nn\\modules\\conv.py:460\u001b[0m, in \u001b[0;36mConv2d.forward\u001b[1;34m(self, input)\u001b[0m\n\u001b[0;32m    459\u001b[0m \u001b[38;5;28;01mdef\u001b[39;00m \u001b[38;5;21mforward\u001b[39m(\u001b[38;5;28mself\u001b[39m, \u001b[38;5;28minput\u001b[39m: Tensor) \u001b[38;5;241m-\u001b[39m\u001b[38;5;241m>\u001b[39m Tensor:\n\u001b[1;32m--> 460\u001b[0m     \u001b[38;5;28;01mreturn\u001b[39;00m \u001b[38;5;28;43mself\u001b[39;49m\u001b[38;5;241;43m.\u001b[39;49m\u001b[43m_conv_forward\u001b[49m\u001b[43m(\u001b[49m\u001b[38;5;28;43minput\u001b[39;49m\u001b[43m,\u001b[49m\u001b[43m \u001b[49m\u001b[38;5;28;43mself\u001b[39;49m\u001b[38;5;241;43m.\u001b[39;49m\u001b[43mweight\u001b[49m\u001b[43m,\u001b[49m\u001b[43m \u001b[49m\u001b[38;5;28;43mself\u001b[39;49m\u001b[38;5;241;43m.\u001b[39;49m\u001b[43mbias\u001b[49m\u001b[43m)\u001b[49m\n",
      "File \u001b[1;32mc:\\Users\\loreb\\miniconda3\\envs\\DLA\\Lib\\site-packages\\torch\\nn\\modules\\conv.py:456\u001b[0m, in \u001b[0;36mConv2d._conv_forward\u001b[1;34m(self, input, weight, bias)\u001b[0m\n\u001b[0;32m    452\u001b[0m \u001b[38;5;28;01mif\u001b[39;00m \u001b[38;5;28mself\u001b[39m\u001b[38;5;241m.\u001b[39mpadding_mode \u001b[38;5;241m!=\u001b[39m \u001b[38;5;124m'\u001b[39m\u001b[38;5;124mzeros\u001b[39m\u001b[38;5;124m'\u001b[39m:\n\u001b[0;32m    453\u001b[0m     \u001b[38;5;28;01mreturn\u001b[39;00m F\u001b[38;5;241m.\u001b[39mconv2d(F\u001b[38;5;241m.\u001b[39mpad(\u001b[38;5;28minput\u001b[39m, \u001b[38;5;28mself\u001b[39m\u001b[38;5;241m.\u001b[39m_reversed_padding_repeated_twice, mode\u001b[38;5;241m=\u001b[39m\u001b[38;5;28mself\u001b[39m\u001b[38;5;241m.\u001b[39mpadding_mode),\n\u001b[0;32m    454\u001b[0m                     weight, bias, \u001b[38;5;28mself\u001b[39m\u001b[38;5;241m.\u001b[39mstride,\n\u001b[0;32m    455\u001b[0m                     _pair(\u001b[38;5;241m0\u001b[39m), \u001b[38;5;28mself\u001b[39m\u001b[38;5;241m.\u001b[39mdilation, \u001b[38;5;28mself\u001b[39m\u001b[38;5;241m.\u001b[39mgroups)\n\u001b[1;32m--> 456\u001b[0m \u001b[38;5;28;01mreturn\u001b[39;00m \u001b[43mF\u001b[49m\u001b[38;5;241;43m.\u001b[39;49m\u001b[43mconv2d\u001b[49m\u001b[43m(\u001b[49m\u001b[38;5;28;43minput\u001b[39;49m\u001b[43m,\u001b[49m\u001b[43m \u001b[49m\u001b[43mweight\u001b[49m\u001b[43m,\u001b[49m\u001b[43m \u001b[49m\u001b[43mbias\u001b[49m\u001b[43m,\u001b[49m\u001b[43m \u001b[49m\u001b[38;5;28;43mself\u001b[39;49m\u001b[38;5;241;43m.\u001b[39;49m\u001b[43mstride\u001b[49m\u001b[43m,\u001b[49m\n\u001b[0;32m    457\u001b[0m \u001b[43m                \u001b[49m\u001b[38;5;28;43mself\u001b[39;49m\u001b[38;5;241;43m.\u001b[39;49m\u001b[43mpadding\u001b[49m\u001b[43m,\u001b[49m\u001b[43m \u001b[49m\u001b[38;5;28;43mself\u001b[39;49m\u001b[38;5;241;43m.\u001b[39;49m\u001b[43mdilation\u001b[49m\u001b[43m,\u001b[49m\u001b[43m \u001b[49m\u001b[38;5;28;43mself\u001b[39;49m\u001b[38;5;241;43m.\u001b[39;49m\u001b[43mgroups\u001b[49m\u001b[43m)\u001b[49m\n",
      "\u001b[1;31mRuntimeError\u001b[0m: Given groups=1, weight of size [10, 512, 1, 1], expected input[128, 64, 32, 32] to have 512 channels, but got 64 channels instead"
     ]
    }
   ],
   "source": [
    "# Load the pre-trained ResNet18 model\n",
    "resnet18_mnist = 'model_states/model_state_ResNet18_MNIST-32x32.pt'\n",
    "\n",
    "resnet18 = ResNet18([2, 2, 2, 2], 10).to(device)\n",
    "resnet18.load_state_dict(torch.load(resnet18_mnist, map_location=device))\n",
    "\n",
    "# Create the fully convolutional model\n",
    "resnet18_fcn = ResNet18FCN(resnet18, 10).to(device)\n",
    "resnet18_fcn.eval()\n",
    "\n",
    "# Get 10 samples from the test set\n",
    "samples = []\n",
    "for i, (image, label) in enumerate(testloader):\n",
    "    samples.append((image, label))\n",
    "    if i == 9:\n",
    "        break\n",
    "\n",
    "# Get the output of the fully convolutional model \n",
    "outputs = []\n",
    "ground_truths = []\n",
    "with torch.no_grad():\n",
    "    for image, label in samples:\n",
    "        image = image.to(device)\n",
    "        output = resnet18_fcn(image)\n",
    "        outputs.append(output)\n",
    "        ground_truths.append(label)"
   ]
  },
  {
   "cell_type": "code",
   "execution_count": 33,
   "metadata": {},
   "outputs": [],
   "source": [
    "class ResNet18FCN(nn.Module):\n",
    "    def __init__(self, model, num_classes):\n",
    "        super(ResNet18FCN, self).__init__()\n",
    "        self.model = model\n",
    "        # Fully convolutional classification layer\n",
    "        self.classifier = nn.Conv2d(512, num_classes, kernel_size=1)\n",
    "\n",
    "        self.classifier.weight.data.copy_( model.fc.weight.data.view ( *model.fc.weight.data.shape, 1, 1))\n",
    "        self.classifier.bias.data.copy_ (model.fc.bias.data)\n",
    "    \n",
    "    def forward(self, x):\n",
    "        out = F.relu(self.model.bn(self.model.conv1(x)))       # [batch_size, 3, 32, 32] -> [batch_size, 64, 32, 32]\n",
    "        out = self.model.layer1(out)                     # [batch_size, 64, 32, 32] -> [batch_size, 64, 32, 32] (stride=1)\n",
    "        out = self.model.layer2(out)                     # [batch_size, 64, 32, 32] -> [batch_size, 128, 16, 16] (stride=2)\n",
    "        out = self.model.layer3(out)                     # [batch_size, 128, 16, 16] -> [batch_size, 256, 8, 8] (stride=2)\n",
    "        out = self.model.layer4(out)                     # [batch_size, 256, 8, 8] -> [batch_size, 512, 4, 4] (stride=2)\n",
    "        out = self.classifier(out)                 # [batch_size, 512, 4, 4] -> [batch_size, num_classes, 4, 4]\n",
    "        return out"
   ]
  },
  {
   "cell_type": "markdown",
   "metadata": {},
   "source": [
    "### MNIST"
   ]
  },
  {
   "cell_type": "code",
   "execution_count": 34,
   "metadata": {},
   "outputs": [
    {
     "data": {
      "text/plain": [
       "<All keys matched successfully>"
      ]
     },
     "execution_count": 34,
     "metadata": {},
     "output_type": "execute_result"
    }
   ],
   "source": [
    "device = torch.device(\"cuda\" if torch.cuda.is_available() else \"cpu\")\n",
    "\n",
    "# Load the pre-trained ResNet18 model\n",
    "resnet18_mnist = 'model_states/model_state_ResNet18_MNIST-32x32.pt'\n",
    "\n",
    "resnet18 = ResNet18([2, 2, 2, 2], 10).to(device)\n",
    "resnet18.load_state_dict(torch.load(resnet18_mnist, map_location=device))"
   ]
  },
  {
   "cell_type": "code",
   "execution_count": 62,
   "metadata": {},
   "outputs": [
    {
     "name": "stderr",
     "output_type": "stream",
     "text": [
      "Clipping input data to the valid range for imshow with RGB data ([0..1] for floats or [0..255] for integers).\n",
      "Clipping input data to the valid range for imshow with RGB data ([0..1] for floats or [0..255] for integers).\n"
     ]
    },
    {
     "name": "stdout",
     "output_type": "stream",
     "text": [
      "Label :  4\n",
      "Response map shape :  torch.Size([1, 10, 4, 4])\n",
      "tensor([[[4, 4, 4, 4],\n",
      "         [4, 4, 4, 4],\n",
      "         [4, 4, 4, 4],\n",
      "         [4, 4, 4, 1]]], device='cuda:0')\n",
      "Predicted class :  4\n"
     ]
    },
    {
     "data": {
      "image/png": "[encoded data removed]",
      "text/plain": [
       "<Figure size 1600x800 with 3 Axes>"
      ]
     },
     "metadata": {},
     "output_type": "display_data"
    }
   ],
   "source": [
    "import cv2 \n",
    "\n",
    "def get_score_map(image, model):\n",
    "    # Find the n x m score map for the predicted class\n",
    "    score_map = preds[0, predicted_class, :, :].cpu().numpy()\n",
    "    score_map = score_map[0]\n",
    "\n",
    "    # Resize score map to the original image size\n",
    "    score_map = cv2.resize(score_map, (original_image.shape[1], original_image.shape[2]))\n",
    "    \n",
    "    # Binarize score map\n",
    "    _, score_map_for_contours = cv2.threshold(score_map, 0.25, 1, type=cv2.THRESH_BINARY)\n",
    "    score_map_for_contours = score_map_for_contours.astype(np.uint8).copy()\n",
    "    \n",
    "    # Find the countour of the binary blob\n",
    "    contours, _ = cv2.findContours(score_map_for_contours, mode=cv2.RETR_EXTERNAL, method=cv2.CHAIN_APPROX_SIMPLE)\n",
    "    \n",
    "    # Find bounding box around the object. \n",
    "    rect = cv2.boundingRect(contours[0])\n",
    "\n",
    "    # Apply score map as a mask to original image\n",
    "    score_map = score_map - np.min(score_map[:])\n",
    "    score_map = score_map / np.max(score_map[:])\n",
    "\n",
    "    score_map = cv2.cvtColor(score_map, cv2.COLOR_GRAY2BGR)\n",
    "\n",
    "    return score_map\n",
    "\n",
    "def plot_score_map(original_image, masked_image, score_map):\n",
    "    # Plot all the results\n",
    "    plt.figure(figsize=(16, 8))\n",
    "\n",
    "    plt.subplot(1, 3, 1)\n",
    "    plt.imshow(original_image)\n",
    "    plt.title('Original Image')\n",
    "    plt.axis('off')\n",
    "\n",
    "    plt.subplot(1, 3, 2)\n",
    "    plt.imshow(score_map)\n",
    "    plt.title('Score Map')\n",
    "    plt.axis('off')\n",
    "\n",
    "    plt.subplot(1, 3, 3)\n",
    "    plt.imshow(masked_image)\n",
    "    plt.title('Masked Image')\n",
    "    plt.axis('off')\n",
    "\n",
    "    plt.show()\n",
    "\n",
    "# Create the fully convolutional model\n",
    "resnet18_fcn = ResNet18FCN(resnet18, 10).to(device)\n",
    "resnet18_fcn.eval()\n",
    "\n",
    "# Standard MNIST transform.\n",
    "transform = transforms.Compose([\n",
    "    transforms.Resize((32, 32)),\n",
    "    transforms.Grayscale(num_output_channels=3),\n",
    "    transforms.ToTensor(),\n",
    "    transforms.Normalize((0.5,), (0.5,))\n",
    "])\n",
    "\n",
    "# Load MNIST train and test.\n",
    "ds_test = MNIST(root='./data', train=False, download=True, transform=transform)\n",
    "\n",
    "# get one image from the test set\n",
    "image, label = ds_test[6]\n",
    "print('Label : ', label)\n",
    "original_image = image.cpu()\n",
    "image = image.unsqueeze(0).to(device)\n",
    "\n",
    "with torch.no_grad():\n",
    "    outputs = resnet18_fcn(image)\n",
    "    preds = torch.softmax(outputs, dim=1)\n",
    "     \n",
    "    print('Response map shape : ', preds.shape)\n",
    " \n",
    "    # Find the class with the maximum score in the n x m output map\n",
    "    pred, class_idx = torch.max(preds, dim=1)\n",
    "    print(class_idx)\n",
    "\n",
    "    row_max, row_idx = torch.max(pred, dim=1)\n",
    "    col_max, col_idx = torch.max(row_max, dim=1)\n",
    "    predicted_class = class_idx[0, row_idx[0, col_idx], col_idx]\n",
    "     \n",
    "    # Print top predicted class\n",
    "    print('Predicted class : ', predicted_class.item())\n",
    "\n",
    "    # Get the score map\n",
    "    score_map = get_score_map(image, resnet18_fcn)\n",
    "\n",
    "    org = original_image.cpu().numpy().transpose(1, 2, 0)\n",
    "    \n",
    "    # Move the third channel to the first channel\n",
    "    masked_image = (org * score_map)\n",
    "\n",
    "    # Plot the score map\n",
    "    plot_score_map(org, masked_image, score_map)"
   ]
  },
  {
   "cell_type": "markdown",
   "metadata": {},
   "source": [
    "### Exercise 2.3: *Explain* the predictions of a CNN\n",
    "\n",
    "Use the CNN model you trained in Exercise 1.2 and implement [*Class Activation Maps*](http://cnnlocalization.csail.mit.edu/#:~:text=A%20class%20activation%20map%20for,decision%20made%20by%20the%20CNN.):\n",
    "\n",
    "> B. Zhou, A. Khosla, A. Lapedriza, A. Oliva, and A. Torralba. Learning Deep Features for Discriminative Localization. CVPR'16 (arXiv:1512.04150, 2015).\n",
    "\n",
    "Use your implementation to demonstrate how your trained CNN *attends* to specific image features to recognize *specific* classes.\n",
    "\n",
    "**Note**: Feel free to implement [Grad-CAM](https://arxiv.org/abs/1610.02391) instead of CAM."
   ]
  },
  {
   "cell_type": "code",
   "execution_count": 4,
   "metadata": {},
   "outputs": [],
   "source": [
    "# The GradCamModel class is a wrapper around the model that allows us to get the gradients of the activations of the last layer.\n",
    "class GradCamModel(nn.Module):\n",
    "    def __init__(self, model):\n",
    "        super().__init__()\n",
    "        self.model = model\n",
    "\n",
    "        self.gradients = None\n",
    "        self.tensorhook = []\n",
    "        self.layerhook = []\n",
    "        self.selected_out = None\n",
    "\n",
    "        self.layerhook.append(self.model.layer4.register_forward_hook(self.forward_hook()))\n",
    "\n",
    "        for p in self.model.parameters():\n",
    "            p.requires_grad = True\n",
    "        \n",
    "    def activations_hook(self, grad):\n",
    "        self.gradients = grad\n",
    "\n",
    "    def get_act_grads(self):\n",
    "        return self.gradients\n",
    "    \n",
    "    def forward_hook(self):\n",
    "        def hook(model, input, output):\n",
    "            self.selected_out = output\n",
    "            self.tensorhook.append(output.register_hook(self.activations_hook))\n",
    "        return hook\n",
    "\n",
    "    def forward(self, x):\n",
    "        out = self.model(x)\n",
    "        return out, self.selected_out        "
   ]
  },
  {
   "cell_type": "code",
   "execution_count": 5,
   "metadata": {},
   "outputs": [
    {
     "data": {
      "text/plain": [
       "ResNet18(\n",
       "  (conv1): Conv2d(3, 64, kernel_size=(3, 3), stride=(1, 1), padding=(1, 1), bias=False)\n",
       "  (bn): BatchNorm2d(64, eps=1e-05, momentum=0.1, affine=True, track_running_stats=True)\n",
       "  (layer1): Sequential(\n",
       "    (0): ResidualBlock(\n",
       "      (conv1): Conv2d(64, 64, kernel_size=(3, 3), stride=(1, 1), padding=(1, 1), bias=False)\n",
       "      (bn1): BatchNorm2d(64, eps=1e-05, momentum=0.1, affine=True, track_running_stats=True)\n",
       "      (conv2): Conv2d(64, 64, kernel_size=(3, 3), stride=(1, 1), padding=(1, 1), bias=False)\n",
       "      (bn2): BatchNorm2d(64, eps=1e-05, momentum=0.1, affine=True, track_running_stats=True)\n",
       "      (shortcut): Sequential()\n",
       "    )\n",
       "    (1): ResidualBlock(\n",
       "      (conv1): Conv2d(64, 64, kernel_size=(3, 3), stride=(1, 1), padding=(1, 1), bias=False)\n",
       "      (bn1): BatchNorm2d(64, eps=1e-05, momentum=0.1, affine=True, track_running_stats=True)\n",
       "      (conv2): Conv2d(64, 64, kernel_size=(3, 3), stride=(1, 1), padding=(1, 1), bias=False)\n",
       "      (bn2): BatchNorm2d(64, eps=1e-05, momentum=0.1, affine=True, track_running_stats=True)\n",
       "      (shortcut): Sequential()\n",
       "    )\n",
       "  )\n",
       "  (layer2): Sequential(\n",
       "    (0): ResidualBlock(\n",
       "      (conv1): Conv2d(64, 128, kernel_size=(3, 3), stride=(2, 2), padding=(1, 1), bias=False)\n",
       "      (bn1): BatchNorm2d(128, eps=1e-05, momentum=0.1, affine=True, track_running_stats=True)\n",
       "      (conv2): Conv2d(128, 128, kernel_size=(3, 3), stride=(1, 1), padding=(1, 1), bias=False)\n",
       "      (bn2): BatchNorm2d(128, eps=1e-05, momentum=0.1, affine=True, track_running_stats=True)\n",
       "      (shortcut): Sequential(\n",
       "        (0): Conv2d(64, 128, kernel_size=(1, 1), stride=(2, 2), bias=False)\n",
       "        (1): BatchNorm2d(128, eps=1e-05, momentum=0.1, affine=True, track_running_stats=True)\n",
       "      )\n",
       "    )\n",
       "    (1): ResidualBlock(\n",
       "      (conv1): Conv2d(128, 128, kernel_size=(3, 3), stride=(1, 1), padding=(1, 1), bias=False)\n",
       "      (bn1): BatchNorm2d(128, eps=1e-05, momentum=0.1, affine=True, track_running_stats=True)\n",
       "      (conv2): Conv2d(128, 128, kernel_size=(3, 3), stride=(1, 1), padding=(1, 1), bias=False)\n",
       "      (bn2): BatchNorm2d(128, eps=1e-05, momentum=0.1, affine=True, track_running_stats=True)\n",
       "      (shortcut): Sequential()\n",
       "    )\n",
       "  )\n",
       "  (layer3): Sequential(\n",
       "    (0): ResidualBlock(\n",
       "      (conv1): Conv2d(128, 256, kernel_size=(3, 3), stride=(2, 2), padding=(1, 1), bias=False)\n",
       "      (bn1): BatchNorm2d(256, eps=1e-05, momentum=0.1, affine=True, track_running_stats=True)\n",
       "      (conv2): Conv2d(256, 256, kernel_size=(3, 3), stride=(1, 1), padding=(1, 1), bias=False)\n",
       "      (bn2): BatchNorm2d(256, eps=1e-05, momentum=0.1, affine=True, track_running_stats=True)\n",
       "      (shortcut): Sequential(\n",
       "        (0): Conv2d(128, 256, kernel_size=(1, 1), stride=(2, 2), bias=False)\n",
       "        (1): BatchNorm2d(256, eps=1e-05, momentum=0.1, affine=True, track_running_stats=True)\n",
       "      )\n",
       "    )\n",
       "    (1): ResidualBlock(\n",
       "      (conv1): Conv2d(256, 256, kernel_size=(3, 3), stride=(1, 1), padding=(1, 1), bias=False)\n",
       "      (bn1): BatchNorm2d(256, eps=1e-05, momentum=0.1, affine=True, track_running_stats=True)\n",
       "      (conv2): Conv2d(256, 256, kernel_size=(3, 3), stride=(1, 1), padding=(1, 1), bias=False)\n",
       "      (bn2): BatchNorm2d(256, eps=1e-05, momentum=0.1, affine=True, track_running_stats=True)\n",
       "      (shortcut): Sequential()\n",
       "    )\n",
       "  )\n",
       "  (layer4): Sequential(\n",
       "    (0): ResidualBlock(\n",
       "      (conv1): Conv2d(256, 512, kernel_size=(3, 3), stride=(2, 2), padding=(1, 1), bias=False)\n",
       "      (bn1): BatchNorm2d(512, eps=1e-05, momentum=0.1, affine=True, track_running_stats=True)\n",
       "      (conv2): Conv2d(512, 512, kernel_size=(3, 3), stride=(1, 1), padding=(1, 1), bias=False)\n",
       "      (bn2): BatchNorm2d(512, eps=1e-05, momentum=0.1, affine=True, track_running_stats=True)\n",
       "      (shortcut): Sequential(\n",
       "        (0): Conv2d(256, 512, kernel_size=(1, 1), stride=(2, 2), bias=False)\n",
       "        (1): BatchNorm2d(512, eps=1e-05, momentum=0.1, affine=True, track_running_stats=True)\n",
       "      )\n",
       "    )\n",
       "    (1): ResidualBlock(\n",
       "      (conv1): Conv2d(512, 512, kernel_size=(3, 3), stride=(1, 1), padding=(1, 1), bias=False)\n",
       "      (bn1): BatchNorm2d(512, eps=1e-05, momentum=0.1, affine=True, track_running_stats=True)\n",
       "      (conv2): Conv2d(512, 512, kernel_size=(3, 3), stride=(1, 1), padding=(1, 1), bias=False)\n",
       "      (bn2): BatchNorm2d(512, eps=1e-05, momentum=0.1, affine=True, track_running_stats=True)\n",
       "      (shortcut): Sequential()\n",
       "    )\n",
       "  )\n",
       "  (fc): Linear(in_features=512, out_features=10, bias=True)\n",
       ")"
      ]
     },
     "execution_count": 5,
     "metadata": {},
     "output_type": "execute_result"
    }
   ],
   "source": [
    "device = torch.device(\"cuda\" if torch.cuda.is_available() else \"cpu\")\n",
    "\n",
    "# Load the pre-trained ResNet18 model\n",
    "resnet18_cifar10 = 'model_states/model_state_ResNet18_CIFAR10.pt'\n",
    "resnet18 = ResNet18([2, 2, 2, 2], 10)\n",
    "resnet18.load_state_dict(torch.load(resnet18_cifar10, map_location=device))\n",
    "resnet18.eval()"
   ]
  },
  {
   "cell_type": "code",
   "execution_count": 31,
   "metadata": {},
   "outputs": [
    {
     "name": "stdout",
     "output_type": "stream",
     "text": [
      "Files already downloaded and verified\n"
     ]
    },
    {
     "name": "stderr",
     "output_type": "stream",
     "text": [
      "Clipping input data to the valid range for imshow with RGB data ([0..1] for floats or [0..255] for integers).\n",
      "Clipping input data to the valid range for imshow with RGB data ([0..1] for floats or [0..255] for integers).\n"
     ]
    },
    {
     "data": {
      "image/png": "[encoded data removed]",
      "text/plain": [
       "<Figure size 1500x1500 with 3 Axes>"
      ]
     },
     "metadata": {},
     "output_type": "display_data"
    }
   ],
   "source": [
    "def get_heatmap(model, image, label):\n",
    "    input = image.unsqueeze(0).to(device)\n",
    "    out, acts = model(input)\n",
    "    acts = acts.detach().cpu()\n",
    "\n",
    "    loss = nn.CrossEntropyLoss()(out, torch.tensor([label]).to(device))\n",
    "    loss.backward()\n",
    "\n",
    "    grads = model.get_act_grads().detach().cpu()\n",
    "\n",
    "    pooled_grad = torch.mean(grads, dim=[0, 2, 3]).detach().cpu()\n",
    "\n",
    "    for i in range(acts.shape[1]):\n",
    "        acts[:, i, :, :] *= pooled_grad[i]\n",
    "\n",
    "    heatmap = torch.mean(acts, dim=1).squeeze()\n",
    "    heatmap_max = heatmap.max(axis = 0)[0]\n",
    "    heatmap = heatmap / heatmap_max\n",
    "\n",
    "    # Resize heatmap to the original image size\n",
    "    zoom_factor = (image.shape[1] / heatmap.shape[0], image.shape[2] / heatmap.shape[1])\n",
    "    heatmap = zoom(heatmap.numpy(), zoom_factor)\n",
    "\n",
    "    return heatmap\n",
    "\n",
    "def plot_heatmap(original_image, heatmap):\n",
    "    # Plot the original image, heatmap and overlayed image\n",
    "    plt.figure(figsize=(15, 15))\n",
    "    plt.subplot(1, 3, 1)\n",
    "    plt.imshow(original_image.permute(1, 2, 0))\n",
    "    plt.title('Original Image')\n",
    "    plt.axis('off')\n",
    "\n",
    "    plt.subplot(1, 3, 2)\n",
    "    plt.imshow(heatmap)\n",
    "    plt.title('Heatmap')\n",
    "    plt.axis('off')\n",
    "\n",
    "    plt.subplot(1, 3, 3)\n",
    "    plt.imshow(original_image.permute(1, 2, 0))\n",
    "    plt.imshow(heatmap, alpha=0.5)\n",
    "    plt.title('Overlayed Image')\n",
    "    plt.axis('off')\n",
    "\n",
    "    plt.show()\n",
    "\n",
    "batch_size = 10\n",
    "\n",
    "# Load CIFAR10 dataset\n",
    "transform = transforms.Compose([\n",
    "    transforms.ToTensor(),\n",
    "    transforms.Normalize((0.5, 0.5, 0.5), (0.5, 0.5, 0.5))\n",
    "])\n",
    "testset = torchvision.datasets.CIFAR10(root='./data', train=False, download=True, transform=transform)\n",
    "\n",
    "gradcam_model = GradCamModel(resnet18).to(device)\n",
    "\n",
    "# get one image and label from the test set\n",
    "image, label = testset[15]\n",
    "\n",
    "out, acts = gradcam_model(image.unsqueeze(0).to(device))\n",
    "acts = acts.detach().cpu()\n",
    "\n",
    "plot_heatmap(image.squeeze().cpu(), get_heatmap(gradcam_model, image, label))"
   ]
  }
 ],
 "metadata": {
  "kernelspec": {
   "display_name": "DLA",
   "language": "python",
   "name": "python3"
  },
  "language_info": {
   "codemirror_mode": {
    "name": "ipython",
    "version": 3
   },
   "file_extension": ".py",
   "mimetype": "text/x-python",
   "name": "python",
   "nbconvert_exporter": "python",
   "pygments_lexer": "ipython3",
   "version": "3.11.9"
  }
 },
 "nbformat": 4,
 "nbformat_minor": 2
}
