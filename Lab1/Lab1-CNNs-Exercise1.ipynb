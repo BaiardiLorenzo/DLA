{
 "cells": [
  {
   "cell_type": "markdown",
   "id": "d97f7c5d-46f3-4cbd-80ad-f1e50cd65096",
   "metadata": {},
   "source": [
    "# Deep Learning Applications: Laboratory #1\n",
    "\n",
    "In this first laboratory we will work relatively simple architectures to get a feel for working with Deep Models. This notebook is designed to work with PyTorch, but as I said in the introductory lecture: please feel free to use and experiment with whatever tools you like.\n",
    "\n"
   ]
  },
  {
   "cell_type": "markdown",
   "id": "17ed8906-bd19-4b4f-8b79-4feae355ffd6",
   "metadata": {},
   "source": [
    "## Exercise 1: Warming Up\n",
    "In this series of exercises I want you to try to duplicate (on a small scale) the results of the ResNet paper:\n",
    "\n",
    "> [Deep Residual Learning for Image Recognition](https://arxiv.org/abs/1512.03385), Kaiming He, Xiangyu Zhang, Shaoqing Ren, Jian Sun, CVPR 2016.\n",
    "\n",
    "We will do this in steps using a Multilayer Perceptron on MNIST.\n",
    "\n",
    "Recall that the main message of the ResNet paper is that **deeper** networks do not **guarantee** more reduction in training loss (or in validation accuracy). Below you will incrementally build a sequence of experiments to verify this for an MLP. A few guidelines:\n",
    "\n",
    "+ I have provided some **starter** code at the beginning. **NONE** of this code should survive in your solutions. Not only is it **very** badly written, it is also written in my functional style that also obfuscates what it's doing (in part to **discourage** your reuse!). It's just to get you *started*.\n",
    "+ These exercises ask you to compare **multiple** training runs, so it is **really** important that you factor this into your **pipeline**. Using [Tensorboard](https://pytorch.org/tutorials/recipes/recipes/tensorboard_with_pytorch.html) is a **very** good idea -- or, even better [Weights and Biases](https://wandb.ai/site).\n",
    "+ You may work and submit your solutions in **groups of at most two**. Share your ideas with everyone, but the solutions you submit *must be your own*.\n",
    "\n",
    "First some boilerplate to get you started, then on to the actual exercises!"
   ]
  },
  {
   "cell_type": "markdown",
   "id": "edb2b6d1-3df0-464c-9a5f-8c611257a971",
   "metadata": {},
   "source": [
    "### Preface: Some code to get you started\n",
    "\n",
    "What follows is some **very simple** code for training an MLP on MNIST. The point of this code is to get you up and running (and to verify that your Python environment has all needed dependencies).\n",
    "\n",
    "**Note**: As you read through my code and execute it, this would be a good time to think about *abstracting* **your** model definition, and training and evaluation pipelines in order to make it easier to compare performance of different models."
   ]
  },
  {
   "cell_type": "code",
   "execution_count": 1,
   "id": "ab3a8282-2322-4dca-b76e-2f3863bc75fb",
   "metadata": {
    "ExecuteTime": {
     "end_time": "2024-03-09T16:12:53.285950Z",
     "start_time": "2024-03-09T16:12:53.268508Z"
    },
    "tags": []
   },
   "outputs": [
    {
     "data": {
      "text/plain": [
       "True"
      ]
     },
     "execution_count": 1,
     "metadata": {},
     "output_type": "execute_result"
    }
   ],
   "source": [
    "# Start with some standard imports.\n",
    "import numpy as np\n",
    "import matplotlib.pyplot as plt\n",
    "from functools import reduce\n",
    "import torch\n",
    "import torchvision\n",
    "from torchvision.datasets import MNIST\n",
    "from torch.utils.data import Subset\n",
    "import torch.nn as nn\n",
    "import torch.nn.functional as F\n",
    "import torchvision.transforms as transforms\n",
    "from torch.utils.data import DataLoader\n",
    "import torch.optim as optim\n",
    "\n",
    "from scipy.ndimage import zoom\n",
    "import wandb\n",
    "from tqdm import tqdm\n",
    "from sklearn.metrics import accuracy_score, classification_report\n",
    "from datetime import datetime\n",
    "\n",
    "torch.cuda.is_available()"
   ]
  },
  {
   "cell_type": "markdown",
   "id": "33cc12cc-8422-47bf-8d8e-0950ac05ae96",
   "metadata": {},
   "source": [
    "#### Data preparation\n",
    "\n",
    "Here is some basic dataset loading, validation splitting code to get you started working with MNIST."
   ]
  },
  {
   "cell_type": "code",
   "execution_count": 5,
   "id": "272a69db-0416-444a-9be4-5f055ff48bbb",
   "metadata": {
    "tags": []
   },
   "outputs": [],
   "source": [
    "# Standard MNIST transform.\n",
    "transform = transforms.Compose([\n",
    "    transforms.ToTensor(),\n",
    "    transforms.Normalize((0.1307,), (0.3081,))\n",
    "])\n",
    "\n",
    "# Load MNIST train and test.\n",
    "ds_train = MNIST(root='../data', train=True, download=True, transform=transform)\n",
    "ds_val = MNIST(root='../data', train=False, download=True, transform=transform)"
   ]
  },
  {
   "cell_type": "markdown",
   "id": "24e05e96-7707-4490-98b8-50cb5e330af1",
   "metadata": {},
   "source": [
    "#### Boilerplate training and evaluation code\n",
    "\n",
    "This is some **very** rough training, evaluation, and plotting code. Again, just to get you started. I will be *very* disappointed if any of this code makes it into your final submission."
   ]
  },
  {
   "cell_type": "code",
   "execution_count": 45,
   "id": "7005d3f0",
   "metadata": {},
   "outputs": [],
   "source": [
    "# REWRITE TRAINING AND EVALUATION FUNCTIONS \n",
    "# Function to train one epoch\n",
    "def train_epoch(\n",
    "        model: nn.Module, \n",
    "        data: DataLoader, \n",
    "        class_names: list, \n",
    "        epoch: int, \n",
    "        opt: optim.Optimizer, \n",
    "        device=\"cuda\"\n",
    "    ):\n",
    "\n",
    "    model.train()\n",
    "\n",
    "    losses = []\n",
    "    gts = []\n",
    "    preds = []\n",
    "\n",
    "    # Zero out the gradients\n",
    "    opt.zero_grad()\n",
    "    \n",
    "    for (i, (xs, ys)) in enumerate(tqdm(data, desc=f\"Training epoch {epoch}\", leave=True)):\n",
    "        # Get the input and target data and move it to the device\n",
    "        xs, ys = xs.to(device), ys.to(device)\n",
    "\n",
    "        # Zero out the gradients\n",
    "        opt.zero_grad()\n",
    "\n",
    "        # Forward pass\n",
    "        logits = model(xs)\n",
    "\n",
    "        # Get the predicted classes\n",
    "        pred = torch.argmax(logits, 1)\n",
    "        \n",
    "        # Compute the cross entropy loss\n",
    "        loss = F.cross_entropy(logits, ys)\n",
    "\n",
    "        # Backward pass\n",
    "        loss.backward()\n",
    "\n",
    "        # Update the model parameters\n",
    "        opt.step()\n",
    "\n",
    "        # Append the loss\n",
    "        losses.append(loss.item())\n",
    "        preds.extend(pred.detach().cpu().numpy())\n",
    "        gts.extend(ys.detach().cpu().numpy())\n",
    "\n",
    "    # Compute the accuracy and classification report\n",
    "    accuracy = accuracy_score(gts, preds)\n",
    "    class_report = classification_report(gts, preds, zero_division=0, digits=3, output_dict=True)\n",
    "    class_report_db = classification_report(gts, preds, zero_division=0, digits=3).splitlines()\n",
    "\n",
    "    report_table = []\n",
    "    for line in class_report_db[2:(len(class_names)+2)]:\n",
    "       report_table.append(line.split())\n",
    "\n",
    "    # Log the results\n",
    "    loss = np.mean(losses)\n",
    "    wandb.log({\n",
    "        \"train/epoch\": epoch, \n",
    "        \"train/loss\": loss, \n",
    "        \"train/accuracy\": accuracy, \n",
    "        \"train_class_rep/classification_report\": class_report,\n",
    "        \"train/confusion_matrix\": wandb.plot.confusion_matrix(y_true=gts, preds=preds, class_names=class_names),\n",
    "        \"train/classification_report\": wandb.Table(data=report_table, columns=[\"Class\", \"Precision\", \"Recall\", \"F1-score\", \"Support\"])\n",
    "        },\n",
    "        step=epoch)\n",
    "\n",
    "    # Return the average loss, accuracy and classification report\n",
    "    return loss, accuracy, class_report\n",
    "\n",
    "# Function to evaluate one epoch\n",
    "def evaluate_epoch(\n",
    "        model: nn.Module, \n",
    "        data: DataLoader, \n",
    "        class_names: list, \n",
    "        epoch: int, \n",
    "        device=\"cuda\"\n",
    "    ):\n",
    "\n",
    "    model.eval()\n",
    "\n",
    "    losses = []\n",
    "    preds = []\n",
    "    gts = []\n",
    "    # Disable gradient computation for evaluation\n",
    "    with torch.no_grad():\n",
    "        for (_, (xs, ys)) in enumerate(tqdm(data, desc=f\"Evaluating\", leave=True)):\n",
    "            # Get the input and target data and move it to the device\n",
    "            xs, ys = xs.to(device), ys.to(device)\n",
    "\n",
    "            # Forward pass\n",
    "            logits = model(xs)\n",
    "\n",
    "            # Compute the cross entropy loss\n",
    "            loss = F.cross_entropy(logits, ys)\n",
    "\n",
    "            # Get the predicted classes\n",
    "            pred = torch.argmax(logits, 1)\n",
    "\n",
    "            # Append the loss, predictions and ground truths\n",
    "            losses.append(loss.item())\n",
    "            preds.extend(pred.detach().cpu().numpy())\n",
    "            gts.extend(ys.detach().cpu().numpy())\n",
    "\n",
    "    # Compute the accuracy and classification report\n",
    "    accuracy = accuracy_score(gts, preds)\n",
    "    class_report = classification_report(gts, preds, zero_division=0, digits=3, output_dict=True)\n",
    "\n",
    "    class_report_db = classification_report(gts, preds, zero_division=0, digits=3).splitlines()\n",
    "    report_table = []\n",
    "    for line in class_report_db[2:(len(class_names)+2)]:\n",
    "        report_table.append(line.split())\n",
    "\n",
    "    # Log the results\n",
    "    loss = np.mean(losses)\n",
    "    wandb.log({\n",
    "        \"val/epoch\": epoch, \n",
    "        \"val/loss\": loss, \n",
    "        \"val/accuracy\": accuracy,\n",
    "        \"val_class_rep/classification_report\": class_report,\n",
    "        \"val/confusion_matrix\": wandb.plot.confusion_matrix(y_true=gts, preds=preds, class_names=class_names),\n",
    "        \"val/classification_report\": wandb.Table(data=report_table, columns=[\"Class\", \"Precision\", \"Recall\", \"F1-score\", \"Support\"])\n",
    "        }, \n",
    "        step=epoch)\n",
    "    \n",
    "    return loss, accuracy, class_report\n",
    "\n",
    "# Function to train and evaluate the model\n",
    "def train_evaluate_model(\n",
    "        model: nn.Module, \n",
    "        model_name: str,\n",
    "        dataset_name: str,\n",
    "        class_names: list,\n",
    "        dl_train: DataLoader, \n",
    "        dl_test: DataLoader, \n",
    "        batch_size: int, \n",
    "        lr: int, \n",
    "        epochs: int, \n",
    "        opt: optim.Optimizer, \n",
    "        device=\"cuda\",\n",
    "    ):\n",
    "\n",
    "    time = datetime.now().strftime(\"%Y-%m-%d_%H-%M-%S\")\n",
    "    test_name = model_name+\"-\"+time+\"_\"+dataset_name+\"_epochs-\"+str(epochs)+\"_bs-\"+str(batch_size)+\"_lr-\"+str(lr)\n",
    "\n",
    "    wandb_init(model_name, test_name, model, dataset_name, epochs, batch_size, lr, device)\n",
    "\n",
    "    # Train and evaluate the model\n",
    "    train_results = {\"loss\": [], \"acc\": [], \"class_rep\": []}\n",
    "    val_results = {\"loss\": [], \"acc\": [], \"class_rep\": []}\n",
    "    max_val_acc = 0\n",
    "    state_dict = None\n",
    "\n",
    "    for epoch in range(epochs):\n",
    "        # Train the model \n",
    "        train_loss, train_acc, train_class_rep = train_epoch(model, dl_train, class_names, epoch, opt, device=device)\n",
    "\n",
    "        # Evaluate the model\n",
    "        val_loss, val_acc, val_class_rep = evaluate_epoch(model, dl_test, class_names, epoch, device=device)\n",
    "\n",
    "        print(f\"Epoch {epoch}: Train Loss: {train_loss:.4f}, Train Acc: {train_acc:.4f}, Val Loss: {val_loss:.4f}, Val Acc: {val_acc:.4f}\")\n",
    "\n",
    "        # Save the best model\n",
    "        if val_acc > max_val_acc:\n",
    "            max_val_acc = val_acc\n",
    "            state_dict = model.state_dict()\n",
    "        \n",
    "        # Append the results\n",
    "        train_results[\"loss\"].append(train_loss)\n",
    "        train_results[\"acc\"].append(train_acc)\n",
    "        train_results[\"class_rep\"].append(train_class_rep)\n",
    "        val_results[\"loss\"].append(val_loss)\n",
    "        val_results[\"acc\"].append(val_acc)\n",
    "        val_results[\"class_rep\"].append(val_class_rep)\n",
    "\n",
    "    wandb.unwatch(model)\n",
    "    wandb.finish()\n",
    "\n",
    "    plot_validation_curves(train_results[\"loss\"], val_results[\"loss\"], train_results[\"acc\"], val_results[\"acc\"])\n",
    "\n",
    "    model_states_path = \"model_states/\"+test_name+\".pth\"\n",
    "\n",
    "    # Save the best model\n",
    "    if state_dict is not None:\n",
    "        torch.save(state_dict, model_states_path)\n",
    "        print(f\"Model saved to {model_states_path}\")\n",
    "\n",
    "# Function to initialize wandb\n",
    "def wandb_init(\n",
    "        model_name, \n",
    "        test_name, \n",
    "        model, \n",
    "        dataset, \n",
    "        epochs, \n",
    "        bs, \n",
    "        lr, \n",
    "        device, \n",
    "        project=\"DLA Assigment 1\"\n",
    "    ):\n",
    "    # Initialize wandb\n",
    "    wandb.init(\n",
    "        project=project,\n",
    "        name=test_name,\n",
    "        # Track hyperparameters and run metadata\n",
    "        config={\n",
    "            \"architecture\": model_name,\n",
    "            \"dataset\": dataset,\n",
    "            \"epochs\": epochs,\n",
    "            \"batch_size\": bs,\n",
    "            \"lr\": lr,\n",
    "            \"optimizer\": \"Adam\",\n",
    "            \"device\": device.type\n",
    "        }\n",
    "    )\n",
    "    wandb.watch(model, nn.CrossEntropyLoss(), log=\"all\")\n",
    "\n",
    "# Simple function to plot the loss curve and accuracy.\n",
    "def plot_validation_curves(train_loss, val_loss, train_acc, val_acc):\n",
    "    plt.figure(figsize=(16, 8))\n",
    "\n",
    "    plt.subplot(1, 2, 1)\n",
    "    plt.plot(train_loss, label='train_loss')\n",
    "    plt.plot(val_loss, label='val_loss')\n",
    "    plt.title('Average Loss per Epoch')\n",
    "    plt.xlabel('Epoch')\n",
    "    plt.ylabel('Loss')\n",
    "\n",
    "    plt.subplot(1, 2, 2)\n",
    "    plt.plot(train_acc, label='train_acc')\n",
    "    plt.plot(val_acc, label='val_acc')\n",
    "    plt.title(f'Best Validation Accuracy = {np.max(val_acc)} @ epoch {np.argmax(val_acc)}')\n",
    "    plt.xlabel('Epoch')\n",
    "    plt.ylabel('Accuracy')\n",
    "    plt.show()"
   ]
  },
  {
   "cell_type": "markdown",
   "id": "875008c3-306c-4e39-a845-d7bda7862621",
   "metadata": {},
   "source": [
    "#### A basic, parameterized MLP\n",
    "\n",
    "This is a very basic implementation of a Multilayer Perceptron. Don't waste too much time trying to figure out how it works -- the important detail is that it allows you to pass in a list of input, hidden layer, and output *widths*. **Your** implementation should also support this for the exercises to come."
   ]
  },
  {
   "cell_type": "code",
   "execution_count": 46,
   "id": "8c1e503a-37df-4fb9-94e7-85d0adb494bd",
   "metadata": {
    "tags": []
   },
   "outputs": [],
   "source": [
    "class MLP(nn.Module):\n",
    "    def __init__(self, layer_sizes):\n",
    "        super().__init__()\n",
    "        self.layers = nn.ModuleList([nn.Linear(nin, nout) for (nin, nout) in zip(layer_sizes[:-1], layer_sizes[1:])])\n",
    "    \n",
    "    def forward(self, x):\n",
    "        return reduce(lambda f, g: lambda x: g(F.relu(f(x))), self.layers, lambda x: x.flatten(1))(x)"
   ]
  },
  {
   "cell_type": "markdown",
   "id": "4ae06e26-8fa3-414e-a502-8d1c18ba9eb7",
   "metadata": {},
   "source": [
    "#### A *very* minimal training pipeline.\n",
    "\n",
    "Here is some basic training and evaluation code to get you started.\n",
    "\n",
    "**Important**: I cannot stress enough that this is a **terrible** example of how to implement a training pipeline. You can do better!"
   ]
  },
  {
   "cell_type": "code",
   "execution_count": 47,
   "id": "fc89e48f-d8f3-4122-842d-1ff389499854",
   "metadata": {
    "tags": []
   },
   "outputs": [
    {
     "data": {
      "text/html": [
       "Finishing last run (ID:kmyce7sl) before initializing another..."
      ],
      "text/plain": [
       "<IPython.core.display.HTML object>"
      ]
     },
     "metadata": {},
     "output_type": "display_data"
    },
    {
     "data": {
      "application/vnd.jupyter.widget-view+json": {
       "model_id": "e3fa9d92878c4a25a381ffcf804b5060",
       "version_major": 2,
       "version_minor": 0
      },
      "text/plain": [
       "VBox(children=(Label(value='0.001 MB of 0.001 MB uploaded\\r'), FloatProgress(value=1.0, max=1.0)))"
      ]
     },
     "metadata": {},
     "output_type": "display_data"
    },
    {
     "data": {
      "text/html": [
       " View run <strong style=\"color:#cdcd00\">MLP-2024-07-03_15-06-56_MNIST_epochs-20_bs-128_lr-0.0001</strong> at: <a href='https://wandb.ai/lorebaia/DLA%20Assigment%201/runs/kmyce7sl/workspace' target=\"_blank\">https://wandb.ai/lorebaia/DLA%20Assigment%201/runs/kmyce7sl/workspace</a><br/>Synced 6 W&B file(s), 0 media file(s), 0 artifact file(s) and 0 other file(s)"
      ],
      "text/plain": [
       "<IPython.core.display.HTML object>"
      ]
     },
     "metadata": {},
     "output_type": "display_data"
    },
    {
     "data": {
      "text/html": [
       "Find logs at: <code>.\\wandb\\run-20240703_150656-kmyce7sl\\logs</code>"
      ],
      "text/plain": [
       "<IPython.core.display.HTML object>"
      ]
     },
     "metadata": {},
     "output_type": "display_data"
    },
    {
     "data": {
      "text/html": [
       "Successfully finished last run (ID:kmyce7sl). Initializing new run:<br/>"
      ],
      "text/plain": [
       "<IPython.core.display.HTML object>"
      ]
     },
     "metadata": {},
     "output_type": "display_data"
    },
    {
     "data": {
      "application/vnd.jupyter.widget-view+json": {
       "model_id": "2ac9ddcf374542649d3e302fa53fd085",
       "version_major": 2,
       "version_minor": 0
      },
      "text/plain": [
       "VBox(children=(Label(value='Waiting for wandb.init()...\\r'), FloatProgress(value=0.011288888888884685, max=1.0…"
      ]
     },
     "metadata": {},
     "output_type": "display_data"
    },
    {
     "data": {
      "text/html": [
       "wandb version 0.17.3 is available!  To upgrade, please run:\n",
       " $ pip install wandb --upgrade"
      ],
      "text/plain": [
       "<IPython.core.display.HTML object>"
      ]
     },
     "metadata": {},
     "output_type": "display_data"
    },
    {
     "data": {
      "text/html": [
       "Tracking run with wandb version 0.16.5"
      ],
      "text/plain": [
       "<IPython.core.display.HTML object>"
      ]
     },
     "metadata": {},
     "output_type": "display_data"
    },
    {
     "data": {
      "text/html": [
       "Run data is saved locally in <code>c:\\Users\\loreb\\Documents\\Projects\\DLA\\Lab1\\wandb\\run-20240703_150935-7kh8zws5</code>"
      ],
      "text/plain": [
       "<IPython.core.display.HTML object>"
      ]
     },
     "metadata": {},
     "output_type": "display_data"
    },
    {
     "data": {
      "text/html": [
       "Syncing run <strong><a href='https://wandb.ai/lorebaia/DLA%20Assigment%201/runs/7kh8zws5/workspace' target=\"_blank\">MLP-2024-07-03_15-09-35_MNIST_epochs-20_bs-128_lr-0.0001</a></strong> to <a href='https://wandb.ai/lorebaia/DLA%20Assigment%201' target=\"_blank\">Weights & Biases</a> (<a href='https://wandb.me/run' target=\"_blank\">docs</a>)<br/>"
      ],
      "text/plain": [
       "<IPython.core.display.HTML object>"
      ]
     },
     "metadata": {},
     "output_type": "display_data"
    },
    {
     "data": {
      "text/html": [
       " View project at <a href='https://wandb.ai/lorebaia/DLA%20Assigment%201' target=\"_blank\">https://wandb.ai/lorebaia/DLA%20Assigment%201</a>"
      ],
      "text/plain": [
       "<IPython.core.display.HTML object>"
      ]
     },
     "metadata": {},
     "output_type": "display_data"
    },
    {
     "data": {
      "text/html": [
       " View run at <a href='https://wandb.ai/lorebaia/DLA%20Assigment%201/runs/7kh8zws5/workspace' target=\"_blank\">https://wandb.ai/lorebaia/DLA%20Assigment%201/runs/7kh8zws5/workspace</a>"
      ],
      "text/plain": [
       "<IPython.core.display.HTML object>"
      ]
     },
     "metadata": {},
     "output_type": "display_data"
    },
    {
     "name": "stderr",
     "output_type": "stream",
     "text": [
      "Training epoch 0: 100%|██████████| 469/469 [00:09<00:00, 50.34it/s] \n",
      "Evaluating: 100%|██████████| 79/79 [00:06<00:00, 12.23it/s]\n"
     ]
    },
    {
     "name": "stdout",
     "output_type": "stream",
     "text": [
      "Epoch 0: Train Loss: 1.8419, Train Acc: 0.3585, Val Loss: 1.2473, Val Acc: 0.6812\n"
     ]
    },
    {
     "name": "stderr",
     "output_type": "stream",
     "text": [
      "Training epoch 1: 100%|██████████| 469/469 [00:08<00:00, 52.20it/s] \n",
      "Evaluating: 100%|██████████| 79/79 [00:06<00:00, 13.03it/s]\n"
     ]
    },
    {
     "name": "stdout",
     "output_type": "stream",
     "text": [
      "Epoch 1: Train Loss: 0.8971, Train Acc: 0.7706, Val Loss: 0.6516, Val Acc: 0.8321\n"
     ]
    },
    {
     "name": "stderr",
     "output_type": "stream",
     "text": [
      "Training epoch 2: 100%|██████████| 469/469 [00:09<00:00, 51.91it/s] \n",
      "Evaluating: 100%|██████████| 79/79 [00:06<00:00, 13.02it/s]\n"
     ]
    },
    {
     "name": "stdout",
     "output_type": "stream",
     "text": [
      "Epoch 2: Train Loss: 0.5764, Train Acc: 0.8465, Val Loss: 0.4875, Val Acc: 0.8699\n"
     ]
    },
    {
     "name": "stderr",
     "output_type": "stream",
     "text": [
      "Training epoch 3: 100%|██████████| 469/469 [00:08<00:00, 52.60it/s] \n",
      "Evaluating: 100%|██████████| 79/79 [00:06<00:00, 12.71it/s]\n"
     ]
    },
    {
     "name": "stdout",
     "output_type": "stream",
     "text": [
      "Epoch 3: Train Loss: 0.4640, Train Acc: 0.8733, Val Loss: 0.4131, Val Acc: 0.8876\n"
     ]
    },
    {
     "name": "stderr",
     "output_type": "stream",
     "text": [
      "Training epoch 4: 100%|██████████| 469/469 [00:08<00:00, 52.79it/s] \n",
      "Evaluating: 100%|██████████| 79/79 [00:06<00:00, 13.08it/s]\n"
     ]
    },
    {
     "name": "stdout",
     "output_type": "stream",
     "text": [
      "Epoch 4: Train Loss: 0.4073, Train Acc: 0.8872, Val Loss: 0.3727, Val Acc: 0.8959\n"
     ]
    },
    {
     "name": "stderr",
     "output_type": "stream",
     "text": [
      "Training epoch 5: 100%|██████████| 469/469 [00:08<00:00, 52.59it/s] \n",
      "Evaluating: 100%|██████████| 79/79 [00:06<00:00, 13.15it/s]\n"
     ]
    },
    {
     "name": "stdout",
     "output_type": "stream",
     "text": [
      "Epoch 5: Train Loss: 0.3730, Train Acc: 0.8955, Val Loss: 0.3481, Val Acc: 0.9016\n"
     ]
    },
    {
     "name": "stderr",
     "output_type": "stream",
     "text": [
      "Training epoch 6: 100%|██████████| 469/469 [00:08<00:00, 53.03it/s] \n",
      "Evaluating: 100%|██████████| 79/79 [00:06<00:00, 12.84it/s]\n"
     ]
    },
    {
     "name": "stdout",
     "output_type": "stream",
     "text": [
      "Epoch 6: Train Loss: 0.3501, Train Acc: 0.9011, Val Loss: 0.3275, Val Acc: 0.9058\n"
     ]
    },
    {
     "name": "stderr",
     "output_type": "stream",
     "text": [
      "Training epoch 7: 100%|██████████| 469/469 [00:09<00:00, 49.29it/s] \n",
      "Evaluating: 100%|██████████| 79/79 [00:05<00:00, 13.29it/s]\n"
     ]
    },
    {
     "name": "stdout",
     "output_type": "stream",
     "text": [
      "Epoch 7: Train Loss: 0.3333, Train Acc: 0.9057, Val Loss: 0.3151, Val Acc: 0.9093\n"
     ]
    },
    {
     "name": "stderr",
     "output_type": "stream",
     "text": [
      "Training epoch 8: 100%|██████████| 469/469 [00:08<00:00, 52.30it/s] \n",
      "Evaluating: 100%|██████████| 79/79 [00:05<00:00, 13.25it/s]\n"
     ]
    },
    {
     "name": "stdout",
     "output_type": "stream",
     "text": [
      "Epoch 8: Train Loss: 0.3201, Train Acc: 0.9093, Val Loss: 0.3045, Val Acc: 0.9119\n"
     ]
    },
    {
     "name": "stderr",
     "output_type": "stream",
     "text": [
      "Training epoch 9: 100%|██████████| 469/469 [00:08<00:00, 52.80it/s] \n",
      "Evaluating: 100%|██████████| 79/79 [00:06<00:00, 12.29it/s]\n"
     ]
    },
    {
     "name": "stdout",
     "output_type": "stream",
     "text": [
      "Epoch 9: Train Loss: 0.3095, Train Acc: 0.9116, Val Loss: 0.2959, Val Acc: 0.9156\n"
     ]
    },
    {
     "name": "stderr",
     "output_type": "stream",
     "text": [
      "Training epoch 10: 100%|██████████| 469/469 [00:09<00:00, 52.05it/s] \n",
      "Evaluating: 100%|██████████| 79/79 [00:06<00:00, 12.61it/s]\n"
     ]
    },
    {
     "name": "stdout",
     "output_type": "stream",
     "text": [
      "Epoch 10: Train Loss: 0.3006, Train Acc: 0.9141, Val Loss: 0.2885, Val Acc: 0.9164\n"
     ]
    },
    {
     "name": "stderr",
     "output_type": "stream",
     "text": [
      "Training epoch 11: 100%|██████████| 469/469 [00:08<00:00, 53.69it/s] \n",
      "Evaluating: 100%|██████████| 79/79 [00:05<00:00, 13.17it/s]\n"
     ]
    },
    {
     "name": "stdout",
     "output_type": "stream",
     "text": [
      "Epoch 11: Train Loss: 0.2928, Train Acc: 0.9159, Val Loss: 0.2826, Val Acc: 0.9195\n"
     ]
    },
    {
     "name": "stderr",
     "output_type": "stream",
     "text": [
      "Training epoch 12: 100%|██████████| 469/469 [00:09<00:00, 50.21it/s] \n",
      "Evaluating: 100%|██████████| 79/79 [00:06<00:00, 12.87it/s]\n"
     ]
    },
    {
     "name": "stdout",
     "output_type": "stream",
     "text": [
      "Epoch 12: Train Loss: 0.2858, Train Acc: 0.9181, Val Loss: 0.2768, Val Acc: 0.9188\n"
     ]
    },
    {
     "name": "stderr",
     "output_type": "stream",
     "text": [
      "Training epoch 13: 100%|██████████| 469/469 [00:09<00:00, 51.07it/s] \n",
      "Evaluating: 100%|██████████| 79/79 [00:06<00:00, 12.54it/s]\n"
     ]
    },
    {
     "name": "stdout",
     "output_type": "stream",
     "text": [
      "Epoch 13: Train Loss: 0.2795, Train Acc: 0.9205, Val Loss: 0.2707, Val Acc: 0.9215\n"
     ]
    },
    {
     "name": "stderr",
     "output_type": "stream",
     "text": [
      "Training epoch 14: 100%|██████████| 469/469 [00:08<00:00, 52.21it/s] \n",
      "Evaluating: 100%|██████████| 79/79 [00:05<00:00, 13.17it/s]\n"
     ]
    },
    {
     "name": "stdout",
     "output_type": "stream",
     "text": [
      "Epoch 14: Train Loss: 0.2737, Train Acc: 0.9221, Val Loss: 0.2669, Val Acc: 0.9230\n"
     ]
    },
    {
     "name": "stderr",
     "output_type": "stream",
     "text": [
      "Training epoch 15: 100%|██████████| 469/469 [00:08<00:00, 53.00it/s] \n",
      "Evaluating: 100%|██████████| 79/79 [00:05<00:00, 13.24it/s]\n"
     ]
    },
    {
     "name": "stdout",
     "output_type": "stream",
     "text": [
      "Epoch 15: Train Loss: 0.2685, Train Acc: 0.9233, Val Loss: 0.2620, Val Acc: 0.9247\n"
     ]
    },
    {
     "name": "stderr",
     "output_type": "stream",
     "text": [
      "Training epoch 16: 100%|██████████| 469/469 [00:08<00:00, 52.21it/s] \n",
      "Evaluating: 100%|██████████| 79/79 [00:06<00:00, 13.09it/s]\n"
     ]
    },
    {
     "name": "stdout",
     "output_type": "stream",
     "text": [
      "Epoch 16: Train Loss: 0.2635, Train Acc: 0.9250, Val Loss: 0.2575, Val Acc: 0.9256\n"
     ]
    },
    {
     "name": "stderr",
     "output_type": "stream",
     "text": [
      "Training epoch 17: 100%|██████████| 469/469 [00:09<00:00, 50.56it/s] \n",
      "Evaluating: 100%|██████████| 79/79 [00:06<00:00, 13.06it/s]\n"
     ]
    },
    {
     "name": "stdout",
     "output_type": "stream",
     "text": [
      "Epoch 17: Train Loss: 0.2589, Train Acc: 0.9262, Val Loss: 0.2533, Val Acc: 0.9274\n"
     ]
    },
    {
     "name": "stderr",
     "output_type": "stream",
     "text": [
      "Training epoch 18: 100%|██████████| 469/469 [00:08<00:00, 53.80it/s] \n",
      "Evaluating: 100%|██████████| 79/79 [00:05<00:00, 13.17it/s]\n"
     ]
    },
    {
     "name": "stdout",
     "output_type": "stream",
     "text": [
      "Epoch 18: Train Loss: 0.2546, Train Acc: 0.9276, Val Loss: 0.2515, Val Acc: 0.9264\n"
     ]
    },
    {
     "name": "stderr",
     "output_type": "stream",
     "text": [
      "Training epoch 19: 100%|██████████| 469/469 [00:08<00:00, 52.88it/s] \n",
      "Evaluating: 100%|██████████| 79/79 [00:06<00:00, 13.09it/s]\n"
     ]
    },
    {
     "name": "stdout",
     "output_type": "stream",
     "text": [
      "Epoch 19: Train Loss: 0.2505, Train Acc: 0.9289, Val Loss: 0.2476, Val Acc: 0.9293\n"
     ]
    },
    {
     "data": {
      "application/vnd.jupyter.widget-view+json": {
       "model_id": "0dea3ad39ece4652bbd067edb3d4337c",
       "version_major": 2,
       "version_minor": 0
      },
      "text/plain": [
       "VBox(children=(Label(value='0.222 MB of 0.222 MB uploaded\\r'), FloatProgress(value=1.0, max=1.0)))"
      ]
     },
     "metadata": {},
     "output_type": "display_data"
    },
    {
     "data": {
      "text/html": [
       "<style>\n",
       "    table.wandb td:nth-child(1) { padding: 0 10px; text-align: left ; width: auto;} td:nth-child(2) {text-align: left ; width: 100%}\n",
       "    .wandb-row { display: flex; flex-direction: row; flex-wrap: wrap; justify-content: flex-start; width: 100% }\n",
       "    .wandb-col { display: flex; flex-direction: column; flex-basis: 100%; flex: 1; padding: 10px; }\n",
       "    </style>\n",
       "<div class=\"wandb-row\"><div class=\"wandb-col\"><h3>Run history:</h3><br/><table class=\"wandb\"><tr><td>train/accuracy</td><td>▁▆▇▇▇███████████████</td></tr><tr><td>train/epoch</td><td>▁▁▂▂▂▃▃▄▄▄▅▅▅▆▆▇▇▇██</td></tr><tr><td>train/loss</td><td>█▄▂▂▂▂▁▁▁▁▁▁▁▁▁▁▁▁▁▁</td></tr><tr><td>val/accuracy</td><td>▁▅▆▇▇▇▇▇████████████</td></tr><tr><td>val/epoch</td><td>▁▁▂▂▂▃▃▄▄▄▅▅▅▆▆▇▇▇██</td></tr><tr><td>val/loss</td><td>█▄▃▂▂▂▂▁▁▁▁▁▁▁▁▁▁▁▁▁</td></tr></table><br/></div><div class=\"wandb-col\"><h3>Run summary:</h3><br/><table class=\"wandb\"><tr><td>train/accuracy</td><td>0.92892</td></tr><tr><td>train/epoch</td><td>19</td></tr><tr><td>train/loss</td><td>0.25046</td></tr><tr><td>val/accuracy</td><td>0.9293</td></tr><tr><td>val/epoch</td><td>19</td></tr><tr><td>val/loss</td><td>0.24758</td></tr></table><br/></div></div>"
      ],
      "text/plain": [
       "<IPython.core.display.HTML object>"
      ]
     },
     "metadata": {},
     "output_type": "display_data"
    },
    {
     "data": {
      "text/html": [
       " View run <strong style=\"color:#cdcd00\">MLP-2024-07-03_15-09-35_MNIST_epochs-20_bs-128_lr-0.0001</strong> at: <a href='https://wandb.ai/lorebaia/DLA%20Assigment%201/runs/7kh8zws5/workspace' target=\"_blank\">https://wandb.ai/lorebaia/DLA%20Assigment%201/runs/7kh8zws5/workspace</a><br/>Synced 6 W&B file(s), 80 media file(s), 80 artifact file(s) and 0 other file(s)"
      ],
      "text/plain": [
       "<IPython.core.display.HTML object>"
      ]
     },
     "metadata": {},
     "output_type": "display_data"
    },
    {
     "data": {
      "text/html": [
       "Find logs at: <code>.\\wandb\\run-20240703_150935-7kh8zws5\\logs</code>"
      ],
      "text/plain": [
       "<IPython.core.display.HTML object>"
      ]
     },
     "metadata": {},
     "output_type": "display_data"
    },
    {
     "data": {
      "image/png": "[encoded data removed]",
      "text/plain": [
       "<Figure size 1600x800 with 2 Axes>"
      ]
     },
     "metadata": {},
     "output_type": "display_data"
    },
    {
     "name": "stdout",
     "output_type": "stream",
     "text": [
      "Model saved to model_states/MLP-2024-07-03_15-09-35_MNIST_epochs-20_bs-128_lr-0.0001.pth\n"
     ]
    }
   ],
   "source": [
    "# Training hyperparameters.\n",
    "device = torch.device(\"cuda\" if torch.cuda.is_available() else \"cpu\")\n",
    "epochs = 20\n",
    "lr = 0.0001\n",
    "batch_size = 128\n",
    "\n",
    "# Architecture hyperparameters.\n",
    "input_size = 28*28\n",
    "width = 16\n",
    "depth = 2\n",
    "\n",
    "# Dataloaders.\n",
    "dl_train = torch.utils.data.DataLoader(ds_train, batch_size, shuffle=True, num_workers=4)\n",
    "dl_val   = torch.utils.data.DataLoader(ds_val, batch_size, num_workers=4)\n",
    "\n",
    "# Instantiate model and optimizer.\n",
    "model_mlp = MLP([input_size] + [width]*depth + [10]).to(device)\n",
    "opt = torch.optim.Adam(params=model_mlp.parameters(), lr=lr)\n",
    "\n",
    "# Training loop.\n",
    "train_evaluate_model(\n",
    "    model=model_mlp, \n",
    "    model_name=\"MLP\", \n",
    "    dataset_name=\"MNIST\", \n",
    "    class_names=[str(i) for i in range(10)], \n",
    "    dl_train=dl_train, \n",
    "    dl_test=dl_val, \n",
    "    batch_size=batch_size, \n",
    "    lr=lr, \n",
    "    epochs=epochs, \n",
    "    opt=opt, \n",
    "    device=device\n",
    ")"
   ]
  },
  {
   "cell_type": "markdown",
   "id": "de2cad13-ee2c-4e43-b5c7-31760da8c2df",
   "metadata": {},
   "source": [
    "### Exercise 1.1: A baseline MLP\n",
    "\n",
    "Implement a *simple* Multilayer Perceptron to classify the 10 digits of MNIST (e.g. two *narrow* layers). Use my code above as inspiration, but implement your own training pipeline -- you will need it later. Train this model to convergence, monitoring (at least) the loss and accuracy on the training and validation sets for every epoch. Below I include a basic implementation to get you started -- remember that you should write your *own* pipeline!\n",
    "\n",
    "**Note**: This would be a good time to think about *abstracting* your model definition, and training and evaluation pipelines in order to make it easier to compare performance of different models.\n",
    "\n",
    "**Important**: Given the *many* runs you will need to do, and the need to *compare* performance between them, this would **also** be a great point to study how **Tensorboard** or **Weights and Biases** can be used for performance monitoring."
   ]
  },
  {
   "cell_type": "code",
   "execution_count": 49,
   "id": "19d96405-36e7-4074-803c-fb02576cd528",
   "metadata": {
    "tags": []
   },
   "outputs": [],
   "source": [
    "class SimpleMLP(nn.Module):\n",
    "    def __init__(self):\n",
    "        super().__init__()\n",
    "        self.layers = nn.ModuleList([\n",
    "            nn.Linear(28*28, 128),  # First narrow layer\n",
    "            nn.Linear(128, 128),  # Second narrow layer\n",
    "            nn.Linear(128, 64),  # Third narrow layer\n",
    "            nn.Linear(64, 64), # Fourth narrow layer\n",
    "            nn.Linear(64, 10)  # Output layer\n",
    "        ])\n",
    "    \n",
    "    def forward(self, x):\n",
    "        x = x.flatten(1)\n",
    "        for layer in self.layers[:-1]:\n",
    "            x = F.relu(layer(x))\n",
    "        return self.layers[-1](x)"
   ]
  },
  {
   "cell_type": "code",
   "execution_count": 50,
   "id": "4d2869de",
   "metadata": {},
   "outputs": [
    {
     "name": "stdout",
     "output_type": "stream",
     "text": [
      "Using device cuda\n",
      "ModuleList(\n",
      "  (0): Linear(in_features=784, out_features=128, bias=True)\n",
      "  (1): Linear(in_features=128, out_features=128, bias=True)\n",
      "  (2): Linear(in_features=128, out_features=64, bias=True)\n",
      "  (3): Linear(in_features=64, out_features=64, bias=True)\n",
      "  (4): Linear(in_features=64, out_features=10, bias=True)\n",
      ")\n"
     ]
    },
    {
     "data": {
      "text/html": [
       "wandb version 0.17.3 is available!  To upgrade, please run:\n",
       " $ pip install wandb --upgrade"
      ],
      "text/plain": [
       "<IPython.core.display.HTML object>"
      ]
     },
     "metadata": {},
     "output_type": "display_data"
    },
    {
     "data": {
      "text/html": [
       "Tracking run with wandb version 0.16.5"
      ],
      "text/plain": [
       "<IPython.core.display.HTML object>"
      ]
     },
     "metadata": {},
     "output_type": "display_data"
    },
    {
     "data": {
      "text/html": [
       "Run data is saved locally in <code>c:\\Users\\loreb\\Documents\\Projects\\DLA\\Lab1\\wandb\\run-20240703_151952-f41zv21k</code>"
      ],
      "text/plain": [
       "<IPython.core.display.HTML object>"
      ]
     },
     "metadata": {},
     "output_type": "display_data"
    },
    {
     "data": {
      "text/html": [
       "Syncing run <strong><a href='https://wandb.ai/lorebaia/DLA%20Assigment%201/runs/f41zv21k/workspace' target=\"_blank\">SimpleMLP-2024-07-03_15-19-52_MNIST_epochs-20_bs-128_lr-0.0001</a></strong> to <a href='https://wandb.ai/lorebaia/DLA%20Assigment%201' target=\"_blank\">Weights & Biases</a> (<a href='https://wandb.me/run' target=\"_blank\">docs</a>)<br/>"
      ],
      "text/plain": [
       "<IPython.core.display.HTML object>"
      ]
     },
     "metadata": {},
     "output_type": "display_data"
    },
    {
     "data": {
      "text/html": [
       " View project at <a href='https://wandb.ai/lorebaia/DLA%20Assigment%201' target=\"_blank\">https://wandb.ai/lorebaia/DLA%20Assigment%201</a>"
      ],
      "text/plain": [
       "<IPython.core.display.HTML object>"
      ]
     },
     "metadata": {},
     "output_type": "display_data"
    },
    {
     "data": {
      "text/html": [
       " View run at <a href='https://wandb.ai/lorebaia/DLA%20Assigment%201/runs/f41zv21k/workspace' target=\"_blank\">https://wandb.ai/lorebaia/DLA%20Assigment%201/runs/f41zv21k/workspace</a>"
      ],
      "text/plain": [
       "<IPython.core.display.HTML object>"
      ]
     },
     "metadata": {},
     "output_type": "display_data"
    },
    {
     "name": "stderr",
     "output_type": "stream",
     "text": [
      "Training epoch 0: 100%|██████████| 469/469 [00:09<00:00, 48.36it/s] \n",
      "Evaluating: 100%|██████████| 79/79 [00:06<00:00, 13.13it/s]\n"
     ]
    },
    {
     "name": "stdout",
     "output_type": "stream",
     "text": [
      "Epoch 0: Train Loss: 0.9413, Train Acc: 0.7128, Val Loss: 0.3645, Val Acc: 0.8949\n"
     ]
    },
    {
     "name": "stderr",
     "output_type": "stream",
     "text": [
      "Training epoch 1: 100%|██████████| 469/469 [00:09<00:00, 50.25it/s] \n",
      "Evaluating: 100%|██████████| 79/79 [00:06<00:00, 12.85it/s]\n"
     ]
    },
    {
     "name": "stdout",
     "output_type": "stream",
     "text": [
      "Epoch 1: Train Loss: 0.3312, Train Acc: 0.9032, Val Loss: 0.2893, Val Acc: 0.9142\n"
     ]
    },
    {
     "name": "stderr",
     "output_type": "stream",
     "text": [
      "Training epoch 2: 100%|██████████| 469/469 [00:08<00:00, 52.49it/s] \n",
      "Evaluating: 100%|██████████| 79/79 [00:06<00:00, 12.28it/s]\n"
     ]
    },
    {
     "name": "stdout",
     "output_type": "stream",
     "text": [
      "Epoch 2: Train Loss: 0.2683, Train Acc: 0.9213, Val Loss: 0.2376, Val Acc: 0.9287\n"
     ]
    },
    {
     "name": "stderr",
     "output_type": "stream",
     "text": [
      "Training epoch 3: 100%|██████████| 469/469 [00:09<00:00, 50.16it/s] \n",
      "Evaluating: 100%|██████████| 79/79 [00:05<00:00, 13.20it/s]\n"
     ]
    },
    {
     "name": "stdout",
     "output_type": "stream",
     "text": [
      "Epoch 3: Train Loss: 0.2300, Train Acc: 0.9327, Val Loss: 0.2138, Val Acc: 0.9354\n"
     ]
    },
    {
     "name": "stderr",
     "output_type": "stream",
     "text": [
      "Training epoch 4: 100%|██████████| 469/469 [00:09<00:00, 51.66it/s] \n",
      "Evaluating: 100%|██████████| 79/79 [00:05<00:00, 13.35it/s]\n"
     ]
    },
    {
     "name": "stdout",
     "output_type": "stream",
     "text": [
      "Epoch 4: Train Loss: 0.2011, Train Acc: 0.9412, Val Loss: 0.1858, Val Acc: 0.9436\n"
     ]
    },
    {
     "name": "stderr",
     "output_type": "stream",
     "text": [
      "Training epoch 5: 100%|██████████| 469/469 [00:10<00:00, 44.30it/s] \n",
      "Evaluating: 100%|██████████| 79/79 [00:07<00:00, 11.13it/s]\n"
     ]
    },
    {
     "name": "stdout",
     "output_type": "stream",
     "text": [
      "Epoch 5: Train Loss: 0.1787, Train Acc: 0.9478, Val Loss: 0.1697, Val Acc: 0.9490\n"
     ]
    },
    {
     "name": "stderr",
     "output_type": "stream",
     "text": [
      "Training epoch 6: 100%|██████████| 469/469 [00:08<00:00, 52.40it/s] \n",
      "Evaluating: 100%|██████████| 79/79 [00:06<00:00, 11.55it/s]\n"
     ]
    },
    {
     "name": "stdout",
     "output_type": "stream",
     "text": [
      "Epoch 6: Train Loss: 0.1602, Train Acc: 0.9529, Val Loss: 0.1532, Val Acc: 0.9541\n"
     ]
    },
    {
     "name": "stderr",
     "output_type": "stream",
     "text": [
      "Training epoch 7: 100%|██████████| 469/469 [00:08<00:00, 52.22it/s] \n",
      "Evaluating: 100%|██████████| 79/79 [00:06<00:00, 12.42it/s]\n"
     ]
    },
    {
     "name": "stdout",
     "output_type": "stream",
     "text": [
      "Epoch 7: Train Loss: 0.1455, Train Acc: 0.9575, Val Loss: 0.1404, Val Acc: 0.9560\n"
     ]
    },
    {
     "name": "stderr",
     "output_type": "stream",
     "text": [
      "Training epoch 8: 100%|██████████| 469/469 [00:09<00:00, 50.27it/s] \n",
      "Evaluating: 100%|██████████| 79/79 [00:06<00:00, 13.13it/s]\n"
     ]
    },
    {
     "name": "stdout",
     "output_type": "stream",
     "text": [
      "Epoch 8: Train Loss: 0.1328, Train Acc: 0.9609, Val Loss: 0.1304, Val Acc: 0.9591\n"
     ]
    },
    {
     "name": "stderr",
     "output_type": "stream",
     "text": [
      "Training epoch 9: 100%|██████████| 469/469 [00:08<00:00, 56.05it/s] \n",
      "Evaluating: 100%|██████████| 79/79 [00:05<00:00, 13.93it/s]\n"
     ]
    },
    {
     "name": "stdout",
     "output_type": "stream",
     "text": [
      "Epoch 9: Train Loss: 0.1213, Train Acc: 0.9643, Val Loss: 0.1236, Val Acc: 0.9613\n"
     ]
    },
    {
     "name": "stderr",
     "output_type": "stream",
     "text": [
      "Training epoch 10: 100%|██████████| 469/469 [00:09<00:00, 48.48it/s] \n",
      "Evaluating: 100%|██████████| 79/79 [00:06<00:00, 11.45it/s]\n"
     ]
    },
    {
     "name": "stdout",
     "output_type": "stream",
     "text": [
      "Epoch 10: Train Loss: 0.1116, Train Acc: 0.9669, Val Loss: 0.1178, Val Acc: 0.9628\n"
     ]
    },
    {
     "name": "stderr",
     "output_type": "stream",
     "text": [
      "Training epoch 11: 100%|██████████| 469/469 [00:08<00:00, 55.22it/s] \n",
      "Evaluating: 100%|██████████| 79/79 [00:06<00:00, 12.24it/s]\n"
     ]
    },
    {
     "name": "stdout",
     "output_type": "stream",
     "text": [
      "Epoch 11: Train Loss: 0.1018, Train Acc: 0.9698, Val Loss: 0.1171, Val Acc: 0.9629\n"
     ]
    },
    {
     "name": "stderr",
     "output_type": "stream",
     "text": [
      "Training epoch 12: 100%|██████████| 469/469 [00:09<00:00, 48.27it/s] \n",
      "Evaluating: 100%|██████████| 79/79 [00:05<00:00, 13.50it/s]\n"
     ]
    },
    {
     "name": "stdout",
     "output_type": "stream",
     "text": [
      "Epoch 12: Train Loss: 0.0948, Train Acc: 0.9716, Val Loss: 0.1064, Val Acc: 0.9666\n"
     ]
    },
    {
     "name": "stderr",
     "output_type": "stream",
     "text": [
      "Training epoch 13: 100%|██████████| 469/469 [00:08<00:00, 53.34it/s] \n",
      "Evaluating: 100%|██████████| 79/79 [00:05<00:00, 13.78it/s]\n"
     ]
    },
    {
     "name": "stdout",
     "output_type": "stream",
     "text": [
      "Epoch 13: Train Loss: 0.0877, Train Acc: 0.9739, Val Loss: 0.1073, Val Acc: 0.9663\n"
     ]
    },
    {
     "name": "stderr",
     "output_type": "stream",
     "text": [
      "Training epoch 14: 100%|██████████| 469/469 [00:09<00:00, 51.92it/s] \n",
      "Evaluating: 100%|██████████| 79/79 [00:05<00:00, 13.55it/s]\n"
     ]
    },
    {
     "name": "stdout",
     "output_type": "stream",
     "text": [
      "Epoch 14: Train Loss: 0.0818, Train Acc: 0.9759, Val Loss: 0.0992, Val Acc: 0.9692\n"
     ]
    },
    {
     "name": "stderr",
     "output_type": "stream",
     "text": [
      "Training epoch 15: 100%|██████████| 469/469 [00:08<00:00, 54.75it/s] \n",
      "Evaluating: 100%|██████████| 79/79 [00:06<00:00, 12.03it/s]\n"
     ]
    },
    {
     "name": "stdout",
     "output_type": "stream",
     "text": [
      "Epoch 15: Train Loss: 0.0758, Train Acc: 0.9774, Val Loss: 0.0943, Val Acc: 0.9696\n"
     ]
    },
    {
     "name": "stderr",
     "output_type": "stream",
     "text": [
      "Training epoch 16: 100%|██████████| 469/469 [00:09<00:00, 51.39it/s] \n",
      "Evaluating: 100%|██████████| 79/79 [00:05<00:00, 13.62it/s]\n"
     ]
    },
    {
     "name": "stdout",
     "output_type": "stream",
     "text": [
      "Epoch 16: Train Loss: 0.0700, Train Acc: 0.9796, Val Loss: 0.0933, Val Acc: 0.9709\n"
     ]
    },
    {
     "name": "stderr",
     "output_type": "stream",
     "text": [
      "Training epoch 17: 100%|██████████| 469/469 [00:08<00:00, 53.80it/s] \n",
      "Evaluating: 100%|██████████| 79/79 [00:05<00:00, 13.55it/s]\n"
     ]
    },
    {
     "name": "stdout",
     "output_type": "stream",
     "text": [
      "Epoch 17: Train Loss: 0.0655, Train Acc: 0.9810, Val Loss: 0.0920, Val Acc: 0.9707\n"
     ]
    },
    {
     "name": "stderr",
     "output_type": "stream",
     "text": [
      "Training epoch 18: 100%|██████████| 469/469 [00:08<00:00, 54.01it/s] \n",
      "Evaluating: 100%|██████████| 79/79 [00:05<00:00, 13.74it/s]\n"
     ]
    },
    {
     "name": "stdout",
     "output_type": "stream",
     "text": [
      "Epoch 18: Train Loss: 0.0624, Train Acc: 0.9814, Val Loss: 0.0886, Val Acc: 0.9721\n"
     ]
    },
    {
     "name": "stderr",
     "output_type": "stream",
     "text": [
      "Training epoch 19: 100%|██████████| 469/469 [00:08<00:00, 52.58it/s] \n",
      "Evaluating: 100%|██████████| 79/79 [00:05<00:00, 13.74it/s]\n"
     ]
    },
    {
     "name": "stdout",
     "output_type": "stream",
     "text": [
      "Epoch 19: Train Loss: 0.0571, Train Acc: 0.9835, Val Loss: 0.0878, Val Acc: 0.9720\n"
     ]
    },
    {
     "data": {
      "application/vnd.jupyter.widget-view+json": {
       "model_id": "d429feff866c47589a5281e12b9d3e94",
       "version_major": 2,
       "version_minor": 0
      },
      "text/plain": [
       "VBox(children=(Label(value='0.220 MB of 0.220 MB uploaded\\r'), FloatProgress(value=1.0, max=1.0)))"
      ]
     },
     "metadata": {},
     "output_type": "display_data"
    },
    {
     "data": {
      "text/html": [
       "<style>\n",
       "    table.wandb td:nth-child(1) { padding: 0 10px; text-align: left ; width: auto;} td:nth-child(2) {text-align: left ; width: 100%}\n",
       "    .wandb-row { display: flex; flex-direction: row; flex-wrap: wrap; justify-content: flex-start; width: 100% }\n",
       "    .wandb-col { display: flex; flex-direction: column; flex-basis: 100%; flex: 1; padding: 10px; }\n",
       "    </style>\n",
       "<div class=\"wandb-row\"><div class=\"wandb-col\"><h3>Run history:</h3><br/><table class=\"wandb\"><tr><td>train/accuracy</td><td>▁▆▆▇▇▇▇▇▇███████████</td></tr><tr><td>train/epoch</td><td>▁▁▂▂▂▃▃▄▄▄▅▅▅▆▆▇▇▇██</td></tr><tr><td>train/loss</td><td>█▃▃▂▂▂▂▂▂▂▁▁▁▁▁▁▁▁▁▁</td></tr><tr><td>val/accuracy</td><td>▁▃▄▅▅▆▆▇▇▇▇▇█▇██████</td></tr><tr><td>val/epoch</td><td>▁▁▂▂▂▃▃▄▄▄▅▅▅▆▆▇▇▇██</td></tr><tr><td>val/loss</td><td>█▆▅▄▃▃▃▂▂▂▂▂▁▁▁▁▁▁▁▁</td></tr></table><br/></div><div class=\"wandb-col\"><h3>Run summary:</h3><br/><table class=\"wandb\"><tr><td>train/accuracy</td><td>0.98345</td></tr><tr><td>train/epoch</td><td>19</td></tr><tr><td>train/loss</td><td>0.05714</td></tr><tr><td>val/accuracy</td><td>0.972</td></tr><tr><td>val/epoch</td><td>19</td></tr><tr><td>val/loss</td><td>0.08781</td></tr></table><br/></div></div>"
      ],
      "text/plain": [
       "<IPython.core.display.HTML object>"
      ]
     },
     "metadata": {},
     "output_type": "display_data"
    },
    {
     "data": {
      "text/html": [
       " View run <strong style=\"color:#cdcd00\">SimpleMLP-2024-07-03_15-19-52_MNIST_epochs-20_bs-128_lr-0.0001</strong> at: <a href='https://wandb.ai/lorebaia/DLA%20Assigment%201/runs/f41zv21k/workspace' target=\"_blank\">https://wandb.ai/lorebaia/DLA%20Assigment%201/runs/f41zv21k/workspace</a><br/>Synced 6 W&B file(s), 80 media file(s), 80 artifact file(s) and 0 other file(s)"
      ],
      "text/plain": [
       "<IPython.core.display.HTML object>"
      ]
     },
     "metadata": {},
     "output_type": "display_data"
    },
    {
     "data": {
      "text/html": [
       "Find logs at: <code>.\\wandb\\run-20240703_151952-f41zv21k\\logs</code>"
      ],
      "text/plain": [
       "<IPython.core.display.HTML object>"
      ]
     },
     "metadata": {},
     "output_type": "display_data"
    },
    {
     "data": {
      "image/png": "[encoded data removed]",
      "text/plain": [
       "<Figure size 1600x800 with 2 Axes>"
      ]
     },
     "metadata": {},
     "output_type": "display_data"
    },
    {
     "name": "stdout",
     "output_type": "stream",
     "text": [
      "Model saved to model_states/SimpleMLP-2024-07-03_15-19-52_MNIST_epochs-20_bs-128_lr-0.0001.pth\n"
     ]
    }
   ],
   "source": [
    "# Training hyperparameters.\n",
    "device = torch.device(\"cuda\" if torch.cuda.is_available() else \"cpu\")\n",
    "print(f'Using device {device}')\n",
    "epochs = 20\n",
    "lr = 0.0001\n",
    "batch_size = 128\n",
    "\n",
    "# Transform to apply to the data.\n",
    "transform = transforms.Compose([\n",
    "    transforms.ToTensor(),\n",
    "    transforms.Normalize((0.1307,), (0.3081,))\n",
    "])\n",
    "\n",
    "# MNIST dataset.\n",
    "ds_train = MNIST(root='../data', train=True, download=True, transform=transform)\n",
    "ds_val = MNIST(root='../data', train=False, download=True, transform=transform)\n",
    "\n",
    "# Dataloaders.\n",
    "dl_train = torch.utils.data.DataLoader(ds_train, batch_size, shuffle=True, num_workers=4)\n",
    "dl_val   = torch.utils.data.DataLoader(ds_val, batch_size, num_workers=4)\n",
    "\n",
    "# Instantiate model and optimizer.\n",
    "model_mlp = SimpleMLP().to(device)\n",
    "print(model_mlp.layers)\n",
    "opt = torch.optim.Adam(params=model_mlp.parameters(), lr=lr)\n",
    "\n",
    "# Training loop.\n",
    "train_evaluate_model(\n",
    "    model=model_mlp, \n",
    "    model_name=\"SimpleMLP\", \n",
    "    dataset_name=\"MNIST\", \n",
    "    class_names=[str(i) for i in range(10)], \n",
    "    dl_train=dl_train, \n",
    "    dl_test=dl_val, \n",
    "    batch_size=batch_size, \n",
    "    lr=lr, \n",
    "    epochs=epochs, \n",
    "    opt=opt, \n",
    "    device=device\n",
    ")"
   ]
  },
  {
   "cell_type": "markdown",
   "id": "0fb8ad9b-e3ae-4c49-9bec-35aaea149b08",
   "metadata": {},
   "source": [
    "### Exercise 1.2: Rinse and Repeat\n",
    "\n",
    "Repeat the verification you did above, but with **Convolutional** Neural Networks. If you were careful about abstracting your model and training code, this should be a simple exercise. Show that **deeper** CNNs *without* residual connections do not always work better and **even deeper** ones *with* residual connections.\n",
    "\n",
    "**Hint**: You probably should do this exercise using CIFAR10, since MNIST is *very* easy (at least up to about 99% accuracy).\n",
    "\n",
    "**Spoiler**: If you plan to do optional exercise 2.3, you should think *very* carefully about the architectures of your CNNs here (so you can reuse them!)."
   ]
  },
  {
   "cell_type": "code",
   "execution_count": 52,
   "id": "3c8baa0e-b17f-4a77-8a88-dadfdc6763ea",
   "metadata": {},
   "outputs": [],
   "source": [
    "# Define the CNN model\n",
    "class CNN(nn.Module):\n",
    "    def __init__(self):\n",
    "        super(CNN, self).__init__()\n",
    "        self.conv1 = nn.Conv2d(3, 16, kernel_size=3, stride=1, padding=1)\n",
    "        self.conv2 = nn.Conv2d(16, 32, kernel_size=3, stride=1, padding=1)\n",
    "        self.fc1 = nn.Linear(32 * 32 * 32, 128)\n",
    "        self.fc2 = nn.Linear(128, 10)\n",
    "\n",
    "    def forward(self, x):\n",
    "        x = F.relu(self.conv1(x))\n",
    "        x = F.relu(self.conv2(x))\n",
    "        x = torch.flatten(x, 1)\n",
    "        x = F.relu(self.fc1(x))\n",
    "        x = self.fc2(x)\n",
    "        return x"
   ]
  },
  {
   "cell_type": "code",
   "execution_count": 65,
   "id": "0a0617d6",
   "metadata": {},
   "outputs": [],
   "source": [
    "class NotResnet(nn.Module):\n",
    "    def __init__(self, num_classes=10):\n",
    "        super(NotResnet, self).__init__()\n",
    "        self.conv1 = nn.Conv2d(3, 64, kernel_size=3, stride=1, padding=1, bias=False)\n",
    "        self.bn1 = nn.BatchNorm2d(64)\n",
    "        self.relu = nn.ReLU(inplace=True)\n",
    "        self.layer1 = self.make_layer(64, 64, 2, stride=1)\n",
    "        self.layer2 = self.make_layer(64, 128, 2, stride=2)\n",
    "        self.layer3 = self.make_layer(128, 256, 2, stride=2)\n",
    "        self.layer4 = self.make_layer(256, 512, 2, stride=2)\n",
    "        self.avgpool = nn.AdaptiveAvgPool2d((1, 1))\n",
    "        self.fc = nn.Linear(512, num_classes)\n",
    "\n",
    "    def make_layer(self, in_channels, out_channels, num_blocks, stride):\n",
    "        layers = []\n",
    "        layers.append(nn.Conv2d(in_channels, out_channels, kernel_size=3, stride=stride, padding=1, bias=False))\n",
    "        layers.append(nn.BatchNorm2d(out_channels))\n",
    "        layers.append(nn.ReLU(inplace=True))\n",
    "        for _ in range(1, num_blocks):\n",
    "            layers.append(nn.Conv2d(out_channels, out_channels, kernel_size=3, stride=1, padding=1, bias=False))\n",
    "            layers.append(nn.BatchNorm2d(out_channels))\n",
    "            layers.append(nn.ReLU(inplace=True))\n",
    "        return nn.Sequential(*layers)\n",
    "\n",
    "    def forward(self, x):\n",
    "        x = self.conv1(x)\n",
    "        x = self.bn1(x)\n",
    "        x = self.relu(x)\n",
    "        x = self.layer1(x)\n",
    "        x = self.layer2(x)\n",
    "        x = self.layer3(x)\n",
    "        x = self.layer4(x)\n",
    "        x = self.avgpool(x)\n",
    "        x = x.view(x.size(0), -1)\n",
    "        x = self.fc(x)\n",
    "        return x"
   ]
  },
  {
   "cell_type": "code",
   "execution_count": 66,
   "id": "c4842d52",
   "metadata": {},
   "outputs": [
    {
     "name": "stdout",
     "output_type": "stream",
     "text": [
      "Files already downloaded and verified\n",
      "Files already downloaded and verified\n"
     ]
    },
    {
     "data": {
      "text/html": [
       "Finishing last run (ID:pji9kwoi) before initializing another..."
      ],
      "text/plain": [
       "<IPython.core.display.HTML object>"
      ]
     },
     "metadata": {},
     "output_type": "display_data"
    },
    {
     "data": {
      "application/vnd.jupyter.widget-view+json": {
       "model_id": "d53e39a46f76436ea866b1a472648a18",
       "version_major": 2,
       "version_minor": 0
      },
      "text/plain": [
       "VBox(children=(Label(value='0.009 MB of 0.009 MB uploaded\\r'), FloatProgress(value=1.0, max=1.0)))"
      ]
     },
     "metadata": {},
     "output_type": "display_data"
    },
    {
     "data": {
      "text/html": [
       "<style>\n",
       "    table.wandb td:nth-child(1) { padding: 0 10px; text-align: left ; width: auto;} td:nth-child(2) {text-align: left ; width: 100%}\n",
       "    .wandb-row { display: flex; flex-direction: row; flex-wrap: wrap; justify-content: flex-start; width: 100% }\n",
       "    .wandb-col { display: flex; flex-direction: column; flex-basis: 100%; flex: 1; padding: 10px; }\n",
       "    </style>\n",
       "<div class=\"wandb-row\"><div class=\"wandb-col\"><h3>Run history:</h3><br/><table class=\"wandb\"><tr><td>train/accuracy</td><td>▁</td></tr><tr><td>train/epoch</td><td>▁</td></tr><tr><td>train/loss</td><td>▁</td></tr></table><br/></div><div class=\"wandb-col\"><h3>Run summary:</h3><br/><table class=\"wandb\"><tr><td>train/accuracy</td><td>0.0983</td></tr><tr><td>train/epoch</td><td>0</td></tr><tr><td>train/loss</td><td>58.25069</td></tr></table><br/></div></div>"
      ],
      "text/plain": [
       "<IPython.core.display.HTML object>"
      ]
     },
     "metadata": {},
     "output_type": "display_data"
    },
    {
     "data": {
      "text/html": [
       " View run <strong style=\"color:#cdcd00\">ResidualCNN-2024-07-03_19-34-00_CIFAR10_epochs-20_bs-128_lr-0.1</strong> at: <a href='https://wandb.ai/lorebaia/DLA%20Assigment%201/runs/pji9kwoi/workspace' target=\"_blank\">https://wandb.ai/lorebaia/DLA%20Assigment%201/runs/pji9kwoi/workspace</a><br/>Synced 6 W&B file(s), 2 media file(s), 2 artifact file(s) and 0 other file(s)"
      ],
      "text/plain": [
       "<IPython.core.display.HTML object>"
      ]
     },
     "metadata": {},
     "output_type": "display_data"
    },
    {
     "data": {
      "text/html": [
       "Find logs at: <code>.\\wandb\\run-20240703_193400-pji9kwoi\\logs</code>"
      ],
      "text/plain": [
       "<IPython.core.display.HTML object>"
      ]
     },
     "metadata": {},
     "output_type": "display_data"
    },
    {
     "data": {
      "text/html": [
       "Successfully finished last run (ID:pji9kwoi). Initializing new run:<br/>"
      ],
      "text/plain": [
       "<IPython.core.display.HTML object>"
      ]
     },
     "metadata": {},
     "output_type": "display_data"
    },
    {
     "data": {
      "application/vnd.jupyter.widget-view+json": {
       "model_id": "ff9bc9571da8450f8f49924fec5d2400",
       "version_major": 2,
       "version_minor": 0
      },
      "text/plain": [
       "VBox(children=(Label(value='Waiting for wandb.init()...\\r'), FloatProgress(value=0.011111111111111112, max=1.0…"
      ]
     },
     "metadata": {},
     "output_type": "display_data"
    },
    {
     "data": {
      "text/html": [
       "wandb version 0.17.3 is available!  To upgrade, please run:\n",
       " $ pip install wandb --upgrade"
      ],
      "text/plain": [
       "<IPython.core.display.HTML object>"
      ]
     },
     "metadata": {},
     "output_type": "display_data"
    },
    {
     "data": {
      "text/html": [
       "Tracking run with wandb version 0.16.5"
      ],
      "text/plain": [
       "<IPython.core.display.HTML object>"
      ]
     },
     "metadata": {},
     "output_type": "display_data"
    },
    {
     "data": {
      "text/html": [
       "Run data is saved locally in <code>c:\\Users\\loreb\\Documents\\Projects\\DLA\\Lab1\\wandb\\run-20240703_193551-k7bm3u5r</code>"
      ],
      "text/plain": [
       "<IPython.core.display.HTML object>"
      ]
     },
     "metadata": {},
     "output_type": "display_data"
    },
    {
     "data": {
      "text/html": [
       "Syncing run <strong><a href='https://wandb.ai/lorebaia/DLA%20Assigment%201/runs/k7bm3u5r/workspace' target=\"_blank\">ResidualCNN-2024-07-03_19-35-51_CIFAR10_epochs-20_bs-128_lr-0.1</a></strong> to <a href='https://wandb.ai/lorebaia/DLA%20Assigment%201' target=\"_blank\">Weights & Biases</a> (<a href='https://wandb.me/run' target=\"_blank\">docs</a>)<br/>"
      ],
      "text/plain": [
       "<IPython.core.display.HTML object>"
      ]
     },
     "metadata": {},
     "output_type": "display_data"
    },
    {
     "data": {
      "text/html": [
       " View project at <a href='https://wandb.ai/lorebaia/DLA%20Assigment%201' target=\"_blank\">https://wandb.ai/lorebaia/DLA%20Assigment%201</a>"
      ],
      "text/plain": [
       "<IPython.core.display.HTML object>"
      ]
     },
     "metadata": {},
     "output_type": "display_data"
    },
    {
     "data": {
      "text/html": [
       " View run at <a href='https://wandb.ai/lorebaia/DLA%20Assigment%201/runs/k7bm3u5r/workspace' target=\"_blank\">https://wandb.ai/lorebaia/DLA%20Assigment%201/runs/k7bm3u5r/workspace</a>"
      ],
      "text/plain": [
       "<IPython.core.display.HTML object>"
      ]
     },
     "metadata": {},
     "output_type": "display_data"
    },
    {
     "name": "stderr",
     "output_type": "stream",
     "text": [
      "Training epoch 0: 100%|██████████| 391/391 [02:11<00:00,  2.96it/s]\n",
      "Evaluating: 100%|██████████| 79/79 [00:20<00:00,  3.86it/s]\n"
     ]
    },
    {
     "name": "stdout",
     "output_type": "stream",
     "text": [
      "Epoch 0: Train Loss: 2.1544, Train Acc: 0.2278, Val Loss: 1.8692, Val Acc: 0.3057\n"
     ]
    },
    {
     "name": "stderr",
     "output_type": "stream",
     "text": [
      "Training epoch 1: 100%|██████████| 391/391 [01:07<00:00,  5.80it/s]\n",
      "Evaluating: 100%|██████████| 79/79 [00:20<00:00,  3.85it/s]\n"
     ]
    },
    {
     "name": "stdout",
     "output_type": "stream",
     "text": [
      "Epoch 1: Train Loss: 1.5898, Train Acc: 0.3989, Val Loss: 1.4363, Val Acc: 0.4640\n"
     ]
    },
    {
     "name": "stderr",
     "output_type": "stream",
     "text": [
      "Training epoch 2: 100%|██████████| 391/391 [01:07<00:00,  5.80it/s]\n",
      "Evaluating: 100%|██████████| 79/79 [00:20<00:00,  3.80it/s]\n"
     ]
    },
    {
     "name": "stdout",
     "output_type": "stream",
     "text": [
      "Epoch 2: Train Loss: 1.3177, Train Acc: 0.5128, Val Loss: 1.2601, Val Acc: 0.5447\n"
     ]
    },
    {
     "name": "stderr",
     "output_type": "stream",
     "text": [
      "Training epoch 3: 100%|██████████| 391/391 [01:07<00:00,  5.77it/s]\n",
      "Evaluating: 100%|██████████| 79/79 [00:20<00:00,  3.83it/s]\n"
     ]
    },
    {
     "name": "stdout",
     "output_type": "stream",
     "text": [
      "Epoch 3: Train Loss: 1.1151, Train Acc: 0.5970, Val Loss: 1.1986, Val Acc: 0.5849\n"
     ]
    },
    {
     "name": "stderr",
     "output_type": "stream",
     "text": [
      "Training epoch 4: 100%|██████████| 391/391 [01:07<00:00,  5.79it/s]\n",
      "Evaluating: 100%|██████████| 79/79 [00:20<00:00,  3.83it/s]\n"
     ]
    },
    {
     "name": "stdout",
     "output_type": "stream",
     "text": [
      "Epoch 4: Train Loss: 0.9604, Train Acc: 0.6539, Val Loss: 1.2178, Val Acc: 0.6007\n"
     ]
    },
    {
     "name": "stderr",
     "output_type": "stream",
     "text": [
      "Training epoch 5: 100%|██████████| 391/391 [01:07<00:00,  5.77it/s]\n",
      "Evaluating: 100%|██████████| 79/79 [00:20<00:00,  3.79it/s]\n"
     ]
    },
    {
     "name": "stdout",
     "output_type": "stream",
     "text": [
      "Epoch 5: Train Loss: 0.8386, Train Acc: 0.7004, Val Loss: 0.8935, Val Acc: 0.6959\n"
     ]
    },
    {
     "name": "stderr",
     "output_type": "stream",
     "text": [
      "Training epoch 6: 100%|██████████| 391/391 [01:07<00:00,  5.77it/s]\n",
      "Evaluating: 100%|██████████| 79/79 [00:20<00:00,  3.83it/s]\n"
     ]
    },
    {
     "name": "stdout",
     "output_type": "stream",
     "text": [
      "Epoch 6: Train Loss: 0.7349, Train Acc: 0.7400, Val Loss: 0.9317, Val Acc: 0.6798\n"
     ]
    },
    {
     "name": "stderr",
     "output_type": "stream",
     "text": [
      "Training epoch 7: 100%|██████████| 391/391 [01:07<00:00,  5.78it/s]\n",
      "Evaluating: 100%|██████████| 79/79 [00:20<00:00,  3.84it/s]\n"
     ]
    },
    {
     "name": "stdout",
     "output_type": "stream",
     "text": [
      "Epoch 7: Train Loss: 0.6529, Train Acc: 0.7700, Val Loss: 1.0094, Val Acc: 0.6826\n"
     ]
    },
    {
     "name": "stderr",
     "output_type": "stream",
     "text": [
      "Training epoch 8: 100%|██████████| 391/391 [01:07<00:00,  5.80it/s]\n",
      "Evaluating: 100%|██████████| 79/79 [00:20<00:00,  3.88it/s]\n"
     ]
    },
    {
     "name": "stdout",
     "output_type": "stream",
     "text": [
      "Epoch 8: Train Loss: 0.5673, Train Acc: 0.8022, Val Loss: 0.8569, Val Acc: 0.7253\n"
     ]
    },
    {
     "name": "stderr",
     "output_type": "stream",
     "text": [
      "Training epoch 9: 100%|██████████| 391/391 [01:07<00:00,  5.80it/s]\n",
      "Evaluating: 100%|██████████| 79/79 [00:20<00:00,  3.85it/s]\n"
     ]
    },
    {
     "name": "stdout",
     "output_type": "stream",
     "text": [
      "Epoch 9: Train Loss: 0.5010, Train Acc: 0.8233, Val Loss: 0.8001, Val Acc: 0.7422\n"
     ]
    },
    {
     "name": "stderr",
     "output_type": "stream",
     "text": [
      "Training epoch 10: 100%|██████████| 391/391 [01:07<00:00,  5.79it/s]\n",
      "Evaluating: 100%|██████████| 79/79 [00:20<00:00,  3.87it/s]\n"
     ]
    },
    {
     "name": "stdout",
     "output_type": "stream",
     "text": [
      "Epoch 10: Train Loss: 0.4275, Train Acc: 0.8507, Val Loss: 0.9312, Val Acc: 0.7181\n"
     ]
    },
    {
     "name": "stderr",
     "output_type": "stream",
     "text": [
      "Training epoch 11: 100%|██████████| 391/391 [01:07<00:00,  5.81it/s]\n",
      "Evaluating: 100%|██████████| 79/79 [00:21<00:00,  3.75it/s]\n"
     ]
    },
    {
     "name": "stdout",
     "output_type": "stream",
     "text": [
      "Epoch 11: Train Loss: 0.3652, Train Acc: 0.8705, Val Loss: 1.1422, Val Acc: 0.6879\n"
     ]
    },
    {
     "name": "stderr",
     "output_type": "stream",
     "text": [
      "Training epoch 12: 100%|██████████| 391/391 [01:07<00:00,  5.78it/s]\n",
      "Evaluating: 100%|██████████| 79/79 [00:20<00:00,  3.85it/s]\n"
     ]
    },
    {
     "name": "stdout",
     "output_type": "stream",
     "text": [
      "Epoch 12: Train Loss: 0.3080, Train Acc: 0.8897, Val Loss: 0.8349, Val Acc: 0.7681\n"
     ]
    },
    {
     "name": "stderr",
     "output_type": "stream",
     "text": [
      "Training epoch 13: 100%|██████████| 391/391 [01:07<00:00,  5.80it/s]\n",
      "Evaluating: 100%|██████████| 79/79 [00:20<00:00,  3.85it/s]\n"
     ]
    },
    {
     "name": "stdout",
     "output_type": "stream",
     "text": [
      "Epoch 13: Train Loss: 0.2652, Train Acc: 0.9051, Val Loss: 0.8794, Val Acc: 0.7576\n"
     ]
    },
    {
     "name": "stderr",
     "output_type": "stream",
     "text": [
      "Training epoch 14: 100%|██████████| 391/391 [01:07<00:00,  5.81it/s]\n",
      "Evaluating: 100%|██████████| 79/79 [00:20<00:00,  3.87it/s]\n"
     ]
    },
    {
     "name": "stdout",
     "output_type": "stream",
     "text": [
      "Epoch 14: Train Loss: 0.2174, Train Acc: 0.9225, Val Loss: 0.9309, Val Acc: 0.7598\n"
     ]
    },
    {
     "name": "stderr",
     "output_type": "stream",
     "text": [
      "Training epoch 15: 100%|██████████| 391/391 [01:07<00:00,  5.81it/s]\n",
      "Evaluating: 100%|██████████| 79/79 [00:20<00:00,  3.87it/s]\n"
     ]
    },
    {
     "name": "stdout",
     "output_type": "stream",
     "text": [
      "Epoch 15: Train Loss: 0.1933, Train Acc: 0.9308, Val Loss: 1.3307, Val Acc: 0.7034\n"
     ]
    },
    {
     "name": "stderr",
     "output_type": "stream",
     "text": [
      "Training epoch 16: 100%|██████████| 391/391 [01:07<00:00,  5.82it/s]\n",
      "Evaluating: 100%|██████████| 79/79 [00:20<00:00,  3.85it/s]\n"
     ]
    },
    {
     "name": "stdout",
     "output_type": "stream",
     "text": [
      "Epoch 16: Train Loss: 0.1627, Train Acc: 0.9420, Val Loss: 1.1028, Val Acc: 0.7453\n"
     ]
    },
    {
     "name": "stderr",
     "output_type": "stream",
     "text": [
      "Training epoch 17: 100%|██████████| 391/391 [01:07<00:00,  5.80it/s]\n",
      "Evaluating: 100%|██████████| 79/79 [00:20<00:00,  3.86it/s]\n"
     ]
    },
    {
     "name": "stdout",
     "output_type": "stream",
     "text": [
      "Epoch 17: Train Loss: 0.1464, Train Acc: 0.9484, Val Loss: 1.1953, Val Acc: 0.7540\n"
     ]
    },
    {
     "name": "stderr",
     "output_type": "stream",
     "text": [
      "Training epoch 18: 100%|██████████| 391/391 [01:07<00:00,  5.80it/s]\n",
      "Evaluating: 100%|██████████| 79/79 [00:20<00:00,  3.85it/s]\n"
     ]
    },
    {
     "name": "stdout",
     "output_type": "stream",
     "text": [
      "Epoch 18: Train Loss: 0.1307, Train Acc: 0.9545, Val Loss: 1.0447, Val Acc: 0.7714\n"
     ]
    },
    {
     "name": "stderr",
     "output_type": "stream",
     "text": [
      "Training epoch 19: 100%|██████████| 391/391 [01:07<00:00,  5.81it/s]\n",
      "Evaluating: 100%|██████████| 79/79 [00:20<00:00,  3.86it/s]\n"
     ]
    },
    {
     "name": "stdout",
     "output_type": "stream",
     "text": [
      "Epoch 19: Train Loss: 0.1055, Train Acc: 0.9628, Val Loss: 1.2573, Val Acc: 0.7607\n"
     ]
    },
    {
     "data": {
      "application/vnd.jupyter.widget-view+json": {
       "model_id": "2035555138f840078f585c7f28acb25b",
       "version_major": 2,
       "version_minor": 0
      },
      "text/plain": [
       "VBox(children=(Label(value='0.285 MB of 0.285 MB uploaded\\r'), FloatProgress(value=1.0, max=1.0)))"
      ]
     },
     "metadata": {},
     "output_type": "display_data"
    },
    {
     "data": {
      "text/html": [
       "<style>\n",
       "    table.wandb td:nth-child(1) { padding: 0 10px; text-align: left ; width: auto;} td:nth-child(2) {text-align: left ; width: 100%}\n",
       "    .wandb-row { display: flex; flex-direction: row; flex-wrap: wrap; justify-content: flex-start; width: 100% }\n",
       "    .wandb-col { display: flex; flex-direction: column; flex-basis: 100%; flex: 1; padding: 10px; }\n",
       "    </style>\n",
       "<div class=\"wandb-row\"><div class=\"wandb-col\"><h3>Run history:</h3><br/><table class=\"wandb\"><tr><td>train/accuracy</td><td>▁▃▄▅▅▆▆▆▆▇▇▇▇▇██████</td></tr><tr><td>train/epoch</td><td>▁▁▂▂▂▃▃▄▄▄▅▅▅▆▆▇▇▇██</td></tr><tr><td>train/loss</td><td>█▆▅▄▄▄▃▃▃▂▂▂▂▂▁▁▁▁▁▁</td></tr><tr><td>val/accuracy</td><td>▁▃▅▅▅▇▇▇▇█▇▇███▇████</td></tr><tr><td>val/epoch</td><td>▁▁▂▂▂▃▃▄▄▄▅▅▅▆▆▇▇▇██</td></tr><tr><td>val/loss</td><td>█▅▄▄▄▂▂▂▁▁▂▃▁▂▂▄▃▄▃▄</td></tr></table><br/></div><div class=\"wandb-col\"><h3>Run summary:</h3><br/><table class=\"wandb\"><tr><td>train/accuracy</td><td>0.9628</td></tr><tr><td>train/epoch</td><td>19</td></tr><tr><td>train/loss</td><td>0.10548</td></tr><tr><td>val/accuracy</td><td>0.7607</td></tr><tr><td>val/epoch</td><td>19</td></tr><tr><td>val/loss</td><td>1.25728</td></tr></table><br/></div></div>"
      ],
      "text/plain": [
       "<IPython.core.display.HTML object>"
      ]
     },
     "metadata": {},
     "output_type": "display_data"
    },
    {
     "data": {
      "text/html": [
       " View run <strong style=\"color:#cdcd00\">ResidualCNN-2024-07-03_19-35-51_CIFAR10_epochs-20_bs-128_lr-0.1</strong> at: <a href='https://wandb.ai/lorebaia/DLA%20Assigment%201/runs/k7bm3u5r/workspace' target=\"_blank\">https://wandb.ai/lorebaia/DLA%20Assigment%201/runs/k7bm3u5r/workspace</a><br/>Synced 6 W&B file(s), 80 media file(s), 80 artifact file(s) and 0 other file(s)"
      ],
      "text/plain": [
       "<IPython.core.display.HTML object>"
      ]
     },
     "metadata": {},
     "output_type": "display_data"
    },
    {
     "data": {
      "text/html": [
       "Find logs at: <code>.\\wandb\\run-20240703_193551-k7bm3u5r\\logs</code>"
      ],
      "text/plain": [
       "<IPython.core.display.HTML object>"
      ]
     },
     "metadata": {},
     "output_type": "display_data"
    },
    {
     "data": {
      "image/png": "[encoded data removed]",
      "text/plain": [
       "<Figure size 1600x800 with 2 Axes>"
      ]
     },
     "metadata": {},
     "output_type": "display_data"
    },
    {
     "name": "stdout",
     "output_type": "stream",
     "text": [
      "Model saved to model_states/ResidualCNN-2024-07-03_19-35-51_CIFAR10_epochs-20_bs-128_lr-0.1.pth\n"
     ]
    }
   ],
   "source": [
    "\"\"\"\n",
    "TRAINING THE RESIDUAL CNN MODEL ON CIFAR10\n",
    "\"\"\"\n",
    "\n",
    "# Set device\n",
    "device = torch.device(\"cuda\" if torch.cuda.is_available() else \"cpu\")\n",
    "\n",
    "# Define hyperparameters\n",
    "batch_size = 128\n",
    "epochs = 20\n",
    "lr = 0.1\n",
    "\n",
    "# Load CIFAR10 dataset\n",
    "transform = transforms.Compose([\n",
    "    transforms.ToTensor(),\n",
    "    transforms.Normalize((0.4914, 0.4822, 0.4465), (0.247, 0.243, 0.261))\n",
    "])\n",
    "\n",
    "ds_train = torchvision.datasets.CIFAR10(root='../data', train=True, download=True, transform=transform)\n",
    "ds_val = torchvision.datasets.CIFAR10(root='../data', train=False, download=True, transform=transform)\n",
    "\n",
    "dl_train = torch.utils.data.DataLoader(ds_train, batch_size, shuffle=True, num_workers=4)\n",
    "dl_val = torch.utils.data.DataLoader(ds_val, batch_size, num_workers=4)\n",
    "\n",
    "# Initialize the CNN model\n",
    "model = NotResnet().to(device)\n",
    "\n",
    "# Define loss function and optimizer\n",
    "optimizer = torch.optim.Adam(model.parameters(), lr=lr)\n",
    "\n",
    "# Train and evaluate the model\n",
    "train_evaluate_model(\n",
    "    model=model, \n",
    "    model_name=\"NotResnet\", \n",
    "    dataset_name=\"CIFAR10\", \n",
    "    class_names=ds_train.classes, \n",
    "    dl_train=dl_train, \n",
    "    dl_test=dl_val, \n",
    "    batch_size=batch_size, \n",
    "    lr=lr, \n",
    "    epochs=epochs, \n",
    "    opt=optimizer, \n",
    "    device=device\n",
    ")"
   ]
  },
  {
   "cell_type": "code",
   "execution_count": 58,
   "id": "bc2b26ab",
   "metadata": {},
   "outputs": [],
   "source": [
    "# Define the basic building blocks of ResNet: Residual Block\n",
    "class ResidualBlock(nn.Module):\n",
    "    def __init__(self, in_channels, out_channels, stride=1):\n",
    "        super(ResidualBlock, self).__init__()\n",
    "        self.conv1 = nn.Conv2d(in_channels, out_channels, kernel_size=3, stride=stride, padding=1, bias=False)\n",
    "        self.bn1 = nn.BatchNorm2d(out_channels)\n",
    "        self.conv2 = nn.Conv2d(out_channels, out_channels, kernel_size=3, stride=1, padding=1, bias=False)\n",
    "        self.bn2 = nn.BatchNorm2d(out_channels)\n",
    "        \n",
    "        self.shortcut = nn.Sequential()\n",
    "        if stride != 1 or in_channels != out_channels:\n",
    "            self.shortcut = nn.Sequential(\n",
    "                nn.Conv2d(in_channels, out_channels, kernel_size=1, stride=stride, bias=False),\n",
    "                nn.BatchNorm2d(out_channels),\n",
    "            )\n",
    "\n",
    "    def forward(self, x):\n",
    "        out = F.relu(self.bn1(self.conv1(x)))\n",
    "        out = self.bn2(self.conv2(out))\n",
    "        out += self.shortcut(x)\n",
    "        out = F.relu(out)\n",
    "        return out\n",
    "    \n",
    "# The ResNet model\n",
    "class ResNet18(nn.Module):\n",
    "    def __init__(self, num_blocks, num_classes):\n",
    "        super(ResNet18, self).__init__()\n",
    "        self.in_channels = 64    \n",
    "\n",
    "        self.conv1 = nn.Conv2d(3, self.in_channels, kernel_size=3, stride=1, padding=1, bias=False)\n",
    "        self.bn = nn.BatchNorm2d(self.in_channels)\n",
    "\n",
    "        self.layer1 = self._make_layer(ResidualBlock, 64, num_blocks[0], stride=1)\n",
    "        self.layer2 = self._make_layer(ResidualBlock, 128, num_blocks[1], stride=2)\n",
    "        self.layer3 = self._make_layer(ResidualBlock, 256, num_blocks[2], stride=2)\n",
    "        self.layer4 = self._make_layer(ResidualBlock, 512, num_blocks[3], stride=2)\n",
    "\n",
    "        self.fc = nn.Linear(512, num_classes)\n",
    "\n",
    "    def _make_layer(self, block, out_channels, num_blocks, stride):\n",
    "        strides = [stride] + [1]*(num_blocks-1)    # [stride, 1, 1, ...] (num_blocks times) ensures that the first block has stride=stride\n",
    "        layers = []\n",
    "        for stride in strides:\n",
    "            layers.append(block(self.in_channels, out_channels, stride))\n",
    "            self.in_channels = out_channels\n",
    "        return nn.Sequential(*layers)\n",
    "    \n",
    "    def forward(self, x):\n",
    "        out = F.relu(self.bn(self.conv1(x)))       # [batch_size, 3, 32, 32] -> [batch_size, 64, 32, 32]\n",
    "        out = self.layer1(out)                     # [batch_size, 64, 32, 32] -> [batch_size, 64, 32, 32] (stride=1)\n",
    "        out = self.layer2(out)                     # [batch_size, 64, 32, 32] -> [batch_size, 128, 16, 16] (stride=2)\n",
    "        out = self.layer3(out)                     # [batch_size, 128, 16, 16] -> [batch_size, 256, 8, 8] (stride=2)\n",
    "        out = self.layer4(out)                     # [batch_size, 256, 8, 8] -> [batch_size, 512, 4, 4] (stride=2)\n",
    "        out = F.avg_pool2d(out, 4)                 # [batch_size, 512, 4, 4] -> [batch_size, 512, 1, 1] (avg_pool2d)\n",
    "        out = out.view(out.size(0), -1)            # [batch_size, 512, 1, 1] -> [batch_size, 512]\n",
    "        out = self.fc(out)                         # [batch_size, 512] -> [batch_size, num_classes]\n",
    "        return out"
   ]
  },
  {
   "cell_type": "code",
   "execution_count": 63,
   "id": "fde5e11f",
   "metadata": {},
   "outputs": [
    {
     "name": "stdout",
     "output_type": "stream",
     "text": [
      "Files already downloaded and verified\n",
      "Files already downloaded and verified\n"
     ]
    },
    {
     "data": {
      "text/html": [
       "wandb version 0.17.3 is available!  To upgrade, please run:\n",
       " $ pip install wandb --upgrade"
      ],
      "text/plain": [
       "<IPython.core.display.HTML object>"
      ]
     },
     "metadata": {},
     "output_type": "display_data"
    },
    {
     "data": {
      "text/html": [
       "Tracking run with wandb version 0.16.5"
      ],
      "text/plain": [
       "<IPython.core.display.HTML object>"
      ]
     },
     "metadata": {},
     "output_type": "display_data"
    },
    {
     "data": {
      "text/html": [
       "Run data is saved locally in <code>c:\\Users\\loreb\\Documents\\Projects\\DLA\\Lab1\\wandb\\run-20240703_183831-y2sgesbh</code>"
      ],
      "text/plain": [
       "<IPython.core.display.HTML object>"
      ]
     },
     "metadata": {},
     "output_type": "display_data"
    },
    {
     "data": {
      "text/html": [
       "Syncing run <strong><a href='https://wandb.ai/lorebaia/DLA%20Assigment%201/runs/y2sgesbh/workspace' target=\"_blank\">ResNet18-2024-07-03_18-38-31_CIFAR10_epochs-20_bs-128_lr-0.1</a></strong> to <a href='https://wandb.ai/lorebaia/DLA%20Assigment%201' target=\"_blank\">Weights & Biases</a> (<a href='https://wandb.me/run' target=\"_blank\">docs</a>)<br/>"
      ],
      "text/plain": [
       "<IPython.core.display.HTML object>"
      ]
     },
     "metadata": {},
     "output_type": "display_data"
    },
    {
     "data": {
      "text/html": [
       " View project at <a href='https://wandb.ai/lorebaia/DLA%20Assigment%201' target=\"_blank\">https://wandb.ai/lorebaia/DLA%20Assigment%201</a>"
      ],
      "text/plain": [
       "<IPython.core.display.HTML object>"
      ]
     },
     "metadata": {},
     "output_type": "display_data"
    },
    {
     "data": {
      "text/html": [
       " View run at <a href='https://wandb.ai/lorebaia/DLA%20Assigment%201/runs/y2sgesbh/workspace' target=\"_blank\">https://wandb.ai/lorebaia/DLA%20Assigment%201/runs/y2sgesbh/workspace</a>"
      ],
      "text/plain": [
       "<IPython.core.display.HTML object>"
      ]
     },
     "metadata": {},
     "output_type": "display_data"
    },
    {
     "name": "stderr",
     "output_type": "stream",
     "text": [
      "Training epoch 0: 100%|██████████| 391/391 [02:05<00:00,  3.12it/s]\n",
      "Evaluating: 100%|██████████| 79/79 [00:30<00:00,  2.62it/s]\n"
     ]
    },
    {
     "name": "stdout",
     "output_type": "stream",
     "text": [
      "Epoch 0: Train Loss: 2.2151, Train Acc: 0.2079, Val Loss: 1.8703, Val Acc: 0.2836\n"
     ]
    },
    {
     "name": "stderr",
     "output_type": "stream",
     "text": [
      "Training epoch 1: 100%|██████████| 391/391 [03:06<00:00,  2.10it/s]\n",
      "Evaluating: 100%|██████████| 79/79 [00:28<00:00,  2.78it/s]\n"
     ]
    },
    {
     "name": "stdout",
     "output_type": "stream",
     "text": [
      "Epoch 1: Train Loss: 1.6586, Train Acc: 0.3599, Val Loss: 1.5338, Val Acc: 0.4224\n"
     ]
    },
    {
     "name": "stderr",
     "output_type": "stream",
     "text": [
      "Training epoch 2: 100%|██████████| 391/391 [03:20<00:00,  1.95it/s]\n",
      "Evaluating: 100%|██████████| 79/79 [00:30<00:00,  2.56it/s]\n"
     ]
    },
    {
     "name": "stdout",
     "output_type": "stream",
     "text": [
      "Epoch 2: Train Loss: 1.3699, Train Acc: 0.4924, Val Loss: 1.3335, Val Acc: 0.5187\n"
     ]
    },
    {
     "name": "stderr",
     "output_type": "stream",
     "text": [
      "Training epoch 3: 100%|██████████| 391/391 [02:03<00:00,  3.16it/s]\n",
      "Evaluating: 100%|██████████| 79/79 [00:45<00:00,  1.73it/s]\n"
     ]
    },
    {
     "name": "stdout",
     "output_type": "stream",
     "text": [
      "Epoch 3: Train Loss: 1.1701, Train Acc: 0.5752, Val Loss: 1.2140, Val Acc: 0.5730\n"
     ]
    },
    {
     "name": "stderr",
     "output_type": "stream",
     "text": [
      "Training epoch 4: 100%|██████████| 391/391 [02:01<00:00,  3.22it/s]\n",
      "Evaluating: 100%|██████████| 79/79 [00:25<00:00,  3.09it/s]\n"
     ]
    },
    {
     "name": "stdout",
     "output_type": "stream",
     "text": [
      "Epoch 4: Train Loss: 0.9716, Train Acc: 0.6523, Val Loss: 1.1800, Val Acc: 0.6018\n"
     ]
    },
    {
     "name": "stderr",
     "output_type": "stream",
     "text": [
      "Training epoch 5: 100%|██████████| 391/391 [02:00<00:00,  3.25it/s]\n",
      "Evaluating: 100%|██████████| 79/79 [00:25<00:00,  3.09it/s]\n"
     ]
    },
    {
     "name": "stdout",
     "output_type": "stream",
     "text": [
      "Epoch 5: Train Loss: 0.8166, Train Acc: 0.7066, Val Loss: 0.8465, Val Acc: 0.7060\n"
     ]
    },
    {
     "name": "stderr",
     "output_type": "stream",
     "text": [
      "Training epoch 6: 100%|██████████| 391/391 [02:00<00:00,  3.26it/s]\n",
      "Evaluating: 100%|██████████| 79/79 [00:25<00:00,  3.15it/s]\n"
     ]
    },
    {
     "name": "stdout",
     "output_type": "stream",
     "text": [
      "Epoch 6: Train Loss: 0.6985, Train Acc: 0.7555, Val Loss: 0.7430, Val Acc: 0.7508\n"
     ]
    },
    {
     "name": "stderr",
     "output_type": "stream",
     "text": [
      "Training epoch 7: 100%|██████████| 391/391 [01:59<00:00,  3.26it/s]\n",
      "Evaluating: 100%|██████████| 79/79 [00:25<00:00,  3.09it/s]\n"
     ]
    },
    {
     "name": "stdout",
     "output_type": "stream",
     "text": [
      "Epoch 7: Train Loss: 0.5948, Train Acc: 0.7934, Val Loss: 0.7668, Val Acc: 0.7614\n"
     ]
    },
    {
     "name": "stderr",
     "output_type": "stream",
     "text": [
      "Training epoch 8: 100%|██████████| 391/391 [02:00<00:00,  3.24it/s]\n",
      "Evaluating: 100%|██████████| 79/79 [00:25<00:00,  3.10it/s]\n"
     ]
    },
    {
     "name": "stdout",
     "output_type": "stream",
     "text": [
      "Epoch 8: Train Loss: 0.5183, Train Acc: 0.8196, Val Loss: 0.7118, Val Acc: 0.7664\n"
     ]
    },
    {
     "name": "stderr",
     "output_type": "stream",
     "text": [
      "Training epoch 9: 100%|██████████| 391/391 [02:00<00:00,  3.25it/s]\n",
      "Evaluating: 100%|██████████| 79/79 [00:25<00:00,  3.11it/s]\n"
     ]
    },
    {
     "name": "stdout",
     "output_type": "stream",
     "text": [
      "Epoch 9: Train Loss: 0.4498, Train Acc: 0.8441, Val Loss: 0.7516, Val Acc: 0.7489\n"
     ]
    },
    {
     "name": "stderr",
     "output_type": "stream",
     "text": [
      "Training epoch 10: 100%|██████████| 391/391 [02:00<00:00,  3.25it/s]\n",
      "Evaluating: 100%|██████████| 79/79 [00:25<00:00,  3.13it/s]\n"
     ]
    },
    {
     "name": "stdout",
     "output_type": "stream",
     "text": [
      "Epoch 10: Train Loss: 0.3940, Train Acc: 0.8634, Val Loss: 0.8136, Val Acc: 0.7485\n"
     ]
    },
    {
     "name": "stderr",
     "output_type": "stream",
     "text": [
      "Training epoch 11: 100%|██████████| 391/391 [01:59<00:00,  3.28it/s]\n",
      "Evaluating: 100%|██████████| 79/79 [00:24<00:00,  3.23it/s]\n"
     ]
    },
    {
     "name": "stdout",
     "output_type": "stream",
     "text": [
      "Epoch 11: Train Loss: 0.3284, Train Acc: 0.8852, Val Loss: 0.7853, Val Acc: 0.7788\n"
     ]
    },
    {
     "name": "stderr",
     "output_type": "stream",
     "text": [
      "Training epoch 12: 100%|██████████| 391/391 [01:59<00:00,  3.27it/s]\n",
      "Evaluating: 100%|██████████| 79/79 [00:26<00:00,  3.01it/s]\n"
     ]
    },
    {
     "name": "stdout",
     "output_type": "stream",
     "text": [
      "Epoch 12: Train Loss: 0.2856, Train Acc: 0.9001, Val Loss: 0.7362, Val Acc: 0.7898\n"
     ]
    },
    {
     "name": "stderr",
     "output_type": "stream",
     "text": [
      "Training epoch 13: 100%|██████████| 391/391 [01:59<00:00,  3.27it/s]\n",
      "Evaluating: 100%|██████████| 79/79 [00:25<00:00,  3.14it/s]\n"
     ]
    },
    {
     "name": "stdout",
     "output_type": "stream",
     "text": [
      "Epoch 13: Train Loss: 0.2439, Train Acc: 0.9144, Val Loss: 0.7679, Val Acc: 0.7817\n"
     ]
    },
    {
     "name": "stderr",
     "output_type": "stream",
     "text": [
      "Training epoch 14: 100%|██████████| 391/391 [01:58<00:00,  3.29it/s]\n",
      "Evaluating: 100%|██████████| 79/79 [00:25<00:00,  3.05it/s]\n"
     ]
    },
    {
     "name": "stdout",
     "output_type": "stream",
     "text": [
      "Epoch 14: Train Loss: 0.2118, Train Acc: 0.9266, Val Loss: 0.8338, Val Acc: 0.7817\n"
     ]
    },
    {
     "name": "stderr",
     "output_type": "stream",
     "text": [
      "Training epoch 15: 100%|██████████| 391/391 [02:00<00:00,  3.24it/s]\n",
      "Evaluating: 100%|██████████| 79/79 [00:25<00:00,  3.06it/s]\n"
     ]
    },
    {
     "name": "stdout",
     "output_type": "stream",
     "text": [
      "Epoch 15: Train Loss: 0.1819, Train Acc: 0.9370, Val Loss: 0.7857, Val Acc: 0.7955\n"
     ]
    },
    {
     "name": "stderr",
     "output_type": "stream",
     "text": [
      "Training epoch 16: 100%|██████████| 391/391 [02:01<00:00,  3.23it/s]\n",
      "Evaluating: 100%|██████████| 79/79 [00:25<00:00,  3.06it/s]\n"
     ]
    },
    {
     "name": "stdout",
     "output_type": "stream",
     "text": [
      "Epoch 16: Train Loss: 0.1506, Train Acc: 0.9477, Val Loss: 0.8947, Val Acc: 0.7856\n"
     ]
    },
    {
     "name": "stderr",
     "output_type": "stream",
     "text": [
      "Training epoch 17: 100%|██████████| 391/391 [02:01<00:00,  3.22it/s]\n",
      "Evaluating: 100%|██████████| 79/79 [00:25<00:00,  3.05it/s]\n"
     ]
    },
    {
     "name": "stdout",
     "output_type": "stream",
     "text": [
      "Epoch 17: Train Loss: 0.1315, Train Acc: 0.9544, Val Loss: 0.9512, Val Acc: 0.7858\n"
     ]
    },
    {
     "name": "stderr",
     "output_type": "stream",
     "text": [
      "Training epoch 18: 100%|██████████| 391/391 [02:01<00:00,  3.22it/s]\n",
      "Evaluating: 100%|██████████| 79/79 [00:25<00:00,  3.04it/s]\n"
     ]
    },
    {
     "name": "stdout",
     "output_type": "stream",
     "text": [
      "Epoch 18: Train Loss: 0.1283, Train Acc: 0.9563, Val Loss: 0.9728, Val Acc: 0.7859\n"
     ]
    },
    {
     "name": "stderr",
     "output_type": "stream",
     "text": [
      "Training epoch 19: 100%|██████████| 391/391 [02:01<00:00,  3.22it/s]\n",
      "Evaluating: 100%|██████████| 79/79 [00:25<00:00,  3.05it/s]\n"
     ]
    },
    {
     "name": "stdout",
     "output_type": "stream",
     "text": [
      "Epoch 19: Train Loss: 0.1106, Train Acc: 0.9618, Val Loss: 1.1145, Val Acc: 0.7782\n"
     ]
    },
    {
     "data": {
      "application/vnd.jupyter.widget-view+json": {
       "model_id": "b93fbb2d361a4f47abdd125f84c28a9c",
       "version_major": 2,
       "version_minor": 0
      },
      "text/plain": [
       "VBox(children=(Label(value='0.284 MB of 0.284 MB uploaded\\r'), FloatProgress(value=1.0, max=1.0)))"
      ]
     },
     "metadata": {},
     "output_type": "display_data"
    },
    {
     "data": {
      "text/html": [
       "<style>\n",
       "    table.wandb td:nth-child(1) { padding: 0 10px; text-align: left ; width: auto;} td:nth-child(2) {text-align: left ; width: 100%}\n",
       "    .wandb-row { display: flex; flex-direction: row; flex-wrap: wrap; justify-content: flex-start; width: 100% }\n",
       "    .wandb-col { display: flex; flex-direction: column; flex-basis: 100%; flex: 1; padding: 10px; }\n",
       "    </style>\n",
       "<div class=\"wandb-row\"><div class=\"wandb-col\"><h3>Run history:</h3><br/><table class=\"wandb\"><tr><td>train/accuracy</td><td>▁▂▄▄▅▆▆▆▇▇▇▇▇███████</td></tr><tr><td>train/epoch</td><td>▁▁▂▂▂▃▃▄▄▄▅▅▅▆▆▇▇▇██</td></tr><tr><td>train/loss</td><td>█▆▅▅▄▃▃▃▂▂▂▂▂▁▁▁▁▁▁▁</td></tr><tr><td>val/accuracy</td><td>▁▃▄▅▅▇▇██▇▇█████████</td></tr><tr><td>val/epoch</td><td>▁▁▂▂▂▃▃▄▄▄▅▅▅▆▆▇▇▇██</td></tr><tr><td>val/loss</td><td>█▆▅▄▄▂▁▁▁▁▂▁▁▁▂▁▂▂▃▃</td></tr></table><br/></div><div class=\"wandb-col\"><h3>Run summary:</h3><br/><table class=\"wandb\"><tr><td>train/accuracy</td><td>0.96176</td></tr><tr><td>train/epoch</td><td>19</td></tr><tr><td>train/loss</td><td>0.11063</td></tr><tr><td>val/accuracy</td><td>0.7782</td></tr><tr><td>val/epoch</td><td>19</td></tr><tr><td>val/loss</td><td>1.11454</td></tr></table><br/></div></div>"
      ],
      "text/plain": [
       "<IPython.core.display.HTML object>"
      ]
     },
     "metadata": {},
     "output_type": "display_data"
    },
    {
     "data": {
      "text/html": [
       " View run <strong style=\"color:#cdcd00\">ResNet18-2024-07-03_18-38-31_CIFAR10_epochs-20_bs-128_lr-0.1</strong> at: <a href='https://wandb.ai/lorebaia/DLA%20Assigment%201/runs/y2sgesbh/workspace' target=\"_blank\">https://wandb.ai/lorebaia/DLA%20Assigment%201/runs/y2sgesbh/workspace</a><br/>Synced 6 W&B file(s), 80 media file(s), 80 artifact file(s) and 0 other file(s)"
      ],
      "text/plain": [
       "<IPython.core.display.HTML object>"
      ]
     },
     "metadata": {},
     "output_type": "display_data"
    },
    {
     "data": {
      "text/html": [
       "Find logs at: <code>.\\wandb\\run-20240703_183831-y2sgesbh\\logs</code>"
      ],
      "text/plain": [
       "<IPython.core.display.HTML object>"
      ]
     },
     "metadata": {},
     "output_type": "display_data"
    },
    {
     "data": {
      "image/png": "[encoded data removed]",
      "text/plain": [
       "<Figure size 1600x800 with 2 Axes>"
      ]
     },
     "metadata": {},
     "output_type": "display_data"
    },
    {
     "name": "stdout",
     "output_type": "stream",
     "text": [
      "Model saved to model_states/ResNet18-2024-07-03_18-38-31_CIFAR10_epochs-20_bs-128_lr-0.1.pth\n"
     ]
    }
   ],
   "source": [
    "\"\"\"\n",
    "TRAINING THE RESIDUAL CNN MODEL ON CIFAR10\n",
    "\"\"\"\n",
    "# Set device\n",
    "device = torch.device(\"cuda\" if torch.cuda.is_available() else \"cpu\")\n",
    "\n",
    "# Define hyperparameters\n",
    "batch_size = 128\n",
    "epochs = 20\n",
    "lr = 0.1\n",
    "\n",
    "# Load CIFAR10 dataset\n",
    "transform = transforms.Compose([\n",
    "    transforms.ToTensor(),\n",
    "    transforms.Normalize((0.4914, 0.4822, 0.4465), (0.247, 0.243, 0.261))\n",
    "])\n",
    "\n",
    "ds_train = torchvision.datasets.CIFAR10(root='../data', train=True, download=True, transform=transform)\n",
    "ds_val = torchvision.datasets.CIFAR10(root='../data', train=False, download=True, transform=transform)\n",
    "\n",
    "dl_train = torch.utils.data.DataLoader(ds_train, batch_size, shuffle=True, num_workers=4)\n",
    "dl_val = torch.utils.data.DataLoader(ds_val, batch_size, num_workers=4)\n",
    "\n",
    "# Initialize the CNN model\n",
    "model = ResNet18(num_blocks=[2, 2, 2, 2], num_classes=10).to(device)\n",
    "\n",
    "# Define loss function and optimizer\n",
    "optimizer = torch.optim.Adam(model.parameters(), lr=lr)\n",
    "\n",
    "# Train and evaluate the model\n",
    "train_evaluate_model(\n",
    "    model=model, \n",
    "    model_name=\"ResNet18\", \n",
    "    dataset_name=\"CIFAR10\", \n",
    "    class_names=ds_train.classes, \n",
    "    dl_train=dl_train, \n",
    "    dl_test=dl_val, \n",
    "    batch_size=batch_size, \n",
    "    lr=lr, \n",
    "    epochs=epochs, \n",
    "    opt=optimizer, \n",
    "    device=device\n",
    ")"
   ]
  }
 ],
 "metadata": {
  "kernelspec": {
   "display_name": "Python 3 (ipykernel)",
   "language": "python",
   "name": "python3"
  },
  "language_info": {
   "codemirror_mode": {
    "name": "ipython",
    "version": 3
   },
   "file_extension": ".py",
   "mimetype": "text/x-python",
   "name": "python",
   "nbconvert_exporter": "python",
   "pygments_lexer": "ipython3",
   "version": "3.11.9"
  }
 },
 "nbformat": 4,
 "nbformat_minor": 5
}
