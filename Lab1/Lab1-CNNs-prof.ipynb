{
 "cells": [
  {
   "cell_type": "markdown",
   "id": "d97f7c5d-46f3-4cbd-80ad-f1e50cd65096",
   "metadata": {},
   "source": [
    "# Deep Learning Applications: Laboratory #1\n",
    "\n",
    "In this first laboratory we will work relatively simple architectures to get a feel for working with Deep Models. This notebook is designed to work with PyTorch, but as I said in the introductory lecture: please feel free to use and experiment with whatever tools you like.\n",
    "\n"
   ]
  },
  {
   "cell_type": "markdown",
   "id": "17ed8906-bd19-4b4f-8b79-4feae355ffd6",
   "metadata": {},
   "source": [
    "## Exercise 1: Warming Up\n",
    "In this series of exercises I want you to try to duplicate (on a small scale) the results of the ResNet paper:\n",
    "\n",
    "> [Deep Residual Learning for Image Recognition](https://arxiv.org/abs/1512.03385), Kaiming He, Xiangyu Zhang, Shaoqing Ren, Jian Sun, CVPR 2016.\n",
    "\n",
    "We will do this in steps using a Multilayer Perceptron on MNIST.\n",
    "\n",
    "Recall that the main message of the ResNet paper is that **deeper** networks do not **guarantee** more reduction in training loss (or in validation accuracy). Below you will incrementally build a sequence of experiments to verify this for an MLP. A few guidelines:\n",
    "\n",
    "+ I have provided some **starter** code at the beginning. **NONE** of this code should survive in your solutions. Not only is it **very** badly written, it is also written in my functional style that also obfuscates what it's doing (in part to **discourage** your reuse!). It's just to get you *started*.\n",
    "+ These exercises ask you to compare **multiple** training runs, so it is **really** important that you factor this into your **pipeline**. Using [Tensorboard](https://pytorch.org/tutorials/recipes/recipes/tensorboard_with_pytorch.html) is a **very** good idea -- or, even better [Weights and Biases](https://wandb.ai/site).\n",
    "+ You may work and submit your solutions in **groups of at most two**. Share your ideas with everyone, but the solutions you submit *must be your own*.\n",
    "\n",
    "First some boilerplate to get you started, then on to the actual exercises!"
   ]
  },
  {
   "cell_type": "markdown",
   "id": "edb2b6d1-3df0-464c-9a5f-8c611257a971",
   "metadata": {},
   "source": [
    "### Preface: Some code to get you started\n",
    "\n",
    "What follows is some **very simple** code for training an MLP on MNIST. The point of this code is to get you up and running (and to verify that your Python environment has all needed dependencies).\n",
    "\n",
    "**Note**: As you read through my code and execute it, this would be a good time to think about *abstracting* **your** model definition, and training and evaluation pipelines in order to make it easier to compare performance of different models."
   ]
  },
  {
   "cell_type": "code",
   "execution_count": 21,
   "id": "ab3a8282-2322-4dca-b76e-2f3863bc75fb",
   "metadata": {
    "tags": []
   },
   "outputs": [],
   "source": [
    "# Start with some standard imports.\n",
    "import numpy as np\n",
    "import matplotlib.pyplot as plt\n",
    "from functools import reduce\n",
    "import torch\n",
    "from torchvision.datasets import MNIST\n",
    "from torch.utils.data import Subset\n",
    "from torch.utils.tensorboard import SummaryWriter\n",
    "import torch.nn as nn\n",
    "import torch.nn.functional as F\n",
    "import torchvision.transforms as transforms"
   ]
  },
  {
   "cell_type": "markdown",
   "id": "33cc12cc-8422-47bf-8d8e-0950ac05ae96",
   "metadata": {},
   "source": [
    "#### Data preparation\n",
    "\n",
    "Here is some basic dataset loading, validation splitting code to get you started working with MNIST."
   ]
  },
  {
   "cell_type": "code",
   "execution_count": 6,
   "id": "272a69db-0416-444a-9be4-5f055ff48bbb",
   "metadata": {
    "tags": []
   },
   "outputs": [],
   "source": [
    "# Standard MNIST transform.\n",
    "transform = transforms.Compose([\n",
    "    transforms.ToTensor(),\n",
    "    transforms.Normalize((0.1307,), (0.3081,))\n",
    "])\n",
    "\n",
    "# Load MNIST train and test.\n",
    "ds_train = MNIST(root='./data', train=True, download=True, transform=transform)\n",
    "ds_test = MNIST(root='./data', train=False, download=True, transform=transform)\n",
    "\n",
    "# Split train into train and validation.\n",
    "val_size = 5000\n",
    "I = np.random.permutation(len(ds_train))   # Order ds_train randomly.\n",
    "ds_val = Subset(ds_train, I[:val_size])    # Use torch Subset to sample a validation set.\n",
    "ds_train = Subset(ds_train, I[val_size:])  # Same, rest of original training set is train set."
   ]
  },
  {
   "cell_type": "code",
   "execution_count": 4,
   "id": "8b631f43-d9d1-45d1-aa36-52a0ac68e094",
   "metadata": {
    "tags": []
   },
   "outputs": [
    {
     "data": {
      "text/plain": [
       "55000"
      ]
     },
     "execution_count": 4,
     "metadata": {},
     "output_type": "execute_result"
    }
   ],
   "source": [
    "len(ds_train)"
   ]
  },
  {
   "cell_type": "code",
   "execution_count": 5,
   "id": "9f6689f6-a093-4296-b53b-e6ca5b04525f",
   "metadata": {
    "tags": []
   },
   "outputs": [
    {
     "data": {
      "text/plain": [
       "(5000, 10000)"
      ]
     },
     "execution_count": 5,
     "metadata": {},
     "output_type": "execute_result"
    }
   ],
   "source": [
    "len(ds_val), len(ds_test)"
   ]
  },
  {
   "cell_type": "markdown",
   "id": "24e05e96-7707-4490-98b8-50cb5e330af1",
   "metadata": {},
   "source": [
    "#### Boilerplate training and evaluation code\n",
    "\n",
    "This is some **very** rough training, evaluation, and plotting code. Again, just to get you started.\n",
    "\n",
    "**I will be *very* disappointed if any of this code makes it into your final submission.**"
   ]
  },
  {
   "cell_type": "code",
   "execution_count": 7,
   "id": "dbcce348-f603-4d57-b9a8-5b1c6eba28ae",
   "metadata": {
    "tags": []
   },
   "outputs": [],
   "source": [
    "from tqdm import tqdm\n",
    "from sklearn.metrics import accuracy_score, classification_report\n",
    "\n",
    "# Function to train a model for a single epoch over the data loader.\n",
    "def train_epoch(model, dl, opt, epoch='Unknown', device='cpu'):\n",
    "    # Make model is in 'training' mode.\n",
    "    model.train()\n",
    "    \n",
    "    # Capture all batch losses.\n",
    "    losses = []\n",
    "    \n",
    "    # Iterate over all batches in data loader.\n",
    "    for (xs, ys) in tqdm(dl, desc=f'Training epoch {epoch}', leave=True):\n",
    "        xs = xs.to(device)  # Move images and labels to desired device.\n",
    "        ys = ys.to(device)\n",
    "        opt.zero_grad()     # Zero out gradients.\n",
    "        logits = model(xs)  # Forward pass.\n",
    "        \n",
    "        # Hardcoded cross-entropy loss.\n",
    "        loss = F.cross_entropy(logits, ys)\n",
    "        \n",
    "        # Compute gradients.\n",
    "        loss.backward()\n",
    "        \n",
    "        # Update parameters.\n",
    "        opt.step()\n",
    "        \n",
    "        # Save current batch loss.\n",
    "        losses.append(loss.item())\n",
    "        \n",
    "    # Return average loss for this batch.\n",
    "    return np.mean(losses)\n",
    "\n",
    "# Function to evaluate model over all samples in the data loader.\n",
    "def evaluate_model(model, dl, device='cpu'):\n",
    "    model.eval()\n",
    "    predictions = []\n",
    "    gts = []\n",
    "    for (xs, ys) in tqdm(dl, desc='Evaluating', leave=False):\n",
    "        xs = xs.to(device)\n",
    "        preds = torch.argmax(model(xs), dim=1)\n",
    "        gts.append(ys)\n",
    "        predictions.append(preds.detach().cpu().numpy())\n",
    "        \n",
    "    # Return accuracy score and classification report.\n",
    "    return (accuracy_score(np.hstack(gts), np.hstack(predictions)),\n",
    "            classification_report(np.hstack(gts), np.hstack(predictions), zero_division=0, digits=3))\n",
    "\n",
    "# Simple function to plot the loss curve and validation accuracy.\n",
    "def plot_validation_curves(losses_and_accs):\n",
    "    losses = [x for (x, _) in losses_and_accs]\n",
    "    accs = [x for (_, x) in losses_and_accs]\n",
    "    plt.figure(figsize=(16, 8))\n",
    "    plt.subplot(1, 2, 1)\n",
    "    plt.plot(losses)\n",
    "    plt.xlabel('Epoch')\n",
    "    plt.ylabel('Loss')\n",
    "    plt.title('Average Training Loss per Epoch')\n",
    "    plt.subplot(1, 2, 2)\n",
    "    plt.plot(accs)\n",
    "    plt.xlabel('Epoch')\n",
    "    plt.ylabel('Validation Accuracy')\n",
    "    plt.title(f'Best Accuracy = {np.max(accs)} @ epoch {np.argmax(accs)}')"
   ]
  },
  {
   "cell_type": "markdown",
   "id": "875008c3-306c-4e39-a845-d7bda7862621",
   "metadata": {},
   "source": [
    "#### A basic, parameterized MLP\n",
    "\n",
    "This is a very basic implementation of a Multilayer Perceptron. Don't waste too much time trying to figure out how it works -- the important detail is that it allows you to pass in a list of input, hidden layer, and output *widths*. **Your** implementation should also support this for the exercises to come."
   ]
  },
  {
   "cell_type": "code",
   "execution_count": 78,
   "id": "8c1e503a-37df-4fb9-94e7-85d0adb494bd",
   "metadata": {
    "tags": []
   },
   "outputs": [],
   "source": [
    "# Simple parametrized MLP. Argument layer_sizes provides sizes of all layers.\n",
    "# Obfuscated to encourage you to write your own!\n",
    "class MLP(nn.Module):\n",
    "    def __init__(self, layer_sizes):\n",
    "        super().__init__()\n",
    "        self.layers = nn.ModuleList([nn.Linear(nin, nout) for (nin, nout) in zip(layer_sizes[:-1], layer_sizes[1:])])\n",
    "    \n",
    "    def forward(self, x):\n",
    "        return reduce(lambda f, g: lambda x: g(F.relu(f(x))), self.layers, lambda x: x.flatten(1))(x)\n",
    "    \n",
    "# A non-parametric CNN.\n",
    "class ConvBlock(nn.Module):\n",
    "    def __init__(self, num=1, channels=8, size=3):\n",
    "        super().__init__()\n",
    "        self.layers = nn.ModuleList([nn.Conv2d(channels, channels, kernel_size=size, padding='same') for _ in range(num)])\n",
    "\n",
    "    def forward(self, x):\n",
    "        return reduce(lambda f, g: lambda x: g(F.relu(f(x))), self.layers, lambda x: x)(x)\n",
    "    \n",
    "class CNN(nn.Module):\n",
    "    def __init__(self, num=2, channels=8, size=3):\n",
    "        super().__init__()\n",
    "        self.conv1 = nn.Conv2d(1, channels, kernel_size=size)\n",
    "        self.cblock1 = ConvBlock(num=num, channels=channels, size=size)\n",
    "        self.cblock2 = ConvBlock(num=num, channels=channels, size=size)\n",
    "        self.cblock3 = ConvBlock(num=num, channels=channels, size=size)\n",
    "        self.output = nn.Linear(channels, 10)\n",
    "        \n",
    "    def forward(self, x):\n",
    "        x = self.conv1(x)\n",
    "        x = self.cblock1(x)\n",
    "        x = F.max_pool2d(x, 3, 2)\n",
    "        x = self.cblock2(x)\n",
    "        x = F.max_pool2d(x, 3, 2)\n",
    "        x = self.cblock3(x)\n",
    "        x = F.avg_pool2d(x, kernel_size=x.shape[2:]).squeeze()\n",
    "        return self.output(x)\n",
    "        "
   ]
  },
  {
   "cell_type": "code",
   "execution_count": 79,
   "id": "65756b79-ccc5-441e-9a37-c80626893d08",
   "metadata": {
    "tags": []
   },
   "outputs": [
    {
     "data": {
      "text/plain": [
       "torch.Size([1, 8, 28, 28])"
      ]
     },
     "execution_count": 79,
     "metadata": {},
     "output_type": "execute_result"
    }
   ],
   "source": [
    "foo = ConvBlock(num=3, size=5)\n",
    "\n",
    "bar = torch.randn(size=(1, 8, 28, 28))\n",
    "foo(bar).size()"
   ]
  },
  {
   "cell_type": "code",
   "execution_count": 80,
   "id": "400b959e-2b2d-45ea-84da-10d0aef040e3",
   "metadata": {
    "tags": []
   },
   "outputs": [
    {
     "data": {
      "text/plain": [
       "tensor([[-0.1670,  0.0456, -0.0713, -0.3162, -0.3086,  0.1557, -0.2159,  0.0944,\n",
       "          0.0310,  0.1518],\n",
       "        [-0.1669,  0.0456, -0.0713, -0.3160, -0.3085,  0.1556, -0.2160,  0.0944,\n",
       "          0.0310,  0.1519],\n",
       "        [-0.1670,  0.0454, -0.0712, -0.3160, -0.3086,  0.1555, -0.2162,  0.0943,\n",
       "          0.0311,  0.1517],\n",
       "        [-0.1669,  0.0456, -0.0713, -0.3159, -0.3086,  0.1555, -0.2162,  0.0943,\n",
       "          0.0310,  0.1518],\n",
       "        [-0.1670,  0.0455, -0.0712, -0.3160, -0.3086,  0.1556, -0.2161,  0.0943,\n",
       "          0.0311,  0.1518]], grad_fn=<AddmmBackward0>)"
      ]
     },
     "execution_count": 80,
     "metadata": {},
     "output_type": "execute_result"
    }
   ],
   "source": [
    "model_cnn = CNN()\n",
    "x = torch.randn(size=(5, 1, 28, 28))\n",
    "model_cnn(x)"
   ]
  },
  {
   "cell_type": "code",
   "execution_count": 81,
   "id": "ff837974-dda2-4440-9885-2e37aac23356",
   "metadata": {
    "tags": []
   },
   "outputs": [
    {
     "data": {
      "text/plain": [
       "torch.Size([1, 8])"
      ]
     },
     "execution_count": 81,
     "metadata": {},
     "output_type": "execute_result"
    }
   ],
   "source": [
    "x = torch.randn(size=(1, 8, 28, 28))\n",
    "F.avg_pool2d(x, kernel_size=x.shape[2:]).shape\n",
    "x.mean([2, 3]).shape"
   ]
  },
  {
   "cell_type": "code",
   "execution_count": 82,
   "id": "fc89e48f-d8f3-4122-842d-1ff389499854",
   "metadata": {
    "tags": []
   },
   "outputs": [
    {
     "name": "stderr",
     "output_type": "stream",
     "text": [
      "Training epoch 0: 100%|██████████████████████████████████████████████████████| 215/215 [00:01<00:00, 131.95it/s]\n",
      "Training epoch 1: 100%|██████████████████████████████████████████████████████| 215/215 [00:01<00:00, 125.15it/s]\n",
      "Training epoch 2: 100%|██████████████████████████████████████████████████████| 215/215 [00:01<00:00, 119.68it/s]\n",
      "Training epoch 3: 100%|██████████████████████████████████████████████████████| 215/215 [00:01<00:00, 124.17it/s]\n",
      "Training epoch 4: 100%|██████████████████████████████████████████████████████| 215/215 [00:01<00:00, 120.91it/s]\n",
      "Training epoch 5: 100%|██████████████████████████████████████████████████████| 215/215 [00:01<00:00, 125.66it/s]\n",
      "Training epoch 6: 100%|██████████████████████████████████████████████████████| 215/215 [00:01<00:00, 124.60it/s]\n",
      "Training epoch 7: 100%|██████████████████████████████████████████████████████| 215/215 [00:01<00:00, 126.76it/s]\n",
      "Training epoch 8: 100%|██████████████████████████████████████████████████████| 215/215 [00:01<00:00, 120.68it/s]\n",
      "Training epoch 9: 100%|██████████████████████████████████████████████████████| 215/215 [00:01<00:00, 116.21it/s]\n",
      "Training epoch 10: 100%|█████████████████████████████████████████████████████| 215/215 [00:01<00:00, 122.72it/s]\n",
      "Training epoch 11: 100%|█████████████████████████████████████████████████████| 215/215 [00:01<00:00, 122.80it/s]\n",
      "Training epoch 12: 100%|█████████████████████████████████████████████████████| 215/215 [00:01<00:00, 113.88it/s]\n",
      "Training epoch 13: 100%|█████████████████████████████████████████████████████| 215/215 [00:01<00:00, 113.98it/s]\n",
      "Training epoch 14: 100%|█████████████████████████████████████████████████████| 215/215 [00:01<00:00, 115.38it/s]\n",
      "Training epoch 15: 100%|█████████████████████████████████████████████████████| 215/215 [00:01<00:00, 119.04it/s]\n",
      "Training epoch 16: 100%|█████████████████████████████████████████████████████| 215/215 [00:01<00:00, 118.31it/s]\n",
      "Training epoch 17: 100%|█████████████████████████████████████████████████████| 215/215 [00:01<00:00, 118.38it/s]\n",
      "Training epoch 18: 100%|█████████████████████████████████████████████████████| 215/215 [00:01<00:00, 121.61it/s]\n",
      "Training epoch 19: 100%|█████████████████████████████████████████████████████| 215/215 [00:01<00:00, 122.16it/s]\n",
      "Training epoch 20: 100%|█████████████████████████████████████████████████████| 215/215 [00:01<00:00, 117.73it/s]\n",
      "Training epoch 21: 100%|█████████████████████████████████████████████████████| 215/215 [00:01<00:00, 114.74it/s]\n",
      "Training epoch 22: 100%|█████████████████████████████████████████████████████| 215/215 [00:01<00:00, 119.91it/s]\n",
      "Training epoch 23: 100%|█████████████████████████████████████████████████████| 215/215 [00:01<00:00, 123.04it/s]\n",
      "Training epoch 24: 100%|█████████████████████████████████████████████████████| 215/215 [00:01<00:00, 124.10it/s]\n",
      "Training epoch 25: 100%|█████████████████████████████████████████████████████| 215/215 [00:01<00:00, 120.40it/s]\n",
      "Training epoch 26: 100%|█████████████████████████████████████████████████████| 215/215 [00:01<00:00, 120.96it/s]\n",
      "Training epoch 27: 100%|█████████████████████████████████████████████████████| 215/215 [00:01<00:00, 115.35it/s]\n",
      "Training epoch 28: 100%|█████████████████████████████████████████████████████| 215/215 [00:01<00:00, 119.89it/s]\n",
      "Training epoch 29: 100%|█████████████████████████████████████████████████████| 215/215 [00:01<00:00, 117.51it/s]\n",
      "Training epoch 30: 100%|█████████████████████████████████████████████████████| 215/215 [00:01<00:00, 124.06it/s]\n",
      "Training epoch 31: 100%|█████████████████████████████████████████████████████| 215/215 [00:01<00:00, 123.25it/s]\n",
      "Training epoch 32: 100%|█████████████████████████████████████████████████████| 215/215 [00:01<00:00, 117.94it/s]\n",
      "Training epoch 33: 100%|█████████████████████████████████████████████████████| 215/215 [00:01<00:00, 118.80it/s]\n",
      "Training epoch 34: 100%|█████████████████████████████████████████████████████| 215/215 [00:01<00:00, 116.83it/s]\n",
      "Training epoch 35: 100%|█████████████████████████████████████████████████████| 215/215 [00:01<00:00, 121.77it/s]\n",
      "Training epoch 36: 100%|█████████████████████████████████████████████████████| 215/215 [00:01<00:00, 120.18it/s]\n",
      "Training epoch 37: 100%|█████████████████████████████████████████████████████| 215/215 [00:01<00:00, 118.09it/s]\n",
      "Training epoch 38: 100%|█████████████████████████████████████████████████████| 215/215 [00:01<00:00, 109.97it/s]\n",
      "Training epoch 39: 100%|█████████████████████████████████████████████████████| 215/215 [00:01<00:00, 117.28it/s]\n",
      "Training epoch 40: 100%|█████████████████████████████████████████████████████| 215/215 [00:01<00:00, 119.08it/s]\n",
      "Training epoch 41: 100%|█████████████████████████████████████████████████████| 215/215 [00:01<00:00, 119.05it/s]\n",
      "Training epoch 42: 100%|█████████████████████████████████████████████████████| 215/215 [00:01<00:00, 123.35it/s]\n",
      "Training epoch 43: 100%|█████████████████████████████████████████████████████| 215/215 [00:01<00:00, 116.61it/s]\n",
      "Training epoch 44: 100%|█████████████████████████████████████████████████████| 215/215 [00:01<00:00, 117.38it/s]\n",
      "Training epoch 45: 100%|█████████████████████████████████████████████████████| 215/215 [00:01<00:00, 118.37it/s]\n",
      "Training epoch 46: 100%|█████████████████████████████████████████████████████| 215/215 [00:01<00:00, 121.39it/s]\n",
      "Training epoch 47: 100%|█████████████████████████████████████████████████████| 215/215 [00:01<00:00, 119.34it/s]\n",
      "Training epoch 48: 100%|█████████████████████████████████████████████████████| 215/215 [00:01<00:00, 118.86it/s]\n",
      "Training epoch 49: 100%|█████████████████████████████████████████████████████| 215/215 [00:01<00:00, 118.37it/s]\n",
      "Training epoch 50: 100%|█████████████████████████████████████████████████████| 215/215 [00:01<00:00, 111.50it/s]\n",
      "Training epoch 51: 100%|█████████████████████████████████████████████████████| 215/215 [00:01<00:00, 117.64it/s]\n",
      "Training epoch 52: 100%|█████████████████████████████████████████████████████| 215/215 [00:01<00:00, 115.89it/s]\n",
      "Training epoch 53: 100%|█████████████████████████████████████████████████████| 215/215 [00:01<00:00, 116.54it/s]\n",
      "Training epoch 54: 100%|█████████████████████████████████████████████████████| 215/215 [00:01<00:00, 112.55it/s]\n",
      "Training epoch 55: 100%|█████████████████████████████████████████████████████| 215/215 [00:01<00:00, 114.28it/s]\n",
      "Training epoch 56: 100%|█████████████████████████████████████████████████████| 215/215 [00:01<00:00, 118.09it/s]\n",
      "Training epoch 57: 100%|█████████████████████████████████████████████████████| 215/215 [00:01<00:00, 115.22it/s]\n",
      "Training epoch 58: 100%|█████████████████████████████████████████████████████| 215/215 [00:01<00:00, 110.30it/s]\n",
      "Training epoch 59: 100%|█████████████████████████████████████████████████████| 215/215 [00:01<00:00, 110.09it/s]\n",
      "Training epoch 60: 100%|█████████████████████████████████████████████████████| 215/215 [00:01<00:00, 116.52it/s]\n",
      "Training epoch 61: 100%|█████████████████████████████████████████████████████| 215/215 [00:01<00:00, 117.36it/s]\n",
      "Training epoch 62: 100%|█████████████████████████████████████████████████████| 215/215 [00:01<00:00, 116.08it/s]\n",
      "Training epoch 63: 100%|█████████████████████████████████████████████████████| 215/215 [00:01<00:00, 118.00it/s]\n",
      "Training epoch 64: 100%|█████████████████████████████████████████████████████| 215/215 [00:01<00:00, 118.15it/s]\n",
      "Training epoch 65: 100%|█████████████████████████████████████████████████████| 215/215 [00:01<00:00, 112.47it/s]\n",
      "Training epoch 66: 100%|█████████████████████████████████████████████████████| 215/215 [00:01<00:00, 117.86it/s]\n",
      "Training epoch 67: 100%|█████████████████████████████████████████████████████| 215/215 [00:02<00:00, 107.27it/s]\n",
      "Training epoch 68: 100%|█████████████████████████████████████████████████████| 215/215 [00:01<00:00, 112.20it/s]\n",
      "Training epoch 69: 100%|█████████████████████████████████████████████████████| 215/215 [00:01<00:00, 112.72it/s]\n",
      "Training epoch 70: 100%|█████████████████████████████████████████████████████| 215/215 [00:01<00:00, 110.43it/s]\n",
      "Training epoch 71: 100%|█████████████████████████████████████████████████████| 215/215 [00:01<00:00, 114.85it/s]\n",
      "Training epoch 72: 100%|█████████████████████████████████████████████████████| 215/215 [00:01<00:00, 114.82it/s]\n",
      "Training epoch 73: 100%|█████████████████████████████████████████████████████| 215/215 [00:01<00:00, 109.43it/s]\n",
      "Training epoch 74: 100%|█████████████████████████████████████████████████████| 215/215 [00:01<00:00, 123.20it/s]\n",
      "Training epoch 75: 100%|█████████████████████████████████████████████████████| 215/215 [00:01<00:00, 117.76it/s]\n",
      "Training epoch 76: 100%|█████████████████████████████████████████████████████| 215/215 [00:01<00:00, 114.12it/s]\n",
      "Training epoch 77: 100%|█████████████████████████████████████████████████████| 215/215 [00:01<00:00, 114.64it/s]\n",
      "Training epoch 78: 100%|█████████████████████████████████████████████████████| 215/215 [00:01<00:00, 109.70it/s]\n",
      "Training epoch 79: 100%|█████████████████████████████████████████████████████| 215/215 [00:01<00:00, 108.70it/s]\n",
      "Training epoch 80: 100%|█████████████████████████████████████████████████████| 215/215 [00:01<00:00, 113.73it/s]\n",
      "Training epoch 81: 100%|█████████████████████████████████████████████████████| 215/215 [00:01<00:00, 117.66it/s]\n",
      "Training epoch 82: 100%|█████████████████████████████████████████████████████| 215/215 [00:01<00:00, 112.97it/s]\n",
      "Training epoch 83: 100%|█████████████████████████████████████████████████████| 215/215 [00:01<00:00, 110.36it/s]\n",
      "Training epoch 84: 100%|█████████████████████████████████████████████████████| 215/215 [00:01<00:00, 111.20it/s]\n",
      "Training epoch 85: 100%|█████████████████████████████████████████████████████| 215/215 [00:01<00:00, 114.05it/s]\n",
      "Training epoch 86: 100%|█████████████████████████████████████████████████████| 215/215 [00:01<00:00, 112.54it/s]\n",
      "Training epoch 87: 100%|█████████████████████████████████████████████████████| 215/215 [00:01<00:00, 115.47it/s]\n",
      "Training epoch 88: 100%|█████████████████████████████████████████████████████| 215/215 [00:02<00:00, 107.27it/s]\n",
      "Training epoch 89: 100%|█████████████████████████████████████████████████████| 215/215 [00:01<00:00, 116.38it/s]\n",
      "Training epoch 90: 100%|█████████████████████████████████████████████████████| 215/215 [00:01<00:00, 114.87it/s]\n",
      "Training epoch 91: 100%|█████████████████████████████████████████████████████| 215/215 [00:01<00:00, 112.19it/s]\n",
      "Training epoch 92: 100%|█████████████████████████████████████████████████████| 215/215 [00:01<00:00, 109.78it/s]\n",
      "Training epoch 93: 100%|█████████████████████████████████████████████████████| 215/215 [00:02<00:00, 107.02it/s]\n",
      "Training epoch 94: 100%|█████████████████████████████████████████████████████| 215/215 [00:01<00:00, 113.38it/s]\n",
      "Training epoch 95: 100%|█████████████████████████████████████████████████████| 215/215 [00:01<00:00, 109.85it/s]\n",
      "Training epoch 96: 100%|█████████████████████████████████████████████████████| 215/215 [00:01<00:00, 115.09it/s]\n",
      "Training epoch 97: 100%|█████████████████████████████████████████████████████| 215/215 [00:01<00:00, 113.00it/s]\n",
      "Training epoch 98: 100%|█████████████████████████████████████████████████████| 215/215 [00:01<00:00, 110.13it/s]\n",
      "Training epoch 99: 100%|█████████████████████████████████████████████████████| 215/215 [00:01<00:00, 114.03it/s]\n",
      "Training epoch 100: 100%|████████████████████████████████████████████████████| 215/215 [00:02<00:00, 106.87it/s]\n",
      "Training epoch 101: 100%|████████████████████████████████████████████████████| 215/215 [00:01<00:00, 110.21it/s]\n",
      "Training epoch 102: 100%|████████████████████████████████████████████████████| 215/215 [00:01<00:00, 119.07it/s]\n",
      "Training epoch 103: 100%|████████████████████████████████████████████████████| 215/215 [00:01<00:00, 119.19it/s]\n",
      "Training epoch 104: 100%|████████████████████████████████████████████████████| 215/215 [00:01<00:00, 108.03it/s]\n",
      "Training epoch 105: 100%|████████████████████████████████████████████████████| 215/215 [00:02<00:00, 104.96it/s]\n",
      "Training epoch 106: 100%|████████████████████████████████████████████████████| 215/215 [00:01<00:00, 107.53it/s]\n",
      "Training epoch 107: 100%|████████████████████████████████████████████████████| 215/215 [00:01<00:00, 107.75it/s]\n",
      "Training epoch 108: 100%|████████████████████████████████████████████████████| 215/215 [00:01<00:00, 111.07it/s]\n",
      "Training epoch 109: 100%|████████████████████████████████████████████████████| 215/215 [00:01<00:00, 108.84it/s]\n",
      "Training epoch 110: 100%|████████████████████████████████████████████████████| 215/215 [00:01<00:00, 108.98it/s]\n",
      "Training epoch 111: 100%|████████████████████████████████████████████████████| 215/215 [00:01<00:00, 112.56it/s]\n",
      "Training epoch 112: 100%|████████████████████████████████████████████████████| 215/215 [00:01<00:00, 111.67it/s]\n",
      "Training epoch 113: 100%|████████████████████████████████████████████████████| 215/215 [00:01<00:00, 109.12it/s]\n",
      "Training epoch 114: 100%|████████████████████████████████████████████████████| 215/215 [00:01<00:00, 111.07it/s]\n",
      "Training epoch 115: 100%|████████████████████████████████████████████████████| 215/215 [00:01<00:00, 111.46it/s]\n",
      "Training epoch 116: 100%|████████████████████████████████████████████████████| 215/215 [00:01<00:00, 115.68it/s]\n",
      "Training epoch 117: 100%|████████████████████████████████████████████████████| 215/215 [00:01<00:00, 110.66it/s]\n",
      "Training epoch 118: 100%|████████████████████████████████████████████████████| 215/215 [00:01<00:00, 109.99it/s]\n",
      "Training epoch 119: 100%|████████████████████████████████████████████████████| 215/215 [00:02<00:00, 107.39it/s]\n",
      "Training epoch 120: 100%|████████████████████████████████████████████████████| 215/215 [00:01<00:00, 108.95it/s]\n",
      "Training epoch 121: 100%|████████████████████████████████████████████████████| 215/215 [00:01<00:00, 109.80it/s]\n",
      "Training epoch 122: 100%|████████████████████████████████████████████████████| 215/215 [00:01<00:00, 113.18it/s]\n",
      "Training epoch 123: 100%|████████████████████████████████████████████████████| 215/215 [00:01<00:00, 112.92it/s]\n",
      "Training epoch 124: 100%|████████████████████████████████████████████████████| 215/215 [00:01<00:00, 114.05it/s]\n",
      "Training epoch 125: 100%|████████████████████████████████████████████████████| 215/215 [00:01<00:00, 112.39it/s]\n",
      "Training epoch 126: 100%|████████████████████████████████████████████████████| 215/215 [00:01<00:00, 110.57it/s]\n",
      "Training epoch 127: 100%|████████████████████████████████████████████████████| 215/215 [00:01<00:00, 117.05it/s]\n",
      "Training epoch 128: 100%|████████████████████████████████████████████████████| 215/215 [00:01<00:00, 109.29it/s]\n",
      "Training epoch 129: 100%|████████████████████████████████████████████████████| 215/215 [00:01<00:00, 107.70it/s]\n",
      "Training epoch 130: 100%|████████████████████████████████████████████████████| 215/215 [00:02<00:00, 107.07it/s]\n",
      "Training epoch 131: 100%|████████████████████████████████████████████████████| 215/215 [00:02<00:00, 104.75it/s]\n",
      "Training epoch 132: 100%|████████████████████████████████████████████████████| 215/215 [00:02<00:00, 104.85it/s]\n",
      "Training epoch 133: 100%|████████████████████████████████████████████████████| 215/215 [00:02<00:00, 104.55it/s]\n",
      "Training epoch 134: 100%|████████████████████████████████████████████████████| 215/215 [00:01<00:00, 112.60it/s]\n",
      "Training epoch 135: 100%|████████████████████████████████████████████████████| 215/215 [00:01<00:00, 110.07it/s]\n",
      "Training epoch 136: 100%|████████████████████████████████████████████████████| 215/215 [00:01<00:00, 115.71it/s]\n",
      "Training epoch 137: 100%|████████████████████████████████████████████████████| 215/215 [00:01<00:00, 110.41it/s]\n",
      "Training epoch 138: 100%|████████████████████████████████████████████████████| 215/215 [00:01<00:00, 112.02it/s]\n",
      "Training epoch 139: 100%|████████████████████████████████████████████████████| 215/215 [00:02<00:00, 107.31it/s]\n",
      "Training epoch 140: 100%|████████████████████████████████████████████████████| 215/215 [00:01<00:00, 110.02it/s]\n",
      "Training epoch 141: 100%|████████████████████████████████████████████████████| 215/215 [00:01<00:00, 107.57it/s]\n",
      "Training epoch 142: 100%|████████████████████████████████████████████████████| 215/215 [00:02<00:00, 105.10it/s]\n",
      "Training epoch 143: 100%|████████████████████████████████████████████████████| 215/215 [00:02<00:00, 106.38it/s]\n",
      "Training epoch 144: 100%|████████████████████████████████████████████████████| 215/215 [00:01<00:00, 112.68it/s]\n",
      "Training epoch 145: 100%|████████████████████████████████████████████████████| 215/215 [00:02<00:00, 103.53it/s]\n",
      "Training epoch 146: 100%|████████████████████████████████████████████████████| 215/215 [00:01<00:00, 108.23it/s]\n",
      "Training epoch 147: 100%|████████████████████████████████████████████████████| 215/215 [00:01<00:00, 112.10it/s]\n",
      "Training epoch 148: 100%|█████████████████████████████████████████████████████| 215/215 [00:02<00:00, 72.11it/s]\n",
      "Training epoch 149: 100%|████████████████████████████████████████████████████| 215/215 [00:02<00:00, 100.28it/s]\n",
      "Training epoch 150: 100%|████████████████████████████████████████████████████| 215/215 [00:01<00:00, 114.59it/s]\n",
      "Training epoch 151: 100%|████████████████████████████████████████████████████| 215/215 [00:01<00:00, 111.42it/s]\n",
      "Training epoch 152: 100%|████████████████████████████████████████████████████| 215/215 [00:01<00:00, 110.07it/s]\n",
      "Training epoch 153: 100%|████████████████████████████████████████████████████| 215/215 [00:01<00:00, 116.64it/s]\n",
      "Training epoch 154: 100%|████████████████████████████████████████████████████| 215/215 [00:01<00:00, 109.63it/s]\n",
      "Training epoch 155: 100%|████████████████████████████████████████████████████| 215/215 [00:01<00:00, 113.11it/s]\n",
      "Training epoch 156: 100%|████████████████████████████████████████████████████| 215/215 [00:01<00:00, 108.60it/s]\n",
      "Training epoch 157: 100%|████████████████████████████████████████████████████| 215/215 [00:01<00:00, 112.57it/s]\n",
      "Training epoch 158: 100%|████████████████████████████████████████████████████| 215/215 [00:02<00:00, 103.76it/s]\n",
      "Training epoch 159: 100%|████████████████████████████████████████████████████| 215/215 [00:01<00:00, 109.23it/s]\n",
      "Training epoch 160: 100%|████████████████████████████████████████████████████| 215/215 [00:01<00:00, 117.34it/s]\n",
      "Training epoch 161: 100%|████████████████████████████████████████████████████| 215/215 [00:01<00:00, 107.93it/s]\n",
      "Training epoch 162: 100%|████████████████████████████████████████████████████| 215/215 [00:01<00:00, 112.21it/s]\n",
      "Training epoch 163: 100%|████████████████████████████████████████████████████| 215/215 [00:01<00:00, 111.04it/s]\n",
      "Training epoch 164: 100%|████████████████████████████████████████████████████| 215/215 [00:01<00:00, 112.58it/s]\n",
      "Training epoch 165: 100%|████████████████████████████████████████████████████| 215/215 [00:01<00:00, 109.88it/s]\n",
      "Training epoch 166: 100%|████████████████████████████████████████████████████| 215/215 [00:01<00:00, 115.73it/s]\n",
      "Training epoch 167: 100%|████████████████████████████████████████████████████| 215/215 [00:01<00:00, 117.89it/s]\n",
      "Training epoch 168: 100%|████████████████████████████████████████████████████| 215/215 [00:02<00:00, 106.34it/s]\n",
      "Training epoch 169: 100%|████████████████████████████████████████████████████| 215/215 [00:01<00:00, 114.49it/s]\n",
      "Training epoch 170: 100%|████████████████████████████████████████████████████| 215/215 [00:02<00:00, 107.28it/s]\n",
      "Training epoch 171: 100%|████████████████████████████████████████████████████| 215/215 [00:01<00:00, 112.77it/s]\n",
      "Training epoch 172: 100%|████████████████████████████████████████████████████| 215/215 [00:01<00:00, 110.37it/s]\n",
      "Training epoch 173: 100%|████████████████████████████████████████████████████| 215/215 [00:01<00:00, 115.49it/s]\n",
      "Training epoch 174: 100%|████████████████████████████████████████████████████| 215/215 [00:01<00:00, 117.52it/s]\n",
      "Training epoch 175: 100%|████████████████████████████████████████████████████| 215/215 [00:01<00:00, 110.76it/s]\n",
      "Training epoch 176: 100%|████████████████████████████████████████████████████| 215/215 [00:01<00:00, 112.70it/s]\n",
      "Training epoch 177: 100%|████████████████████████████████████████████████████| 215/215 [00:01<00:00, 116.21it/s]\n",
      "Training epoch 178: 100%|█████████████████████████████████████████████████████| 215/215 [00:03<00:00, 65.88it/s]\n",
      "Training epoch 179: 100%|█████████████████████████████████████████████████████| 215/215 [00:02<00:00, 97.97it/s]\n",
      "Training epoch 180: 100%|████████████████████████████████████████████████████| 215/215 [00:01<00:00, 113.88it/s]\n",
      "Training epoch 181: 100%|████████████████████████████████████████████████████| 215/215 [00:01<00:00, 114.13it/s]\n",
      "Training epoch 182: 100%|████████████████████████████████████████████████████| 215/215 [00:01<00:00, 112.10it/s]\n",
      "Training epoch 183: 100%|████████████████████████████████████████████████████| 215/215 [00:01<00:00, 117.04it/s]\n",
      "Training epoch 184: 100%|█████████████████████████████████████████████████████| 215/215 [00:03<00:00, 64.69it/s]\n",
      "Training epoch 185: 100%|█████████████████████████████████████████████████████| 215/215 [00:02<00:00, 82.22it/s]\n",
      "Training epoch 186: 100%|████████████████████████████████████████████████████| 215/215 [00:01<00:00, 115.07it/s]\n",
      "Training epoch 187: 100%|████████████████████████████████████████████████████| 215/215 [00:01<00:00, 108.66it/s]\n",
      "Training epoch 188: 100%|████████████████████████████████████████████████████| 215/215 [00:01<00:00, 110.55it/s]\n",
      "Training epoch 189: 100%|████████████████████████████████████████████████████| 215/215 [00:01<00:00, 112.45it/s]\n",
      "Training epoch 190: 100%|████████████████████████████████████████████████████| 215/215 [00:01<00:00, 117.47it/s]\n",
      "Training epoch 191: 100%|█████████████████████████████████████████████████████| 215/215 [00:03<00:00, 62.14it/s]\n",
      "Training epoch 192: 100%|█████████████████████████████████████████████████████| 215/215 [00:03<00:00, 60.27it/s]\n",
      "Training epoch 193: 100%|█████████████████████████████████████████████████████| 215/215 [00:03<00:00, 57.70it/s]\n",
      "Training epoch 194: 100%|████████████████████████████████████████████████████| 215/215 [00:02<00:00, 105.04it/s]\n",
      "Training epoch 195: 100%|████████████████████████████████████████████████████| 215/215 [00:01<00:00, 112.49it/s]\n",
      "Training epoch 196: 100%|████████████████████████████████████████████████████| 215/215 [00:01<00:00, 118.35it/s]\n",
      "Training epoch 197: 100%|█████████████████████████████████████████████████████| 215/215 [00:03<00:00, 66.32it/s]\n",
      "Training epoch 198: 100%|█████████████████████████████████████████████████████| 215/215 [00:03<00:00, 60.51it/s]\n",
      "Training epoch 199: 100%|█████████████████████████████████████████████████████| 215/215 [00:03<00:00, 59.95it/s]\n",
      "                                                                                                                \r"
     ]
    },
    {
     "name": "stdout",
     "output_type": "stream",
     "text": [
      "Accuracy report on TEST:\n",
      "               precision    recall  f1-score   support\n",
      "\n",
      "           0      0.984     0.985     0.984       980\n",
      "           1      0.991     0.989     0.990      1135\n",
      "           2      0.967     0.987     0.977      1032\n",
      "           3      0.978     0.978     0.978      1010\n",
      "           4      0.986     0.983     0.984       982\n",
      "           5      0.962     0.982     0.972       892\n",
      "           6      0.990     0.985     0.987       958\n",
      "           7      0.975     0.976     0.975      1028\n",
      "           8      0.985     0.975     0.980       974\n",
      "           9      0.983     0.959     0.971      1009\n",
      "\n",
      "    accuracy                          0.980     10000\n",
      "   macro avg      0.980     0.980     0.980     10000\n",
      "weighted avg      0.980     0.980     0.980     10000\n",
      "\n"
     ]
    },
    {
     "data": {
      "image/png": "[encoded data removed]",
      "text/plain": [
       "<Figure size 1600x800 with 2 Axes>"
      ]
     },
     "metadata": {},
     "output_type": "display_data"
    }
   ],
   "source": [
    "# Training hyperparameters.\n",
    "device = 'cuda' # CPU\n",
    "epochs = 200\n",
    "lr = 0.0001\n",
    "batch_size = 256\n",
    "\n",
    "# Architecture hyperparameters.\n",
    "input_size = 28*28\n",
    "width = 32\n",
    "depth = 3\n",
    "\n",
    "# Dataloaders.\n",
    "dl_train = torch.utils.data.DataLoader(ds_train, batch_size, shuffle=True, num_workers=4)\n",
    "dl_val   = torch.utils.data.DataLoader(ds_val, batch_size, num_workers=4)\n",
    "dl_test  = torch.utils.data.DataLoader(ds_test, batch_size, shuffle=True, num_workers=4)\n",
    "\n",
    "# Instantiate model and optimizer.\n",
    "#model_mlp = MLP([input_size] + [width]*depth + [10]).to(device)\n",
    "model_mlp = CNN().to(device)\n",
    "opt = torch.optim.Adam(params=model_mlp.parameters(), lr=lr)\n",
    "\n",
    "# Training loop.\n",
    "writer = SummaryWriter(log_dir=f'./runs/width={width}-depth={depth}-lr={lr}-bs={batch_size}')\n",
    "losses_and_accs = []\n",
    "for epoch in range(epochs):\n",
    "    loss = train_epoch(model_mlp, dl_train, opt, epoch, device=device)\n",
    "    (val_acc, _) = evaluate_model(model_mlp, dl_val, device=device)\n",
    "    writer.add_scalar('Train/loss', loss, epoch)\n",
    "    writer.add_scalar('Val/acc', val_acc, epoch)\n",
    "    losses_and_accs.append((loss, val_acc))\n",
    "\n",
    "# And finally plot the curves.\n",
    "plot_validation_curves(losses_and_accs)\n",
    "print(f'Accuracy report on TEST:\\n {evaluate_model(model_mlp, dl_test, device=device)[1]}')"
   ]
  },
  {
   "cell_type": "markdown",
   "id": "de2cad13-ee2c-4e43-b5c7-31760da8c2df",
   "metadata": {},
   "source": [
    "### Exercise 1.1: A baseline MLP\n",
    "\n",
    "Implement a *simple* Multilayer Perceptron to classify the 10 digits of MNIST (e.g. two *narrow* layers). Use my code above as inspiration, but implement your own training pipeline -- you will need it later. Train this model to convergence, monitoring (at least) the loss and accuracy on the training and validation sets for every epoch. Below I include a basic implementation to get you started -- remember that you should write your *own* pipeline!\n",
    "\n",
    "**Note**: This would be a good time to think about *abstracting* your model definition, and training and evaluation pipelines in order to make it easier to compare performance of different models.\n",
    "\n",
    "**Important**: Given the *many* runs you will need to do, and the need to *compare* performance between them, this would **also** be a great point to study how **Tensorboard** or **Weights and Biases** can be used for performance monitoring."
   ]
  },
  {
   "cell_type": "code",
   "execution_count": null,
   "id": "19d96405-36e7-4074-803c-fb02576cd528",
   "metadata": {
    "tags": []
   },
   "outputs": [],
   "source": [
    "# Your code here."
   ]
  },
  {
   "cell_type": "markdown",
   "id": "0fb8ad9b-e3ae-4c49-9bec-35aaea149b08",
   "metadata": {},
   "source": [
    "### Exercise 1.2: Rinse and Repeat\n",
    "\n",
    "Repeat the verification you did above, but with **Convolutional** Neural Networks. If you were careful about abstracting your model and training code, this should be a simple exercise. Show that **deeper** CNNs *without* residual connections do not always work better and **even deeper** ones *with* residual connections.\n",
    "\n",
    "**Hint**: You probably should do this exercise using CIFAR10, since MNIST is *very* easy (at least up to about 99% accuracy).\n",
    "\n",
    "**Spoiler**: If you plan to do optional exercise 2.3, you should think *very* carefully about the architectures of your CNNs here (so you can reuse them!)."
   ]
  },
  {
   "cell_type": "code",
   "execution_count": null,
   "id": "3c8baa0e-b17f-4a77-8a88-dadfdc6763ea",
   "metadata": {},
   "outputs": [],
   "source": [
    "# Your code here."
   ]
  },
  {
   "cell_type": "markdown",
   "id": "ef4de2f2-abc5-4f98-9eaf-3497f734a022",
   "metadata": {},
   "source": [
    "-----\n",
    "## Exercise 2: Choose at Least One\n",
    "\n",
    "Below are **three** exercises that ask you to deepen your understanding of Deep Networks for visual recognition. You must choose **at least one** of the below for your final submission -- feel free to do **more**, but at least **ONE** you must submit."
   ]
  },
  {
   "cell_type": "markdown",
   "id": "07978e8e-9f2e-4949-9699-495af6cb6349",
   "metadata": {},
   "source": [
    "### Exercise 2.1: Explain why Residual Connections are so effective\n",
    "Use your two models (with and without residual connections) you developed above to study and **quantify** why the residual versions of the networks learn more effectively.\n",
    "\n",
    "**Hint**: A good starting point might be looking at the gradient magnitudes passing through the networks during backpropagation."
   ]
  },
  {
   "cell_type": "code",
   "execution_count": null,
   "id": "469e81a3-08ca-4549-a2f8-f47cf5a0308b",
   "metadata": {
    "tags": []
   },
   "outputs": [],
   "source": [
    "# Your code here."
   ]
  },
  {
   "cell_type": "markdown",
   "id": "440a3a7b-2ed6-4f58-a1b7-5ab1fc432893",
   "metadata": {},
   "source": [
    "### Exercise 2.2: Fully-convolutionalize a network.\n",
    "Take one of your trained classifiers and **fully-convolutionalize** it. That is, turn it into a network that can predict classification outputs at *all* pixels in an input image. Can you turn this into a **detector** of handwritten digits? Give it a try.\n",
    "\n",
    "**Hint 1**: Sometimes the process of fully-convolutionalization is called \"network surgery\".\n",
    "\n",
    "**Hint 2**: To test your fully-convolutionalized networks you might want to write some functions to take random MNIST samples and embed them into a larger image (i.e. in a regular grid or at random positions)."
   ]
  },
  {
   "cell_type": "code",
   "execution_count": null,
   "id": "9e33c912-0716-44ef-a91b-47ca19a2b2cd",
   "metadata": {
    "tags": []
   },
   "outputs": [],
   "source": [
    "# Your code here."
   ]
  },
  {
   "cell_type": "markdown",
   "id": "8243f811-8227-4c6f-b07f-56e8cd91643a",
   "metadata": {},
   "source": [
    "### Exercise 2.3: *Explain* the predictions of a CNN\n",
    "\n",
    "Use the CNN model you trained in Exercise 1.2 and implement [*Class Activation Maps*](http://cnnlocalization.csail.mit.edu/#:~:text=A%20class%20activation%20map%20for,decision%20made%20by%20the%20CNN.):\n",
    "\n",
    "> B. Zhou, A. Khosla, A. Lapedriza, A. Oliva, and A. Torralba. Learning Deep Features for Discriminative Localization. CVPR'16 (arXiv:1512.04150, 2015).\n",
    "\n",
    "Use your implementation to demonstrate how your trained CNN *attends* to specific image features to recognize *specific* classes.\n",
    "\n",
    "**Note**: Feel free to implement [Grad-CAM](https://arxiv.org/abs/1610.02391) instead of CAM."
   ]
  },
  {
   "cell_type": "code",
   "execution_count": null,
   "id": "d634a700-56c2-48fd-96e0-4c94d1bd0cfe",
   "metadata": {
    "tags": []
   },
   "outputs": [],
   "source": [
    "# Your code here."
   ]
  }
 ],
 "metadata": {
  "kernelspec": {
   "display_name": "Python 3 (ipykernel)",
   "language": "python",
   "name": "python3"
  },
  "language_info": {
   "codemirror_mode": {
    "name": "ipython",
    "version": 3
   },
   "file_extension": ".py",
   "mimetype": "text/x-python",
   "name": "python",
   "nbconvert_exporter": "python",
   "pygments_lexer": "ipython3",
   "version": "3.10.8"
  }
 },
 "nbformat": 4,
 "nbformat_minor": 5
}
