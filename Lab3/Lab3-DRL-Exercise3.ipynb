{
 "cells": [
  {
   "cell_type": "markdown",
   "metadata": {},
   "source": [
    "## Exercise 3: Going Deeper\n",
    "\n",
    "As usual, pick **AT LEAST ONE** of the following exercises to complete."
   ]
  },
  {
   "cell_type": "code",
   "execution_count": 9,
   "metadata": {},
   "outputs": [],
   "source": [
    "# Standard imports.\n",
    "import numpy as np\n",
    "import matplotlib.pyplot as plt\n",
    "import gymnasium as gym\n",
    "import torch\n",
    "import torch.nn as nn\n",
    "import torch.optim as optim\n",
    "import torch.nn.functional as F\n",
    "import random\n",
    "\n",
    "# Plus one non standard one -- we need this to sample from policies.\n",
    "from torch.distributions import Categorical\n",
    "\n",
    "import math\n",
    "from collections import namedtuple, deque\n",
    "from itertools import count\n",
    "\n",
    "from tqdm import tqdm\n",
    "from datetime import datetime\n",
    "\n",
    "import wandb"
   ]
  },
  {
   "cell_type": "markdown",
   "metadata": {},
   "source": [
    "---\n",
    "# Exercise 3.1: Solving Lunar Lander with `REINFORCE` (easy)\n",
    "\n",
    "Use my (or even better, improve on my) implementation of `REINFORCE` to solve the [Lunar Lander Environment](https://gymnasium.farama.org/environments/box2d/lunar_lander/). This environment is a little bit harder than Cartpole, but not much. Make sure you perform the same types of analyses we did during the lab session to quantify and qualify the performance of your agents."
   ]
  },
  {
   "cell_type": "code",
   "execution_count": 16,
   "metadata": {},
   "outputs": [],
   "source": [
    "# TRAIN AGENT\n",
    "def train_agent(agent, agent_name, env, env_name, episodes, max_length=500, stats_every=10, env_render=None, device=\"cuda\"):\n",
    "    # Initialize wandb\n",
    "    wandb_init(agent, agent_name, env_name, episodes, device=device)\n",
    "\n",
    "    # Track episode rewards in a list\n",
    "    stats_reward_list = []\n",
    "    tot_reward = 0\n",
    "\n",
    "    # Loop over the episodes\n",
    "    for episode in tqdm(range(episodes), desc=\"Episodes\", unit=\"episode\", leave=True):\n",
    "        # Initialize lists to store the states, actions, and rewards\n",
    "        state_list = []\n",
    "        action_list = []\n",
    "        reward_list = []\n",
    "\n",
    "        # Generate the episode\n",
    "        stats_actor_loss, stats_v_loss = 0, 0\n",
    "        (state, info) = env.reset()\n",
    "\n",
    "        # Run the episode  \n",
    "        for length in range(max_length):\n",
    "            # Select an action\n",
    "            action = agent.act(state)\n",
    "\n",
    "            # Do the action in the environment\n",
    "            next_state, reward, term, trunc, _ = env.step(action)\n",
    "\n",
    "            tot_reward += reward\n",
    "\n",
    "            # Store the state, action, and reward\n",
    "            state_list.append(state)\n",
    "            action_list.append(action)\n",
    "            reward_list.append(reward)\n",
    "\n",
    "            # If the episode is done, break\n",
    "            if term or trunc or length == max_length-1: # or the total reward is too low (optional)\n",
    "                a_loss, v_loss = agent.train(state_list, action_list, reward_list)\n",
    "                stats_reward_list.append((episode, tot_reward, length))\n",
    "\n",
    "                stats_actor_loss += a_loss\n",
    "                stats_v_loss += v_loss\n",
    "\n",
    "                # Wandb logging training stats\n",
    "                wandb.log({\"train/total_reward\": tot_reward, \"train/episode_length\": length, \"train/actor_loss\": a_loss, \"train/value_loss\": v_loss}, step=episode)\n",
    "\n",
    "                tot_reward = 0\n",
    "                if not episode % stats_every:\n",
    "                    # Evaluate the agent\n",
    "                    total_reward = np.mean(stats_reward_list[-stats_every:], axis=0)[1]\n",
    "                    total_length = np.mean(stats_reward_list[-stats_every:], axis=0)[2]\n",
    "                    actor_loss = stats_actor_loss/stats_every\n",
    "                    value_loss = stats_v_loss/stats_every\n",
    "                    \n",
    "                    print(f\"Episode {episode}, Time steps: {length}, Total reward: {total_reward:.1f}, Episode length: {total_length:.1f}, Actor Loss: {actor_loss:.3f}, Value Loss: {value_loss:.3f}\")\n",
    "                    wandb.log({\"eval/time_steps\": length, \"eval/total_reward\": total_reward, \"eval/episode_length\": total_length, \"eval/actor_loss\": actor_loss, \"eval/value_loss\": value_loss}, step=episode)\n",
    "\n",
    "                    # Visualize the agent\n",
    "                    if env_render is not None:\n",
    "                        display_agent(agent, env_render)\n",
    "                break\n",
    "                \n",
    "            state = next_state\n",
    "    \n",
    "    # Close the environment\n",
    "    env.close()\n",
    "    if env_render is not None:\n",
    "        env_render.close()\n",
    "    # Finish wandb\n",
    "    wandb.finish()\n",
    "    \n",
    "    # Plot \n",
    "    plot_stats(stats_reward_list)\n",
    "\n",
    "    return stats_reward_list\n",
    "\n",
    "\n",
    "def display_agent(agent, env_render, max_length=500):\n",
    "    (state, _) = env_render.reset()\n",
    "    for _ in range(max_length):\n",
    "        action = agent.act(state)\n",
    "        (state, _, _, _, _) = env_render.step(action)\n",
    "\n",
    "\n",
    "def plot_stats(stats_rewards_list):\n",
    "    # plot stats\n",
    "    def get_running_stat(stat, stat_len):\n",
    "        cum_sum = np.cumsum(np.insert(stat, 0, 0)) \n",
    "        return (cum_sum[stat_len:] - cum_sum[:-stat_len]) / stat_len\n",
    "\n",
    "    episode, r, l = np.array(stats_rewards_list).T\n",
    "    cum_r = get_running_stat(r, 10)\n",
    "    cum_l = get_running_stat(l, 10)\n",
    "\n",
    "    # Plots\n",
    "    fig, ax = plt.subplots(1, 2, figsize=(15, 5))\n",
    "    ax[0].set_title(\"Episode reward\")\n",
    "    ax[0].plot(episode[-len(cum_r):], cum_r)\n",
    "    ax[0].plot(episode, r, alpha=0.3)\n",
    "    ax[0].set_xlabel(\"Episode\")\n",
    "    ax[0].set_ylabel(\"Episode reward\")\n",
    "\n",
    "    ax[1].set_title(\"Episode length\")\n",
    "    ax[1].plot(episode[-len(cum_l):], cum_l)\n",
    "    ax[1].plot(episode, l, alpha=0.3)\n",
    "    ax[1].set_xlabel(\"Episode\")\n",
    "    ax[1].set_ylabel(\"Episode length\")\n",
    "    \n",
    "\n",
    "# Function to initialize wandb\n",
    "def wandb_init(agent, algorithm, env, episodes, device=\"cuda\", project=\"DLA Assigment 3\"):\n",
    "    # Initialize wandb\n",
    "    wandb.init(\n",
    "        project=project,\n",
    "        name=algorithm,\n",
    "        # Track hyperparameters and run metadata\n",
    "        config={\n",
    "            \"algorithm\": algorithm,\n",
    "            \"environment\": env,\n",
    "            \"episodes\": episodes,\n",
    "            \"learning_rate\": agent.lr,\n",
    "            \"gamma\": agent.gamma,\n",
    "            \"optimizer\": \"Adam\",\n",
    "            \"device\": device.type\n",
    "        }\n",
    "    )"
   ]
  },
  {
   "cell_type": "code",
   "execution_count": 11,
   "metadata": {},
   "outputs": [],
   "source": [
    "# Policy network\n",
    "class PolicyNet(nn.Module):\n",
    "    def __init__(self, state_size, action_size, hidden_size=16):\n",
    "        super().__init__()\n",
    "        self.net = nn.Sequential(\n",
    "            nn.Linear(state_size, hidden_size),\n",
    "            nn.ReLU(),\n",
    "            nn.Linear(hidden_size, action_size),\n",
    "            nn.Softmax(dim=-1)\n",
    "        )\n",
    "        \n",
    "    def forward(self, s):\n",
    "        return self.net(s)\n",
    "    \n",
    "# Value network\n",
    "class ValueNet(nn.Module):\n",
    "    def __init__(self, state_size, hidden_size=16):\n",
    "        super().__init__()\n",
    "        self.net = nn.Sequential(\n",
    "            nn.Linear(state_size, hidden_size),\n",
    "            nn.ReLU(),\n",
    "            nn.Linear(hidden_size, 1)\n",
    "        )\n",
    "        \n",
    "    def forward(self, s):\n",
    "        return self.net(s)"
   ]
  },
  {
   "cell_type": "code",
   "execution_count": 12,
   "metadata": {},
   "outputs": [],
   "source": [
    "# REINFORCE AGENT\n",
    "class REINFORCEAgent():\n",
    "    def __init__(self, state_size, action_size, hidden_size, lr, gamma, baseline=True, device='cuda'):\n",
    "        self.action_size = action_size\n",
    "        self.actor = PolicyNet(state_size, action_size, hidden_size).to(device)\n",
    "        self.act_optimizer = optim.Adam(self.actor.parameters(), lr=lr)\n",
    "        self.baseline = baseline\n",
    "        self.value = ValueNet(state_size, hidden_size).to(device)\n",
    "        self.value_optimizer = optim.Adam(self.value.parameters(), lr=lr)\n",
    "        self.lr = lr\n",
    "        self.gamma = gamma\n",
    "\n",
    "    def act(self, state, device='cuda'):\n",
    "        with torch.no_grad():\n",
    "            state = torch.FloatTensor(state).to(device)\n",
    "            probs = self.actor(state)\n",
    "            probs  = probs.detach().cpu().numpy()\n",
    "            action = np.random.choice(np.arange(self.action_size), p=probs)\n",
    "        return action\n",
    "\n",
    "    def train(self, state_list, action_list, reward_list, device='cuda'):\n",
    "        # Transform the reward to a return\n",
    "        len_rew = len(reward_list)\n",
    "        return_array = np.zeros((len_rew))\n",
    "\n",
    "        # Compute the return: G_t = r_t + gamma * r_{t+1} + gamma^2 * r_{t+2} + ...\n",
    "        g_return = 0.\n",
    "        for i in reversed(range(len_rew)):\n",
    "            g_return = reward_list[i] + self.gamma * g_return\n",
    "            return_array[i] = g_return\n",
    "\n",
    "        # Transform the lists to tensors\n",
    "        states = torch.FloatTensor(state_list).to(device)\n",
    "        actions = torch.LongTensor(action_list).to(device).view(-1, 1)\n",
    "        returns = torch.FloatTensor(return_array).to(device).view(-1, 1)\n",
    "\n",
    "        # Get value function estimates\n",
    "        if self.baseline: \n",
    "            values = self.value(states).to(device)\n",
    "            with torch.no_grad():\n",
    "                advantages = returns - values\n",
    "        else:\n",
    "            advantages = returns\n",
    "\n",
    "        # Compute the loss\n",
    "        selected_action_prob = self.actor(states).gather(1, actions)\n",
    "\n",
    "        # REINFORCE with BASELINE loss\n",
    "        actor_loss = -torch.mean(torch.log(selected_action_prob) * advantages)\n",
    "\n",
    "        # Optimize the actor\n",
    "        self.act_optimizer.zero_grad()\n",
    "        actor_loss.backward()\n",
    "        self.act_optimizer.step()\n",
    "\n",
    "        # Compute the value loss\n",
    "        if self.baseline:\n",
    "            value_loss = F.mse_loss(values, returns)\n",
    "            self.value_optimizer.zero_grad()\n",
    "            value_loss.backward()\n",
    "            self.value_optimizer.step()\n",
    "\n",
    "        return actor_loss.detach().cpu().numpy(), value_loss.detach().cpu().numpy() if self.baseline else 0"
   ]
  },
  {
   "cell_type": "markdown",
   "metadata": {},
   "source": [
    "## Without Baseline"
   ]
  },
  {
   "cell_type": "markdown",
   "metadata": {},
   "source": [
    "### Cartpole"
   ]
  },
  {
   "cell_type": "code",
   "execution_count": 13,
   "metadata": {},
   "outputs": [
    {
     "data": {
      "application/vnd.jupyter.widget-view+json": {
       "model_id": "79a724d21a5e48d0b185d0ff9b76d18f",
       "version_major": 2,
       "version_minor": 0
      },
      "text/plain": [
       "VBox(children=(Label(value='Waiting for wandb.init()...\\r'), FloatProgress(value=0.011111111111111112, max=1.0…"
      ]
     },
     "metadata": {},
     "output_type": "display_data"
    },
    {
     "data": {
      "text/html": [
       "wandb version 0.17.4 is available!  To upgrade, please run:\n",
       " $ pip install wandb --upgrade"
      ],
      "text/plain": [
       "<IPython.core.display.HTML object>"
      ]
     },
     "metadata": {},
     "output_type": "display_data"
    },
    {
     "data": {
      "text/html": [
       "Tracking run with wandb version 0.16.5"
      ],
      "text/plain": [
       "<IPython.core.display.HTML object>"
      ]
     },
     "metadata": {},
     "output_type": "display_data"
    },
    {
     "data": {
      "text/html": [
       "Run data is saved locally in <code>c:\\Users\\loreb\\Documents\\Projects\\DLA\\Lab3\\wandb\\run-20240712_131121-bjpd32jt</code>"
      ],
      "text/plain": [
       "<IPython.core.display.HTML object>"
      ]
     },
     "metadata": {},
     "output_type": "display_data"
    },
    {
     "data": {
      "text/html": [
       "Syncing run <strong><a href='https://wandb.ai/lorebaia/DLA%20Assigment%203/runs/bjpd32jt/workspace' target=\"_blank\">REINFORCE_20240712-131121</a></strong> to <a href='https://wandb.ai/lorebaia/DLA%20Assigment%203' target=\"_blank\">Weights & Biases</a> (<a href='https://wandb.me/run' target=\"_blank\">docs</a>)<br/>"
      ],
      "text/plain": [
       "<IPython.core.display.HTML object>"
      ]
     },
     "metadata": {},
     "output_type": "display_data"
    },
    {
     "data": {
      "text/html": [
       " View project at <a href='https://wandb.ai/lorebaia/DLA%20Assigment%203' target=\"_blank\">https://wandb.ai/lorebaia/DLA%20Assigment%203</a>"
      ],
      "text/plain": [
       "<IPython.core.display.HTML object>"
      ]
     },
     "metadata": {},
     "output_type": "display_data"
    },
    {
     "data": {
      "text/html": [
       " View run at <a href='https://wandb.ai/lorebaia/DLA%20Assigment%203/runs/bjpd32jt/workspace' target=\"_blank\">https://wandb.ai/lorebaia/DLA%20Assigment%203/runs/bjpd32jt/workspace</a>"
      ],
      "text/plain": [
       "<IPython.core.display.HTML object>"
      ]
     },
     "metadata": {},
     "output_type": "display_data"
    },
    {
     "name": "stderr",
     "output_type": "stream",
     "text": [
      "Episodes:   0%|          | 0/2000 [00:00<?, ?episode/s]"
     ]
    },
    {
     "name": "stdout",
     "output_type": "stream",
     "text": [
      "Episode 0, Time steps: 23, Total reward: 24.0, Episode length: 23.0, Actor Loss: 0.040, Value Loss: 0.000\n"
     ]
    },
    {
     "name": "stderr",
     "output_type": "stream",
     "text": [
      "Episodes:  10%|▉         | 199/2000 [00:04<00:58, 30.57episode/s]"
     ]
    },
    {
     "name": "stdout",
     "output_type": "stream",
     "text": [
      "Episode 200, Time steps: 61, Total reward: 33.5, Episode length: 32.5, Actor Loss: 0.077, Value Loss: 0.000\n"
     ]
    },
    {
     "name": "stderr",
     "output_type": "stream",
     "text": [
      "Episodes:  20%|██        | 400/2000 [00:09<00:26, 59.39episode/s]"
     ]
    },
    {
     "name": "stdout",
     "output_type": "stream",
     "text": [
      "Episode 400, Time steps: 36, Total reward: 38.1, Episode length: 37.1, Actor Loss: 0.035, Value Loss: 0.000\n"
     ]
    },
    {
     "name": "stderr",
     "output_type": "stream",
     "text": [
      "Episodes:  30%|███       | 600/2000 [00:42<05:21,  4.35episode/s]"
     ]
    },
    {
     "name": "stdout",
     "output_type": "stream",
     "text": [
      "Episode 600, Time steps: 420, Total reward: 293.8, Episode length: 292.8, Actor Loss: 0.195, Value Loss: 0.000\n"
     ]
    },
    {
     "name": "stderr",
     "output_type": "stream",
     "text": [
      "Episodes:  40%|████      | 800/2000 [01:38<05:42,  3.50episode/s]"
     ]
    },
    {
     "name": "stdout",
     "output_type": "stream",
     "text": [
      "Episode 800, Time steps: 499, Total reward: 490.0, Episode length: 489.0, Actor Loss: 0.209, Value Loss: 0.000\n"
     ]
    },
    {
     "name": "stderr",
     "output_type": "stream",
     "text": [
      "Episodes:  50%|█████     | 1000/2000 [02:20<04:37,  3.61episode/s]"
     ]
    },
    {
     "name": "stdout",
     "output_type": "stream",
     "text": [
      "Episode 1000, Time steps: 499, Total reward: 363.1, Episode length: 362.1, Actor Loss: 0.190, Value Loss: 0.000\n"
     ]
    },
    {
     "name": "stderr",
     "output_type": "stream",
     "text": [
      "Episodes:  60%|██████    | 1200/2000 [02:47<01:27,  9.18episode/s]"
     ]
    },
    {
     "name": "stdout",
     "output_type": "stream",
     "text": [
      "Episode 1200, Time steps: 114, Total reward: 207.5, Episode length: 206.5, Actor Loss: 0.075, Value Loss: 0.000\n"
     ]
    },
    {
     "name": "stderr",
     "output_type": "stream",
     "text": [
      "Episodes:  70%|███████   | 1400/2000 [03:04<00:50, 11.94episode/s]"
     ]
    },
    {
     "name": "stdout",
     "output_type": "stream",
     "text": [
      "Episode 1400, Time steps: 128, Total reward: 112.2, Episode length: 111.2, Actor Loss: 0.059, Value Loss: 0.000\n"
     ]
    },
    {
     "name": "stderr",
     "output_type": "stream",
     "text": [
      "Episodes:  80%|███████▉  | 1599/2000 [03:19<00:24, 16.33episode/s]"
     ]
    },
    {
     "name": "stdout",
     "output_type": "stream",
     "text": [
      "Episode 1600, Time steps: 95, Total reward: 117.8, Episode length: 116.8, Actor Loss: 0.066, Value Loss: 0.000\n"
     ]
    },
    {
     "name": "stderr",
     "output_type": "stream",
     "text": [
      "Episodes:  90%|█████████ | 1800/2000 [03:58<01:08,  2.93episode/s]"
     ]
    },
    {
     "name": "stdout",
     "output_type": "stream",
     "text": [
      "Episode 1800, Time steps: 457, Total reward: 328.9, Episode length: 327.9, Actor Loss: 0.151, Value Loss: 0.000\n"
     ]
    },
    {
     "name": "stderr",
     "output_type": "stream",
     "text": [
      "Episodes: 100%|██████████| 2000/2000 [04:19<00:00,  7.71episode/s]\n"
     ]
    },
    {
     "data": {
      "application/vnd.jupyter.widget-view+json": {
       "model_id": "fbf35bd603e74bb6876425def95cca33",
       "version_major": 2,
       "version_minor": 0
      },
      "text/plain": [
       "VBox(children=(Label(value='0.001 MB of 0.001 MB uploaded\\r'), FloatProgress(value=1.0, max=1.0)))"
      ]
     },
     "metadata": {},
     "output_type": "display_data"
    },
    {
     "data": {
      "text/html": [
       "<style>\n",
       "    table.wandb td:nth-child(1) { padding: 0 10px; text-align: left ; width: auto;} td:nth-child(2) {text-align: left ; width: 100%}\n",
       "    .wandb-row { display: flex; flex-direction: row; flex-wrap: wrap; justify-content: flex-start; width: 100% }\n",
       "    .wandb-col { display: flex; flex-direction: column; flex-basis: 100%; flex: 1; padding: 10px; }\n",
       "    </style>\n",
       "<div class=\"wandb-row\"><div class=\"wandb-col\"><h3>Run history:</h3><br/><table class=\"wandb\"><tr><td>eval/actor_loss</td><td>▁▃▁▇█▇▃▂▂▆</td></tr><tr><td>eval/episode_length</td><td>▁▁▁▅█▆▄▂▂▆</td></tr><tr><td>eval/time_steps</td><td>▁▂▁▇██▂▃▂▇</td></tr><tr><td>eval/total_reward</td><td>▁▁▁▅█▆▄▂▂▆</td></tr><tr><td>eval/value_loss</td><td>▁▁▁▁▁▁▁▁▁▁</td></tr><tr><td>train/actor_loss</td><td>▂▂▃▅▃▂▂▁▂▃▇██▇▇▇█▁█▇▇▃▃▃▃▃▃▃▃▃▃▂▃▃▅▆▃▃▂▅</td></tr><tr><td>train/episode_length</td><td>▁▁▁▂▂▁▁▁▁▂███████▁███▃▂▃▃▃▂▃▃▃▃▂▂▃██▃▃▁▅</td></tr><tr><td>train/total_reward</td><td>▁▁▁▂▂▁▁▁▁▂███████▁███▃▂▃▃▃▂▃▃▃▃▂▂▃██▃▃▁▅</td></tr><tr><td>train/value_loss</td><td>▁▁▁▁▁▁▁▁▁▁▁▁▁▁▁▁▁▁▁▁▁▁▁▁▁▁▁▁▁▁▁▁▁▁▁▁▁▁▁▁</td></tr></table><br/></div><div class=\"wandb-col\"><h3>Run summary:</h3><br/><table class=\"wandb\"><tr><td>eval/actor_loss</td><td>0.15094</td></tr><tr><td>eval/episode_length</td><td>327.89</td></tr><tr><td>eval/time_steps</td><td>457</td></tr><tr><td>eval/total_reward</td><td>328.89</td></tr><tr><td>eval/value_loss</td><td>0.0</td></tr><tr><td>train/actor_loss</td><td>20.08782</td></tr><tr><td>train/episode_length</td><td>210</td></tr><tr><td>train/total_reward</td><td>211.0</td></tr><tr><td>train/value_loss</td><td>0</td></tr></table><br/></div></div>"
      ],
      "text/plain": [
       "<IPython.core.display.HTML object>"
      ]
     },
     "metadata": {},
     "output_type": "display_data"
    },
    {
     "data": {
      "text/html": [
       " View run <strong style=\"color:#cdcd00\">REINFORCE_20240712-131121</strong> at: <a href='https://wandb.ai/lorebaia/DLA%20Assigment%203/runs/bjpd32jt/workspace' target=\"_blank\">https://wandb.ai/lorebaia/DLA%20Assigment%203/runs/bjpd32jt/workspace</a><br/>Synced 6 W&B file(s), 0 media file(s), 0 artifact file(s) and 0 other file(s)"
      ],
      "text/plain": [
       "<IPython.core.display.HTML object>"
      ]
     },
     "metadata": {},
     "output_type": "display_data"
    },
    {
     "data": {
      "text/html": [
       "Find logs at: <code>.\\wandb\\run-20240712_131121-bjpd32jt\\logs</code>"
      ],
      "text/plain": [
       "<IPython.core.display.HTML object>"
      ]
     },
     "metadata": {},
     "output_type": "display_data"
    },
    {
     "data": {
      "text/plain": [
       "[(0, 24.0, 23),\n",
       " (1, 15.0, 14),\n",
       " (2, 12.0, 11),\n",
       " (3, 27.0, 26),\n",
       " (4, 9.0, 8),\n",
       " (5, 11.0, 10),\n",
       " (6, 32.0, 31),\n",
       " (7, 21.0, 20),\n",
       " (8, 11.0, 10),\n",
       " (9, 22.0, 21),\n",
       " (10, 20.0, 19),\n",
       " (11, 10.0, 9),\n",
       " (12, 32.0, 31),\n",
       " (13, 27.0, 26),\n",
       " (14, 21.0, 20),\n",
       " (15, 35.0, 34),\n",
       " (16, 31.0, 30),\n",
       " (17, 10.0, 9),\n",
       " (18, 10.0, 9),\n",
       " (19, 18.0, 17),\n",
       " (20, 16.0, 15),\n",
       " (21, 16.0, 15),\n",
       " (22, 8.0, 7),\n",
       " (23, 49.0, 48),\n",
       " (24, 12.0, 11),\n",
       " (25, 22.0, 21),\n",
       " (26, 20.0, 19),\n",
       " (27, 14.0, 13),\n",
       " (28, 24.0, 23),\n",
       " (29, 22.0, 21),\n",
       " (30, 16.0, 15),\n",
       " (31, 13.0, 12),\n",
       " (32, 32.0, 31),\n",
       " (33, 26.0, 25),\n",
       " (34, 29.0, 28),\n",
       " (35, 35.0, 34),\n",
       " (36, 27.0, 26),\n",
       " (37, 28.0, 27),\n",
       " (38, 16.0, 15),\n",
       " (39, 37.0, 36),\n",
       " (40, 17.0, 16),\n",
       " (41, 11.0, 10),\n",
       " (42, 12.0, 11),\n",
       " (43, 54.0, 53),\n",
       " (44, 26.0, 25),\n",
       " (45, 45.0, 44),\n",
       " (46, 29.0, 28),\n",
       " (47, 9.0, 8),\n",
       " (48, 19.0, 18),\n",
       " (49, 44.0, 43),\n",
       " (50, 23.0, 22),\n",
       " (51, 40.0, 39),\n",
       " (52, 14.0, 13),\n",
       " (53, 19.0, 18),\n",
       " (54, 65.0, 64),\n",
       " (55, 27.0, 26),\n",
       " (56, 41.0, 40),\n",
       " (57, 73.0, 72),\n",
       " (58, 33.0, 32),\n",
       " (59, 24.0, 23),\n",
       " (60, 36.0, 35),\n",
       " (61, 79.0, 78),\n",
       " (62, 12.0, 11),\n",
       " (63, 13.0, 12),\n",
       " (64, 20.0, 19),\n",
       " (65, 39.0, 38),\n",
       " (66, 17.0, 16),\n",
       " (67, 13.0, 12),\n",
       " (68, 29.0, 28),\n",
       " (69, 38.0, 37),\n",
       " (70, 27.0, 26),\n",
       " (71, 26.0, 25),\n",
       " (72, 26.0, 25),\n",
       " (73, 16.0, 15),\n",
       " (74, 31.0, 30),\n",
       " (75, 21.0, 20),\n",
       " (76, 67.0, 66),\n",
       " (77, 15.0, 14),\n",
       " (78, 14.0, 13),\n",
       " (79, 26.0, 25),\n",
       " (80, 34.0, 33),\n",
       " (81, 12.0, 11),\n",
       " (82, 21.0, 20),\n",
       " (83, 26.0, 25),\n",
       " (84, 23.0, 22),\n",
       " (85, 28.0, 27),\n",
       " (86, 48.0, 47),\n",
       " (87, 24.0, 23),\n",
       " (88, 48.0, 47),\n",
       " (89, 53.0, 52),\n",
       " (90, 56.0, 55),\n",
       " (91, 17.0, 16),\n",
       " (92, 25.0, 24),\n",
       " (93, 21.0, 20),\n",
       " (94, 15.0, 14),\n",
       " (95, 72.0, 71),\n",
       " (96, 83.0, 82),\n",
       " (97, 24.0, 23),\n",
       " (98, 46.0, 45),\n",
       " (99, 21.0, 20),\n",
       " (100, 25.0, 24),\n",
       " (101, 30.0, 29),\n",
       " (102, 13.0, 12),\n",
       " (103, 35.0, 34),\n",
       " (104, 42.0, 41),\n",
       " (105, 39.0, 38),\n",
       " (106, 13.0, 12),\n",
       " (107, 18.0, 17),\n",
       " (108, 53.0, 52),\n",
       " (109, 20.0, 19),\n",
       " (110, 22.0, 21),\n",
       " (111, 37.0, 36),\n",
       " (112, 19.0, 18),\n",
       " (113, 14.0, 13),\n",
       " (114, 25.0, 24),\n",
       " (115, 22.0, 21),\n",
       " (116, 28.0, 27),\n",
       " (117, 33.0, 32),\n",
       " (118, 23.0, 22),\n",
       " (119, 19.0, 18),\n",
       " (120, 33.0, 32),\n",
       " (121, 21.0, 20),\n",
       " (122, 35.0, 34),\n",
       " (123, 89.0, 88),\n",
       " (124, 49.0, 48),\n",
       " (125, 32.0, 31),\n",
       " (126, 41.0, 40),\n",
       " (127, 16.0, 15),\n",
       " (128, 15.0, 14),\n",
       " (129, 112.0, 111),\n",
       " (130, 18.0, 17),\n",
       " (131, 18.0, 17),\n",
       " (132, 20.0, 19),\n",
       " (133, 28.0, 27),\n",
       " (134, 30.0, 29),\n",
       " (135, 23.0, 22),\n",
       " (136, 11.0, 10),\n",
       " (137, 37.0, 36),\n",
       " (138, 22.0, 21),\n",
       " (139, 26.0, 25),\n",
       " (140, 20.0, 19),\n",
       " (141, 29.0, 28),\n",
       " (142, 22.0, 21),\n",
       " (143, 37.0, 36),\n",
       " (144, 50.0, 49),\n",
       " (145, 16.0, 15),\n",
       " (146, 58.0, 57),\n",
       " (147, 25.0, 24),\n",
       " (148, 19.0, 18),\n",
       " (149, 24.0, 23),\n",
       " (150, 38.0, 37),\n",
       " (151, 25.0, 24),\n",
       " (152, 37.0, 36),\n",
       " (153, 15.0, 14),\n",
       " (154, 16.0, 15),\n",
       " (155, 28.0, 27),\n",
       " (156, 14.0, 13),\n",
       " (157, 63.0, 62),\n",
       " (158, 21.0, 20),\n",
       " (159, 104.0, 103),\n",
       " (160, 20.0, 19),\n",
       " (161, 47.0, 46),\n",
       " (162, 49.0, 48),\n",
       " (163, 76.0, 75),\n",
       " (164, 34.0, 33),\n",
       " (165, 49.0, 48),\n",
       " (166, 24.0, 23),\n",
       " (167, 35.0, 34),\n",
       " (168, 31.0, 30),\n",
       " (169, 42.0, 41),\n",
       " (170, 30.0, 29),\n",
       " (171, 30.0, 29),\n",
       " (172, 26.0, 25),\n",
       " (173, 53.0, 52),\n",
       " (174, 115.0, 114),\n",
       " (175, 68.0, 67),\n",
       " (176, 27.0, 26),\n",
       " (177, 61.0, 60),\n",
       " (178, 131.0, 130),\n",
       " (179, 26.0, 25),\n",
       " (180, 67.0, 66),\n",
       " (181, 34.0, 33),\n",
       " (182, 51.0, 50),\n",
       " (183, 53.0, 52),\n",
       " (184, 44.0, 43),\n",
       " (185, 67.0, 66),\n",
       " (186, 49.0, 48),\n",
       " (187, 92.0, 91),\n",
       " (188, 49.0, 48),\n",
       " (189, 26.0, 25),\n",
       " (190, 86.0, 85),\n",
       " (191, 23.0, 22),\n",
       " (192, 58.0, 57),\n",
       " (193, 52.0, 51),\n",
       " (194, 61.0, 60),\n",
       " (195, 40.0, 39),\n",
       " (196, 35.0, 34),\n",
       " (197, 41.0, 40),\n",
       " (198, 87.0, 86),\n",
       " (199, 49.0, 48),\n",
       " (200, 62.0, 61),\n",
       " (201, 109.0, 108),\n",
       " (202, 96.0, 95),\n",
       " (203, 32.0, 31),\n",
       " (204, 103.0, 102),\n",
       " (205, 65.0, 64),\n",
       " (206, 48.0, 47),\n",
       " (207, 54.0, 53),\n",
       " (208, 27.0, 26),\n",
       " (209, 42.0, 41),\n",
       " (210, 108.0, 107),\n",
       " (211, 39.0, 38),\n",
       " (212, 69.0, 68),\n",
       " (213, 118.0, 117),\n",
       " (214, 33.0, 32),\n",
       " (215, 97.0, 96),\n",
       " (216, 53.0, 52),\n",
       " (217, 23.0, 22),\n",
       " (218, 35.0, 34),\n",
       " (219, 51.0, 50),\n",
       " (220, 52.0, 51),\n",
       " (221, 30.0, 29),\n",
       " (222, 20.0, 19),\n",
       " (223, 55.0, 54),\n",
       " (224, 54.0, 53),\n",
       " (225, 77.0, 76),\n",
       " (226, 43.0, 42),\n",
       " (227, 23.0, 22),\n",
       " (228, 73.0, 72),\n",
       " (229, 65.0, 64),\n",
       " (230, 20.0, 19),\n",
       " (231, 20.0, 19),\n",
       " (232, 60.0, 59),\n",
       " (233, 19.0, 18),\n",
       " (234, 59.0, 58),\n",
       " (235, 39.0, 38),\n",
       " (236, 61.0, 60),\n",
       " (237, 19.0, 18),\n",
       " (238, 74.0, 73),\n",
       " (239, 45.0, 44),\n",
       " (240, 36.0, 35),\n",
       " (241, 20.0, 19),\n",
       " (242, 26.0, 25),\n",
       " (243, 36.0, 35),\n",
       " (244, 39.0, 38),\n",
       " (245, 56.0, 55),\n",
       " (246, 42.0, 41),\n",
       " (247, 60.0, 59),\n",
       " (248, 25.0, 24),\n",
       " (249, 47.0, 46),\n",
       " (250, 42.0, 41),\n",
       " (251, 34.0, 33),\n",
       " (252, 47.0, 46),\n",
       " (253, 37.0, 36),\n",
       " (254, 48.0, 47),\n",
       " (255, 29.0, 28),\n",
       " (256, 55.0, 54),\n",
       " (257, 49.0, 48),\n",
       " (258, 43.0, 42),\n",
       " (259, 62.0, 61),\n",
       " (260, 50.0, 49),\n",
       " (261, 22.0, 21),\n",
       " (262, 41.0, 40),\n",
       " (263, 33.0, 32),\n",
       " (264, 133.0, 132),\n",
       " (265, 39.0, 38),\n",
       " (266, 62.0, 61),\n",
       " (267, 48.0, 47),\n",
       " (268, 61.0, 60),\n",
       " (269, 33.0, 32),\n",
       " (270, 53.0, 52),\n",
       " (271, 48.0, 47),\n",
       " (272, 34.0, 33),\n",
       " (273, 78.0, 77),\n",
       " (274, 115.0, 114),\n",
       " (275, 39.0, 38),\n",
       " (276, 75.0, 74),\n",
       " (277, 102.0, 101),\n",
       " (278, 86.0, 85),\n",
       " (279, 50.0, 49),\n",
       " (280, 40.0, 39),\n",
       " (281, 43.0, 42),\n",
       " (282, 40.0, 39),\n",
       " (283, 41.0, 40),\n",
       " (284, 60.0, 59),\n",
       " (285, 49.0, 48),\n",
       " (286, 44.0, 43),\n",
       " (287, 46.0, 45),\n",
       " (288, 42.0, 41),\n",
       " (289, 37.0, 36),\n",
       " (290, 49.0, 48),\n",
       " (291, 30.0, 29),\n",
       " (292, 25.0, 24),\n",
       " (293, 40.0, 39),\n",
       " (294, 38.0, 37),\n",
       " (295, 26.0, 25),\n",
       " (296, 29.0, 28),\n",
       " (297, 40.0, 39),\n",
       " (298, 34.0, 33),\n",
       " (299, 31.0, 30),\n",
       " (300, 30.0, 29),\n",
       " (301, 33.0, 32),\n",
       " (302, 39.0, 38),\n",
       " (303, 39.0, 38),\n",
       " (304, 31.0, 30),\n",
       " (305, 28.0, 27),\n",
       " (306, 22.0, 21),\n",
       " (307, 41.0, 40),\n",
       " (308, 22.0, 21),\n",
       " (309, 27.0, 26),\n",
       " (310, 21.0, 20),\n",
       " (311, 28.0, 27),\n",
       " (312, 25.0, 24),\n",
       " (313, 30.0, 29),\n",
       " (314, 35.0, 34),\n",
       " (315, 33.0, 32),\n",
       " (316, 22.0, 21),\n",
       " (317, 35.0, 34),\n",
       " (318, 26.0, 25),\n",
       " (319, 28.0, 27),\n",
       " (320, 23.0, 22),\n",
       " (321, 25.0, 24),\n",
       " (322, 34.0, 33),\n",
       " (323, 23.0, 22),\n",
       " (324, 33.0, 32),\n",
       " (325, 26.0, 25),\n",
       " (326, 24.0, 23),\n",
       " (327, 32.0, 31),\n",
       " (328, 31.0, 30),\n",
       " (329, 22.0, 21),\n",
       " (330, 18.0, 17),\n",
       " (331, 26.0, 25),\n",
       " (332, 31.0, 30),\n",
       " (333, 30.0, 29),\n",
       " (334, 20.0, 19),\n",
       " (335, 31.0, 30),\n",
       " (336, 26.0, 25),\n",
       " (337, 25.0, 24),\n",
       " (338, 46.0, 45),\n",
       " (339, 27.0, 26),\n",
       " (340, 26.0, 25),\n",
       " (341, 28.0, 27),\n",
       " (342, 29.0, 28),\n",
       " (343, 29.0, 28),\n",
       " (344, 26.0, 25),\n",
       " (345, 40.0, 39),\n",
       " (346, 23.0, 22),\n",
       " (347, 36.0, 35),\n",
       " (348, 26.0, 25),\n",
       " (349, 23.0, 22),\n",
       " (350, 27.0, 26),\n",
       " (351, 33.0, 32),\n",
       " (352, 30.0, 29),\n",
       " (353, 29.0, 28),\n",
       " (354, 20.0, 19),\n",
       " (355, 25.0, 24),\n",
       " (356, 31.0, 30),\n",
       " (357, 25.0, 24),\n",
       " (358, 33.0, 32),\n",
       " (359, 26.0, 25),\n",
       " (360, 19.0, 18),\n",
       " (361, 32.0, 31),\n",
       " (362, 28.0, 27),\n",
       " (363, 25.0, 24),\n",
       " (364, 33.0, 32),\n",
       " (365, 26.0, 25),\n",
       " (366, 29.0, 28),\n",
       " (367, 23.0, 22),\n",
       " (368, 13.0, 12),\n",
       " (369, 26.0, 25),\n",
       " (370, 20.0, 19),\n",
       " (371, 30.0, 29),\n",
       " (372, 17.0, 16),\n",
       " (373, 19.0, 18),\n",
       " (374, 16.0, 15),\n",
       " (375, 22.0, 21),\n",
       " (376, 17.0, 16),\n",
       " (377, 16.0, 15),\n",
       " (378, 23.0, 22),\n",
       " (379, 21.0, 20),\n",
       " (380, 23.0, 22),\n",
       " (381, 23.0, 22),\n",
       " (382, 16.0, 15),\n",
       " (383, 17.0, 16),\n",
       " (384, 20.0, 19),\n",
       " (385, 20.0, 19),\n",
       " (386, 30.0, 29),\n",
       " (387, 28.0, 27),\n",
       " (388, 28.0, 27),\n",
       " (389, 23.0, 22),\n",
       " (390, 21.0, 20),\n",
       " (391, 27.0, 26),\n",
       " (392, 20.0, 19),\n",
       " (393, 27.0, 26),\n",
       " (394, 26.0, 25),\n",
       " (395, 33.0, 32),\n",
       " (396, 22.0, 21),\n",
       " (397, 30.0, 29),\n",
       " (398, 29.0, 28),\n",
       " (399, 24.0, 23),\n",
       " (400, 37.0, 36),\n",
       " (401, 32.0, 31),\n",
       " (402, 26.0, 25),\n",
       " (403, 33.0, 32),\n",
       " (404, 37.0, 36),\n",
       " (405, 34.0, 33),\n",
       " (406, 33.0, 32),\n",
       " (407, 34.0, 33),\n",
       " (408, 34.0, 33),\n",
       " (409, 40.0, 39),\n",
       " (410, 44.0, 43),\n",
       " (411, 39.0, 38),\n",
       " (412, 47.0, 46),\n",
       " (413, 53.0, 52),\n",
       " (414, 37.0, 36),\n",
       " (415, 38.0, 37),\n",
       " (416, 43.0, 42),\n",
       " (417, 61.0, 60),\n",
       " (418, 52.0, 51),\n",
       " (419, 67.0, 66),\n",
       " (420, 69.0, 68),\n",
       " (421, 54.0, 53),\n",
       " (422, 45.0, 44),\n",
       " (423, 51.0, 50),\n",
       " (424, 56.0, 55),\n",
       " (425, 53.0, 52),\n",
       " (426, 68.0, 67),\n",
       " (427, 61.0, 60),\n",
       " (428, 109.0, 108),\n",
       " (429, 66.0, 65),\n",
       " (430, 66.0, 65),\n",
       " (431, 54.0, 53),\n",
       " (432, 89.0, 88),\n",
       " (433, 79.0, 78),\n",
       " (434, 153.0, 152),\n",
       " (435, 76.0, 75),\n",
       " (436, 99.0, 98),\n",
       " (437, 110.0, 109),\n",
       " (438, 70.0, 69),\n",
       " (439, 82.0, 81),\n",
       " (440, 86.0, 85),\n",
       " (441, 89.0, 88),\n",
       " (442, 86.0, 85),\n",
       " (443, 173.0, 172),\n",
       " (444, 49.0, 48),\n",
       " (445, 90.0, 89),\n",
       " (446, 65.0, 64),\n",
       " (447, 97.0, 96),\n",
       " (448, 99.0, 98),\n",
       " (449, 90.0, 89),\n",
       " (450, 145.0, 144),\n",
       " (451, 98.0, 97),\n",
       " (452, 109.0, 108),\n",
       " (453, 147.0, 146),\n",
       " (454, 72.0, 71),\n",
       " (455, 85.0, 84),\n",
       " (456, 75.0, 74),\n",
       " (457, 95.0, 94),\n",
       " (458, 157.0, 156),\n",
       " (459, 76.0, 75),\n",
       " (460, 91.0, 90),\n",
       " (461, 103.0, 102),\n",
       " (462, 92.0, 91),\n",
       " (463, 91.0, 90),\n",
       " (464, 248.0, 247),\n",
       " (465, 81.0, 80),\n",
       " (466, 83.0, 82),\n",
       " (467, 67.0, 66),\n",
       " (468, 85.0, 84),\n",
       " (469, 91.0, 90),\n",
       " (470, 166.0, 165),\n",
       " (471, 97.0, 96),\n",
       " (472, 88.0, 87),\n",
       " (473, 112.0, 111),\n",
       " (474, 71.0, 70),\n",
       " (475, 212.0, 211),\n",
       " (476, 68.0, 67),\n",
       " (477, 92.0, 91),\n",
       " (478, 77.0, 76),\n",
       " (479, 123.0, 122),\n",
       " (480, 126.0, 125),\n",
       " (481, 136.0, 135),\n",
       " (482, 138.0, 137),\n",
       " (483, 109.0, 108),\n",
       " (484, 129.0, 128),\n",
       " (485, 185.0, 184),\n",
       " (486, 139.0, 138),\n",
       " (487, 167.0, 166),\n",
       " (488, 121.0, 120),\n",
       " (489, 244.0, 243),\n",
       " (490, 126.0, 125),\n",
       " (491, 298.0, 297),\n",
       " (492, 224.0, 223),\n",
       " (493, 182.0, 181),\n",
       " (494, 357.0, 356),\n",
       " (495, 500.0, 499),\n",
       " (496, 500.0, 499),\n",
       " (497, 500.0, 499),\n",
       " (498, 500.0, 499),\n",
       " (499, 445.0, 444),\n",
       " (500, 318.0, 317),\n",
       " (501, 500.0, 499),\n",
       " (502, 500.0, 499),\n",
       " (503, 246.0, 245),\n",
       " (504, 500.0, 499),\n",
       " (505, 500.0, 499),\n",
       " (506, 327.0, 326),\n",
       " (507, 500.0, 499),\n",
       " (508, 500.0, 499),\n",
       " (509, 500.0, 499),\n",
       " (510, 500.0, 499),\n",
       " (511, 500.0, 499),\n",
       " (512, 500.0, 499),\n",
       " (513, 500.0, 499),\n",
       " (514, 500.0, 499),\n",
       " (515, 500.0, 499),\n",
       " (516, 500.0, 499),\n",
       " (517, 500.0, 499),\n",
       " (518, 500.0, 499),\n",
       " (519, 500.0, 499),\n",
       " (520, 500.0, 499),\n",
       " (521, 500.0, 499),\n",
       " (522, 301.0, 300),\n",
       " (523, 249.0, 248),\n",
       " (524, 225.0, 224),\n",
       " (525, 267.0, 266),\n",
       " (526, 206.0, 205),\n",
       " (527, 305.0, 304),\n",
       " (528, 274.0, 273),\n",
       " (529, 347.0, 346),\n",
       " (530, 330.0, 329),\n",
       " (531, 500.0, 499),\n",
       " (532, 500.0, 499),\n",
       " (533, 500.0, 499),\n",
       " (534, 500.0, 499),\n",
       " (535, 500.0, 499),\n",
       " (536, 500.0, 499),\n",
       " (537, 500.0, 499),\n",
       " (538, 226.0, 225),\n",
       " (539, 500.0, 499),\n",
       " (540, 500.0, 499),\n",
       " (541, 500.0, 499),\n",
       " (542, 500.0, 499),\n",
       " (543, 500.0, 499),\n",
       " (544, 500.0, 499),\n",
       " (545, 500.0, 499),\n",
       " (546, 500.0, 499),\n",
       " (547, 500.0, 499),\n",
       " (548, 500.0, 499),\n",
       " (549, 500.0, 499),\n",
       " (550, 500.0, 499),\n",
       " (551, 449.0, 448),\n",
       " (552, 500.0, 499),\n",
       " (553, 500.0, 499),\n",
       " (554, 500.0, 499),\n",
       " (555, 500.0, 499),\n",
       " (556, 500.0, 499),\n",
       " (557, 500.0, 499),\n",
       " (558, 500.0, 499),\n",
       " (559, 500.0, 499),\n",
       " (560, 500.0, 499),\n",
       " (561, 500.0, 499),\n",
       " (562, 500.0, 499),\n",
       " (563, 500.0, 499),\n",
       " (564, 500.0, 499),\n",
       " (565, 500.0, 499),\n",
       " (566, 500.0, 499),\n",
       " (567, 500.0, 499),\n",
       " (568, 500.0, 499),\n",
       " (569, 500.0, 499),\n",
       " (570, 500.0, 499),\n",
       " (571, 500.0, 499),\n",
       " (572, 500.0, 499),\n",
       " (573, 500.0, 499),\n",
       " (574, 500.0, 499),\n",
       " (575, 500.0, 499),\n",
       " (576, 500.0, 499),\n",
       " (577, 500.0, 499),\n",
       " (578, 500.0, 499),\n",
       " (579, 500.0, 499),\n",
       " (580, 500.0, 499),\n",
       " (581, 500.0, 499),\n",
       " (582, 500.0, 499),\n",
       " (583, 500.0, 499),\n",
       " (584, 500.0, 499),\n",
       " (585, 500.0, 499),\n",
       " (586, 334.0, 333),\n",
       " (587, 500.0, 499),\n",
       " (588, 500.0, 499),\n",
       " (589, 500.0, 499),\n",
       " (590, 500.0, 499),\n",
       " (591, 500.0, 499),\n",
       " (592, 500.0, 499),\n",
       " (593, 500.0, 499),\n",
       " (594, 500.0, 499),\n",
       " (595, 500.0, 499),\n",
       " (596, 500.0, 499),\n",
       " (597, 500.0, 499),\n",
       " (598, 500.0, 499),\n",
       " (599, 393.0, 392),\n",
       " (600, 421.0, 420),\n",
       " (601, 500.0, 499),\n",
       " (602, 500.0, 499),\n",
       " (603, 500.0, 499),\n",
       " (604, 500.0, 499),\n",
       " (605, 500.0, 499),\n",
       " (606, 500.0, 499),\n",
       " (607, 500.0, 499),\n",
       " (608, 500.0, 499),\n",
       " (609, 500.0, 499),\n",
       " (610, 500.0, 499),\n",
       " (611, 500.0, 499),\n",
       " (612, 500.0, 499),\n",
       " (613, 500.0, 499),\n",
       " (614, 500.0, 499),\n",
       " (615, 500.0, 499),\n",
       " (616, 500.0, 499),\n",
       " (617, 500.0, 499),\n",
       " (618, 500.0, 499),\n",
       " (619, 500.0, 499),\n",
       " (620, 500.0, 499),\n",
       " (621, 500.0, 499),\n",
       " (622, 500.0, 499),\n",
       " (623, 500.0, 499),\n",
       " (624, 500.0, 499),\n",
       " (625, 414.0, 413),\n",
       " (626, 500.0, 499),\n",
       " (627, 500.0, 499),\n",
       " (628, 500.0, 499),\n",
       " (629, 500.0, 499),\n",
       " (630, 500.0, 499),\n",
       " (631, 500.0, 499),\n",
       " (632, 500.0, 499),\n",
       " (633, 500.0, 499),\n",
       " (634, 500.0, 499),\n",
       " (635, 500.0, 499),\n",
       " (636, 135.0, 134),\n",
       " (637, 500.0, 499),\n",
       " (638, 500.0, 499),\n",
       " (639, 304.0, 303),\n",
       " (640, 500.0, 499),\n",
       " (641, 500.0, 499),\n",
       " (642, 500.0, 499),\n",
       " (643, 212.0, 211),\n",
       " (644, 268.0, 267),\n",
       " (645, 338.0, 337),\n",
       " (646, 500.0, 499),\n",
       " (647, 500.0, 499),\n",
       " (648, 500.0, 499),\n",
       " (649, 366.0, 365),\n",
       " (650, 500.0, 499),\n",
       " (651, 500.0, 499),\n",
       " (652, 500.0, 499),\n",
       " (653, 500.0, 499),\n",
       " (654, 500.0, 499),\n",
       " (655, 212.0, 211),\n",
       " (656, 474.0, 473),\n",
       " (657, 500.0, 499),\n",
       " (658, 500.0, 499),\n",
       " (659, 500.0, 499),\n",
       " (660, 500.0, 499),\n",
       " (661, 500.0, 499),\n",
       " (662, 500.0, 499),\n",
       " (663, 500.0, 499),\n",
       " (664, 500.0, 499),\n",
       " (665, 500.0, 499),\n",
       " (666, 500.0, 499),\n",
       " (667, 500.0, 499),\n",
       " (668, 500.0, 499),\n",
       " (669, 500.0, 499),\n",
       " (670, 500.0, 499),\n",
       " (671, 500.0, 499),\n",
       " (672, 500.0, 499),\n",
       " (673, 500.0, 499),\n",
       " (674, 500.0, 499),\n",
       " (675, 500.0, 499),\n",
       " (676, 500.0, 499),\n",
       " (677, 500.0, 499),\n",
       " (678, 500.0, 499),\n",
       " (679, 500.0, 499),\n",
       " (680, 500.0, 499),\n",
       " (681, 500.0, 499),\n",
       " (682, 500.0, 499),\n",
       " (683, 500.0, 499),\n",
       " (684, 500.0, 499),\n",
       " (685, 500.0, 499),\n",
       " (686, 500.0, 499),\n",
       " (687, 500.0, 499),\n",
       " (688, 500.0, 499),\n",
       " (689, 500.0, 499),\n",
       " (690, 500.0, 499),\n",
       " (691, 500.0, 499),\n",
       " (692, 500.0, 499),\n",
       " (693, 500.0, 499),\n",
       " (694, 500.0, 499),\n",
       " (695, 500.0, 499),\n",
       " (696, 500.0, 499),\n",
       " (697, 500.0, 499),\n",
       " (698, 500.0, 499),\n",
       " (699, 500.0, 499),\n",
       " (700, 500.0, 499),\n",
       " (701, 500.0, 499),\n",
       " (702, 500.0, 499),\n",
       " (703, 500.0, 499),\n",
       " (704, 500.0, 499),\n",
       " (705, 500.0, 499),\n",
       " (706, 500.0, 499),\n",
       " (707, 500.0, 499),\n",
       " (708, 500.0, 499),\n",
       " (709, 500.0, 499),\n",
       " (710, 500.0, 499),\n",
       " (711, 500.0, 499),\n",
       " (712, 500.0, 499),\n",
       " (713, 500.0, 499),\n",
       " (714, 500.0, 499),\n",
       " (715, 500.0, 499),\n",
       " (716, 500.0, 499),\n",
       " (717, 500.0, 499),\n",
       " (718, 500.0, 499),\n",
       " (719, 500.0, 499),\n",
       " (720, 500.0, 499),\n",
       " (721, 500.0, 499),\n",
       " (722, 500.0, 499),\n",
       " (723, 500.0, 499),\n",
       " (724, 500.0, 499),\n",
       " (725, 500.0, 499),\n",
       " (726, 500.0, 499),\n",
       " (727, 500.0, 499),\n",
       " (728, 500.0, 499),\n",
       " (729, 500.0, 499),\n",
       " (730, 500.0, 499),\n",
       " (731, 500.0, 499),\n",
       " (732, 500.0, 499),\n",
       " (733, 500.0, 499),\n",
       " (734, 500.0, 499),\n",
       " (735, 500.0, 499),\n",
       " (736, 500.0, 499),\n",
       " (737, 500.0, 499),\n",
       " (738, 500.0, 499),\n",
       " (739, 500.0, 499),\n",
       " (740, 500.0, 499),\n",
       " (741, 500.0, 499),\n",
       " (742, 500.0, 499),\n",
       " (743, 500.0, 499),\n",
       " (744, 500.0, 499),\n",
       " (745, 500.0, 499),\n",
       " (746, 500.0, 499),\n",
       " (747, 500.0, 499),\n",
       " (748, 500.0, 499),\n",
       " (749, 500.0, 499),\n",
       " (750, 500.0, 499),\n",
       " (751, 500.0, 499),\n",
       " (752, 500.0, 499),\n",
       " (753, 500.0, 499),\n",
       " (754, 500.0, 499),\n",
       " (755, 500.0, 499),\n",
       " (756, 500.0, 499),\n",
       " (757, 500.0, 499),\n",
       " (758, 500.0, 499),\n",
       " (759, 500.0, 499),\n",
       " (760, 500.0, 499),\n",
       " (761, 500.0, 499),\n",
       " (762, 500.0, 499),\n",
       " (763, 500.0, 499),\n",
       " (764, 500.0, 499),\n",
       " (765, 500.0, 499),\n",
       " (766, 500.0, 499),\n",
       " (767, 500.0, 499),\n",
       " (768, 500.0, 499),\n",
       " (769, 500.0, 499),\n",
       " (770, 500.0, 499),\n",
       " (771, 500.0, 499),\n",
       " (772, 500.0, 499),\n",
       " (773, 500.0, 499),\n",
       " (774, 500.0, 499),\n",
       " (775, 500.0, 499),\n",
       " (776, 500.0, 499),\n",
       " (777, 500.0, 499),\n",
       " (778, 500.0, 499),\n",
       " (779, 500.0, 499),\n",
       " (780, 500.0, 499),\n",
       " (781, 282.0, 281),\n",
       " (782, 500.0, 499),\n",
       " (783, 500.0, 499),\n",
       " (784, 500.0, 499),\n",
       " (785, 500.0, 499),\n",
       " (786, 500.0, 499),\n",
       " (787, 500.0, 499),\n",
       " (788, 500.0, 499),\n",
       " (789, 500.0, 499),\n",
       " (790, 500.0, 499),\n",
       " (791, 500.0, 499),\n",
       " (792, 500.0, 499),\n",
       " (793, 500.0, 499),\n",
       " (794, 500.0, 499),\n",
       " (795, 500.0, 499),\n",
       " (796, 500.0, 499),\n",
       " (797, 500.0, 499),\n",
       " (798, 500.0, 499),\n",
       " (799, 500.0, 499),\n",
       " (800, 500.0, 499),\n",
       " (801, 500.0, 499),\n",
       " (802, 500.0, 499),\n",
       " (803, 500.0, 499),\n",
       " (804, 500.0, 499),\n",
       " (805, 500.0, 499),\n",
       " (806, 500.0, 499),\n",
       " (807, 500.0, 499),\n",
       " (808, 500.0, 499),\n",
       " (809, 500.0, 499),\n",
       " (810, 500.0, 499),\n",
       " (811, 500.0, 499),\n",
       " (812, 500.0, 499),\n",
       " (813, 500.0, 499),\n",
       " (814, 500.0, 499),\n",
       " (815, 500.0, 499),\n",
       " (816, 500.0, 499),\n",
       " (817, 500.0, 499),\n",
       " (818, 500.0, 499),\n",
       " (819, 500.0, 499),\n",
       " (820, 500.0, 499),\n",
       " (821, 500.0, 499),\n",
       " (822, 500.0, 499),\n",
       " (823, 500.0, 499),\n",
       " (824, 500.0, 499),\n",
       " (825, 500.0, 499),\n",
       " (826, 500.0, 499),\n",
       " (827, 500.0, 499),\n",
       " (828, 500.0, 499),\n",
       " (829, 500.0, 499),\n",
       " (830, 500.0, 499),\n",
       " (831, 500.0, 499),\n",
       " (832, 369.0, 368),\n",
       " (833, 500.0, 499),\n",
       " (834, 500.0, 499),\n",
       " (835, 500.0, 499),\n",
       " (836, 500.0, 499),\n",
       " (837, 500.0, 499),\n",
       " (838, 367.0, 366),\n",
       " (839, 74.0, 73),\n",
       " (840, 500.0, 499),\n",
       " (841, 500.0, 499),\n",
       " (842, 179.0, 178),\n",
       " (843, 257.0, 256),\n",
       " (844, 138.0, 137),\n",
       " (845, 169.0, 168),\n",
       " (846, 52.0, 51),\n",
       " (847, 73.0, 72),\n",
       " (848, 124.0, 123),\n",
       " (849, 500.0, 499),\n",
       " (850, 255.0, 254),\n",
       " (851, 388.0, 387),\n",
       " (852, 78.0, 77),\n",
       " (853, 268.0, 267),\n",
       " (854, 15.0, 14),\n",
       " (855, 44.0, 43),\n",
       " (856, 500.0, 499),\n",
       " (857, 105.0, 104),\n",
       " (858, 313.0, 312),\n",
       " (859, 66.0, 65),\n",
       " (860, 240.0, 239),\n",
       " (861, 110.0, 109),\n",
       " (862, 305.0, 304),\n",
       " (863, 66.0, 65),\n",
       " (864, 123.0, 122),\n",
       " (865, 336.0, 335),\n",
       " (866, 17.0, 16),\n",
       " (867, 172.0, 171),\n",
       " (868, 12.0, 11),\n",
       " (869, 250.0, 249),\n",
       " (870, 15.0, 14),\n",
       " (871, 168.0, 167),\n",
       " (872, 103.0, 102),\n",
       " (873, 97.0, 96),\n",
       " (874, 85.0, 84),\n",
       " (875, 15.0, 14),\n",
       " (876, 15.0, 14),\n",
       " (877, 134.0, 133),\n",
       " (878, 68.0, 67),\n",
       " (879, 11.0, 10),\n",
       " (880, 247.0, 246),\n",
       " (881, 478.0, 477),\n",
       " (882, 14.0, 13),\n",
       " (883, 14.0, 13),\n",
       " (884, 500.0, 499),\n",
       " (885, 305.0, 304),\n",
       " (886, 12.0, 11),\n",
       " (887, 12.0, 11),\n",
       " (888, 12.0, 11),\n",
       " (889, 18.0, 17),\n",
       " (890, 11.0, 10),\n",
       " (891, 15.0, 14),\n",
       " (892, 10.0, 9),\n",
       " (893, 116.0, 115),\n",
       " (894, 112.0, 111),\n",
       " (895, 69.0, 68),\n",
       " (896, 11.0, 10),\n",
       " (897, 13.0, 12),\n",
       " (898, 13.0, 12),\n",
       " (899, 9.0, 8),\n",
       " (900, 17.0, 16),\n",
       " (901, 12.0, 11),\n",
       " (902, 64.0, 63),\n",
       " (903, 11.0, 10),\n",
       " (904, 13.0, 12),\n",
       " (905, 13.0, 12),\n",
       " (906, 325.0, 324),\n",
       " (907, 11.0, 10),\n",
       " (908, 500.0, 499),\n",
       " (909, 12.0, 11),\n",
       " (910, 12.0, 11),\n",
       " (911, 478.0, 477),\n",
       " (912, 500.0, 499),\n",
       " (913, 349.0, 348),\n",
       " (914, 222.0, 221),\n",
       " (915, 329.0, 328),\n",
       " (916, 500.0, 499),\n",
       " (917, 500.0, 499),\n",
       " (918, 500.0, 499),\n",
       " (919, 500.0, 499),\n",
       " (920, 500.0, 499),\n",
       " (921, 500.0, 499),\n",
       " (922, 500.0, 499),\n",
       " (923, 500.0, 499),\n",
       " (924, 500.0, 499),\n",
       " (925, 500.0, 499),\n",
       " (926, 500.0, 499),\n",
       " (927, 500.0, 499),\n",
       " (928, 500.0, 499),\n",
       " (929, 500.0, 499),\n",
       " (930, 500.0, 499),\n",
       " (931, 500.0, 499),\n",
       " (932, 500.0, 499),\n",
       " (933, 500.0, 499),\n",
       " (934, 500.0, 499),\n",
       " (935, 500.0, 499),\n",
       " (936, 500.0, 499),\n",
       " (937, 500.0, 499),\n",
       " (938, 500.0, 499),\n",
       " (939, 500.0, 499),\n",
       " (940, 500.0, 499),\n",
       " (941, 500.0, 499),\n",
       " (942, 500.0, 499),\n",
       " (943, 500.0, 499),\n",
       " (944, 500.0, 499),\n",
       " (945, 500.0, 499),\n",
       " (946, 500.0, 499),\n",
       " (947, 500.0, 499),\n",
       " (948, 500.0, 499),\n",
       " (949, 500.0, 499),\n",
       " (950, 500.0, 499),\n",
       " (951, 500.0, 499),\n",
       " (952, 500.0, 499),\n",
       " (953, 500.0, 499),\n",
       " (954, 500.0, 499),\n",
       " (955, 500.0, 499),\n",
       " (956, 500.0, 499),\n",
       " (957, 500.0, 499),\n",
       " (958, 500.0, 499),\n",
       " (959, 500.0, 499),\n",
       " (960, 500.0, 499),\n",
       " (961, 500.0, 499),\n",
       " (962, 500.0, 499),\n",
       " (963, 500.0, 499),\n",
       " (964, 500.0, 499),\n",
       " (965, 500.0, 499),\n",
       " (966, 500.0, 499),\n",
       " (967, 500.0, 499),\n",
       " (968, 500.0, 499),\n",
       " (969, 500.0, 499),\n",
       " (970, 500.0, 499),\n",
       " (971, 500.0, 499),\n",
       " (972, 500.0, 499),\n",
       " (973, 500.0, 499),\n",
       " (974, 500.0, 499),\n",
       " (975, 500.0, 499),\n",
       " (976, 500.0, 499),\n",
       " (977, 500.0, 499),\n",
       " (978, 500.0, 499),\n",
       " (979, 500.0, 499),\n",
       " (980, 500.0, 499),\n",
       " (981, 500.0, 499),\n",
       " (982, 500.0, 499),\n",
       " (983, 500.0, 499),\n",
       " (984, 500.0, 499),\n",
       " (985, 500.0, 499),\n",
       " (986, 500.0, 499),\n",
       " (987, 500.0, 499),\n",
       " (988, 500.0, 499),\n",
       " (989, 500.0, 499),\n",
       " (990, 500.0, 499),\n",
       " (991, 84.0, 83),\n",
       " (992, 500.0, 499),\n",
       " (993, 500.0, 499),\n",
       " (994, 500.0, 499),\n",
       " (995, 500.0, 499),\n",
       " (996, 500.0, 499),\n",
       " (997, 500.0, 499),\n",
       " (998, 500.0, 499),\n",
       " (999, 500.0, 499),\n",
       " ...]"
      ]
     },
     "execution_count": 13,
     "metadata": {},
     "output_type": "execute_result"
    },
    {
     "data": {
      "image/png": "[encoded data removed]",
      "text/plain": [
       "<Figure size 1500x500 with 2 Axes>"
      ]
     },
     "metadata": {},
     "output_type": "display_data"
    }
   ],
   "source": [
    "# Initialize the environment.\n",
    "env_name = \"CartPole-v1\"\n",
    "env = gym.make(env_name)\n",
    "# env_render = gym.make(env_name, render_mode=\"human\")\n",
    "env_render = None\n",
    "action_size = env.action_space.n\n",
    "state_size = env.observation_space.shape[0]\n",
    "# print(\"Action size:\", action_size, \"State size:\", state_size)\n",
    "\n",
    "# Hyperparameters\n",
    "lr = 1e-2\n",
    "gamma = 0.99\n",
    "hidden_size = 16\n",
    "episodes = 2000\n",
    "max_length = 500\n",
    "stats_every = 200 \n",
    "\n",
    "# Initialize the policy agent\n",
    "device = torch.device(\"cuda\" if torch.cuda.is_available() else \"cpu\")\n",
    "date = datetime.now().strftime(\"%Y%m%d-%H%M%S\")\n",
    "baseline = False\n",
    "agent_name = \"REINFORCE\" + (\"_BASELINE\" if baseline else \"\")\n",
    "agent_name = agent_name + \"_\" + date\n",
    "agent = REINFORCEAgent(state_size, action_size, hidden_size, lr, gamma, baseline=baseline, device=device)\n",
    "\n",
    "# Train the agent\n",
    "train_agent(agent, agent_name, env, env_name, episodes, max_length, stats_every, env_render, device)"
   ]
  },
  {
   "cell_type": "code",
   "execution_count": 14,
   "metadata": {},
   "outputs": [
    {
     "name": "stderr",
     "output_type": "stream",
     "text": [
      "<frozen importlib._bootstrap>:241: RuntimeWarning: Your system is avx2 capable but pygame was not built with support for it. The performance of some of your blits could be adversely affected. Consider enabling compile time detection with environment variables like PYGAME_DETECT_AVX2=1 if you are compiling without cross compilation.\n"
     ]
    },
    {
     "data": {
      "text/html": [
       "wandb version 0.17.4 is available!  To upgrade, please run:\n",
       " $ pip install wandb --upgrade"
      ],
      "text/plain": [
       "<IPython.core.display.HTML object>"
      ]
     },
     "metadata": {},
     "output_type": "display_data"
    },
    {
     "data": {
      "text/html": [
       "Tracking run with wandb version 0.16.5"
      ],
      "text/plain": [
       "<IPython.core.display.HTML object>"
      ]
     },
     "metadata": {},
     "output_type": "display_data"
    },
    {
     "data": {
      "text/html": [
       "Run data is saved locally in <code>c:\\Users\\loreb\\Documents\\Projects\\DLA\\Lab3\\wandb\\run-20240712_131645-dzkmqcqf</code>"
      ],
      "text/plain": [
       "<IPython.core.display.HTML object>"
      ]
     },
     "metadata": {},
     "output_type": "display_data"
    },
    {
     "data": {
      "text/html": [
       "Syncing run <strong><a href='https://wandb.ai/lorebaia/DLA%20Assigment%203/runs/dzkmqcqf/workspace' target=\"_blank\">REINFORCE_20240712-131645</a></strong> to <a href='https://wandb.ai/lorebaia/DLA%20Assigment%203' target=\"_blank\">Weights & Biases</a> (<a href='https://wandb.me/run' target=\"_blank\">docs</a>)<br/>"
      ],
      "text/plain": [
       "<IPython.core.display.HTML object>"
      ]
     },
     "metadata": {},
     "output_type": "display_data"
    },
    {
     "data": {
      "text/html": [
       " View project at <a href='https://wandb.ai/lorebaia/DLA%20Assigment%203' target=\"_blank\">https://wandb.ai/lorebaia/DLA%20Assigment%203</a>"
      ],
      "text/plain": [
       "<IPython.core.display.HTML object>"
      ]
     },
     "metadata": {},
     "output_type": "display_data"
    },
    {
     "data": {
      "text/html": [
       " View run at <a href='https://wandb.ai/lorebaia/DLA%20Assigment%203/runs/dzkmqcqf/workspace' target=\"_blank\">https://wandb.ai/lorebaia/DLA%20Assigment%203/runs/dzkmqcqf/workspace</a>"
      ],
      "text/plain": [
       "<IPython.core.display.HTML object>"
      ]
     },
     "metadata": {},
     "output_type": "display_data"
    },
    {
     "name": "stderr",
     "output_type": "stream",
     "text": [
      "Episodes:   0%|          | 0/5000 [00:00<?, ?episode/s]"
     ]
    },
    {
     "name": "stdout",
     "output_type": "stream",
     "text": [
      "Episode 0, Time steps: 83, Total reward: -53.4, Episode length: 83.0, Actor Loss: -0.083, Value Loss: 0.000\n"
     ]
    },
    {
     "name": "stderr",
     "output_type": "stream",
     "text": [
      "Episodes:  10%|█         | 500/5000 [00:55<16:22,  4.58episode/s]"
     ]
    },
    {
     "name": "stdout",
     "output_type": "stream",
     "text": [
      "Episode 500, Time steps: 499, Total reward: -100.2, Episode length: 155.5, Actor Loss: -0.003, Value Loss: 0.000\n"
     ]
    },
    {
     "name": "stderr",
     "output_type": "stream",
     "text": [
      "Episodes:  20%|██        | 1000/5000 [03:09<13:38,  4.89episode/s]"
     ]
    },
    {
     "name": "stdout",
     "output_type": "stream",
     "text": [
      "Episode 1000, Time steps: 499, Total reward: 46.0, Episode length: 420.1, Actor Loss: 0.019, Value Loss: 0.000\n"
     ]
    },
    {
     "name": "stderr",
     "output_type": "stream",
     "text": [
      "Episodes:  30%|███       | 1500/5000 [05:41<20:28,  2.85episode/s]"
     ]
    },
    {
     "name": "stdout",
     "output_type": "stream",
     "text": [
      "Episode 1500, Time steps: 499, Total reward: 74.6, Episode length: 458.9, Actor Loss: 0.011, Value Loss: 0.000\n"
     ]
    },
    {
     "name": "stderr",
     "output_type": "stream",
     "text": [
      "Episodes:  40%|████      | 2000/5000 [08:20<16:06,  3.10episode/s]"
     ]
    },
    {
     "name": "stdout",
     "output_type": "stream",
     "text": [
      "Episode 2000, Time steps: 499, Total reward: 106.6, Episode length: 474.3, Actor Loss: 0.034, Value Loss: 0.000\n"
     ]
    },
    {
     "name": "stderr",
     "output_type": "stream",
     "text": [
      "Episodes:  50%|█████     | 2500/5000 [10:26<11:12,  3.72episode/s]"
     ]
    },
    {
     "name": "stdout",
     "output_type": "stream",
     "text": [
      "Episode 2500, Time steps: 499, Total reward: 80.8, Episode length: 391.1, Actor Loss: 0.020, Value Loss: 0.000\n"
     ]
    },
    {
     "name": "stderr",
     "output_type": "stream",
     "text": [
      "Episodes:  60%|██████    | 3000/5000 [12:33<09:33,  3.49episode/s]"
     ]
    },
    {
     "name": "stdout",
     "output_type": "stream",
     "text": [
      "Episode 3000, Time steps: 499, Total reward: 63.8, Episode length: 397.9, Actor Loss: 0.007, Value Loss: 0.000\n"
     ]
    },
    {
     "name": "stderr",
     "output_type": "stream",
     "text": [
      "Episodes:  70%|██████▉   | 3499/5000 [14:49<01:28, 17.02episode/s]"
     ]
    },
    {
     "name": "stdout",
     "output_type": "stream",
     "text": [
      "Episode 3500, Time steps: 92, Total reward: 85.3, Episode length: 424.3, Actor Loss: -0.003, Value Loss: 0.000\n"
     ]
    },
    {
     "name": "stderr",
     "output_type": "stream",
     "text": [
      "Episodes:  80%|████████  | 4000/5000 [16:39<05:18,  3.14episode/s]"
     ]
    },
    {
     "name": "stdout",
     "output_type": "stream",
     "text": [
      "Episode 4000, Time steps: 499, Total reward: 105.1, Episode length: 356.6, Actor Loss: 0.002, Value Loss: 0.000\n"
     ]
    },
    {
     "name": "stderr",
     "output_type": "stream",
     "text": [
      "Episodes:  90%|█████████ | 4500/5000 [18:53<02:36,  3.19episode/s]"
     ]
    },
    {
     "name": "stdout",
     "output_type": "stream",
     "text": [
      "Episode 4500, Time steps: 499, Total reward: 57.8, Episode length: 429.2, Actor Loss: 0.009, Value Loss: 0.000\n"
     ]
    },
    {
     "name": "stderr",
     "output_type": "stream",
     "text": [
      "Episodes: 100%|██████████| 5000/5000 [21:00<00:00,  3.97episode/s]\n"
     ]
    },
    {
     "data": {
      "application/vnd.jupyter.widget-view+json": {
       "model_id": "136de106088e4e599917db90d7633b65",
       "version_major": 2,
       "version_minor": 0
      },
      "text/plain": [
       "VBox(children=(Label(value='0.001 MB of 0.001 MB uploaded\\r'), FloatProgress(value=1.0, max=1.0)))"
      ]
     },
     "metadata": {},
     "output_type": "display_data"
    },
    {
     "data": {
      "text/html": [
       "<style>\n",
       "    table.wandb td:nth-child(1) { padding: 0 10px; text-align: left ; width: auto;} td:nth-child(2) {text-align: left ; width: 100%}\n",
       "    .wandb-row { display: flex; flex-direction: row; flex-wrap: wrap; justify-content: flex-start; width: 100% }\n",
       "    .wandb-col { display: flex; flex-direction: column; flex-basis: 100%; flex: 1; padding: 10px; }\n",
       "    </style>\n",
       "<div class=\"wandb-row\"><div class=\"wandb-col\"><h3>Run history:</h3><br/><table class=\"wandb\"><tr><td>eval/actor_loss</td><td>▁▆▇▇█▇▆▆▆▆</td></tr><tr><td>eval/episode_length</td><td>▁▂▇██▇▇▇▆▇</td></tr><tr><td>eval/time_steps</td><td>▁██████▁██</td></tr><tr><td>eval/total_reward</td><td>▃▁▆▇█▇▇▇█▆</td></tr><tr><td>eval/value_loss</td><td>▁▁▁▁▁▁▁▁▁▁</td></tr><tr><td>train/actor_loss</td><td>▄▁▃▅▆▆▇▇▅▇▇▇▇▇▇▇▇▇█▃▇█▆▇▇▇▇██▇▇▇▇▇▇▇▇▇▇▇</td></tr><tr><td>train/episode_length</td><td>▁▁▂▃█▅▃█▅███▃███▂█▅▄█▆▄████▅▄█▅█████▁███</td></tr><tr><td>train/total_reward</td><td>▄▂▄▄▄▅▆▅▃▆▆▇▅▆▆▆▅▇█▁▆█▄▆▆▆▇██▆█▆▇▆▆▅▆▆▇▆</td></tr><tr><td>train/value_loss</td><td>▁▁▁▁▁▁▁▁▁▁▁▁▁▁▁▁▁▁▁▁▁▁▁▁▁▁▁▁▁▁▁▁▁▁▁▁▁▁▁▁</td></tr></table><br/></div><div class=\"wandb-col\"><h3>Run summary:</h3><br/><table class=\"wandb\"><tr><td>eval/actor_loss</td><td>0.00864</td></tr><tr><td>eval/episode_length</td><td>429.152</td></tr><tr><td>eval/time_steps</td><td>499</td></tr><tr><td>eval/total_reward</td><td>57.81169</td></tr><tr><td>eval/value_loss</td><td>0.0</td></tr><tr><td>train/actor_loss</td><td>5.38724</td></tr><tr><td>train/episode_length</td><td>499</td></tr><tr><td>train/total_reward</td><td>64.04528</td></tr><tr><td>train/value_loss</td><td>0</td></tr></table><br/></div></div>"
      ],
      "text/plain": [
       "<IPython.core.display.HTML object>"
      ]
     },
     "metadata": {},
     "output_type": "display_data"
    },
    {
     "data": {
      "text/html": [
       " View run <strong style=\"color:#cdcd00\">REINFORCE_20240712-131645</strong> at: <a href='https://wandb.ai/lorebaia/DLA%20Assigment%203/runs/dzkmqcqf/workspace' target=\"_blank\">https://wandb.ai/lorebaia/DLA%20Assigment%203/runs/dzkmqcqf/workspace</a><br/>Synced 6 W&B file(s), 0 media file(s), 0 artifact file(s) and 0 other file(s)"
      ],
      "text/plain": [
       "<IPython.core.display.HTML object>"
      ]
     },
     "metadata": {},
     "output_type": "display_data"
    },
    {
     "data": {
      "text/html": [
       "Find logs at: <code>.\\wandb\\run-20240712_131645-dzkmqcqf\\logs</code>"
      ],
      "text/plain": [
       "<IPython.core.display.HTML object>"
      ]
     },
     "metadata": {},
     "output_type": "display_data"
    },
    {
     "data": {
      "text/plain": [
       "[(0, -53.378419670813756, 83),\n",
       " (1, -254.53384665731772, 74),\n",
       " (2, -108.07358939350661, 109),\n",
       " (3, -120.04348459770569, 108),\n",
       " (4, -110.70231121168526, 94),\n",
       " (5, -128.18371950845685, 104),\n",
       " (6, -476.873574912925, 129),\n",
       " (7, -178.91685768880092, 74),\n",
       " (8, -368.39114987137185, 96),\n",
       " (9, -281.5696230051517, 92),\n",
       " (10, -420.72880140180314, 93),\n",
       " (11, -384.00270772821045, 107),\n",
       " (12, -204.39485965574931, 67),\n",
       " (13, -165.24983912699585, 64),\n",
       " (14, -58.09102952831651, 66),\n",
       " (15, -249.8079616055467, 62),\n",
       " (16, -149.14100140151032, 83),\n",
       " (17, -493.72601812230033, 81),\n",
       " (18, -121.92879741029901, 95),\n",
       " (19, -329.492956539794, 121),\n",
       " (20, -501.8578088660685, 114),\n",
       " (21, -615.8426935229687, 104),\n",
       " (22, -453.9948531334267, 107),\n",
       " (23, -170.54741023728968, 89),\n",
       " (24, -155.28836113569952, 108),\n",
       " (25, -142.38480155185363, 83),\n",
       " (26, -280.8124793399876, 69),\n",
       " (27, -588.3046215499617, 124),\n",
       " (28, 43.01498718692659, 111),\n",
       " (29, -104.45007249218857, 70),\n",
       " (30, -85.96737075159344, 61),\n",
       " (31, -282.2182936421912, 71),\n",
       " (32, -185.2781304528089, 90),\n",
       " (33, -270.2981272272298, 75),\n",
       " (34, -116.57737699772017, 91),\n",
       " (35, -190.03998752118792, 117),\n",
       " (36, -160.03440064421375, 72),\n",
       " (37, -108.65270875273555, 63),\n",
       " (38, -111.81156647635838, 103),\n",
       " (39, -137.07753627599982, 80),\n",
       " (40, -126.67546743557821, 58),\n",
       " (41, -242.41384432050154, 101),\n",
       " (42, -82.92288793154958, 63),\n",
       " (43, -42.59293080628616, 123),\n",
       " (44, -142.06406928737135, 71),\n",
       " (45, -167.48294229821718, 103),\n",
       " (46, -220.6599192370527, 75),\n",
       " (47, -103.22128476807255, 92),\n",
       " (48, -106.1834153714956, 81),\n",
       " (49, -132.3239250205766, 90),\n",
       " (50, -149.03738167570208, 109),\n",
       " (51, -70.62383846829826, 62),\n",
       " (52, -155.74862976547718, 73),\n",
       " (53, -121.34959561888235, 78),\n",
       " (54, -276.85837645598053, 94),\n",
       " (55, -166.74892093521916, 94),\n",
       " (56, -80.6340932292001, 66),\n",
       " (57, -87.03889226621632, 58),\n",
       " (58, -109.04624513771694, 63),\n",
       " (59, -65.61110508251357, 75),\n",
       " (60, -106.95913991259151, 77),\n",
       " (61, -191.1516435099826, 124),\n",
       " (62, -217.8625359792064, 90),\n",
       " (63, -117.19394778657352, 58),\n",
       " (64, -177.0009388823276, 118),\n",
       " (65, -189.17693273115623, 83),\n",
       " (66, -213.72033299530878, 107),\n",
       " (67, 19.952747192849387, 77),\n",
       " (68, -90.79699028053022, 76),\n",
       " (69, -84.3618565856817, 73),\n",
       " (70, -136.92407807713465, 66),\n",
       " (71, -11.845460736499305, 62),\n",
       " (72, -159.3356334990413, 71),\n",
       " (73, -72.83857401415395, 64),\n",
       " (74, -317.22581793896285, 120),\n",
       " (75, -89.53308757123696, 66),\n",
       " (76, -215.5685978928399, 107),\n",
       " (77, -211.21475858244042, 91),\n",
       " (78, 15.468186797469244, 137),\n",
       " (79, -261.5421835437003, 112),\n",
       " (80, -265.106525375506, 97),\n",
       " (81, -90.1248873798763, 122),\n",
       " (82, -73.22761014624106, 59),\n",
       " (83, -110.87490382648865, 93),\n",
       " (84, -7.212181570227386, 81),\n",
       " (85, -130.8820634798983, 83),\n",
       " (86, -126.69114824751674, 83),\n",
       " (87, -159.2098074110071, 87),\n",
       " (88, -58.75102019425074, 79),\n",
       " (89, -108.83744867382512, 59),\n",
       " (90, -133.04939870135263, 86),\n",
       " (91, -28.047591021818562, 128),\n",
       " (92, -77.48615843939439, 125),\n",
       " (93, -95.1870327193577, 83),\n",
       " (94, -140.99912486056115, 87),\n",
       " (95, -164.63664210451935, 123),\n",
       " (96, -187.23657509743776, 91),\n",
       " (97, -186.94917787623774, 91),\n",
       " (98, -68.7627671846029, 67),\n",
       " (99, -190.1703096482508, 104),\n",
       " (100, -363.25269158225467, 113),\n",
       " (101, -129.12343963238723, 63),\n",
       " (102, -214.19232465125575, 129),\n",
       " (103, -58.42345754442364, 77),\n",
       " (104, -140.84033476715754, 96),\n",
       " (105, -154.12516710659457, 109),\n",
       " (106, -138.59479095711356, 67),\n",
       " (107, -192.11137083971732, 77),\n",
       " (108, -123.8563004539763, 116),\n",
       " (109, -119.15940923886288, 115),\n",
       " (110, -96.91231153967719, 66),\n",
       " (111, -284.91612816735255, 114),\n",
       " (112, -138.78730377702988, 73),\n",
       " (113, -115.28187887804957, 77),\n",
       " (114, -106.70935354705688, 90),\n",
       " (115, -161.33949860948246, 82),\n",
       " (116, -156.3233315825094, 82),\n",
       " (117, -390.2729661962105, 82),\n",
       " (118, -92.25296272834777, 63),\n",
       " (119, -109.90310486597484, 74),\n",
       " (120, -77.65069205346818, 109),\n",
       " (121, -178.07321104607365, 103),\n",
       " (122, 15.458688647954943, 91),\n",
       " (123, -138.0917597885652, 89),\n",
       " (124, -164.26431300367122, 109),\n",
       " (125, -97.22385694909836, 83),\n",
       " (126, -106.56441878828534, 65),\n",
       " (127, -253.5879817706246, 81),\n",
       " (128, -154.84981552885915, 66),\n",
       " (129, -77.00746478975596, 88),\n",
       " (130, -126.69196082871824, 75),\n",
       " (131, -109.20911536586365, 104),\n",
       " (132, -116.50145611994596, 85),\n",
       " (133, -76.8344111240014, 69),\n",
       " (134, -162.54558899226507, 93),\n",
       " (135, -145.8258852005605, 84),\n",
       " (136, -145.99819866879227, 108),\n",
       " (137, -76.80207228198196, 70),\n",
       " (138, -497.4503125161066, 119),\n",
       " (139, -122.50653275307742, 115),\n",
       " (140, -8.010396412739894, 102),\n",
       " (141, -110.91680758601058, 70),\n",
       " (142, -87.2917206794261, 156),\n",
       " (143, -130.96454341233925, 107),\n",
       " (144, -130.00546621966697, 118),\n",
       " (145, -157.87634382389186, 124),\n",
       " (146, -118.27472806281537, 72),\n",
       " (147, -139.9563644847599, 100),\n",
       " (148, -65.28778715732128, 76),\n",
       " (149, -98.65208880129386, 81),\n",
       " (150, -258.8879400190651, 111),\n",
       " (151, -114.33194441246198, 86),\n",
       " (152, -171.28932809288864, 109),\n",
       " (153, -77.0233548812121, 60),\n",
       " (154, -137.85676181383167, 104),\n",
       " (155, -103.31471851748073, 130),\n",
       " (156, -85.65096989388667, 60),\n",
       " (157, -205.60633306008907, 112),\n",
       " (158, -339.58004684271, 112),\n",
       " (159, -273.80719785685824, 103),\n",
       " (160, -111.79705882177316, 79),\n",
       " (161, -65.53202478203256, 62),\n",
       " (162, -144.70527939358055, 117),\n",
       " (163, -92.09141026442013, 84),\n",
       " (164, -120.71856863506869, 87),\n",
       " (165, -115.12162003310553, 62),\n",
       " (166, -325.3814066397234, 120),\n",
       " (167, -96.01194738331812, 80),\n",
       " (168, -225.97310630686175, 117),\n",
       " (169, -68.33147057196811, 90),\n",
       " (170, -86.85524084097648, 93),\n",
       " (171, -155.05025635149102, 133),\n",
       " (172, -127.89927723644765, 98),\n",
       " (173, -134.89288322659192, 110),\n",
       " (174, -201.50840662110284, 110),\n",
       " (175, -156.98949977631122, 95),\n",
       " (176, -96.36393853747575, 79),\n",
       " (177, -158.25957205594958, 137),\n",
       " (178, -75.63810811119879, 154),\n",
       " (179, -72.47761477748719, 102),\n",
       " (180, -247.199958279355, 123),\n",
       " (181, -104.22119953176421, 167),\n",
       " (182, -170.10267444265844, 95),\n",
       " (183, -89.20061072458162, 173),\n",
       " (184, -113.41853487499782, 103),\n",
       " (185, -281.49372895700617, 115),\n",
       " (186, -123.97760423207636, 166),\n",
       " (187, -63.429323771334936, 76),\n",
       " (188, -83.6705883933473, 96),\n",
       " (189, -214.93534625594535, 116),\n",
       " (190, -118.25129841287959, 125),\n",
       " (191, -148.44299875807462, 79),\n",
       " (192, 15.096188065338993, 159),\n",
       " (193, -197.0333026847652, 219),\n",
       " (194, -254.18788927246953, 224),\n",
       " (195, -22.681046599712445, 103),\n",
       " (196, -10.083555022129687, 152),\n",
       " (197, -214.59098847884394, 159),\n",
       " (198, -163.2130395567655, 113),\n",
       " (199, -214.7276166839982, 210),\n",
       " (200, -219.58022758727822, 147),\n",
       " (201, -20.899645207876688, 86),\n",
       " (202, -67.51003488988593, 122),\n",
       " (203, -362.83911669840404, 151),\n",
       " (204, -448.4415837250791, 202),\n",
       " (205, -316.36528425145417, 170),\n",
       " (206, -464.70742894921074, 141),\n",
       " (207, -19.820710279151086, 114),\n",
       " (208, -73.22401393582237, 125),\n",
       " (209, -60.307165009171236, 85),\n",
       " (210, -216.51491796288866, 131),\n",
       " (211, -88.19203545885904, 117),\n",
       " (212, -202.12519131960246, 187),\n",
       " (213, -32.172972552796665, 229),\n",
       " (214, -352.88633746718693, 144),\n",
       " (215, -100.78113113003423, 126),\n",
       " (216, -17.161492877253167, 175),\n",
       " (217, -361.1183993925912, 304),\n",
       " (218, -226.61440769301774, 197),\n",
       " (219, -52.423535770583214, 145),\n",
       " (220, -193.80437784176837, 100),\n",
       " (221, -334.2360469319526, 117),\n",
       " (222, -117.04902804572849, 217),\n",
       " (223, -125.68700663177539, 364),\n",
       " (224, -82.54781411284046, 276),\n",
       " (225, -183.90291974486797, 264),\n",
       " (226, -434.85670421848033, 237),\n",
       " (227, -58.912639296885835, 139),\n",
       " (228, -272.96146756055697, 131),\n",
       " (229, -98.39013645855724, 93),\n",
       " (230, -163.7742112132238, 110),\n",
       " (231, 10.149481076632526, 134),\n",
       " (232, -40.51021861658017, 113),\n",
       " (233, -260.10354986210007, 144),\n",
       " (234, -77.2291350161943, 96),\n",
       " (235, -56.54238244177952, 109),\n",
       " (236, -20.36553623283686, 196),\n",
       " (237, -4.42010256543692, 161),\n",
       " (238, -131.21505071068174, 133),\n",
       " (239, -163.4801705456684, 114),\n",
       " (240, -16.775693198033665, 136),\n",
       " (241, -46.41267064978132, 196),\n",
       " (242, -48.584614879558075, 174),\n",
       " (243, -116.97532597453866, 191),\n",
       " (244, -60.571115605821305, 103),\n",
       " (245, -60.282017076038215, 91),\n",
       " (246, -57.01941155114521, 80),\n",
       " (247, -285.1928372533007, 95),\n",
       " (248, -142.75059153848764, 160),\n",
       " (249, -58.729579473759, 111),\n",
       " (250, -231.62453656964905, 87),\n",
       " (251, -108.80330618618393, 158),\n",
       " (252, -71.96482501776654, 90),\n",
       " (253, -81.24711984232887, 105),\n",
       " (254, -93.32395842642917, 174),\n",
       " (255, -120.93734116547468, 105),\n",
       " (256, -70.43421455343424, 86),\n",
       " (257, -151.1043314996308, 136),\n",
       " (258, -71.26840645021917, 180),\n",
       " (259, -55.11702873550185, 172),\n",
       " (260, -142.56329697309332, 180),\n",
       " (261, -25.700946808735495, 213),\n",
       " (262, -58.07173690174439, 84),\n",
       " (263, -160.5380412473147, 176),\n",
       " (264, -81.7880410122798, 156),\n",
       " (265, -141.2040776613673, 164),\n",
       " (266, -96.6567665868553, 140),\n",
       " (267, -234.26179014315372, 161),\n",
       " (268, -240.54025682067595, 126),\n",
       " (269, -135.34945984351936, 113),\n",
       " (270, -133.54048365710338, 120),\n",
       " (271, -182.9226654504556, 175),\n",
       " (272, -139.26580527375773, 134),\n",
       " (273, -93.27626290212275, 196),\n",
       " (274, -69.66250710889449, 269),\n",
       " (275, -89.2615457980831, 194),\n",
       " (276, -118.98092499669015, 174),\n",
       " (277, -45.18297106015905, 225),\n",
       " (278, -36.961438644560864, 112),\n",
       " (279, -79.37813679799262, 119),\n",
       " (280, -135.16107970724752, 179),\n",
       " (281, -60.15823296638998, 101),\n",
       " (282, -148.1463909562899, 152),\n",
       " (283, -93.80543866090176, 192),\n",
       " (284, -54.179392271285565, 185),\n",
       " (285, -42.76434806714035, 200),\n",
       " (286, -50.76859292936529, 94),\n",
       " (287, 36.9277542335538, 113),\n",
       " (288, -100.62471950662302, 129),\n",
       " (289, -16.00059318252015, 113),\n",
       " (290, -102.32710994163365, 140),\n",
       " (291, -26.675599369827125, 121),\n",
       " (292, -83.90961353194389, 206),\n",
       " (293, -1.4182843234223697, 209),\n",
       " (294, -219.78503312166413, 262),\n",
       " (295, -10.374419844712037, 158),\n",
       " (296, -48.93478422064647, 212),\n",
       " (297, -88.1913061404127, 187),\n",
       " (298, -5.158369145601881, 203),\n",
       " (299, 0.5157356363211392, 160),\n",
       " (300, -358.64603010976873, 247),\n",
       " (301, 3.1419195611277644, 141),\n",
       " (302, -0.9698147429051289, 96),\n",
       " (303, -25.700464736112977, 203),\n",
       " (304, -144.89089605432795, 375),\n",
       " (305, -60.46655564151795, 157),\n",
       " (306, -45.152869812319935, 150),\n",
       " (307, 5.8412544423509445, 290),\n",
       " (308, -71.28352398963641, 180),\n",
       " (309, -350.30832093582137, 148),\n",
       " (310, -57.201902715179486, 202),\n",
       " (311, 19.23836495242135, 107),\n",
       " (312, -35.700290345058406, 213),\n",
       " (313, -279.15766870339337, 319),\n",
       " (314, -20.307560702489425, 96),\n",
       " (315, -79.42136742105531, 145),\n",
       " (316, -16.285508897784993, 174),\n",
       " (317, -74.08827661683982, 168),\n",
       " (318, -48.429043575167114, 198),\n",
       " (319, 57.381393984221496, 499),\n",
       " (320, -252.37833011230597, 419),\n",
       " (321, -16.724550322938555, 196),\n",
       " (322, -47.562385195404616, 195),\n",
       " (323, -58.127959507363855, 198),\n",
       " (324, -115.0312562463063, 200),\n",
       " (325, -365.17760819318204, 245),\n",
       " (326, -65.2418264741243, 124),\n",
       " (327, -63.09365026239407, 218),\n",
       " (328, -53.38368069357083, 120),\n",
       " (329, -128.3639285628532, 129),\n",
       " (330, -111.14963082085026, 167),\n",
       " (331, -33.085086960436556, 173),\n",
       " (332, -43.7910601976544, 100),\n",
       " (333, -62.07470866910069, 128),\n",
       " (334, -41.03602289558718, 95),\n",
       " (335, -49.83338490737337, 154),\n",
       " (336, -83.69935722163947, 166),\n",
       " (337, -60.49660224745969, 200),\n",
       " (338, -175.02871753556613, 246),\n",
       " (339, 44.10338069568522, 188),\n",
       " (340, -72.29963798816054, 130),\n",
       " (341, -11.797125061786147, 112),\n",
       " (342, -69.40950516099727, 125),\n",
       " (343, 1.7707518454238738, 149),\n",
       " (344, -273.5642436042176, 210),\n",
       " (345, 25.225910452253004, 197),\n",
       " (346, -41.61776484851647, 254),\n",
       " (347, -95.06657621218972, 156),\n",
       " (348, 6.49607687654877, 116),\n",
       " (349, -75.15492968132514, 130),\n",
       " (350, -18.191079118162847, 174),\n",
       " (351, -40.1762264381167, 100),\n",
       " (352, -49.758422565859064, 144),\n",
       " (353, -17.006351072501303, 127),\n",
       " (354, -93.17802326786341, 170),\n",
       " (355, -52.0799187313528, 152),\n",
       " (356, 0.5308419992830835, 105),\n",
       " (357, -43.78762565034171, 165),\n",
       " (358, 4.7860402209411035, 110),\n",
       " (359, -37.736662026643714, 78),\n",
       " (360, 65.25510203718932, 129),\n",
       " (361, -70.3167120604023, 140),\n",
       " (362, -45.97880589514146, 193),\n",
       " (363, 127.4051886394578, 499),\n",
       " (364, -28.360034088066485, 285),\n",
       " (365, 17.976058076921504, 305),\n",
       " (366, -9.785379450201404, 136),\n",
       " (367, -9.315343015965993, 110),\n",
       " (368, -11.402220252887545, 222),\n",
       " (369, -20.554532623169948, 188),\n",
       " (370, 15.029066270381833, 220),\n",
       " (371, 14.578273591973016, 124),\n",
       " (372, 15.224929993796493, 174),\n",
       " (373, -42.93574668142088, 149),\n",
       " (374, 6.573562571345946, 211),\n",
       " (375, -11.684880239787532, 165),\n",
       " (376, 15.030900501071358, 151),\n",
       " (377, -72.07501567728517, 203),\n",
       " (378, -262.17354931930356, 217),\n",
       " (379, -113.28841459861147, 448),\n",
       " (380, -38.2847833316936, 91),\n",
       " (381, -175.79251609598256, 177),\n",
       " (382, 91.6746272738222, 499),\n",
       " (383, -104.42051559872199, 201),\n",
       " (384, -37.996029513241055, 124),\n",
       " (385, -45.61786577166042, 227),\n",
       " (386, -56.640510089299546, 230),\n",
       " (387, -79.38536595468386, 196),\n",
       " (388, -30.91174667808015, 197),\n",
       " (389, 17.85372033841726, 142),\n",
       " (390, 62.863842431604496, 139),\n",
       " (391, 15.63358115442314, 133),\n",
       " (392, -44.50989655619168, 228),\n",
       " (393, 30.222874666628673, 499),\n",
       " (394, 116.81928500707518, 499),\n",
       " (395, 133.4710909558726, 499),\n",
       " (396, -3.9771559310526925, 239),\n",
       " (397, -167.37974972844347, 175),\n",
       " (398, -27.22876210847098, 499),\n",
       " (399, -45.184037548162806, 207),\n",
       " (400, -50.44563049603461, 177),\n",
       " (401, 77.87242784618614, 499),\n",
       " (402, 60.655520853938754, 254),\n",
       " (403, -54.437631008907374, 205),\n",
       " (404, -143.06017538013555, 256),\n",
       " (405, 3.6409918608002556, 262),\n",
       " (406, 123.40215187909182, 499),\n",
       " (407, 82.86092870748546, 499),\n",
       " (408, -0.7844425476098991, 200),\n",
       " (409, -73.66026588374794, 348),\n",
       " (410, 105.27484500676931, 499),\n",
       " (411, -266.78156045501476, 232),\n",
       " (412, -16.73284206481489, 237),\n",
       " (413, 4.527262499564671, 266),\n",
       " (414, 4.428026713307645, 167),\n",
       " (415, -10.781631679737643, 205),\n",
       " (416, -18.893015695960855, 95),\n",
       " (417, -96.89275599188709, 291),\n",
       " (418, -48.913299915929485, 207),\n",
       " (419, -161.23338267044255, 182),\n",
       " (420, -42.58667065669597, 154),\n",
       " (421, -66.11319284003775, 204),\n",
       " (422, 69.85213676382179, 147),\n",
       " (423, 0.1138087245827677, 240),\n",
       " (424, -47.59385356968952, 187),\n",
       " (425, 2.736138156068904, 108),\n",
       " (426, -26.114165763646653, 188),\n",
       " (427, -43.51794886447792, 234),\n",
       " (428, -2.0688256359474906, 182),\n",
       " (429, 0.2980533324689105, 153),\n",
       " (430, -14.399826269819926, 148),\n",
       " (431, 32.57599739159289, 145),\n",
       " (432, 10.245845161261471, 107),\n",
       " (433, -35.52895009229577, 143),\n",
       " (434, 3.075174708140949, 130),\n",
       " (435, -48.41966065591431, 232),\n",
       " (436, -60.97418087569335, 104),\n",
       " (437, -45.795642670724945, 122),\n",
       " (438, -24.072669716034582, 140),\n",
       " (439, -142.20759329657977, 358),\n",
       " (440, -31.287918393901705, 159),\n",
       " (441, 5.69032016447116, 113),\n",
       " (442, -117.77100047540377, 177),\n",
       " (443, -26.557773064540584, 182),\n",
       " (444, 28.545195783316416, 122),\n",
       " (445, 20.582444654099064, 131),\n",
       " (446, -64.73495574276235, 84),\n",
       " (447, -69.57166373090972, 173),\n",
       " (448, 8.641081840384516, 139),\n",
       " (449, -24.855844749136693, 137),\n",
       " (450, 18.237845647174595, 85),\n",
       " (451, -30.116405185450702, 163),\n",
       " (452, -53.82806543028186, 208),\n",
       " (453, 98.56220846517735, 499),\n",
       " (454, 32.4720169767713, 185),\n",
       " (455, -10.99574079634634, 138),\n",
       " (456, -11.666992735399859, 87),\n",
       " (457, -31.453955531893, 153),\n",
       " (458, 8.038919266002537, 178),\n",
       " (459, -43.004715910939005, 186),\n",
       " (460, -28.24548174479513, 133),\n",
       " (461, 16.412198646232554, 99),\n",
       " (462, -43.87189505374225, 196),\n",
       " (463, -60.42050017795093, 154),\n",
       " (464, -4.088605170992238, 139),\n",
       " (465, -40.677009728844666, 129),\n",
       " (466, -63.2531531290967, 171),\n",
       " (467, -7.455743697483825, 98),\n",
       " (468, 4.931945239002204, 148),\n",
       " (469, -51.569928952549375, 185),\n",
       " (470, 10.283640890436203, 108),\n",
       " (471, 62.61009217734784, 499),\n",
       " (472, 19.932153045064723, 145),\n",
       " (473, -17.317764273971093, 152),\n",
       " (474, -60.36447791341621, 177),\n",
       " (475, 78.968515753892, 499),\n",
       " (476, 5.749066105541232, 235),\n",
       " (477, 27.197721477142196, 161),\n",
       " (478, 13.894430546440205, 190),\n",
       " (479, -157.8829305434544, 319),\n",
       " (480, -2.882744981286052, 162),\n",
       " (481, 125.39881067579097, 499),\n",
       " (482, 0.2900100828075125, 216),\n",
       " (483, -48.68607380692261, 200),\n",
       " (484, -37.31377210708882, 185),\n",
       " (485, 67.68172946016067, 499),\n",
       " (486, 20.031216782654298, 246),\n",
       " (487, 2.7204625043750923, 238),\n",
       " (488, 60.55880857136393, 499),\n",
       " (489, -5.080140367545795, 274),\n",
       " (490, -27.618073575907857, 358),\n",
       " (491, 42.563136997511094, 499),\n",
       " (492, 13.035358206644162, 162),\n",
       " (493, -24.504905862858053, 352),\n",
       " (494, 14.677183315292865, 499),\n",
       " (495, 39.622972273430804, 194),\n",
       " (496, -43.46253176724423, 207),\n",
       " (497, 43.08087850724118, 174),\n",
       " (498, -65.84802296275329, 302),\n",
       " (499, -83.51442850509545, 499),\n",
       " (500, -28.484243360636007, 499),\n",
       " (501, 42.23358446677272, 499),\n",
       " (502, -34.190484869254576, 255),\n",
       " (503, 49.00211093996466, 499),\n",
       " (504, -17.848823820073502, 499),\n",
       " (505, 119.78782307848297, 499),\n",
       " (506, 2.902556595307999, 196),\n",
       " (507, 49.378469686973176, 499),\n",
       " (508, -54.06771809585763, 499),\n",
       " (509, -182.18520238425015, 499),\n",
       " (510, -186.3153394945001, 369),\n",
       " (511, -59.306506578375874, 499),\n",
       " (512, 3.0837343143596616, 499),\n",
       " (513, 81.30660527808303, 499),\n",
       " (514, -14.006577830045595, 499),\n",
       " (515, 100.54249602463156, 499),\n",
       " (516, 77.11025070652428, 499),\n",
       " (517, 9.63009382978234, 499),\n",
       " (518, 60.11800838937651, 499),\n",
       " (519, -144.18821245545496, 355),\n",
       " (520, 18.973302728079744, 499),\n",
       " (521, -8.68473931233244, 147),\n",
       " (522, 18.78343752621565, 197),\n",
       " (523, 95.93264728777595, 499),\n",
       " (524, -33.701508639975785, 185),\n",
       " (525, 24.47986792370905, 176),\n",
       " (526, 55.84680155412253, 499),\n",
       " (527, 40.57217314424094, 499),\n",
       " (528, 8.761876047698843, 499),\n",
       " (529, 62.71599764891516, 499),\n",
       " (530, 66.06615746852133, 499),\n",
       " (531, -11.803515438640849, 499),\n",
       " (532, 24.650477771564816, 499),\n",
       " (533, -49.411769811266254, 236),\n",
       " (534, 65.93700033849908, 499),\n",
       " (535, 93.00235485007671, 499),\n",
       " (536, -3.145467971532233, 499),\n",
       " (537, -89.58203604842387, 274),\n",
       " (538, -87.25193325985032, 499),\n",
       " (539, 29.797482688780065, 291),\n",
       " (540, 11.958394867467316, 499),\n",
       " (541, 29.484102706952513, 106),\n",
       " (542, 87.70880763288662, 499),\n",
       " (543, -35.52502972607404, 262),\n",
       " (544, 50.73664704603563, 499),\n",
       " (545, 44.51133897028551, 499),\n",
       " (546, 24.566011251516414, 499),\n",
       " (547, 14.528906545897367, 499),\n",
       " (548, 59.29972882162705, 499),\n",
       " (549, 6.391874637110049, 499),\n",
       " (550, -153.142357962905, 315),\n",
       " (551, 6.067904422773368, 499),\n",
       " (552, 14.005145967881813, 499),\n",
       " (553, 63.41042386506139, 499),\n",
       " (554, 32.97172376089544, 499),\n",
       " (555, -26.44303285281883, 289),\n",
       " (556, 46.847585165306256, 499),\n",
       " (557, 58.41883867765179, 499),\n",
       " (558, 16.614025228311963, 499),\n",
       " (559, -70.25841522125398, 499),\n",
       " (560, 61.49707159253095, 499),\n",
       " (561, 7.92458836344511, 233),\n",
       " (562, 39.978257928955195, 499),\n",
       " (563, -74.90824444999225, 285),\n",
       " (564, 113.10760281239716, 499),\n",
       " (565, 9.360229599319634, 499),\n",
       " (566, 3.983553256987455, 499),\n",
       " (567, 30.721974324664462, 499),\n",
       " (568, 38.09078230183019, 499),\n",
       " (569, -12.199621945779688, 499),\n",
       " (570, 35.50436022049571, 499),\n",
       " (571, 112.31199605215423, 499),\n",
       " (572, 27.9879807821056, 499),\n",
       " (573, 40.35785178438873, 499),\n",
       " (574, -39.312225878227075, 499),\n",
       " (575, -2.506490706914949, 499),\n",
       " (576, 83.81646730369856, 499),\n",
       " (577, 19.517971236265275, 499),\n",
       " (578, -68.46404219392336, 499),\n",
       " (579, 108.59800694163756, 499),\n",
       " (580, -105.46990772412164, 258),\n",
       " (581, -6.517282643373679, 499),\n",
       " (582, 53.89933726920224, 499),\n",
       " (583, 155.11115718103724, 499),\n",
       " (584, 39.78466050502664, 499),\n",
       " (585, 22.83591229114054, 499),\n",
       " (586, 0.9468047219794302, 499),\n",
       " (587, -0.4735216396501585, 245),\n",
       " (588, -45.64196237301809, 250),\n",
       " (589, -106.22047351930058, 379),\n",
       " (590, 86.65525848549123, 499),\n",
       " (591, 59.0437308704924, 499),\n",
       " (592, 81.4013670433586, 499),\n",
       " (593, -10.796127565401562, 263),\n",
       " (594, 51.80894286986103, 499),\n",
       " (595, 106.57019505933918, 499),\n",
       " (596, 8.450865793989237, 128),\n",
       " (597, 52.47314312786883, 499),\n",
       " (598, -23.088362861161514, 499),\n",
       " (599, 61.460982515330436, 499),\n",
       " (600, 142.14827788027839, 499),\n",
       " (601, -35.07863939995933, 499),\n",
       " (602, -4.131562640504299, 295),\n",
       " (603, -15.084294231169054, 215),\n",
       " (604, -5.079572700607017, 286),\n",
       " (605, 101.31061308352247, 499),\n",
       " (606, 80.06433563172791, 499),\n",
       " (607, 38.64278337288805, 499),\n",
       " (608, -55.04368094230401, 320),\n",
       " (609, 21.97146769251691, 92),\n",
       " (610, 78.52414731570023, 499),\n",
       " (611, 91.10644198527359, 499),\n",
       " (612, 9.049325249040223, 160),\n",
       " (613, 58.159437759456075, 499),\n",
       " (614, 86.18529911985523, 499),\n",
       " (615, 34.76126567144882, 499),\n",
       " (616, 15.947621540706493, 133),\n",
       " (617, 15.570065800930205, 499),\n",
       " (618, 72.15111473886931, 499),\n",
       " (619, 35.75346393818635, 499),\n",
       " (620, 113.76992667358901, 499),\n",
       " (621, 49.017981351995445, 499),\n",
       " (622, 8.856917832110955, 499),\n",
       " (623, 146.65975998708265, 499),\n",
       " (624, 97.73947080703395, 499),\n",
       " (625, 14.878307353892652, 194),\n",
       " (626, 3.2674985220712642, 148),\n",
       " (627, -11.476189899517522, 218),\n",
       " (628, 6.309556031242678, 329),\n",
       " (629, -0.4119325618912342, 250),\n",
       " (630, 69.18956777674315, 499),\n",
       " (631, 44.714887450174544, 499),\n",
       " (632, 17.397918345448772, 232),\n",
       " (633, 41.828313779262025, 499),\n",
       " (634, -4.859122907329365, 326),\n",
       " (635, 26.21883361268416, 499),\n",
       " (636, 54.2198934453814, 499),\n",
       " (637, 58.372627047721565, 499),\n",
       " (638, -9.74401665624437, 182),\n",
       " (639, -1.4217376657661447, 295),\n",
       " (640, -12.780365562201979, 327),\n",
       " (641, -69.86622791708425, 248),\n",
       " (642, 35.378967071646485, 158),\n",
       " (643, 85.82987759539692, 499),\n",
       " (644, 41.7035665770899, 243),\n",
       " (645, 3.2779162906239634, 173),\n",
       " (646, 13.413737739870427, 499),\n",
       " (647, 9.593627196612637, 499),\n",
       " (648, 41.218412376470695, 499),\n",
       " (649, 104.99879115108631, 499),\n",
       " (650, 21.900567906149064, 499),\n",
       " (651, 38.72987721060677, 499),\n",
       " (652, 106.45206382396574, 499),\n",
       " (653, 80.95848869471791, 499),\n",
       " (654, 67.21010482534057, 499),\n",
       " (655, 65.40340501789683, 499),\n",
       " (656, 37.146072951447955, 499),\n",
       " (657, 34.177285044131814, 499),\n",
       " (658, 28.35923239961899, 499),\n",
       " (659, 32.83824100494149, 499),\n",
       " (660, -87.23818485076036, 448),\n",
       " (661, 83.08923613193163, 499),\n",
       " (662, -69.0807060666335, 243),\n",
       " (663, 115.16479047796501, 499),\n",
       " (664, 79.76795597888484, 499),\n",
       " (665, 90.88001012738367, 499),\n",
       " (666, 27.331055084816704, 499),\n",
       " (667, 49.38339541171886, 499),\n",
       " (668, 84.86766558800817, 499),\n",
       " (669, 48.634251534446975, 166),\n",
       " (670, 57.149788096015726, 499),\n",
       " (671, 74.61261895163159, 499),\n",
       " (672, -14.991794951627014, 190),\n",
       " (673, 12.684019913854854, 499),\n",
       " (674, 89.2164561337336, 499),\n",
       " (675, 28.87128145786813, 499),\n",
       " (676, 92.48482527002733, 499),\n",
       " (677, 26.46690484453859, 123),\n",
       " (678, 19.217195178327117, 499),\n",
       " (679, 116.65840592447876, 499),\n",
       " (680, 91.84197007554226, 499),\n",
       " (681, 102.92120891802324, 499),\n",
       " (682, 61.888535207379235, 499),\n",
       " (683, -23.894188482123056, 499),\n",
       " (684, 102.0801702107976, 499),\n",
       " (685, 13.769520829402058, 499),\n",
       " (686, -1.7653132731750816, 139),\n",
       " (687, 41.93030039623554, 198),\n",
       " (688, 48.641951587484556, 219),\n",
       " (689, 6.266718025864336, 214),\n",
       " (690, 41.156252800432895, 136),\n",
       " (691, 16.24713074148989, 499),\n",
       " (692, 28.95994992049836, 154),\n",
       " (693, -22.765034208877267, 179),\n",
       " (694, -179.68517317532246, 221),\n",
       " (695, 88.83766530683054, 499),\n",
       " (696, 24.645255581326467, 127),\n",
       " (697, 77.10520977982239, 499),\n",
       " (698, 77.71610892424256, 499),\n",
       " (699, 52.34886740122646, 499),\n",
       " (700, -3.397956355274431, 217),\n",
       " (701, 93.47816331026853, 499),\n",
       " (702, 28.39461452116211, 162),\n",
       " (703, 42.643835757367775, 499),\n",
       " (704, -29.513990473958174, 186),\n",
       " (705, 33.754290896107634, 499),\n",
       " (706, -5.744107228919901, 149),\n",
       " (707, 69.06121032565174, 499),\n",
       " (708, 44.2053282503438, 166),\n",
       " (709, 75.72405192975265, 499),\n",
       " (710, 85.41099266196532, 499),\n",
       " (711, -7.427002786813603, 216),\n",
       " (712, 70.66899655152565, 149),\n",
       " (713, 53.57966410911473, 499),\n",
       " (714, -5.727998245644585, 313),\n",
       " (715, 34.76179164715406, 499),\n",
       " (716, 76.16950910894603, 499),\n",
       " (717, 52.587510147665014, 499),\n",
       " (718, 116.88726518268246, 499),\n",
       " (719, 24.315135367676767, 499),\n",
       " (720, 59.44986412303129, 499),\n",
       " (721, -28.09966790391342, 499),\n",
       " (722, 44.40759294074007, 499),\n",
       " (723, 66.6692948484388, 499),\n",
       " (724, 77.46560753731772, 499),\n",
       " (725, 22.968484069894252, 499),\n",
       " (726, 80.01515524879234, 499),\n",
       " (727, 83.92200814061371, 499),\n",
       " (728, 74.65629375285438, 499),\n",
       " (729, 80.6732004646584, 499),\n",
       " (730, 89.25920338757689, 499),\n",
       " (731, 69.01363670472325, 499),\n",
       " (732, 72.50687781216895, 499),\n",
       " (733, 16.00307356320214, 499),\n",
       " (734, -41.21349107950702, 499),\n",
       " (735, 127.59156283179827, 499),\n",
       " (736, 28.700011527727074, 499),\n",
       " (737, 84.54700233994446, 499),\n",
       " (738, 72.72525718144192, 499),\n",
       " (739, 1.4737124930439904, 228),\n",
       " (740, 88.85400783864876, 499),\n",
       " (741, 19.671340467538954, 286),\n",
       " (742, 77.51401000436856, 499),\n",
       " (743, 113.06954336776661, 499),\n",
       " (744, 29.961849424569863, 499),\n",
       " (745, 82.61495462925109, 499),\n",
       " (746, 76.57948225252352, 499),\n",
       " (747, 14.234281766260125, 112),\n",
       " (748, 5.08710735980425, 168),\n",
       " (749, 23.839691885852346, 499),\n",
       " (750, 54.593715475641304, 499),\n",
       " (751, 86.29061648963635, 499),\n",
       " (752, 20.24758300825394, 157),\n",
       " (753, 46.900632408846384, 499),\n",
       " (754, 20.045410471344344, 499),\n",
       " (755, 138.34948817009158, 499),\n",
       " (756, 84.9239555666705, 499),\n",
       " (757, 6.191653390669941, 255),\n",
       " (758, 90.34325889172808, 499),\n",
       " (759, 40.007529624040544, 499),\n",
       " (760, 54.75152138673106, 499),\n",
       " (761, 59.57795835683891, 499),\n",
       " (762, 19.368237592611123, 204),\n",
       " (763, 93.2610253604552, 499),\n",
       " (764, 41.4592468199622, 165),\n",
       " (765, 63.903147132958594, 499),\n",
       " (766, 15.510135995966479, 142),\n",
       " (767, 40.581983578155075, 179),\n",
       " (768, 48.72245445802395, 499),\n",
       " (769, 146.3936760913336, 499),\n",
       " (770, -12.134881240915831, 460),\n",
       " (771, 55.70246476332756, 499),\n",
       " (772, 52.46201870863595, 156),\n",
       " (773, -0.05451110675517157, 326),\n",
       " (774, 6.00338501080076, 499),\n",
       " (775, 35.57800752732737, 499),\n",
       " (776, 32.04046273056302, 499),\n",
       " (777, 105.56077727710594, 499),\n",
       " (778, 21.352331566712802, 499),\n",
       " (779, 104.8244495896966, 499),\n",
       " (780, 6.992802216180323, 154),\n",
       " (781, 116.13604615375951, 499),\n",
       " (782, -12.809225519838954, 499),\n",
       " (783, 36.49321556229934, 499),\n",
       " (784, 54.493470257011985, 499),\n",
       " (785, 139.64740567752744, 499),\n",
       " (786, 31.096011989803703, 499),\n",
       " (787, 70.84249792580718, 499),\n",
       " (788, 83.80356883222207, 499),\n",
       " (789, 27.656576989723405, 212),\n",
       " (790, 55.43381946509339, 499),\n",
       " (791, 106.1862331810147, 499),\n",
       " (792, 14.207841049422896, 127),\n",
       " (793, 8.127743206506608, 499),\n",
       " (794, 94.34280042548481, 499),\n",
       " (795, 6.556474401369869, 202),\n",
       " (796, 81.91498797222464, 499),\n",
       " (797, 77.2303175689653, 499),\n",
       " (798, 51.85873368075812, 499),\n",
       " (799, 10.831379114902889, 499),\n",
       " (800, 36.84735341431997, 133),\n",
       " (801, 21.72417424972113, 181),\n",
       " (802, 50.220441855045856, 499),\n",
       " (803, 89.00318276079267, 499),\n",
       " (804, 12.323422532552371, 152),\n",
       " (805, 73.00895036854008, 499),\n",
       " (806, 129.8290669691662, 499),\n",
       " (807, 126.9107967769966, 499),\n",
       " (808, 84.10591937760005, 499),\n",
       " (809, 46.235090987194724, 499),\n",
       " (810, 104.42607130760706, 499),\n",
       " (811, 55.72329999389356, 499),\n",
       " (812, 59.58189266914131, 499),\n",
       " (813, 61.31047768833358, 499),\n",
       " (814, 57.755154143561384, 136),\n",
       " (815, 10.29367705112881, 213),\n",
       " (816, 21.784405448824714, 221),\n",
       " (817, 81.61815641786211, 499),\n",
       " (818, 151.78462368147652, 499),\n",
       " (819, 123.0971752907177, 499),\n",
       " (820, 12.812345446054266, 179),\n",
       " (821, 87.54676472475951, 499),\n",
       " (822, 45.887980510871344, 499),\n",
       " (823, 6.277228346424536, 221),\n",
       " (824, 91.75810727017277, 499),\n",
       " (825, 99.37007124992385, 499),\n",
       " (826, 95.51081712318029, 499),\n",
       " (827, 117.03002414428754, 499),\n",
       " (828, 48.232652944048525, 499),\n",
       " (829, 93.03910839155219, 499),\n",
       " (830, 89.17216747331983, 499),\n",
       " (831, 113.6600500893503, 499),\n",
       " (832, 70.10608277792356, 499),\n",
       " (833, 70.17461397349416, 499),\n",
       " (834, 104.53093969752983, 499),\n",
       " (835, 32.191190203546675, 499),\n",
       " (836, 28.95396710503908, 499),\n",
       " (837, 85.56069305991474, 499),\n",
       " (838, 50.90182183235282, 499),\n",
       " (839, 91.48952761002957, 499),\n",
       " (840, 33.06786405913937, 499),\n",
       " (841, 10.495097721068662, 499),\n",
       " (842, 58.116154216305574, 132),\n",
       " (843, 71.09117712753783, 164),\n",
       " (844, 27.601261032816907, 155),\n",
       " (845, 56.20699377532479, 499),\n",
       " (846, 4.426252437014696, 264),\n",
       " (847, 51.480581952044574, 499),\n",
       " (848, 59.81410892536394, 499),\n",
       " (849, 74.06878527673476, 499),\n",
       " (850, 7.7424024899479065, 171),\n",
       " (851, 53.06433028673567, 149),\n",
       " (852, 80.89438409968703, 499),\n",
       " (853, 119.41518062284567, 499),\n",
       " (854, 46.85361452998361, 499),\n",
       " (855, 62.83224245857102, 499),\n",
       " (856, 59.26751725597647, 499),\n",
       " (857, 70.91893244864251, 499),\n",
       " (858, 44.61643710620919, 245),\n",
       " (859, 72.85759613692171, 499),\n",
       " (860, 67.01870168721213, 499),\n",
       " (861, -21.583841168124962, 165),\n",
       " (862, 80.95744645101043, 499),\n",
       " (863, 59.98921379992872, 499),\n",
       " (864, 33.72981612892545, 204),\n",
       " (865, 91.60494302607736, 499),\n",
       " (866, -26.96924715661729, 499),\n",
       " (867, 105.27087698619464, 499),\n",
       " (868, 44.09984545547036, 117),\n",
       " (869, 21.464880388065637, 499),\n",
       " (870, 93.96543304324425, 499),\n",
       " (871, 84.78076651160879, 499),\n",
       " (872, 95.24533831607856, 499),\n",
       " (873, 56.051424939694535, 499),\n",
       " (874, 72.12227190576483, 499),\n",
       " (875, 81.25667673306828, 499),\n",
       " (876, 49.11414096485094, 499),\n",
       " (877, 79.96034970844713, 499),\n",
       " (878, 75.0880159414713, 499),\n",
       " (879, 95.38096655885461, 499),\n",
       " (880, 5.023295060093526, 499),\n",
       " (881, 64.22079138973878, 499),\n",
       " (882, 75.89514042100183, 144),\n",
       " (883, 68.83104396656714, 499),\n",
       " (884, 68.56637743297763, 499),\n",
       " (885, 78.6634619442592, 499),\n",
       " (886, 23.671513544780176, 499),\n",
       " (887, 98.99094436295906, 499),\n",
       " (888, 78.78400858960173, 499),\n",
       " (889, -40.62973954999569, 499),\n",
       " (890, 46.36104186286731, 499),\n",
       " (891, 83.46088574434248, 499),\n",
       " (892, -15.164048772688789, 499),\n",
       " (893, 20.75617118518432, 499),\n",
       " (894, 77.93516815987272, 499),\n",
       " (895, 17.33491363111908, 499),\n",
       " (896, 35.41101993169313, 499),\n",
       " (897, 26.188682279086535, 176),\n",
       " (898, 69.54242909887637, 499),\n",
       " (899, 108.0966999169761, 499),\n",
       " (900, 60.89039926614725, 499),\n",
       " (901, 35.63328567226002, 499),\n",
       " (902, 91.7783003050616, 499),\n",
       " (903, -27.840432865362146, 344),\n",
       " (904, 58.55231197956408, 133),\n",
       " (905, 94.11713392346175, 499),\n",
       " (906, 97.90095479635384, 499),\n",
       " (907, 116.48792153711916, 499),\n",
       " (908, 53.05198833578257, 499),\n",
       " (909, 94.33346739017723, 499),\n",
       " (910, 43.19346377893668, 499),\n",
       " (911, 51.31430338895643, 242),\n",
       " (912, 56.84708103368475, 499),\n",
       " (913, 47.63794655669815, 499),\n",
       " (914, 100.72536912031995, 499),\n",
       " (915, 21.859549390184164, 499),\n",
       " (916, 61.9163283947834, 499),\n",
       " (917, 97.68477861648387, 499),\n",
       " (918, 44.33284709075759, 499),\n",
       " (919, 56.90318740794936, 499),\n",
       " (920, 56.90325812974807, 499),\n",
       " (921, 92.98772899133988, 499),\n",
       " (922, 90.0020927368499, 499),\n",
       " (923, 69.43317672069084, 499),\n",
       " (924, 80.98197797727491, 499),\n",
       " (925, 108.47522398804048, 499),\n",
       " (926, 114.6334614809131, 499),\n",
       " (927, 56.19766105201883, 499),\n",
       " (928, 89.87908915244196, 499),\n",
       " (929, -5.434083394769715, 165),\n",
       " (930, 120.17368913843772, 499),\n",
       " (931, 26.100211543812364, 96),\n",
       " (932, 18.35086938618572, 203),\n",
       " (933, 95.34210543049153, 499),\n",
       " (934, 55.415773089483174, 499),\n",
       " (935, 100.41885131346538, 499),\n",
       " (936, 58.68598265446542, 499),\n",
       " (937, 112.32794840972646, 499),\n",
       " (938, 101.3825278086012, 499),\n",
       " (939, 119.67965841359506, 499),\n",
       " (940, 105.98026003162227, 499),\n",
       " (941, 117.25796781731364, 499),\n",
       " (942, 19.363787289664362, 499),\n",
       " (943, 63.360254862943066, 499),\n",
       " (944, 61.73081015506369, 499),\n",
       " (945, 52.09722311677567, 499),\n",
       " (946, 46.69533321074128, 499),\n",
       " (947, 106.71199397449898, 499),\n",
       " (948, 103.85892500876024, 499),\n",
       " (949, 14.934239534229206, 175),\n",
       " (950, 31.24498470010426, 499),\n",
       " (951, 43.43500828687911, 106),\n",
       " (952, 101.97750529808518, 499),\n",
       " (953, 33.863642390547945, 499),\n",
       " (954, -3.52233794110046, 134),\n",
       " (955, 8.045155774722375, 154),\n",
       " (956, 88.73000706078987, 499),\n",
       " (957, 65.38801446452547, 499),\n",
       " (958, -25.07145401080406, 142),\n",
       " (959, 47.28179820097637, 179),\n",
       " (960, 98.4116494057771, 499),\n",
       " (961, 3.290964832889232, 499),\n",
       " (962, 94.83572229286247, 499),\n",
       " (963, 74.28925082731432, 499),\n",
       " (964, 64.4439758015811, 121),\n",
       " (965, 71.95078780183447, 499),\n",
       " (966, 38.68911356718945, 89),\n",
       " (967, 0.9698437843660628, 124),\n",
       " (968, 93.2150937125863, 499),\n",
       " (969, 73.26670376990937, 499),\n",
       " (970, 98.6848989867764, 499),\n",
       " (971, 27.69890599025743, 100),\n",
       " (972, 51.644652199484796, 128),\n",
       " (973, 90.80831587896772, 499),\n",
       " (974, 121.80273422786982, 499),\n",
       " (975, 69.49094158133244, 499),\n",
       " (976, 66.55905916132444, 499),\n",
       " (977, 31.868391688999566, 103),\n",
       " (978, 31.487818521043124, 95),\n",
       " (979, 92.6515499083869, 499),\n",
       " (980, 67.85236659713155, 134),\n",
       " (981, 64.07733213040673, 499),\n",
       " (982, 50.303712779348075, 128),\n",
       " (983, 120.1031414322019, 499),\n",
       " (984, 0.09801240457140636, 138),\n",
       " (985, 17.14187526111354, 143),\n",
       " (986, 43.22919744494891, 151),\n",
       " (987, 71.62818696381395, 499),\n",
       " (988, 122.6307174888664, 499),\n",
       " (989, 87.11938294763486, 499),\n",
       " (990, -0.5592860811757945, 499),\n",
       " (991, 108.22525085079023, 499),\n",
       " (992, 30.042073157863342, 105),\n",
       " (993, -1.2594840414826223, 134),\n",
       " (994, 74.92838324772339, 499),\n",
       " (995, 89.49882971487816, 499),\n",
       " (996, 78.77167383198436, 499),\n",
       " (997, 19.664863193888536, 126),\n",
       " (998, 57.38332471455311, 134),\n",
       " (999, 45.667496288354045, 499),\n",
       " ...]"
      ]
     },
     "execution_count": 14,
     "metadata": {},
     "output_type": "execute_result"
    },
    {
     "data": {
      "image/png": "[encoded data removed]",
      "text/plain": [
       "<Figure size 1500x500 with 2 Axes>"
      ]
     },
     "metadata": {},
     "output_type": "display_data"
    }
   ],
   "source": [
    "# Initialize the environment.\n",
    "env_name = \"LunarLander-v2\"\n",
    "env = gym.make(env_name)\n",
    "# env_render = gym.make(env_name, render_mode=\"human\")\n",
    "env_render = None\n",
    "action_size = env.action_space.n\n",
    "state_size = env.observation_space.shape[0]\n",
    "# print(\"Action size:\", action_size, \"State size:\", state_size)\n",
    "\n",
    "# Hyperparameters\n",
    "lr = 1e-2\n",
    "gamma = 0.99\n",
    "hidden_size = 16\n",
    "episodes = 5000\n",
    "max_length = 500\n",
    "stats_every = 500 \n",
    "\n",
    "# Initialize the policy agent\n",
    "device = torch.device(\"cuda\" if torch.cuda.is_available() else \"cpu\")\n",
    "dt = datetime.now().strftime(\"%Y%m%d-%H%M%S\")\n",
    "agent_name = \"REINFORCE\"\n",
    "agent_name = agent_name + \"_\" + dt\n",
    "agent = REINFORCEAgent(state_size, action_size, hidden_size, lr, gamma, baseline=False, device=device)\n",
    "\n",
    "# Train the agent\n",
    "train_agent(agent, agent_name, env, env_name, episodes, max_length, stats_every, env_render, device)"
   ]
  },
  {
   "cell_type": "markdown",
   "metadata": {},
   "source": [
    "## With Deep Neural Network Baseline"
   ]
  },
  {
   "cell_type": "markdown",
   "metadata": {},
   "source": [
    "### Cartpole Environment"
   ]
  },
  {
   "cell_type": "code",
   "execution_count": null,
   "metadata": {},
   "outputs": [],
   "source": [
    "# Initialize the environment.\n",
    "env_name = \"CartPole-v1\"\n",
    "env = gym.make(env_name)\n",
    "# env_render = gym.make(env_name, render_mode=\"human\")\n",
    "env_render = None\n",
    "action_size = env.action_space.n\n",
    "state_size = env.observation_space.shape[0]\n",
    "print(\"Action size:\", action_size, \"State size:\", state_size)\n",
    "\n",
    "# Hyperparameters\n",
    "lr = 1e-2\n",
    "gamma = 0.99\n",
    "hidden_size = 16\n",
    "episodes = 5000\n",
    "max_length = 500\n",
    "stats_every = 500 \n",
    "\n",
    "# Initialize the policy agent\n",
    "device = torch.device(\"cuda\" if torch.cuda.is_available() else \"cpu\")\n",
    "date = datetime.now().strftime(\"%Y%m%d-%H%M%S\")\n",
    "baseline = True\n",
    "agent_name = \"REINFORCE\" + (\"_BASELINE\" if baseline else \"\")\n",
    "agent_name = agent_name + \"_\" + date\n",
    "agent = REINFORCEAgent(state_size, action_size, hidden_size, lr, gamma, baseline=baseline, device=device)\n",
    "\n",
    "# Train the agent\n",
    "train_agent(agent, agent_name, env, env_name, episodes, max_length, stats_every, env_render, device)"
   ]
  },
  {
   "cell_type": "markdown",
   "metadata": {},
   "source": [
    "### Lunar Lander Environment"
   ]
  },
  {
   "cell_type": "code",
   "execution_count": 15,
   "metadata": {},
   "outputs": [
    {
     "name": "stdout",
     "output_type": "stream",
     "text": [
      "Action size: 4 State size: 8\n"
     ]
    },
    {
     "data": {
      "text/html": [
       "wandb version 0.17.4 is available!  To upgrade, please run:\n",
       " $ pip install wandb --upgrade"
      ],
      "text/plain": [
       "<IPython.core.display.HTML object>"
      ]
     },
     "metadata": {},
     "output_type": "display_data"
    },
    {
     "data": {
      "text/html": [
       "Tracking run with wandb version 0.16.5"
      ],
      "text/plain": [
       "<IPython.core.display.HTML object>"
      ]
     },
     "metadata": {},
     "output_type": "display_data"
    },
    {
     "data": {
      "text/html": [
       "Run data is saved locally in <code>c:\\Users\\loreb\\Documents\\Projects\\DLA\\Lab3\\wandb\\run-20240712_144344-rka87am6</code>"
      ],
      "text/plain": [
       "<IPython.core.display.HTML object>"
      ]
     },
     "metadata": {},
     "output_type": "display_data"
    },
    {
     "data": {
      "text/html": [
       "Syncing run <strong><a href='https://wandb.ai/lorebaia/DLA%20Assigment%203/runs/rka87am6/workspace' target=\"_blank\">REINFORCE_BASELINE_20240712-144344</a></strong> to <a href='https://wandb.ai/lorebaia/DLA%20Assigment%203' target=\"_blank\">Weights & Biases</a> (<a href='https://wandb.me/run' target=\"_blank\">docs</a>)<br/>"
      ],
      "text/plain": [
       "<IPython.core.display.HTML object>"
      ]
     },
     "metadata": {},
     "output_type": "display_data"
    },
    {
     "data": {
      "text/html": [
       " View project at <a href='https://wandb.ai/lorebaia/DLA%20Assigment%203' target=\"_blank\">https://wandb.ai/lorebaia/DLA%20Assigment%203</a>"
      ],
      "text/plain": [
       "<IPython.core.display.HTML object>"
      ]
     },
     "metadata": {},
     "output_type": "display_data"
    },
    {
     "data": {
      "text/html": [
       " View run at <a href='https://wandb.ai/lorebaia/DLA%20Assigment%203/runs/rka87am6/workspace' target=\"_blank\">https://wandb.ai/lorebaia/DLA%20Assigment%203/runs/rka87am6/workspace</a>"
      ],
      "text/plain": [
       "<IPython.core.display.HTML object>"
      ]
     },
     "metadata": {},
     "output_type": "display_data"
    },
    {
     "name": "stderr",
     "output_type": "stream",
     "text": [
      "Episodes:   0%|          | 0/5000 [00:00<?, ?episode/s]"
     ]
    },
    {
     "name": "stdout",
     "output_type": "stream",
     "text": [
      "Episode 0, Time steps: 97, Total reward: -249.8, Episode length: 97.0, Actor Loss: -1.855, Value Loss: 183.640\n"
     ]
    },
    {
     "name": "stderr",
     "output_type": "stream",
     "text": [
      "Episodes:   2%|▏         | 100/5000 [00:06<05:31, 14.80episode/s]"
     ]
    },
    {
     "name": "stdout",
     "output_type": "stream",
     "text": [
      "Episode 100, Time steps: 72, Total reward: -176.5, Episode length: 95.4, Actor Loss: -0.374, Value Loss: 9.301\n"
     ]
    },
    {
     "name": "stderr",
     "output_type": "stream",
     "text": [
      "Episodes:   4%|▍         | 200/5000 [00:13<05:23, 14.85episode/s]"
     ]
    },
    {
     "name": "stdout",
     "output_type": "stream",
     "text": [
      "Episode 200, Time steps: 119, Total reward: -122.2, Episode length: 94.0, Actor Loss: -0.498, Value Loss: 15.496\n"
     ]
    },
    {
     "name": "stderr",
     "output_type": "stream",
     "text": [
      "Episodes:   6%|▌         | 300/5000 [00:22<05:24, 14.46episode/s]"
     ]
    },
    {
     "name": "stdout",
     "output_type": "stream",
     "text": [
      "Episode 300, Time steps: 139, Total reward: -141.7, Episode length: 101.3, Actor Loss: 0.248, Value Loss: 5.242\n"
     ]
    },
    {
     "name": "stderr",
     "output_type": "stream",
     "text": [
      "Episodes:   8%|▊         | 400/5000 [00:31<07:06, 10.77episode/s]"
     ]
    },
    {
     "name": "stdout",
     "output_type": "stream",
     "text": [
      "Episode 400, Time steps: 172, Total reward: -87.5, Episode length: 111.1, Actor Loss: -0.150, Value Loss: 8.612\n"
     ]
    },
    {
     "name": "stderr",
     "output_type": "stream",
     "text": [
      "Episodes:  10%|█         | 500/5000 [00:40<10:12,  7.35episode/s]"
     ]
    },
    {
     "name": "stdout",
     "output_type": "stream",
     "text": [
      "Episode 500, Time steps: 209, Total reward: -55.0, Episode length: 128.1, Actor Loss: 0.131, Value Loss: 2.423\n"
     ]
    },
    {
     "name": "stderr",
     "output_type": "stream",
     "text": [
      "Episodes:  12%|█▏        | 600/5000 [01:04<17:36,  4.17episode/s]"
     ]
    },
    {
     "name": "stdout",
     "output_type": "stream",
     "text": [
      "Episode 600, Time steps: 499, Total reward: -14.2, Episode length: 338.0, Actor Loss: 0.359, Value Loss: 19.620\n"
     ]
    },
    {
     "name": "stderr",
     "output_type": "stream",
     "text": [
      "Episodes:  14%|█▍        | 700/5000 [01:32<15:22,  4.66episode/s]"
     ]
    },
    {
     "name": "stdout",
     "output_type": "stream",
     "text": [
      "Episode 700, Time steps: 499, Total reward: 22.6, Episode length: 403.3, Actor Loss: 0.162, Value Loss: 11.052\n"
     ]
    },
    {
     "name": "stderr",
     "output_type": "stream",
     "text": [
      "Episodes:  16%|█▌        | 800/5000 [02:04<23:53,  2.93episode/s]"
     ]
    },
    {
     "name": "stdout",
     "output_type": "stream",
     "text": [
      "Episode 800, Time steps: 306, Total reward: 45.6, Episode length: 468.6, Actor Loss: -0.592, Value Loss: 92.457\n"
     ]
    },
    {
     "name": "stderr",
     "output_type": "stream",
     "text": [
      "Episodes:  18%|█▊        | 900/5000 [02:36<22:02,  3.10episode/s]"
     ]
    },
    {
     "name": "stdout",
     "output_type": "stream",
     "text": [
      "Episode 900, Time steps: 499, Total reward: 49.8, Episode length: 474.1, Actor Loss: 0.179, Value Loss: 17.874\n"
     ]
    },
    {
     "name": "stderr",
     "output_type": "stream",
     "text": [
      "Episodes:  20%|██        | 1000/5000 [03:05<16:36,  4.01episode/s]"
     ]
    },
    {
     "name": "stdout",
     "output_type": "stream",
     "text": [
      "Episode 1000, Time steps: 499, Total reward: 61.3, Episode length: 441.2, Actor Loss: -0.037, Value Loss: 9.389\n"
     ]
    },
    {
     "name": "stderr",
     "output_type": "stream",
     "text": [
      "Episodes:  22%|██▏       | 1100/5000 [03:35<20:21,  3.19episode/s]"
     ]
    },
    {
     "name": "stdout",
     "output_type": "stream",
     "text": [
      "Episode 1100, Time steps: 499, Total reward: 46.9, Episode length: 484.5, Actor Loss: 0.142, Value Loss: 9.146\n"
     ]
    },
    {
     "name": "stderr",
     "output_type": "stream",
     "text": [
      "Episodes:  24%|██▍       | 1200/5000 [04:08<23:30,  2.69episode/s]"
     ]
    },
    {
     "name": "stdout",
     "output_type": "stream",
     "text": [
      "Episode 1200, Time steps: 499, Total reward: 77.2, Episode length: 499.0, Actor Loss: 0.066, Value Loss: 6.795\n"
     ]
    },
    {
     "name": "stderr",
     "output_type": "stream",
     "text": [
      "Episodes:  26%|██▌       | 1300/5000 [04:39<20:59,  2.94episode/s]"
     ]
    },
    {
     "name": "stdout",
     "output_type": "stream",
     "text": [
      "Episode 1300, Time steps: 499, Total reward: 68.0, Episode length: 479.3, Actor Loss: 0.085, Value Loss: 10.510\n"
     ]
    },
    {
     "name": "stderr",
     "output_type": "stream",
     "text": [
      "Episodes:  28%|██▊       | 1400/5000 [05:08<17:46,  3.37episode/s]"
     ]
    },
    {
     "name": "stdout",
     "output_type": "stream",
     "text": [
      "Episode 1400, Time steps: 499, Total reward: 58.6, Episode length: 433.8, Actor Loss: 0.089, Value Loss: 11.476\n"
     ]
    },
    {
     "name": "stderr",
     "output_type": "stream",
     "text": [
      "Episodes:  30%|███       | 1500/5000 [05:39<18:54,  3.09episode/s]"
     ]
    },
    {
     "name": "stdout",
     "output_type": "stream",
     "text": [
      "Episode 1500, Time steps: 499, Total reward: 79.2, Episode length: 491.4, Actor Loss: 0.022, Value Loss: 3.282\n"
     ]
    },
    {
     "name": "stderr",
     "output_type": "stream",
     "text": [
      "Episodes:  32%|███▏      | 1600/5000 [06:10<19:10,  2.96episode/s]"
     ]
    },
    {
     "name": "stdout",
     "output_type": "stream",
     "text": [
      "Episode 1600, Time steps: 499, Total reward: 76.5, Episode length: 489.1, Actor Loss: -0.094, Value Loss: 6.084\n"
     ]
    },
    {
     "name": "stderr",
     "output_type": "stream",
     "text": [
      "Episodes:  34%|███▍      | 1700/5000 [06:44<19:13,  2.86episode/s]"
     ]
    },
    {
     "name": "stdout",
     "output_type": "stream",
     "text": [
      "Episode 1700, Time steps: 499, Total reward: 86.1, Episode length: 499.0, Actor Loss: -0.018, Value Loss: 3.395\n"
     ]
    },
    {
     "name": "stderr",
     "output_type": "stream",
     "text": [
      "Episodes:  36%|███▌      | 1800/5000 [07:16<18:32,  2.88episode/s]"
     ]
    },
    {
     "name": "stdout",
     "output_type": "stream",
     "text": [
      "Episode 1800, Time steps: 103, Total reward: 102.5, Episode length: 491.9, Actor Loss: -0.509, Value Loss: 40.953\n"
     ]
    },
    {
     "name": "stderr",
     "output_type": "stream",
     "text": [
      "Episodes:  38%|███▊      | 1900/5000 [07:50<13:46,  3.75episode/s]"
     ]
    },
    {
     "name": "stdout",
     "output_type": "stream",
     "text": [
      "Episode 1900, Time steps: 147, Total reward: 111.3, Episode length: 465.9, Actor Loss: -0.441, Value Loss: 47.104\n"
     ]
    },
    {
     "name": "stderr",
     "output_type": "stream",
     "text": [
      "Episodes:  40%|████      | 2000/5000 [08:21<16:19,  3.06episode/s]"
     ]
    },
    {
     "name": "stdout",
     "output_type": "stream",
     "text": [
      "Episode 2000, Time steps: 499, Total reward: 116.7, Episode length: 464.6, Actor Loss: 0.050, Value Loss: 1.383\n"
     ]
    },
    {
     "name": "stderr",
     "output_type": "stream",
     "text": [
      "Episodes:  42%|████▏     | 2100/5000 [08:55<17:49,  2.71episode/s]"
     ]
    },
    {
     "name": "stdout",
     "output_type": "stream",
     "text": [
      "Episode 2100, Time steps: 499, Total reward: 142.8, Episode length: 483.5, Actor Loss: 0.037, Value Loss: 0.816\n"
     ]
    },
    {
     "name": "stderr",
     "output_type": "stream",
     "text": [
      "Episodes:  44%|████▍     | 2200/5000 [09:29<14:49,  3.15episode/s]"
     ]
    },
    {
     "name": "stdout",
     "output_type": "stream",
     "text": [
      "Episode 2200, Time steps: 499, Total reward: 148.4, Episode length: 489.0, Actor Loss: 0.020, Value Loss: 0.716\n"
     ]
    },
    {
     "name": "stderr",
     "output_type": "stream",
     "text": [
      "Episodes:  46%|████▌     | 2300/5000 [10:00<14:33,  3.09episode/s]"
     ]
    },
    {
     "name": "stdout",
     "output_type": "stream",
     "text": [
      "Episode 2300, Time steps: 499, Total reward: 150.4, Episode length: 486.2, Actor Loss: -0.037, Value Loss: 1.073\n"
     ]
    },
    {
     "name": "stderr",
     "output_type": "stream",
     "text": [
      "Episodes:  48%|████▊     | 2400/5000 [10:30<15:26,  2.81episode/s]"
     ]
    },
    {
     "name": "stdout",
     "output_type": "stream",
     "text": [
      "Episode 2400, Time steps: 499, Total reward: 128.5, Episode length: 456.9, Actor Loss: 0.066, Value Loss: 3.571\n"
     ]
    },
    {
     "name": "stderr",
     "output_type": "stream",
     "text": [
      "Episodes:  50%|█████     | 2500/5000 [11:00<12:02,  3.46episode/s]"
     ]
    },
    {
     "name": "stdout",
     "output_type": "stream",
     "text": [
      "Episode 2500, Time steps: 412, Total reward: 110.4, Episode length: 422.4, Actor Loss: 0.223, Value Loss: 21.839\n"
     ]
    },
    {
     "name": "stderr",
     "output_type": "stream",
     "text": [
      "Episodes:  52%|█████▏    | 2600/5000 [11:31<13:33,  2.95episode/s]"
     ]
    },
    {
     "name": "stdout",
     "output_type": "stream",
     "text": [
      "Episode 2600, Time steps: 499, Total reward: 130.1, Episode length: 432.3, Actor Loss: -0.043, Value Loss: 0.839\n"
     ]
    },
    {
     "name": "stderr",
     "output_type": "stream",
     "text": [
      "Episodes:  54%|█████▍    | 2700/5000 [12:01<12:15,  3.13episode/s]"
     ]
    },
    {
     "name": "stdout",
     "output_type": "stream",
     "text": [
      "Episode 2700, Time steps: 388, Total reward: 131.5, Episode length: 464.4, Actor Loss: 0.095, Value Loss: 12.846\n"
     ]
    },
    {
     "name": "stderr",
     "output_type": "stream",
     "text": [
      "Episodes:  56%|█████▌    | 2800/5000 [12:35<12:18,  2.98episode/s]"
     ]
    },
    {
     "name": "stdout",
     "output_type": "stream",
     "text": [
      "Episode 2800, Time steps: 499, Total reward: 153.9, Episode length: 483.6, Actor Loss: 0.039, Value Loss: 2.014\n"
     ]
    },
    {
     "name": "stderr",
     "output_type": "stream",
     "text": [
      "Episodes:  58%|█████▊    | 2900/5000 [13:06<10:16,  3.41episode/s]"
     ]
    },
    {
     "name": "stdout",
     "output_type": "stream",
     "text": [
      "Episode 2900, Time steps: 499, Total reward: 158.8, Episode length: 465.9, Actor Loss: 0.023, Value Loss: 1.565\n"
     ]
    },
    {
     "name": "stderr",
     "output_type": "stream",
     "text": [
      "Episodes:  60%|██████    | 3000/5000 [13:36<07:07,  4.68episode/s]"
     ]
    },
    {
     "name": "stdout",
     "output_type": "stream",
     "text": [
      "Episode 3000, Time steps: 499, Total reward: 149.3, Episode length: 439.8, Actor Loss: -0.015, Value Loss: 0.978\n"
     ]
    },
    {
     "name": "stderr",
     "output_type": "stream",
     "text": [
      "Episodes:  62%|██████▏   | 3100/5000 [14:07<11:14,  2.82episode/s]"
     ]
    },
    {
     "name": "stdout",
     "output_type": "stream",
     "text": [
      "Episode 3100, Time steps: 317, Total reward: 146.1, Episode length: 444.9, Actor Loss: -0.271, Value Loss: 19.287\n"
     ]
    },
    {
     "name": "stderr",
     "output_type": "stream",
     "text": [
      "Episodes:  64%|██████▍   | 3200/5000 [14:39<08:57,  3.35episode/s]"
     ]
    },
    {
     "name": "stdout",
     "output_type": "stream",
     "text": [
      "Episode 3200, Time steps: 434, Total reward: 131.5, Episode length: 445.9, Actor Loss: 0.106, Value Loss: 12.729\n"
     ]
    },
    {
     "name": "stderr",
     "output_type": "stream",
     "text": [
      "Episodes:  66%|██████▌   | 3300/5000 [15:11<10:30,  2.70episode/s]"
     ]
    },
    {
     "name": "stdout",
     "output_type": "stream",
     "text": [
      "Episode 3300, Time steps: 499, Total reward: 119.5, Episode length: 448.6, Actor Loss: 0.004, Value Loss: 0.362\n"
     ]
    },
    {
     "name": "stderr",
     "output_type": "stream",
     "text": [
      "Episodes:  68%|██████▊   | 3400/5000 [15:46<09:12,  2.90episode/s]"
     ]
    },
    {
     "name": "stdout",
     "output_type": "stream",
     "text": [
      "Episode 3400, Time steps: 499, Total reward: 152.9, Episode length: 495.8, Actor Loss: 0.048, Value Loss: 1.718\n"
     ]
    },
    {
     "name": "stderr",
     "output_type": "stream",
     "text": [
      "Episodes:  70%|███████   | 3500/5000 [16:17<08:28,  2.95episode/s]"
     ]
    },
    {
     "name": "stdout",
     "output_type": "stream",
     "text": [
      "Episode 3500, Time steps: 499, Total reward: 166.0, Episode length: 487.4, Actor Loss: 0.008, Value Loss: 0.596\n"
     ]
    },
    {
     "name": "stderr",
     "output_type": "stream",
     "text": [
      "Episodes:  72%|███████▏  | 3600/5000 [16:51<08:30,  2.74episode/s]"
     ]
    },
    {
     "name": "stdout",
     "output_type": "stream",
     "text": [
      "Episode 3600, Time steps: 499, Total reward: 167.6, Episode length: 494.2, Actor Loss: 0.001, Value Loss: 0.381\n"
     ]
    },
    {
     "name": "stderr",
     "output_type": "stream",
     "text": [
      "Episodes:  74%|███████▍  | 3700/5000 [17:27<08:26,  2.57episode/s]"
     ]
    },
    {
     "name": "stdout",
     "output_type": "stream",
     "text": [
      "Episode 3700, Time steps: 499, Total reward: 162.9, Episode length: 494.2, Actor Loss: 0.002, Value Loss: 0.517\n"
     ]
    },
    {
     "name": "stderr",
     "output_type": "stream",
     "text": [
      "Episodes:  76%|███████▌  | 3800/5000 [18:01<07:15,  2.76episode/s]"
     ]
    },
    {
     "name": "stdout",
     "output_type": "stream",
     "text": [
      "Episode 3800, Time steps: 499, Total reward: 167.1, Episode length: 463.3, Actor Loss: 0.034, Value Loss: 1.825\n"
     ]
    },
    {
     "name": "stderr",
     "output_type": "stream",
     "text": [
      "Episodes:  78%|███████▊  | 3900/5000 [18:33<05:34,  3.29episode/s]"
     ]
    },
    {
     "name": "stdout",
     "output_type": "stream",
     "text": [
      "Episode 3900, Time steps: 499, Total reward: 150.5, Episode length: 483.8, Actor Loss: 0.008, Value Loss: 0.743\n"
     ]
    },
    {
     "name": "stderr",
     "output_type": "stream",
     "text": [
      "Episodes:  80%|████████  | 4000/5000 [19:05<05:54,  2.82episode/s]"
     ]
    },
    {
     "name": "stdout",
     "output_type": "stream",
     "text": [
      "Episode 4000, Time steps: 499, Total reward: 125.7, Episode length: 459.8, Actor Loss: -0.233, Value Loss: 7.468\n"
     ]
    },
    {
     "name": "stderr",
     "output_type": "stream",
     "text": [
      "Episodes:  82%|████████▏ | 4100/5000 [19:37<04:36,  3.25episode/s]"
     ]
    },
    {
     "name": "stdout",
     "output_type": "stream",
     "text": [
      "Episode 4100, Time steps: 216, Total reward: 69.3, Episode length: 496.2, Actor Loss: -0.181, Value Loss: 16.423\n"
     ]
    },
    {
     "name": "stderr",
     "output_type": "stream",
     "text": [
      "Episodes:  84%|████████▍ | 4200/5000 [20:08<04:10,  3.19episode/s]"
     ]
    },
    {
     "name": "stdout",
     "output_type": "stream",
     "text": [
      "Episode 4200, Time steps: 499, Total reward: 132.0, Episode length: 475.8, Actor Loss: 0.052, Value Loss: 1.712\n"
     ]
    },
    {
     "name": "stderr",
     "output_type": "stream",
     "text": [
      "Episodes:  86%|████████▌ | 4300/5000 [20:39<02:40,  4.36episode/s]"
     ]
    },
    {
     "name": "stdout",
     "output_type": "stream",
     "text": [
      "Episode 4300, Time steps: 499, Total reward: 153.7, Episode length: 479.9, Actor Loss: -0.008, Value Loss: 0.422\n"
     ]
    },
    {
     "name": "stderr",
     "output_type": "stream",
     "text": [
      "Episodes:  88%|████████▊ | 4400/5000 [21:06<03:11,  3.13episode/s]"
     ]
    },
    {
     "name": "stdout",
     "output_type": "stream",
     "text": [
      "Episode 4400, Time steps: 233, Total reward: 143.4, Episode length: 397.5, Actor Loss: 0.172, Value Loss: 26.168\n"
     ]
    },
    {
     "name": "stderr",
     "output_type": "stream",
     "text": [
      "Episodes:  90%|████████▉ | 4499/5000 [21:18<00:42, 11.86episode/s]"
     ]
    },
    {
     "name": "stdout",
     "output_type": "stream",
     "text": [
      "Episode 4500, Time steps: 88, Total reward: 49.0, Episode length: 177.1, Actor Loss: 0.088, Value Loss: 18.949\n"
     ]
    },
    {
     "name": "stderr",
     "output_type": "stream",
     "text": [
      "Episodes:  92%|█████████▏| 4600/5000 [21:31<00:34, 11.66episode/s]"
     ]
    },
    {
     "name": "stdout",
     "output_type": "stream",
     "text": [
      "Episode 4600, Time steps: 499, Total reward: 44.6, Episode length: 200.9, Actor Loss: 0.106, Value Loss: 9.094\n"
     ]
    },
    {
     "name": "stderr",
     "output_type": "stream",
     "text": [
      "Episodes:  94%|█████████▍| 4700/5000 [22:05<01:46,  2.81episode/s]"
     ]
    },
    {
     "name": "stdout",
     "output_type": "stream",
     "text": [
      "Episode 4700, Time steps: 499, Total reward: 90.6, Episode length: 458.6, Actor Loss: 0.044, Value Loss: 3.560\n"
     ]
    },
    {
     "name": "stderr",
     "output_type": "stream",
     "text": [
      "Episodes:  96%|█████████▌| 4800/5000 [22:37<01:09,  2.87episode/s]"
     ]
    },
    {
     "name": "stdout",
     "output_type": "stream",
     "text": [
      "Episode 4800, Time steps: 499, Total reward: 91.4, Episode length: 463.5, Actor Loss: 0.024, Value Loss: 2.453\n"
     ]
    },
    {
     "name": "stderr",
     "output_type": "stream",
     "text": [
      "Episodes:  98%|█████████▊| 4900/5000 [23:05<00:31,  3.20episode/s]"
     ]
    },
    {
     "name": "stdout",
     "output_type": "stream",
     "text": [
      "Episode 4900, Time steps: 67, Total reward: 77.9, Episode length: 390.3, Actor Loss: -0.106, Value Loss: 17.642\n"
     ]
    },
    {
     "name": "stderr",
     "output_type": "stream",
     "text": [
      "Episodes: 100%|██████████| 5000/5000 [23:32<00:00,  3.54episode/s]\n"
     ]
    },
    {
     "data": {
      "application/vnd.jupyter.widget-view+json": {
       "model_id": "708bd480547b4cd0bc74c849ddb53e55",
       "version_major": 2,
       "version_minor": 0
      },
      "text/plain": [
       "VBox(children=(Label(value='0.001 MB of 0.001 MB uploaded\\r'), FloatProgress(value=1.0, max=1.0)))"
      ]
     },
     "metadata": {},
     "output_type": "display_data"
    },
    {
     "data": {
      "text/html": [
       "<style>\n",
       "    table.wandb td:nth-child(1) { padding: 0 10px; text-align: left ; width: auto;} td:nth-child(2) {text-align: left ; width: 100%}\n",
       "    .wandb-row { display: flex; flex-direction: row; flex-wrap: wrap; justify-content: flex-start; width: 100% }\n",
       "    .wandb-col { display: flex; flex-direction: column; flex-basis: 100%; flex: 1; padding: 10px; }\n",
       "    </style>\n",
       "<div class=\"wandb-row\"><div class=\"wandb-col\"><h3>Run history:</h3><br/><table class=\"wandb\"><tr><td>eval/actor_loss</td><td>▁▆▅█▇█▇▅▇▇▇▇▇▇▇▅▇▇▇▇█▇▇▇▇▆▇▇▇▇▇▇▆▆▇▇▇▇▇▇</td></tr><tr><td>eval/episode_length</td><td>▁▁▁▁▂▅▆▇▇███████▇███▇▇▇█▇▇▇▇███▇▇███▂▃▇▆</td></tr><tr><td>eval/time_steps</td><td>▁▁▂▂▃██▅███████▂████▇█▆██▅▇██████▃██▁██▁</td></tr><tr><td>eval/total_reward</td><td>▁▂▃▃▄▅▆▆▆▆▆▆▇▆▇▇▇███▇▇▇███▇▇████▇▆▇█▆▆▇▆</td></tr><tr><td>eval/value_loss</td><td>█▁▂▁▁▂▁▅▁▁▁▁▁▁▁▃▁▁▁▁▂▁▁▁▁▂▁▁▁▁▁▁▁▂▁▁▂▁▁▂</td></tr><tr><td>train/actor_loss</td><td>▁▅█▆▆▇▇██▇██▅▆▆▇▆▆▇▁▆▆▆▆▆▆▇▆▆▆▆▇▆▆▇▅▅▆▄█</td></tr><tr><td>train/episode_length</td><td>▁▂▁▁▂██████████████▂███████████▄███▂▁█▁▄</td></tr><tr><td>train/total_reward</td><td>▁▁▁▁▃▄▄▅▅▄▅▅▄▅▅▅▆▆▆▃▆▆▅▇▅▅▆▆▇▆▆█▄▆▇▃▃▅▃█</td></tr><tr><td>train/value_loss</td><td>▃▁▂▂▃▃▂▃▂▂▂▃▃▁▁▁▁▁▁█▁▁▁▁▁▁▁▁▁▁▁▃▁▁▁▂▃▁▆▇</td></tr></table><br/></div><div class=\"wandb-col\"><h3>Run summary:</h3><br/><table class=\"wandb\"><tr><td>eval/actor_loss</td><td>-0.10647</td></tr><tr><td>eval/episode_length</td><td>390.32</td></tr><tr><td>eval/time_steps</td><td>67</td></tr><tr><td>eval/total_reward</td><td>77.85783</td></tr><tr><td>eval/value_loss</td><td>17.64184</td></tr><tr><td>train/actor_loss</td><td>5.56369</td></tr><tr><td>train/episode_length</td><td>499</td></tr><tr><td>train/total_reward</td><td>92.39009</td></tr><tr><td>train/value_loss</td><td>398.9025</td></tr></table><br/></div></div>"
      ],
      "text/plain": [
       "<IPython.core.display.HTML object>"
      ]
     },
     "metadata": {},
     "output_type": "display_data"
    },
    {
     "data": {
      "text/html": [
       " View run <strong style=\"color:#cdcd00\">REINFORCE_BASELINE_20240712-144344</strong> at: <a href='https://wandb.ai/lorebaia/DLA%20Assigment%203/runs/rka87am6/workspace' target=\"_blank\">https://wandb.ai/lorebaia/DLA%20Assigment%203/runs/rka87am6/workspace</a><br/>Synced 6 W&B file(s), 0 media file(s), 0 artifact file(s) and 0 other file(s)"
      ],
      "text/plain": [
       "<IPython.core.display.HTML object>"
      ]
     },
     "metadata": {},
     "output_type": "display_data"
    },
    {
     "data": {
      "text/html": [
       "Find logs at: <code>.\\wandb\\run-20240712_144344-rka87am6\\logs</code>"
      ],
      "text/plain": [
       "<IPython.core.display.HTML object>"
      ]
     },
     "metadata": {},
     "output_type": "display_data"
    },
    {
     "data": {
      "text/plain": [
       "[(0, -249.78035314024697, 97),\n",
       " (1, -108.65752466231066, 58),\n",
       " (2, -91.1673806209522, 62),\n",
       " (3, -335.8599523829834, 122),\n",
       " (4, -120.40065604839808, 93),\n",
       " (5, -110.80922421901892, 80),\n",
       " (6, -200.89013398498975, 98),\n",
       " (7, -220.92839873371747, 81),\n",
       " (8, -522.4344271682492, 81),\n",
       " (9, -259.8283161788702, 91),\n",
       " (10, -400.66464574079924, 126),\n",
       " (11, -200.33598660240352, 134),\n",
       " (12, -228.48034986596568, 69),\n",
       " (13, -123.22993079502882, 88),\n",
       " (14, -234.41341827209743, 95),\n",
       " (15, -171.44387264158138, 129),\n",
       " (16, -80.50696408950856, 84),\n",
       " (17, -148.4149369297058, 103),\n",
       " (18, -154.18608030545468, 77),\n",
       " (19, -274.86981222927386, 72),\n",
       " (20, -118.85259459981135, 125),\n",
       " (21, -119.16562819135467, 72),\n",
       " (22, -97.97479491705676, 86),\n",
       " (23, -217.63865485969757, 143),\n",
       " (24, -89.30620246766966, 74),\n",
       " (25, -118.52488531979608, 101),\n",
       " (26, -71.79290156568936, 80),\n",
       " (27, -181.34186453577715, 104),\n",
       " (28, -84.05556483251381, 82),\n",
       " (29, -384.5098570476173, 103),\n",
       " (30, -102.83201105757223, 82),\n",
       " (31, -154.48185326320075, 106),\n",
       " (32, -111.03907623626286, 77),\n",
       " (33, -64.43972098818686, 72),\n",
       " (34, -331.8950100261894, 93),\n",
       " (35, -70.38275966446437, 125),\n",
       " (36, -297.5865541609825, 88),\n",
       " (37, -191.32218923349296, 102),\n",
       " (38, -104.93746035956582, 75),\n",
       " (39, -45.832530367628436, 73),\n",
       " (40, -95.62325386383392, 92),\n",
       " (41, -304.5494158616989, 102),\n",
       " (42, -292.0264734715349, 73),\n",
       " (43, -51.665589031314866, 71),\n",
       " (44, -208.51877498898074, 81),\n",
       " (45, -173.23716513562866, 76),\n",
       " (46, -33.28230503318868, 66),\n",
       " (47, -85.44650981481087, 129),\n",
       " (48, -362.57189981240583, 135),\n",
       " (49, -66.98075312968761, 71),\n",
       " (50, -36.011817778569565, 69),\n",
       " (51, -18.452698035855832, 103),\n",
       " (52, -93.95072728756796, 86),\n",
       " (53, -88.6273489324673, 100),\n",
       " (54, -237.20439484044212, 81),\n",
       " (55, -31.133902174974438, 97),\n",
       " (56, -261.04515399546324, 137),\n",
       " (57, -300.7301084356516, 111),\n",
       " (58, -100.99872132568088, 96),\n",
       " (59, -303.1300375678757, 129),\n",
       " (60, -125.3846922132441, 104),\n",
       " (61, -134.64769134661356, 111),\n",
       " (62, -245.88794393276677, 128),\n",
       " (63, -78.98909102686522, 86),\n",
       " (64, -429.1750202643893, 101),\n",
       " (65, -105.86692872121495, 68),\n",
       " (66, -118.56716690775473, 121),\n",
       " (67, -366.1437690683245, 99),\n",
       " (68, -243.6168652776847, 128),\n",
       " (69, -254.12413397687305, 62),\n",
       " (70, -63.17837447439542, 77),\n",
       " (71, -305.41653075159127, 102),\n",
       " (72, -339.82232457553664, 98),\n",
       " (73, -125.74694983448731, 113),\n",
       " (74, -324.4271403882742, 106),\n",
       " (75, -399.85633561152014, 90),\n",
       " (76, -90.82292200607935, 126),\n",
       " (77, -294.0830145070522, 101),\n",
       " (78, -178.7124633340173, 103),\n",
       " (79, -73.45827771924637, 87),\n",
       " (80, -120.56637428832192, 89),\n",
       " (81, -80.14634273400597, 73),\n",
       " (82, -153.72007316007, 108),\n",
       " (83, -123.79864681537671, 74),\n",
       " (84, -319.83616034470396, 96),\n",
       " (85, -183.11703127919913, 106),\n",
       " (86, -129.14036522306702, 105),\n",
       " (87, -217.16886985932933, 133),\n",
       " (88, -223.41326243231657, 97),\n",
       " (89, -126.35661209869485, 95),\n",
       " (90, -247.27234562997077, 92),\n",
       " (91, -141.12014074184054, 117),\n",
       " (92, -124.9689844282527, 80),\n",
       " (93, -128.0777889689597, 119),\n",
       " (94, -130.54665195680286, 106),\n",
       " (95, -92.49087516453056, 61),\n",
       " (96, -96.8180266801868, 95),\n",
       " (97, -262.35719483700416, 126),\n",
       " (98, -113.91352070812096, 85),\n",
       " (99, -158.72270501204008, 86),\n",
       " (100, -89.43105508911148, 72),\n",
       " (101, -362.43578834749644, 92),\n",
       " (102, -48.03475115896495, 71),\n",
       " (103, -91.01955458827697, 65),\n",
       " (104, -69.27396472380393, 118),\n",
       " (105, -35.97709684531574, 119),\n",
       " (106, -87.7406108318572, 63),\n",
       " (107, -96.77271027663113, 57),\n",
       " (108, -218.5973316012018, 111),\n",
       " (109, -88.05153198710805, 74),\n",
       " (110, -98.6603121389535, 138),\n",
       " (111, -127.0678977517945, 96),\n",
       " (112, -232.04292353926655, 144),\n",
       " (113, -85.34298984402605, 71),\n",
       " (114, -65.93978550572918, 66),\n",
       " (115, -135.34592250107332, 82),\n",
       " (116, -128.83564915242607, 63),\n",
       " (117, -120.61569803292791, 91),\n",
       " (118, -106.30584747385117, 81),\n",
       " (119, -205.3919800090163, 112),\n",
       " (120, -139.25349427487083, 89),\n",
       " (121, -112.35574069819504, 107),\n",
       " (122, -94.2666599203398, 107),\n",
       " (123, -141.35768692154141, 113),\n",
       " (124, -137.9497634146443, 106),\n",
       " (125, -92.44212500248989, 75),\n",
       " (126, -116.97608564424475, 89),\n",
       " (127, -90.95274535571797, 97),\n",
       " (128, -149.96727667747973, 85),\n",
       " (129, -118.17460810328441, 57),\n",
       " (130, -210.3527459475709, 89),\n",
       " (131, -80.98662335367578, 61),\n",
       " (132, -180.98612725172356, 110),\n",
       " (133, -100.34408678902143, 77),\n",
       " (134, -83.96427412813617, 98),\n",
       " (135, -133.0587881898519, 66),\n",
       " (136, -312.45608019111626, 133),\n",
       " (137, -110.8683034408323, 87),\n",
       " (138, -7.775876388816627, 126),\n",
       " (139, -157.06502582072727, 95),\n",
       " (140, -162.71563697284023, 69),\n",
       " (141, -129.48922291388584, 80),\n",
       " (142, -277.0361660592604, 92),\n",
       " (143, 0.08566603486720226, 147),\n",
       " (144, -88.21474767379947, 93),\n",
       " (145, -170.29092962080796, 123),\n",
       " (146, -102.9558675183788, 77),\n",
       " (147, -127.0481421826099, 95),\n",
       " (148, -146.90313099090326, 91),\n",
       " (149, -119.84494028566671, 108),\n",
       " (150, -104.79459324318535, 60),\n",
       " (151, -89.68062147481189, 68),\n",
       " (152, -135.74461713497504, 117),\n",
       " (153, -152.90262009809473, 83),\n",
       " (154, -106.21443179258398, 115),\n",
       " (155, -157.42441469146905, 128),\n",
       " (156, -54.02168202218435, 58),\n",
       " (157, -116.13608411311145, 68),\n",
       " (158, -101.68020624416008, 84),\n",
       " (159, -92.04665269943621, 67),\n",
       " (160, -208.12586843336797, 102),\n",
       " (161, -159.27417012026132, 116),\n",
       " (162, -121.31274824418745, 74),\n",
       " (163, -89.10223528514435, 108),\n",
       " (164, -164.79816921697005, 129),\n",
       " (165, -80.89392247814965, 75),\n",
       " (166, -90.28622181565366, 74),\n",
       " (167, -96.41692874535384, 97),\n",
       " (168, -84.63533574967083, 63),\n",
       " (169, -69.95691440980151, 60),\n",
       " (170, -63.147267588245725, 63),\n",
       " (171, -107.57847220186146, 113),\n",
       " (172, -103.50931452517167, 79),\n",
       " (173, -122.88124872844361, 84),\n",
       " (174, -103.19135702073545, 112),\n",
       " (175, -96.18484498997533, 94),\n",
       " (176, -68.23355695146593, 65),\n",
       " (177, -116.88477924432493, 132),\n",
       " (178, -76.92037420427323, 126),\n",
       " (179, -114.94604998853995, 123),\n",
       " (180, -127.7960883857683, 80),\n",
       " (181, -97.53510258268375, 103),\n",
       " (182, -95.44725804031684, 75),\n",
       " (183, -126.2757117053782, 133),\n",
       " (184, -36.62675373685875, 156),\n",
       " (185, -80.24627395222473, 73),\n",
       " (186, -96.80254314687883, 86),\n",
       " (187, -130.65650050734115, 127),\n",
       " (188, -71.44286769829368, 120),\n",
       " (189, -109.20175047632983, 123),\n",
       " (190, -102.49232958484792, 98),\n",
       " (191, -126.00496535074485, 89),\n",
       " (192, -237.9202639366607, 89),\n",
       " (193, -228.64154989081064, 103),\n",
       " (194, -248.24109843176618, 137),\n",
       " (195, -81.17888525127432, 72),\n",
       " (196, -145.86494415416016, 118),\n",
       " (197, -97.43470410264588, 75),\n",
       " (198, -79.59142657197944, 65),\n",
       " (199, -131.82026672321425, 66),\n",
       " (200, -217.951050676792, 119),\n",
       " (201, -207.62017715456443, 95),\n",
       " (202, -125.34379187624788, 93),\n",
       " (203, -376.06248288793836, 134),\n",
       " (204, -337.18009784664093, 109),\n",
       " (205, 0.2226804127079447, 66),\n",
       " (206, -172.74459916521806, 79),\n",
       " (207, -102.23865683069765, 71),\n",
       " (208, -174.92941906341596, 76),\n",
       " (209, -110.20892953951989, 91),\n",
       " (210, -85.89168871995639, 60),\n",
       " (211, -137.37435497703285, 139),\n",
       " (212, -125.01478251629611, 130),\n",
       " (213, -210.65416773780566, 122),\n",
       " (214, -298.03796272295847, 144),\n",
       " (215, -63.306989973707005, 65),\n",
       " (216, -33.37293480468024, 109),\n",
       " (217, -361.23404992471137, 119),\n",
       " (218, -231.9988391868817, 131),\n",
       " (219, -127.32269015296613, 108),\n",
       " (220, -173.67277421169268, 80),\n",
       " (221, -70.76564534313681, 77),\n",
       " (222, -89.03916106363299, 98),\n",
       " (223, -154.0683862194154, 121),\n",
       " (224, -137.59222117238497, 112),\n",
       " (225, -324.59893280795137, 108),\n",
       " (226, -134.43553657408646, 90),\n",
       " (227, -190.11554544278067, 104),\n",
       " (228, -257.148219937652, 121),\n",
       " (229, -185.92149169039476, 122),\n",
       " (230, -66.56405351961256, 126),\n",
       " (231, -227.62332592932455, 95),\n",
       " (232, -257.022406272123, 109),\n",
       " (233, -148.42912608646776, 122),\n",
       " (234, -88.43623317478063, 71),\n",
       " (235, -71.12639419087554, 59),\n",
       " (236, -109.45145372454692, 103),\n",
       " (237, -126.5807763607006, 83),\n",
       " (238, -129.7752443647033, 104),\n",
       " (239, -136.1474945579276, 119),\n",
       " (240, -121.16416170568758, 90),\n",
       " (241, -109.24702477386822, 63),\n",
       " (242, -80.5148280939176, 74),\n",
       " (243, -149.4829591729149, 132),\n",
       " (244, -201.0999346766701, 124),\n",
       " (245, -166.3949637734132, 78),\n",
       " (246, -134.79428385616217, 110),\n",
       " (247, -125.14918349129803, 79),\n",
       " (248, -102.33989684943438, 107),\n",
       " (249, -88.24461603589432, 70),\n",
       " (250, -73.48970107022028, 71),\n",
       " (251, -114.74020506744338, 93),\n",
       " (252, -67.98567154323953, 133),\n",
       " (253, -257.8764342953809, 127),\n",
       " (254, -375.7750712298131, 139),\n",
       " (255, -98.11942510226929, 89),\n",
       " (256, -104.66817813121368, 74),\n",
       " (257, -119.71055120406433, 107),\n",
       " (258, -54.65788009875871, 123),\n",
       " (259, -219.0481646474499, 138),\n",
       " (260, -138.6335748301168, 97),\n",
       " (261, -63.746159134240685, 86),\n",
       " (262, -117.84995577105525, 104),\n",
       " (263, -112.39148730734006, 134),\n",
       " (264, -185.88006523771128, 105),\n",
       " (265, -119.47280811282336, 85),\n",
       " (266, -189.6910628239334, 109),\n",
       " (267, -140.87818971041702, 80),\n",
       " (268, -47.38775620575163, 136),\n",
       " (269, -98.27210282720692, 92),\n",
       " (270, -125.59138639529414, 86),\n",
       " (271, -120.97357979960432, 67),\n",
       " (272, -101.54351701354784, 74),\n",
       " (273, -75.05540757619858, 110),\n",
       " (274, -153.48560913464686, 87),\n",
       " (275, -91.79796320691092, 104),\n",
       " (276, -133.51334374527875, 128),\n",
       " (277, -118.55856994503736, 113),\n",
       " (278, -124.34416512146248, 113),\n",
       " (279, -127.68759279910722, 77),\n",
       " (280, -105.4273102156763, 72),\n",
       " (281, -137.06843835724234, 107),\n",
       " (282, -170.44919634962525, 124),\n",
       " (283, -127.89282815461189, 92),\n",
       " (284, -226.21807221018034, 117),\n",
       " (285, -192.21848556936527, 131),\n",
       " (286, -85.57413325445192, 81),\n",
       " (287, -51.655490886703646, 68),\n",
       " (288, -250.81065067629783, 105),\n",
       " (289, -162.48200304384517, 129),\n",
       " (290, -78.62662893919011, 160),\n",
       " (291, -118.47863107747399, 90),\n",
       " (292, -91.94635652616614, 93),\n",
       " (293, -70.22721541947435, 98),\n",
       " (294, -111.46910936784951, 93),\n",
       " (295, -103.54272346873717, 102),\n",
       " (296, -70.67624152492223, 83),\n",
       " (297, -83.0387575422311, 71),\n",
       " (298, -103.85700455909789, 77),\n",
       " (299, -197.10734191936015, 128),\n",
       " (300, -123.72449376966401, 139),\n",
       " (301, -137.23442433016808, 98),\n",
       " (302, -104.90592497219794, 100),\n",
       " (303, -89.59716817728386, 96),\n",
       " (304, -173.29079945065104, 121),\n",
       " (305, -62.319006200494684, 69),\n",
       " (306, -134.48514690671675, 132),\n",
       " (307, -101.99259676397011, 73),\n",
       " (308, -77.85773616651511, 73),\n",
       " (309, -59.57443499673607, 73),\n",
       " (310, -300.3331070737842, 120),\n",
       " (311, -90.86260912384974, 127),\n",
       " (312, -30.044693600006028, 156),\n",
       " (313, -230.06800024735026, 154),\n",
       " (314, -178.14704736133768, 100),\n",
       " (315, -101.24623601853608, 103),\n",
       " (316, -65.68548983967634, 76),\n",
       " (317, -46.48668855519176, 71),\n",
       " (318, -81.15344852340439, 120),\n",
       " (319, -170.3811658698321, 101),\n",
       " (320, -174.14517482580797, 106),\n",
       " (321, -85.91865751895581, 169),\n",
       " (322, -137.71243448904525, 79),\n",
       " (323, -76.7987202134239, 90),\n",
       " (324, -132.99008751243392, 128),\n",
       " (325, -41.66938398184918, 97),\n",
       " (326, -85.0597093941494, 71),\n",
       " (327, -107.433093490468, 122),\n",
       " (328, -127.87909308682777, 81),\n",
       " (329, -141.49337628598354, 121),\n",
       " (330, -13.92088479444024, 141),\n",
       " (331, -99.92624357905736, 85),\n",
       " (332, -89.2466464030113, 75),\n",
       " (333, -62.967396376118735, 156),\n",
       " (334, -69.65416314298668, 104),\n",
       " (335, -100.54089915934328, 121),\n",
       " (336, -78.33276766137077, 119),\n",
       " (337, -59.34443516693819, 71),\n",
       " (338, -54.823338161531666, 80),\n",
       " (339, -57.021052910672374, 86),\n",
       " (340, -56.62809786734028, 110),\n",
       " (341, -59.60461781537606, 175),\n",
       " (342, -51.89543669438325, 85),\n",
       " (343, -102.76531473233317, 104),\n",
       " (344, -97.0233964854508, 102),\n",
       " (345, -186.488195905937, 110),\n",
       " (346, -75.81970464120263, 64),\n",
       " (347, -42.91593196079205, 86),\n",
       " (348, -186.31481876971816, 123),\n",
       " (349, -97.56374071848252, 93),\n",
       " (350, -23.187271471737077, 125),\n",
       " (351, -83.14495541267955, 153),\n",
       " (352, -62.636800508459004, 117),\n",
       " (353, -60.197466486719854, 129),\n",
       " (354, -84.45862402468265, 92),\n",
       " (355, -36.99151516435076, 73),\n",
       " (356, -48.81851832745524, 108),\n",
       " (357, -121.60768966604309, 92),\n",
       " (358, -68.93640762281632, 193),\n",
       " (359, -69.39061114045609, 96),\n",
       " (360, -61.97836836726529, 177),\n",
       " (361, -48.09953348844552, 152),\n",
       " (362, -92.24328596992387, 94),\n",
       " (363, -76.92584364814437, 123),\n",
       " (364, -67.81174043945225, 163),\n",
       " (365, -21.299324357666492, 135),\n",
       " (366, -180.86212858700168, 180),\n",
       " (367, -49.072163503251346, 99),\n",
       " (368, -60.743637367084744, 94),\n",
       " (369, -122.65892801325747, 127),\n",
       " (370, -56.39359321952391, 157),\n",
       " (371, -30.26437073147028, 79),\n",
       " (372, -90.64881203717395, 93),\n",
       " (373, -58.040163310772996, 73),\n",
       " (374, -45.955955367441526, 123),\n",
       " (375, -52.90239868977413, 113),\n",
       " (376, -116.59051522508204, 123),\n",
       " (377, -76.45349570106151, 78),\n",
       " (378, -100.95877893437131, 122),\n",
       " (379, -39.442840568674654, 64),\n",
       " (380, -69.15225923248244, 101),\n",
       " (381, -69.41374795340496, 151),\n",
       " (382, -86.88439839805113, 106),\n",
       " (383, -75.81047833227183, 91),\n",
       " (384, -174.0654000227687, 131),\n",
       " (385, -53.869687635378945, 101),\n",
       " (386, -76.2815061511192, 112),\n",
       " (387, -46.872416483253595, 104),\n",
       " (388, -53.59244111244943, 118),\n",
       " (389, -53.57466859413452, 156),\n",
       " (390, -63.56944649332796, 99),\n",
       " (391, -102.62238547987768, 94),\n",
       " (392, -123.99561482649172, 116),\n",
       " (393, -53.42328664867426, 146),\n",
       " (394, -43.772606012402655, 79),\n",
       " (395, -71.55217674454738, 96),\n",
       " (396, -82.88097445149324, 149),\n",
       " (397, -58.770118696349215, 70),\n",
       " (398, -69.6360593408706, 151),\n",
       " (399, -85.68421441291142, 103),\n",
       " (400, -140.75421226714676, 172),\n",
       " (401, -75.71708499182246, 148),\n",
       " (402, -121.81918406080163, 88),\n",
       " (403, -79.97352715592594, 106),\n",
       " (404, -50.42211022119008, 96),\n",
       " (405, -46.719740517127576, 113),\n",
       " (406, -7.633620260942351, 84),\n",
       " (407, -41.60738688063883, 79),\n",
       " (408, -42.009210955445155, 93),\n",
       " (409, -49.04772762456811, 77),\n",
       " (410, -37.765570750429006, 136),\n",
       " (411, -69.25238392112651, 114),\n",
       " (412, -91.63123335259031, 111),\n",
       " (413, -51.912300147170434, 120),\n",
       " (414, -73.13264458243765, 107),\n",
       " (415, -44.848197120166006, 68),\n",
       " (416, -75.13481326146984, 73),\n",
       " (417, -81.53365533847003, 82),\n",
       " (418, -65.10238329347607, 139),\n",
       " (419, -99.35344403058477, 105),\n",
       " (420, -55.089553127053236, 109),\n",
       " (421, -92.19202177397689, 126),\n",
       " (422, -28.803792907168926, 85),\n",
       " (423, -62.872717709169905, 108),\n",
       " (424, -34.09357932053298, 148),\n",
       " (425, -82.13285851922413, 118),\n",
       " (426, -52.44691446828342, 72),\n",
       " (427, -27.336524840627476, 91),\n",
       " (428, -38.96624266347299, 135),\n",
       " (429, -72.38908094798529, 145),\n",
       " (430, -70.13442822710142, 75),\n",
       " (431, -34.77783289104457, 115),\n",
       " (432, -3.890316512691868, 142),\n",
       " (433, -73.42771298092933, 117),\n",
       " (434, -109.25543929274265, 99),\n",
       " (435, -20.416705009634526, 78),\n",
       " (436, -54.99820351670155, 108),\n",
       " (437, -19.79160852266223, 95),\n",
       " (438, -79.29763944416027, 178),\n",
       " (439, 8.567453893556277, 168),\n",
       " (440, -53.08190948828299, 112),\n",
       " (441, -20.874254675484295, 139),\n",
       " (442, -77.89398374414529, 84),\n",
       " (443, -45.44494827809812, 109),\n",
       " (444, -165.18871558472858, 152),\n",
       " (445, -18.198370421676344, 92),\n",
       " (446, -55.571949020824206, 175),\n",
       " (447, -183.84217934946045, 117),\n",
       " (448, -50.35360737248965, 103),\n",
       " (449, -59.23763452738808, 168),\n",
       " (450, -42.00289740278558, 195),\n",
       " (451, -36.36881605155094, 111),\n",
       " (452, -12.255169292916207, 82),\n",
       " (453, -55.088048524912544, 83),\n",
       " (454, -21.436482173546352, 86),\n",
       " (455, -9.94501039765646, 129),\n",
       " (456, -190.8243350501661, 112),\n",
       " (457, -57.96218290523112, 157),\n",
       " (458, -104.23918123150602, 195),\n",
       " (459, -29.22033068355104, 117),\n",
       " (460, -69.85087725475813, 100),\n",
       " (461, -47.70659173906144, 98),\n",
       " (462, -113.07713629871631, 136),\n",
       " (463, -26.199448980445865, 127),\n",
       " (464, -32.17768353351542, 123),\n",
       " (465, -37.740333059311894, 79),\n",
       " (466, -51.70738277470501, 80),\n",
       " (467, -32.27067187085221, 129),\n",
       " (468, -68.25731914945472, 137),\n",
       " (469, -16.993857498208897, 95),\n",
       " (470, -14.869019720064927, 106),\n",
       " (471, -22.506851693055964, 112),\n",
       " (472, -35.81261475528332, 81),\n",
       " (473, -29.02710763567083, 96),\n",
       " (474, -44.96148941135388, 124),\n",
       " (475, -56.24874542804075, 121),\n",
       " (476, -78.71164887866902, 161),\n",
       " (477, -89.03984269929543, 90),\n",
       " (478, -15.112663267143418, 139),\n",
       " (479, -137.22594335139436, 177),\n",
       " (480, -14.190528821943715, 141),\n",
       " (481, -7.374840430299642, 102),\n",
       " (482, -3.9087350271492767, 197),\n",
       " (483, 8.209517092596244, 95),\n",
       " (484, -95.0141752203154, 147),\n",
       " (485, -128.0264598672375, 113),\n",
       " (486, -26.07551934794384, 168),\n",
       " (487, -31.645540024963537, 112),\n",
       " (488, -139.31254283335306, 131),\n",
       " (489, -75.83339732765008, 146),\n",
       " (490, -17.56223917990671, 222),\n",
       " (491, -134.502566053863, 444),\n",
       " (492, -192.59064694985116, 251),\n",
       " (493, -47.79047642228834, 156),\n",
       " (494, -33.966500916411505, 217),\n",
       " (495, 7.8368976738147325, 126),\n",
       " (496, -1.8684099076041605, 203),\n",
       " (497, 35.330073454212, 194),\n",
       " (498, -43.71262740963366, 214),\n",
       " (499, 20.217377663199983, 138),\n",
       " (500, -57.23549203276147, 209),\n",
       " (501, -69.67220979361369, 147),\n",
       " (502, -141.2083802432196, 274),\n",
       " (503, -237.49005478673126, 210),\n",
       " (504, -76.63011088715376, 104),\n",
       " (505, -114.51461161238718, 300),\n",
       " (506, -174.90362523131455, 177),\n",
       " (507, -19.41512740207739, 137),\n",
       " (508, 126.39683584045339, 499),\n",
       " (509, -110.11621308172742, 198),\n",
       " (510, -35.10055411547751, 172),\n",
       " (511, -25.990969878109993, 150),\n",
       " (512, 4.716166426632396, 499),\n",
       " (513, -7.385657404938996, 134),\n",
       " (514, -131.42821878671413, 455),\n",
       " (515, -239.49898779389832, 349),\n",
       " (516, 22.263010693284457, 229),\n",
       " (517, 90.38426805751926, 499),\n",
       " (518, -15.888926244213607, 280),\n",
       " (519, 46.009955953567896, 499),\n",
       " (520, 100.51813303954737, 499),\n",
       " (521, -42.41361738573436, 289),\n",
       " (522, 6.8682389191689595, 129),\n",
       " (523, 63.87300508496725, 499),\n",
       " (524, 18.027805189778675, 136),\n",
       " (525, -43.86440641357285, 252),\n",
       " (526, 37.435794231096764, 232),\n",
       " (527, -47.3726504259206, 214),\n",
       " (528, -224.35588159623327, 234),\n",
       " (529, 132.2413554007584, 499),\n",
       " (530, -121.94974238230844, 136),\n",
       " (531, -78.55851638030857, 178),\n",
       " (532, -99.28745548708895, 197),\n",
       " (533, 65.4016269304318, 499),\n",
       " (534, 29.820042764231907, 499),\n",
       " (535, -222.2837017334757, 226),\n",
       " (536, 20.590757402860092, 499),\n",
       " (537, -28.07520627272949, 153),\n",
       " (538, -29.61916780499766, 143),\n",
       " (539, -30.619380717311117, 166),\n",
       " (540, -210.90538762445985, 356),\n",
       " (541, 10.102414697936482, 196),\n",
       " (542, 95.90003971625221, 499),\n",
       " (543, -33.3737064482126, 192),\n",
       " (544, 27.85705011733596, 213),\n",
       " (545, 84.1315754912217, 499),\n",
       " (546, -16.94801924239917, 247),\n",
       " (547, 34.417421410489965, 220),\n",
       " (548, 72.77881615790858, 499),\n",
       " (549, -22.632506937054984, 252),\n",
       " (550, 33.62180874207097, 499),\n",
       " (551, 22.97271319527764, 499),\n",
       " (552, 115.44510866251974, 499),\n",
       " (553, 2.964842026999321, 176),\n",
       " (554, -131.01453897529376, 383),\n",
       " (555, -201.33271008446576, 208),\n",
       " (556, -43.706377832756715, 277),\n",
       " (557, -248.15959519304323, 326),\n",
       " (558, 42.016555466198426, 499),\n",
       " (559, -30.60116540083069, 499),\n",
       " (560, -0.2662564044448166, 499),\n",
       " (561, 51.5521552829495, 499),\n",
       " (562, 31.962749013365876, 499),\n",
       " (563, -50.45079109470129, 190),\n",
       " (564, -227.63442419172497, 434),\n",
       " (565, 57.74020243504573, 499),\n",
       " (566, -32.51435284088827, 499),\n",
       " (567, -42.86543850416446, 270),\n",
       " (568, 68.65257634204967, 499),\n",
       " (569, 110.72059382569982, 499),\n",
       " (570, -10.674044348368668, 249),\n",
       " (571, 87.15707936255916, 499),\n",
       " (572, 87.50967874767765, 499),\n",
       " (573, 59.37792864863582, 499),\n",
       " (574, 59.95044581743556, 499),\n",
       " (575, 28.430715074210728, 499),\n",
       " (576, 97.50567855815285, 499),\n",
       " (577, -76.7635072816633, 499),\n",
       " (578, 113.68645660347799, 499),\n",
       " (579, 35.296946370800384, 140),\n",
       " (580, 49.39323709281455, 499),\n",
       " (581, 83.123865631905, 499),\n",
       " (582, -28.42528104087974, 176),\n",
       " (583, 23.693062325543764, 121),\n",
       " (584, 79.70082016628858, 499),\n",
       " (585, 12.833182105167538, 116),\n",
       " (586, 108.5118842935548, 499),\n",
       " (587, 82.3499701176938, 499),\n",
       " (588, 21.598704687758257, 161),\n",
       " (589, 35.95062452414081, 212),\n",
       " (590, -13.815474299835685, 127),\n",
       " (591, 14.77760830523384, 143),\n",
       " (592, 53.2092144013848, 499),\n",
       " (593, -21.95590402619247, 499),\n",
       " (594, -69.69403183668874, 145),\n",
       " (595, 65.93447447729011, 499),\n",
       " (596, -259.2434147477539, 298),\n",
       " (597, -51.98300709124632, 293),\n",
       " (598, 5.480097005670527, 499),\n",
       " (599, -145.36041763495987, 218),\n",
       " (600, 82.28956280160351, 499),\n",
       " (601, 40.104412786535256, 499),\n",
       " (602, 109.01317479877008, 499),\n",
       " (603, 88.01323954151952, 499),\n",
       " (604, -10.314496901953667, 499),\n",
       " (605, 42.621966948769895, 499),\n",
       " (606, 132.97834681123257, 499),\n",
       " (607, 80.63916841323447, 499),\n",
       " (608, -33.42993417128912, 357),\n",
       " (609, 43.06319297624964, 202),\n",
       " (610, 105.75604499236928, 499),\n",
       " (611, 29.330004671004826, 499),\n",
       " (612, -48.412213534150226, 499),\n",
       " (613, -43.06200948799028, 499),\n",
       " (614, 94.7322870393192, 499),\n",
       " (615, 96.53448163637576, 499),\n",
       " (616, 127.5241508496494, 499),\n",
       " (617, 92.9180529232112, 499),\n",
       " (618, -75.37065259883654, 499),\n",
       " (619, 2.7272763920077567, 499),\n",
       " (620, 32.31174188445003, 499),\n",
       " (621, 71.1327881336104, 499),\n",
       " (622, -4.369604143079755, 93),\n",
       " (623, 68.31706746240575, 499),\n",
       " (624, -31.61820425887504, 177),\n",
       " (625, 35.276713162518476, 499),\n",
       " (626, -26.67260499155182, 136),\n",
       " (627, 36.18678873238704, 499),\n",
       " (628, -8.462650078239946, 86),\n",
       " (629, 15.699848723044909, 158),\n",
       " (630, -99.22331501557612, 208),\n",
       " (631, -25.75495807442499, 135),\n",
       " (632, 24.277510877637454, 121),\n",
       " (633, -73.92236080637838, 123),\n",
       " (634, 87.4357607768785, 499),\n",
       " (635, 25.40685771842628, 499),\n",
       " (636, 67.00626229525699, 499),\n",
       " (637, -269.9512908776673, 349),\n",
       " (638, 35.071728911465634, 499),\n",
       " (639, 33.50249899879834, 499),\n",
       " (640, 48.549364142064796, 499),\n",
       " (641, 73.07693749704879, 499),\n",
       " (642, -11.172381777743453, 499),\n",
       " (643, 107.5940895261009, 499),\n",
       " (644, -8.713635363895376, 499),\n",
       " (645, 86.84576494834114, 499),\n",
       " (646, 100.07484848422227, 499),\n",
       " (647, 30.078919179936182, 499),\n",
       " (648, 72.54479361353674, 499),\n",
       " (649, 148.11880191880255, 499),\n",
       " (650, -2.477205035581024, 499),\n",
       " (651, -222.05970450377862, 410),\n",
       " (652, 20.019912740067568, 499),\n",
       " (653, 22.45974474215378, 499),\n",
       " (654, 6.003160896580183, 499),\n",
       " (655, 0.5053204114130825, 499),\n",
       " (656, 34.50828252505498, 499),\n",
       " (657, 32.50009629770803, 499),\n",
       " (658, 64.23357977261173, 499),\n",
       " (659, -268.85226164033463, 349),\n",
       " (660, 66.82124815922167, 499),\n",
       " (661, 26.57250434866307, 499),\n",
       " (662, 25.270010173363048, 165),\n",
       " (663, 40.425906438425415, 192),\n",
       " (664, -15.992704738867761, 499),\n",
       " (665, 67.63198354986223, 499),\n",
       " (666, 117.09031796802206, 499),\n",
       " (667, 104.88948575980913, 499),\n",
       " (668, 23.380298183351158, 123),\n",
       " (669, 92.86490761677953, 499),\n",
       " (670, 74.2760064554987, 499),\n",
       " (671, 34.76749311864958, 117),\n",
       " (672, -53.95981324652777, 117),\n",
       " (673, 46.81081079289248, 129),\n",
       " (674, -10.688438309429486, 96),\n",
       " (675, 23.200773594969093, 499),\n",
       " (676, 50.06443878756863, 158),\n",
       " (677, 102.48168696747919, 499),\n",
       " (678, 77.12398141890044, 499),\n",
       " (679, 8.349189217935201, 499),\n",
       " (680, 12.961867899323337, 109),\n",
       " (681, 15.40656518660633, 160),\n",
       " (682, -173.38261151858987, 137),\n",
       " (683, 31.27262848267601, 499),\n",
       " (684, 51.388622638865336, 499),\n",
       " (685, 28.010751116704363, 499),\n",
       " (686, 55.191810575617865, 499),\n",
       " (687, 91.63247323124706, 499),\n",
       " (688, 33.14961914639616, 126),\n",
       " (689, 68.42953999804024, 499),\n",
       " (690, 46.93848087682278, 499),\n",
       " (691, -238.97586535921582, 459),\n",
       " (692, -15.436510719273604, 499),\n",
       " (693, 60.274280802355825, 499),\n",
       " (694, -57.26489408079037, 499),\n",
       " (695, 54.420632082403614, 160),\n",
       " (696, -33.46160518054354, 499),\n",
       " (697, 12.391913918183235, 101),\n",
       " (698, -11.981067556990567, 147),\n",
       " (699, 66.569662867498, 499),\n",
       " (700, 64.91948131154128, 499),\n",
       " (701, 59.23634714893457, 499),\n",
       " (702, 61.019697421828745, 499),\n",
       " (703, 78.17322985032528, 499),\n",
       " (704, -20.758525097475427, 146),\n",
       " (705, 36.09210285073184, 499),\n",
       " (706, 83.16635531828032, 499),\n",
       " (707, 78.89718603256746, 499),\n",
       " (708, 109.03819403969895, 499),\n",
       " (709, 82.87858360533048, 499),\n",
       " (710, 91.89156770188187, 499),\n",
       " (711, 68.21711525137758, 499),\n",
       " (712, 111.28313940013102, 499),\n",
       " (713, 23.612833019914817, 148),\n",
       " (714, 114.65607886293664, 499),\n",
       " (715, 56.34881057507496, 499),\n",
       " (716, 96.63851362973826, 499),\n",
       " (717, 108.1661233906435, 499),\n",
       " (718, 21.8556220196877, 118),\n",
       " (719, 77.74181785854107, 499),\n",
       " (720, 60.72238682002021, 499),\n",
       " (721, -9.540004091168969, 499),\n",
       " (722, -10.640600970234456, 499),\n",
       " (723, -44.90544724780851, 499),\n",
       " (724, 47.76529964455465, 499),\n",
       " (725, 9.044360238163009, 110),\n",
       " (726, 48.04778513587863, 499),\n",
       " (727, 122.75935407342656, 499),\n",
       " (728, 116.30933020607242, 499),\n",
       " (729, 36.06091612247344, 499),\n",
       " (730, 75.50725076919643, 499),\n",
       " (731, -0.4099068286544991, 198),\n",
       " (732, 23.338777112446415, 499),\n",
       " (733, 69.0737409578685, 499),\n",
       " (734, 40.09151275171163, 499),\n",
       " (735, -62.46085969697775, 476),\n",
       " (736, 66.46506920620863, 499),\n",
       " (737, 17.135207094665954, 499),\n",
       " (738, 80.95030543255663, 499),\n",
       " (739, 68.9653582616963, 499),\n",
       " (740, 54.072763557882496, 112),\n",
       " (741, 23.821957460506106, 499),\n",
       " (742, 50.75458467779528, 499),\n",
       " (743, 87.20867951097472, 499),\n",
       " (744, 119.90960930932171, 499),\n",
       " (745, -275.6165708769204, 450),\n",
       " (746, 0.28273336449459885, 499),\n",
       " (747, 76.53205350716252, 499),\n",
       " (748, 65.6792591801434, 499),\n",
       " (749, 64.57438431620355, 499),\n",
       " (750, 96.50166788631975, 499),\n",
       " (751, 104.85935920203563, 499),\n",
       " (752, -36.415712758753024, 499),\n",
       " (753, 24.027489951072805, 499),\n",
       " (754, -11.333981870303802, 167),\n",
       " (755, 77.14815949162153, 499),\n",
       " (756, 71.30933915992595, 499),\n",
       " (757, 85.42226192744755, 499),\n",
       " (758, 59.40151582035013, 499),\n",
       " (759, 13.42446356657838, 499),\n",
       " (760, 23.298861941348733, 499),\n",
       " (761, 34.20059449671502, 499),\n",
       " (762, 49.33541023747535, 499),\n",
       " (763, 25.78330386905252, 499),\n",
       " (764, 44.2189434448687, 499),\n",
       " (765, 33.02344625864976, 499),\n",
       " (766, 24.07645991808016, 499),\n",
       " (767, 42.72259953702193, 499),\n",
       " (768, 53.43860013888025, 499),\n",
       " (769, 48.25829795646231, 499),\n",
       " (770, -45.78212324832619, 499),\n",
       " (771, 54.86354301233563, 499),\n",
       " (772, 95.88639669681578, 499),\n",
       " (773, 80.55108076722642, 499),\n",
       " (774, 31.075666924851976, 499),\n",
       " (775, 80.04248073586015, 499),\n",
       " (776, 97.17635177518042, 499),\n",
       " (777, 42.25656900949719, 499),\n",
       " (778, 61.01580428556436, 499),\n",
       " (779, -39.537354623760784, 499),\n",
       " (780, -163.54859767594542, 219),\n",
       " (781, 62.41518128036705, 499),\n",
       " (782, 49.60083129051266, 499),\n",
       " (783, 80.95109646347474, 499),\n",
       " (784, 83.37630826851661, 499),\n",
       " (785, 71.75073351639077, 499),\n",
       " (786, 63.596945051430566, 499),\n",
       " (787, 63.04726564341726, 499),\n",
       " (788, 37.740830556559075, 499),\n",
       " (789, 80.74156259811373, 499),\n",
       " (790, 86.5937571403444, 499),\n",
       " (791, 96.39035994847626, 499),\n",
       " (792, 73.64544203884412, 499),\n",
       " (793, 64.2608152209044, 499),\n",
       " (794, 60.87404079483451, 499),\n",
       " (795, 31.940901426222354, 499),\n",
       " (796, 94.13795014500757, 499),\n",
       " (797, 83.54253658801657, 499),\n",
       " (798, 54.390018545579224, 499),\n",
       " (799, 28.702730937790612, 499),\n",
       " (800, -225.4689561230271, 306),\n",
       " (801, 73.56091437321349, 499),\n",
       " (802, 56.781395686046324, 499),\n",
       " (803, 44.78200496045838, 499),\n",
       " (804, -26.727623819742192, 177),\n",
       " (805, -34.64198873213803, 358),\n",
       " (806, 54.271314856166484, 499),\n",
       " (807, 79.9809920333612, 499),\n",
       " (808, 21.852604229527874, 499),\n",
       " (809, 28.54990763650525, 499),\n",
       " (810, 124.03583977333697, 499),\n",
       " (811, 89.9391546095118, 499),\n",
       " (812, 21.07464880415951, 143),\n",
       " (813, -181.33881394423395, 284),\n",
       " (814, 8.186464097436604, 499),\n",
       " (815, 34.489380232994904, 499),\n",
       " (816, -21.877572220680563, 200),\n",
       " (817, 73.60239592222095, 499),\n",
       " (818, -12.111564638873029, 499),\n",
       " (819, 81.14896544853379, 499),\n",
       " (820, 51.936249101773214, 499),\n",
       " (821, -246.12939095953422, 165),\n",
       " (822, 24.264820237164532, 499),\n",
       " (823, 77.91583132707974, 499),\n",
       " (824, 38.83956902172993, 499),\n",
       " (825, 72.09494248432313, 499),\n",
       " (826, 74.14142184695473, 499),\n",
       " (827, 43.165676874845495, 499),\n",
       " (828, 95.18334096201879, 499),\n",
       " (829, 64.19645757655752, 499),\n",
       " (830, 84.67329591266363, 499),\n",
       " (831, 20.519465477893743, 499),\n",
       " (832, 58.21583204750998, 499),\n",
       " (833, 57.54870902966917, 499),\n",
       " (834, 86.9641502534466, 499),\n",
       " (835, 15.177305760562604, 176),\n",
       " (836, 94.24720753874193, 499),\n",
       " (837, 121.97798656669416, 499),\n",
       " (838, 35.93409320938125, 499),\n",
       " (839, 89.84775925193021, 499),\n",
       " (840, 86.73191697608468, 499),\n",
       " (841, -173.45175340981967, 229),\n",
       " (842, 77.32664623681342, 499),\n",
       " (843, 83.22369722374638, 499),\n",
       " (844, 6.063944318662097, 499),\n",
       " (845, 22.10703286329529, 499),\n",
       " (846, 73.75071300882863, 499),\n",
       " (847, 60.719678483476486, 499),\n",
       " (848, -11.910071420122797, 499),\n",
       " (849, 76.45379431948804, 499),\n",
       " (850, 83.31651104588741, 499),\n",
       " (851, 65.72875607892834, 499),\n",
       " (852, -10.107196316778401, 499),\n",
       " (853, 57.007107991685146, 499),\n",
       " (854, 90.1063498592842, 499),\n",
       " (855, 24.51519756185877, 499),\n",
       " (856, 80.30347035343586, 499),\n",
       " (857, -6.502538203410639, 499),\n",
       " (858, 15.048463320242691, 499),\n",
       " (859, -6.890114966263272, 499),\n",
       " (860, 80.2709963491151, 499),\n",
       " (861, -179.8960484297072, 270),\n",
       " (862, 71.0316633066065, 499),\n",
       " (863, 60.50292087691889, 499),\n",
       " (864, 45.49194878507127, 499),\n",
       " (865, 87.18665249439448, 499),\n",
       " (866, 83.94121060428243, 499),\n",
       " (867, 108.59413426231971, 499),\n",
       " (868, 90.28646599767073, 499),\n",
       " (869, 92.86926598438761, 499),\n",
       " (870, 77.86349474169893, 499),\n",
       " (871, 51.76890586600951, 499),\n",
       " (872, 58.417659135483575, 499),\n",
       " (873, 126.65070700689452, 499),\n",
       " (874, 66.22278391833574, 499),\n",
       " (875, 34.09367041379798, 499),\n",
       " (876, 85.36861916816721, 499),\n",
       " (877, 130.45624711880458, 499),\n",
       " (878, 42.4030460424631, 499),\n",
       " (879, 94.33769913145872, 499),\n",
       " (880, 86.39330307841514, 499),\n",
       " (881, 55.06073570550693, 499),\n",
       " (882, 82.2407424976433, 499),\n",
       " (883, 56.51899988533182, 499),\n",
       " (884, 77.26676783428019, 499),\n",
       " (885, -3.9575225255782343, 499),\n",
       " (886, 51.08335606845277, 499),\n",
       " (887, 15.854236034127325, 499),\n",
       " (888, 63.70541373523668, 499),\n",
       " (889, 110.15826909859915, 499),\n",
       " (890, 49.84204289379305, 499),\n",
       " (891, 124.14928840980205, 499),\n",
       " (892, 50.42832547776628, 499),\n",
       " (893, 98.67934118964683, 499),\n",
       " (894, 64.3052575976294, 499),\n",
       " (895, 77.0792052381856, 499),\n",
       " (896, 57.88314939738734, 499),\n",
       " (897, 88.214869584794, 499),\n",
       " (898, 76.01845788904491, 499),\n",
       " (899, 108.58742485599377, 499),\n",
       " (900, 112.10308282994349, 499),\n",
       " (901, 124.61671168258253, 499),\n",
       " (902, -1.6334110097111676, 131),\n",
       " (903, 66.12699453630029, 499),\n",
       " (904, 61.2020837740925, 154),\n",
       " (905, -7.1802956558646684, 163),\n",
       " (906, 94.55299849942772, 499),\n",
       " (907, 89.31365882420981, 499),\n",
       " (908, 49.64552334967798, 499),\n",
       " (909, 74.67289439011822, 499),\n",
       " (910, 19.402523659669157, 104),\n",
       " (911, 29.570257873067334, 119),\n",
       " (912, 9.413717086557554, 229),\n",
       " (913, 7.407782859868362, 102),\n",
       " (914, -9.850457020258531, 123),\n",
       " (915, 81.10816073980548, 499),\n",
       " (916, 62.75044402912705, 499),\n",
       " (917, 95.4939373602616, 499),\n",
       " (918, 19.494930671225816, 84),\n",
       " (919, -39.64339029515368, 106),\n",
       " (920, -0.4676432816216476, 157),\n",
       " (921, 0.5221720537762025, 124),\n",
       " (922, 75.05939654777954, 499),\n",
       " (923, 109.58353439119914, 499),\n",
       " (924, 53.35030694720488, 499),\n",
       " (925, 74.23559177158089, 499),\n",
       " (926, 45.23045863101625, 499),\n",
       " (927, 100.67279975848669, 499),\n",
       " (928, 43.457670418925574, 499),\n",
       " (929, 81.73508187515152, 499),\n",
       " (930, 114.52324229913944, 499),\n",
       " (931, 110.75961524549324, 499),\n",
       " (932, 65.96562599534987, 499),\n",
       " (933, 118.36417793582648, 499),\n",
       " (934, 29.429140874884553, 499),\n",
       " (935, 54.126551931905055, 499),\n",
       " (936, 97.39809238860006, 499),\n",
       " (937, 47.61546897068314, 499),\n",
       " (938, 59.30026102876045, 499),\n",
       " (939, 89.68924386885878, 499),\n",
       " (940, 93.19432191216154, 499),\n",
       " (941, 98.46755068599829, 499),\n",
       " (942, 71.7977694634319, 499),\n",
       " (943, 74.41662434695466, 499),\n",
       " (944, 92.59206033708845, 499),\n",
       " (945, 58.527179911597486, 499),\n",
       " (946, 76.10109329884405, 499),\n",
       " (947, 104.73194683277083, 499),\n",
       " (948, 51.79992528675848, 499),\n",
       " (949, -14.053153919448746, 152),\n",
       " (950, 51.52846422565306, 499),\n",
       " (951, 38.322706871821495, 499),\n",
       " (952, 64.87512270498168, 499),\n",
       " (953, 64.06012224462756, 499),\n",
       " (954, 104.69047284603552, 499),\n",
       " (955, 119.43369054021004, 499),\n",
       " (956, 59.69159011911421, 499),\n",
       " (957, 4.790781129350305, 499),\n",
       " (958, 82.19987601258316, 499),\n",
       " (959, 57.691593852990856, 499),\n",
       " (960, 94.76658563584392, 499),\n",
       " (961, 63.996468084572214, 499),\n",
       " (962, 51.80505171693949, 499),\n",
       " (963, 102.95142886422299, 499),\n",
       " (964, 61.330915412902456, 499),\n",
       " (965, 65.47962685118802, 499),\n",
       " (966, 66.85268876959567, 499),\n",
       " (967, 81.71575484377679, 499),\n",
       " (968, 59.71634146624309, 499),\n",
       " (969, 96.5378637617936, 499),\n",
       " (970, 57.25364698149353, 499),\n",
       " (971, -65.15361316985785, 499),\n",
       " (972, 34.12866525960212, 499),\n",
       " (973, 106.97160467262628, 499),\n",
       " (974, 89.05142438679431, 499),\n",
       " (975, 20.696428620251467, 499),\n",
       " (976, 78.08648812958558, 499),\n",
       " (977, 70.70021430804486, 499),\n",
       " (978, 88.36439799463892, 499),\n",
       " (979, 34.19953232007621, 499),\n",
       " (980, 75.42050394695823, 499),\n",
       " (981, 118.78101759329908, 499),\n",
       " (982, 60.939185876625025, 499),\n",
       " (983, 86.23137640608412, 499),\n",
       " (984, 79.45758064667041, 499),\n",
       " (985, 93.65945209497136, 499),\n",
       " (986, 33.02984536563624, 499),\n",
       " (987, 91.8795099523556, 499),\n",
       " (988, -11.363032467832062, 499),\n",
       " (989, 89.81331274320898, 499),\n",
       " (990, 75.55900592237033, 499),\n",
       " (991, -7.727694956019375, 499),\n",
       " (992, 18.892655339191606, 122),\n",
       " (993, 37.97003393219197, 162),\n",
       " (994, 69.70125574874855, 499),\n",
       " (995, 136.0714511812641, 499),\n",
       " (996, 32.58146527492807, 499),\n",
       " (997, 123.39325948345856, 499),\n",
       " (998, 14.002983900195986, 168),\n",
       " (999, 111.0237066392056, 499),\n",
       " ...]"
      ]
     },
     "execution_count": 15,
     "metadata": {},
     "output_type": "execute_result"
    },
    {
     "data": {
      "image/png": "[encoded data removed]",
      "text/plain": [
       "<Figure size 1500x500 with 2 Axes>"
      ]
     },
     "metadata": {},
     "output_type": "display_data"
    }
   ],
   "source": [
    "# Initialize the environment.\n",
    "env_name = \"LunarLander-v2\"\n",
    "env = gym.make(env_name)\n",
    "# env_render = gym.make(env_name, render_mode=\"human\")\n",
    "env_render = None\n",
    "action_size = env.action_space.n\n",
    "state_size = env.observation_space.shape[0]\n",
    "print(\"Action size:\", action_size, \"State size:\", state_size)\n",
    "\n",
    "# Hyperparameters\n",
    "lr = 1e-2\n",
    "gamma = 0.99\n",
    "hidden_size = 16\n",
    "episodes = 5000\n",
    "max_length = 500\n",
    "stats_every = 100 \n",
    "\n",
    "# Initialize the policy agent\n",
    "device = torch.device(\"cuda\" if torch.cuda.is_available() else \"cpu\")\n",
    "date = datetime.now().strftime(\"%Y%m%d-%H%M%S\")\n",
    "baseline = True\n",
    "agent_name = \"REINFORCE\" + (\"_BASELINE\" if baseline else \"\")\n",
    "agent_name = agent_name + \"_\" + date\n",
    "agent = REINFORCEAgent(state_size, action_size, hidden_size, lr, gamma, baseline=baseline, device=device)\n",
    "\n",
    "# Train the agent\n",
    "train_agent(agent, agent_name, env, env_name, episodes, max_length, stats_every, env_render, device)"
   ]
  },
  {
   "cell_type": "markdown",
   "metadata": {},
   "source": [
    "---\n",
    "# Exercise 3.2: Solving Cartpole and Lunar Lander with `Deep Q-Learning` (harder)\n",
    "\n",
    "On policy Deep Reinforcement Learning tends to be **very unstable**. Write an implementation (or adapt an existing one) of `Deep Q-Learning` to solve our two environments (Cartpole and Lunar Lander). To do this you will need to implement a **Replay Buffer** and use a second, slow-moving **target Q-Network** to stabilize learning."
   ]
  },
  {
   "cell_type": "code",
   "execution_count": 21,
   "metadata": {},
   "outputs": [],
   "source": [
    "# Replay Buffer\n",
    "class ReplayBuffer():\n",
    "    def __init__(self, size=16):\n",
    "        self.buffer = deque([], maxlen=size)\n",
    "\n",
    "    def push(self, data):\n",
    "        self.buffer.append(data)\n",
    "\n",
    "    def sample(self, batch_size):\n",
    "        return random.sample(self.buffer, batch_size)\n",
    "    \n",
    "    def __len__(self):\n",
    "        return len(self.buffer)"
   ]
  },
  {
   "cell_type": "code",
   "execution_count": 39,
   "metadata": {},
   "outputs": [],
   "source": [
    "# Create a DQNetwork where the output is the Q value for each action\n",
    "class FFNet(nn.Module):\n",
    "    def __init__(self, state_size, action_size, hidden_size=16):\n",
    "        super().__init__()\n",
    "        self.net = nn.Sequential(\n",
    "            nn.Linear(state_size, hidden_size),\n",
    "            nn.ReLU(),\n",
    "            nn.Linear(hidden_size, action_size)\n",
    "        )\n",
    "        \n",
    "    def forward(self, s):\n",
    "        return self.net(s)"
   ]
  },
  {
   "cell_type": "code",
   "execution_count": 48,
   "metadata": {},
   "outputs": [],
   "source": [
    "class DQNAgent():\n",
    "    def __init__(self, state_size, action_size, hidden_size, lr, gamma, device='cuda'):\n",
    "        self.action_size = action_size\n",
    "        self.train_net = FFNet(state_size, action_size, hidden_size).to(device)\n",
    "        self.target_net = FFNet(state_size, action_size, hidden_size).to(device)\n",
    "        self.target_net.load_state_dict(self.train_net.state_dict())\n",
    "        self.optimizer = optim.Adam(self.train_net.parameters(), lr=lr)\n",
    "        self.lr = lr\n",
    "        self.gamma = gamma\n",
    "\n",
    "    def act(self, state, epsilon=0.):\n",
    "        # Epsilon greedy policy\n",
    "        if np.random.rand() <= epsilon:\n",
    "            return np.random.choice(self.action_size)\n",
    "        else:\n",
    "            with torch.no_grad():\n",
    "                state = torch.FloatTensor(state).to(device)\n",
    "                q_values = self.train_net(state)\n",
    "                return torch.argmax(q_values).item()\n",
    "            \n",
    "    def train(self, replay_buffer, batch_size, device='cuda'):\n",
    "        # Sample a batch from the replay buffer\n",
    "        batch = replay_buffer.sample(batch_size)\n",
    "        states, actions, rewards, next_states, dones = zip(*batch)\n",
    "\n",
    "        # Transform the lists to tensors and move to device\n",
    "        states = torch.FloatTensor(states).to(device)\n",
    "        actions = torch.LongTensor(actions).to(device).view(-1, 1)\n",
    "        rewards = torch.FloatTensor(rewards).to(device).view(-1, 1)\n",
    "        next_states = torch.FloatTensor(next_states).to(device)\n",
    "        dones = torch.FloatTensor(dones).to(device).view(-1, 1)\n",
    "\n",
    "        # Compute the Q values from the train network\n",
    "        train_q_values = self.train_net(states).gather(1, actions)\n",
    "\n",
    "        # Compute the Q values from the target network\n",
    "        with torch.no_grad():\n",
    "            target_q_values = rewards + self.gamma * (1-dones) * torch.max(self.target_net(next_states), dim=1)[0].view(batch_size, -1)\n",
    "\n",
    "        # Compute the loss between the train and target Q values\n",
    "        # loss = F.mse_loss(train_q_values, target_q_values)\n",
    "        # In this case we use the smooth L1 loss (similar to the Huber loss)\n",
    "        loss = F.smooth_l1_loss(train_q_values, target_q_values)\n",
    "\n",
    "        # Optimize the network\n",
    "        self.optimizer.zero_grad()\n",
    "        loss.backward()\n",
    "        for p in self.train_net.parameters():\n",
    "            p.grad.data.clamp_(-1, 1)\n",
    "        self.optimizer.step()\n",
    "\n",
    "        return loss.detach().cpu().numpy()\n",
    "    \n",
    "    def update_target(self, num_iter, update_freq):\n",
    "        if not num_iter % update_freq:\n",
    "            self.target_net.load_state_dict(self.train_net.state_dict())\n",
    "            # print(\"Updated target network\") "
   ]
  },
  {
   "cell_type": "code",
   "execution_count": 50,
   "metadata": {},
   "outputs": [],
   "source": [
    "# TRAIN AGENT\n",
    "def train_agent(\n",
    "        agent, \n",
    "        agent_name, \n",
    "        env, \n",
    "        env_name, \n",
    "        replay_buffer, \n",
    "        batch_size,\n",
    "        episodes, \n",
    "        epsilon, \n",
    "        start_train,\n",
    "        update_target_every,\n",
    "        max_length=500, \n",
    "        stats_every=10, \n",
    "        env_render=None, \n",
    "        wb=False,\n",
    "        device=\"cuda\"\n",
    "    ):\n",
    "    # Initialize wandb\n",
    "    if wb:\n",
    "        wandb_init(agent, agent_name, env_name, episodes, device=device)\n",
    "\n",
    "    # Track episode rewards in a list\n",
    "    stats_reward_list = []\n",
    "    tot_reward = 0\n",
    "    steps = 0\n",
    "\n",
    "    # Loop over the episodes\n",
    "    for episode in tqdm(range(episodes), desc=\"Episodes\", unit=\"episode\", leave=True):\n",
    "        # Generate the episode\n",
    "        stats_loss = 0\n",
    "        (state, info) = env.reset()\n",
    "\n",
    "        # Run the episode  \n",
    "        for length in range(max_length):\n",
    "            steps += 1\n",
    "\n",
    "            # Select an action\n",
    "            action = agent.act(state, epsilon.get())\n",
    "            # Do the action in the environment\n",
    "            next_state, reward, term, trunc, _ = env.step(action)\n",
    "            tot_reward += reward\n",
    "\n",
    "            # If the episode is done, break\n",
    "            if term or trunc or length == max_length-1: # or the total reward is too low (optional)\n",
    "                # Store the transition in the replay buffer\n",
    "                next_state = np.zeros(state.shape)\n",
    "                reward = -1\n",
    "                replay_buffer.push((state, action, reward, next_state, term))\n",
    "\n",
    "                # Save the stats\n",
    "                stats_reward_list.append((episode, tot_reward, length))\n",
    "\n",
    "                # Wandb logging training stats\n",
    "                if wb:\n",
    "                    wandb.log({\"train/total_reward\": tot_reward, \"train/episode_length\": length, \"train/loss\": stats_loss}, step=episode)\n",
    "\n",
    "                tot_reward = 0\n",
    "\n",
    "                epsilon.update()\n",
    "\n",
    "                if steps > start_train and not episode % stats_every:\n",
    "                    # Evaluate the agent\n",
    "                    total_reward = np.mean(stats_reward_list[-stats_every:], axis=0)[1]\n",
    "                    total_length = np.mean(stats_reward_list[-stats_every:], axis=0)[2]\n",
    "                    loss = stats_loss/stats_every\n",
    "                    \n",
    "                    print(f\"Episode {episode}, Time steps: {length}, Total reward: {total_reward:.1f}, Episode length: {total_length:.1f}, Epsilon: {epsilon.get():.2f}, Loss: {stats_loss:.3f}\")\n",
    "                    if wb:\n",
    "                        wandb.log({\"eval/time_steps\": length, \"eval/total_reward\": total_reward, \"eval/episode_length\": total_length, \"eval/epsilon\": epsilon.get(),\"eval/loss\": loss}, step=episode)\n",
    "\n",
    "                    # Visualize the agent\n",
    "                    if env_render is not None:\n",
    "                        display_agent(agent, env_render)\n",
    "                break\n",
    "            else:\n",
    "                # Store the transition in the replay buffer\n",
    "                replay_buffer.push((state, action, reward, next_state, term))\n",
    "\n",
    "            state = next_state\n",
    "\n",
    "            if steps > start_train:\n",
    "                # Train the agent\n",
    "                stats_loss += agent.train(replay_buffer, batch_size)\n",
    "                agent.update_target(steps, update_target_every)\n",
    "    \n",
    "    # Close the environment\n",
    "    env.close()\n",
    "    if env_render is not None:\n",
    "        env_render.close()\n",
    "    # Finish wandb\n",
    "    if wb:\n",
    "        wandb.finish()\n",
    "    \n",
    "    # Plot \n",
    "    plot_stats(stats_reward_list)\n",
    "\n",
    "    return stats_reward_list\n",
    "\n",
    "\n",
    "def display_agent(agent, env_render, max_length=500):\n",
    "    (state, _) = env_render.reset()\n",
    "    for _ in range(max_length):\n",
    "        action = agent.act(state)\n",
    "        (state, _, _, _, _) = env_render.step(action)\n",
    "\n",
    "\n",
    "def plot_stats(stats_rewards_list):\n",
    "    # plot stats\n",
    "    def get_running_stat(stat, stat_len):\n",
    "        cum_sum = np.cumsum(np.insert(stat, 0, 0)) \n",
    "        return (cum_sum[stat_len:] - cum_sum[:-stat_len]) / stat_len\n",
    "\n",
    "    episode, r, l = np.array(stats_rewards_list).T\n",
    "    cum_r = get_running_stat(r, 10)\n",
    "    cum_l = get_running_stat(l, 10)\n",
    "\n",
    "    # Plots\n",
    "    fig, ax = plt.subplots(1, 2, figsize=(15, 5))\n",
    "    ax[0].set_title(\"Episode reward\")\n",
    "    ax[0].plot(episode[-len(cum_r):], cum_r)\n",
    "    ax[0].plot(episode, r, alpha=0.3)\n",
    "    ax[0].set_xlabel(\"Episode\")\n",
    "    ax[0].set_ylabel(\"Episode reward\")\n",
    "\n",
    "    ax[1].set_title(\"Episode length\")\n",
    "    ax[1].plot(episode[-len(cum_l):], cum_l)\n",
    "    ax[1].plot(episode, l, alpha=0.3)\n",
    "    ax[1].set_xlabel(\"Episode\")\n",
    "    ax[1].set_ylabel(\"Episode length\")\n",
    "    \n",
    "\n",
    "# Function to initialize wandb\n",
    "def wandb_init(agent, algorithm, env, episodes, device=\"cuda\", project=\"DLA Assigment 3\"):\n",
    "    # Initialize wandb\n",
    "    wandb.init(\n",
    "        project=project,\n",
    "        name=algorithm,\n",
    "        # Track hyperparameters and run metadata\n",
    "        config={\n",
    "            \"algorithm\": algorithm,\n",
    "            \"environment\": env,\n",
    "            \"episodes\": episodes,\n",
    "            \"learning_rate\": agent.lr,\n",
    "            \"gamma\": agent.gamma,\n",
    "            \"optimizer\": \"Adam\",\n",
    "            \"device\": device.type\n",
    "        }\n",
    "    )\n",
    "\n",
    "\n",
    "class Epsilon():\n",
    "    def __init__(self, start, end, decay):\n",
    "        self.start = start\n",
    "        self.end = end\n",
    "        self.decay = decay\n",
    "        self.steps = (start - end) / decay\n",
    "        self.epsilon = start\n",
    "\n",
    "    def update(self):\n",
    "        self.epsilon = max(self.end, self.epsilon - self.steps)\n",
    "\n",
    "    def get(self):\n",
    "        return self.epsilon"
   ]
  },
  {
   "cell_type": "code",
   "execution_count": 52,
   "metadata": {},
   "outputs": [
    {
     "name": "stderr",
     "output_type": "stream",
     "text": [
      "Episodes:   2%|▏         | 99/5000 [00:09<09:56,  8.22episode/s]"
     ]
    },
    {
     "name": "stdout",
     "output_type": "stream",
     "text": [
      "Episode 100, Time steps: 18, Total reward: 28.6, Episode length: 27.6, Epsilon: 0.80, Loss: 1.801\n"
     ]
    },
    {
     "name": "stderr",
     "output_type": "stream",
     "text": [
      "Episodes:   4%|▍         | 200/5000 [00:26<20:01,  4.00episode/s]"
     ]
    },
    {
     "name": "stdout",
     "output_type": "stream",
     "text": [
      "Episode 200, Time steps: 18, Total reward: 49.5, Episode length: 48.5, Epsilon: 0.60, Loss: 2.071\n"
     ]
    },
    {
     "name": "stderr",
     "output_type": "stream",
     "text": [
      "Episodes:   6%|▌         | 300/5000 [01:01<33:53,  2.31episode/s]"
     ]
    },
    {
     "name": "stdout",
     "output_type": "stream",
     "text": [
      "Episode 300, Time steps: 31, Total reward: 99.5, Episode length: 98.5, Epsilon: 0.40, Loss: 2.535\n"
     ]
    },
    {
     "name": "stderr",
     "output_type": "stream",
     "text": [
      "Episodes:   8%|▊         | 400/5000 [01:39<22:40,  3.38episode/s]"
     ]
    },
    {
     "name": "stdout",
     "output_type": "stream",
     "text": [
      "Episode 400, Time steps: 12, Total reward: 102.3, Episode length: 101.3, Epsilon: 0.21, Loss: 1.014\n"
     ]
    },
    {
     "name": "stderr",
     "output_type": "stream",
     "text": [
      "Episodes:  10%|▉         | 499/5000 [02:15<24:41,  3.04episode/s]"
     ]
    },
    {
     "name": "stdout",
     "output_type": "stream",
     "text": [
      "Episode 500, Time steps: 141, Total reward: 100.8, Episode length: 99.8, Epsilon: 0.01, Loss: 13.288\n"
     ]
    },
    {
     "name": "stderr",
     "output_type": "stream",
     "text": [
      "Episodes:  12%|█▏        | 600/5000 [02:52<26:55,  2.72episode/s]"
     ]
    },
    {
     "name": "stdout",
     "output_type": "stream",
     "text": [
      "Episode 600, Time steps: 57, Total reward: 98.6, Episode length: 97.6, Epsilon: 0.01, Loss: 5.263\n"
     ]
    },
    {
     "name": "stderr",
     "output_type": "stream",
     "text": [
      "Episodes:  14%|█▍        | 700/5000 [03:39<27:14,  2.63episode/s]  "
     ]
    },
    {
     "name": "stdout",
     "output_type": "stream",
     "text": [
      "Episode 700, Time steps: 104, Total reward: 125.8, Episode length: 124.8, Epsilon: 0.01, Loss: 7.542\n"
     ]
    },
    {
     "name": "stderr",
     "output_type": "stream",
     "text": [
      "Episodes:  16%|█▌        | 800/5000 [04:08<29:01,  2.41episode/s]"
     ]
    },
    {
     "name": "stdout",
     "output_type": "stream",
     "text": [
      "Episode 800, Time steps: 99, Total reward: 76.1, Episode length: 75.1, Epsilon: 0.01, Loss: 11.090\n"
     ]
    },
    {
     "name": "stderr",
     "output_type": "stream",
     "text": [
      "Episodes:  18%|█▊        | 900/5000 [04:45<24:28,  2.79episode/s]"
     ]
    },
    {
     "name": "stdout",
     "output_type": "stream",
     "text": [
      "Episode 900, Time steps: 111, Total reward: 95.8, Episode length: 94.8, Epsilon: 0.01, Loss: 9.586\n"
     ]
    },
    {
     "name": "stderr",
     "output_type": "stream",
     "text": [
      "Episodes:  20%|█▉        | 999/5000 [05:25<12:12,  5.47episode/s]"
     ]
    },
    {
     "name": "stdout",
     "output_type": "stream",
     "text": [
      "Episode 1000, Time steps: 90, Total reward: 105.4, Episode length: 104.4, Epsilon: 0.01, Loss: 8.174\n"
     ]
    },
    {
     "name": "stderr",
     "output_type": "stream",
     "text": [
      "Episodes:  22%|██▏       | 1100/5000 [05:45<21:25,  3.03episode/s]"
     ]
    },
    {
     "name": "stdout",
     "output_type": "stream",
     "text": [
      "Episode 1100, Time steps: 101, Total reward: 54.9, Episode length: 53.9, Epsilon: 0.01, Loss: 17.027\n"
     ]
    },
    {
     "name": "stderr",
     "output_type": "stream",
     "text": [
      "Episodes:  24%|██▍       | 1200/5000 [06:44<38:13,  1.66episode/s]  "
     ]
    },
    {
     "name": "stdout",
     "output_type": "stream",
     "text": [
      "Episode 1200, Time steps: 164, Total reward: 150.2, Episode length: 149.2, Epsilon: 0.01, Loss: 6.864\n"
     ]
    },
    {
     "name": "stderr",
     "output_type": "stream",
     "text": [
      "Episodes:  26%|██▌       | 1300/5000 [07:59<39:37,  1.56episode/s]  "
     ]
    },
    {
     "name": "stdout",
     "output_type": "stream",
     "text": [
      "Episode 1300, Time steps: 240, Total reward: 204.4, Episode length: 203.4, Epsilon: 0.01, Loss: 4.365\n"
     ]
    },
    {
     "name": "stderr",
     "output_type": "stream",
     "text": [
      "Episodes:  28%|██▊       | 1400/5000 [09:00<22:35,  2.65episode/s]  "
     ]
    },
    {
     "name": "stdout",
     "output_type": "stream",
     "text": [
      "Episode 1400, Time steps: 94, Total reward: 143.1, Episode length: 142.1, Epsilon: 0.01, Loss: 4.350\n"
     ]
    },
    {
     "name": "stderr",
     "output_type": "stream",
     "text": [
      "Episodes:  30%|███       | 1500/5000 [09:40<33:09,  1.76episode/s]"
     ]
    },
    {
     "name": "stdout",
     "output_type": "stream",
     "text": [
      "Episode 1500, Time steps: 128, Total reward: 100.0, Episode length: 99.0, Epsilon: 0.01, Loss: 2.351\n"
     ]
    },
    {
     "name": "stderr",
     "output_type": "stream",
     "text": [
      "Episodes:  32%|███▏      | 1600/5000 [10:45<38:37,  1.47episode/s]  "
     ]
    },
    {
     "name": "stdout",
     "output_type": "stream",
     "text": [
      "Episode 1600, Time steps: 116, Total reward: 167.3, Episode length: 166.3, Epsilon: 0.01, Loss: 0.857\n"
     ]
    },
    {
     "name": "stderr",
     "output_type": "stream",
     "text": [
      "Episodes:  34%|███▍      | 1700/5000 [11:32<27:56,  1.97episode/s]"
     ]
    },
    {
     "name": "stdout",
     "output_type": "stream",
     "text": [
      "Episode 1700, Time steps: 138, Total reward: 116.7, Episode length: 115.7, Epsilon: 0.01, Loss: 0.641\n"
     ]
    },
    {
     "name": "stderr",
     "output_type": "stream",
     "text": [
      "Episodes:  36%|███▌      | 1800/5000 [12:19<20:57,  2.54episode/s]"
     ]
    },
    {
     "name": "stdout",
     "output_type": "stream",
     "text": [
      "Episode 1800, Time steps: 124, Total reward: 112.8, Episode length: 111.8, Epsilon: 0.01, Loss: 0.939\n"
     ]
    },
    {
     "name": "stderr",
     "output_type": "stream",
     "text": [
      "Episodes:  38%|███▊      | 1900/5000 [13:15<33:10,  1.56episode/s]"
     ]
    },
    {
     "name": "stdout",
     "output_type": "stream",
     "text": [
      "Episode 1900, Time steps: 154, Total reward: 137.5, Episode length: 136.5, Epsilon: 0.01, Loss: 0.554\n"
     ]
    },
    {
     "name": "stderr",
     "output_type": "stream",
     "text": [
      "Episodes:  40%|████      | 2000/5000 [14:12<24:56,  2.00episode/s]"
     ]
    },
    {
     "name": "stdout",
     "output_type": "stream",
     "text": [
      "Episode 2000, Time steps: 139, Total reward: 138.8, Episode length: 137.8, Epsilon: 0.01, Loss: 0.199\n"
     ]
    },
    {
     "name": "stderr",
     "output_type": "stream",
     "text": [
      "Episodes:  42%|████▏     | 2100/5000 [15:10<33:47,  1.43episode/s]"
     ]
    },
    {
     "name": "stdout",
     "output_type": "stream",
     "text": [
      "Episode 2100, Time steps: 133, Total reward: 138.1, Episode length: 137.1, Epsilon: 0.01, Loss: 0.751\n"
     ]
    },
    {
     "name": "stderr",
     "output_type": "stream",
     "text": [
      "Episodes:  44%|████▍     | 2200/5000 [16:47<1:12:24,  1.55s/episode]"
     ]
    },
    {
     "name": "stdout",
     "output_type": "stream",
     "text": [
      "Episode 2200, Time steps: 415, Total reward: 237.4, Episode length: 236.4, Epsilon: 0.01, Loss: 4.598\n"
     ]
    },
    {
     "name": "stderr",
     "output_type": "stream",
     "text": [
      "Episodes:  44%|████▍     | 2219/5000 [17:02<18:01,  2.57episode/s]  "
     ]
    }
   ],
   "source": [
    "# Initialize the environment.\n",
    "env_name = \"CartPole-v1\"\n",
    "env = gym.make(env_name)\n",
    "# env_render = gym.make(env_name, render_mode=\"human\")\n",
    "env_render = None\n",
    "action_size = env.action_space.n\n",
    "state_size = env.observation_space.shape[0]\n",
    "# print(\"Action size:\", action_size, \"State size:\", state_size)\n",
    "\n",
    "# Hyperparameters\n",
    "lr = 1e-3\n",
    "gamma = 0.9\n",
    "hidden_size = 16\n",
    "episodes = 5000\n",
    "max_length = 500\n",
    "stats_every = 100\n",
    "batch_size = 64\n",
    "\n",
    "start_training = 100\n",
    "update_target_every = 1000\n",
    "\n",
    "epsilon = Epsilon(start=1.0, end=0.01, decay=episodes * .1)\n",
    "\n",
    "# Initialize the Replay Buffer\n",
    "buffer_size = 10000\n",
    "buffer = ReplayBuffer(buffer_size)\n",
    "\n",
    "# Initialize the DQN agent\n",
    "device = torch.device(\"cuda\" if torch.cuda.is_available() else \"cpu\")\n",
    "date = datetime.now().strftime(\"%Y%m%d-%H%M%S\")\n",
    "agent_name = \"DQN\"\n",
    "agent_name = agent_name + \"_\" + date\n",
    "agent = DQNAgent(state_size, action_size, hidden_size, lr, gamma, device=device)\n",
    "\n",
    "# Train the agent\n",
    "train_agent(\n",
    "    agent, \n",
    "    agent_name, \n",
    "    env, \n",
    "    env_name, \n",
    "    buffer, \n",
    "    batch_size, \n",
    "    episodes, \n",
    "    epsilon, \n",
    "    start_training, \n",
    "    update_target_every, \n",
    "    max_length, \n",
    "    stats_every, \n",
    "    env_render, \n",
    "    wb=False,\n",
    "    device=device\n",
    "    )"
   ]
  },
  {
   "cell_type": "markdown",
   "metadata": {},
   "source": [
    "---\n",
    "# Exercise 3.3: Solving the OpenAI CarRacing environment (hardest) \n",
    "\n",
    "Use `Deep Q-Learning` -- or even better, an off-the-shelf implementation of **Proximal Policy Optimization (PPO)** -- to train an agent to solve the [OpenAI CarRacing](https://github.com/andywu0913/OpenAI-GYM-CarRacing-DQN) environment. This will be the most *fun*, but also the most *difficult*. Some tips:\n",
    "\n",
    "1. Make sure you use the `continuous=False` argument to the environment constructor. This ensures that the action space is **discrete** (we haven't seen how to work with continuous action spaces).\n",
    "2. Your Q-Network will need to be a CNN. A simple one should do, with two convolutional + maxpool layers, folowed by a two dense layers. You will **definitely** want to use a GPU to train your agents.\n",
    "3. The observation space of the environment is a single **color image** (a single frame of the game). Most implementations stack multiple frames (e.g. 3) after converting them to grayscale images as an observation."
   ]
  },
  {
   "cell_type": "code",
   "execution_count": null,
   "metadata": {},
   "outputs": [],
   "source": [
    "class Actor(nn.Module):\n",
    "    def __init__(self, action_size, hidden_size=16):\n",
    "        super().__init__()\n",
    "        self.net = nn.Sequential(\n",
    "            nn.C\n",
    "\n",
    "    def forward(self, s):\n",
    "        return self.net(s)\n",
    "\n",
    "\n",
    "class Critic(nn.Module):\n",
    "    def __init__(self, args):\n",
    "        super(Critic, self).__init__()\n",
    "\n",
    "\n",
    "    def forward(self, s):\n",
    "        s = self.activate_func(self.fc1(s))\n",
    "        s = self.activate_func(self.fc2(s))\n",
    "        v_s = self.fc3(s)\n",
    "        return v_s\n"
   ]
  }
 ],
 "metadata": {
  "kernelspec": {
   "display_name": "Reinf_Learning",
   "language": "python",
   "name": "python3"
  },
  "language_info": {
   "codemirror_mode": {
    "name": "ipython",
    "version": 3
   },
   "file_extension": ".py",
   "mimetype": "text/x-python",
   "name": "python",
   "nbconvert_exporter": "python",
   "pygments_lexer": "ipython3",
   "version": "3.11.9"
  }
 },
 "nbformat": 4,
 "nbformat_minor": 2
}
